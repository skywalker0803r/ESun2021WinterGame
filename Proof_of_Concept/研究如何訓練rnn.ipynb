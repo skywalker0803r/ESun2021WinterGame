{
 "cells": [
  {
   "cell_type": "code",
   "execution_count": 1,
   "metadata": {},
   "outputs": [
    {
     "name": "stderr",
     "output_type": "stream",
     "text": [
      "C:\\Users\\ricky\\anaconda3\\lib\\site-packages\\tqdm\\std.py:658: FutureWarning: The Panel class is removed from pandas. Accessing it from the top-level namespace will also be removed in the next version\n",
      "  from pandas import Panel\n"
     ]
    }
   ],
   "source": [
    "import pandas as pd\n",
    "import numpy as np\n",
    "from tqdm import tqdm\n",
    "tqdm.pandas()\n",
    "from tqdm import tqdm_notebook as tqdm\n",
    "import time\n",
    "import torch\n",
    "from torch import nn\n",
    "import itertools\n",
    "import joblib\n",
    "import matplotlib.pyplot as plt\n",
    "import random\n",
    "from sklearn.preprocessing import normalize\n",
    "import gc\n",
    "import requests\n",
    "from torch.nn import SmoothL1Loss\n",
    "gc.collect()\n",
    "\n",
    "exec(requests.get('https://raw.githubusercontent.com/facebookresearch/madgrad/main/madgrad/madgrad.py').text)\n",
    "\n",
    "def set_seed(seed = 42):\n",
    "    np.random.seed(seed)\n",
    "    random_state = np.random.RandomState(seed)\n",
    "    random.seed(seed)\n",
    "    os.environ['PYTHONHASHSEED'] = str(seed)\n",
    "    return seed\n",
    "seed = set_seed(seed = 42)"
   ]
  },
  {
   "cell_type": "markdown",
   "metadata": {},
   "source": [
    "# load data"
   ]
  },
  {
   "cell_type": "code",
   "execution_count": 2,
   "metadata": {},
   "outputs": [],
   "source": [
    "官方指認欄位 = ['2','6','10','12','13','15','18','19','21','22','25','26','36','37','39','48']\n",
    "X_pca = joblib.load('../model/X_pca_for_knn.pkl')\n",
    "df_groupby_chid_preprocessed = pd.read_feather('../data/df_groupby_chid_preprocessed.feather')"
   ]
  },
  {
   "cell_type": "code",
   "execution_count": 3,
   "metadata": {},
   "outputs": [
    {
     "data": {
      "text/html": [
       "<div>\n",
       "<style scoped>\n",
       "    .dataframe tbody tr th:only-of-type {\n",
       "        vertical-align: middle;\n",
       "    }\n",
       "\n",
       "    .dataframe tbody tr th {\n",
       "        vertical-align: top;\n",
       "    }\n",
       "\n",
       "    .dataframe thead th {\n",
       "        text-align: right;\n",
       "    }\n",
       "</style>\n",
       "<table border=\"1\" class=\"dataframe\">\n",
       "  <thead>\n",
       "    <tr style=\"text-align: right;\">\n",
       "      <th></th>\n",
       "      <th>dt</th>\n",
       "      <th>chid</th>\n",
       "      <th>shop_tag</th>\n",
       "      <th>txn_cnt</th>\n",
       "      <th>txn_amt</th>\n",
       "      <th>domestic_offline_cnt</th>\n",
       "      <th>domestic_online_cnt</th>\n",
       "      <th>overseas_offline_cnt</th>\n",
       "      <th>overseas_online_cnt</th>\n",
       "      <th>domestic_offline_amt_pct</th>\n",
       "      <th>...</th>\n",
       "      <th>masts</th>\n",
       "      <th>educd</th>\n",
       "      <th>trdtp</th>\n",
       "      <th>naty</th>\n",
       "      <th>poscd</th>\n",
       "      <th>cuorg</th>\n",
       "      <th>slam</th>\n",
       "      <th>gender_code</th>\n",
       "      <th>age</th>\n",
       "      <th>primary_card</th>\n",
       "    </tr>\n",
       "  </thead>\n",
       "  <tbody>\n",
       "    <tr>\n",
       "      <th>13188928</th>\n",
       "      <td>12.0</td>\n",
       "      <td>10115966.0</td>\n",
       "      <td>15</td>\n",
       "      <td>1.0</td>\n",
       "      <td>9678.450445</td>\n",
       "      <td>1.0</td>\n",
       "      <td>0.0</td>\n",
       "      <td>0.0</td>\n",
       "      <td>0.0</td>\n",
       "      <td>1.00</td>\n",
       "      <td>...</td>\n",
       "      <td>1.0</td>\n",
       "      <td>4.0</td>\n",
       "      <td>15.0</td>\n",
       "      <td>1.0</td>\n",
       "      <td>1.0</td>\n",
       "      <td>30.0</td>\n",
       "      <td>133000.939458</td>\n",
       "      <td>0.0</td>\n",
       "      <td>5.0</td>\n",
       "      <td>1.0</td>\n",
       "    </tr>\n",
       "    <tr>\n",
       "      <th>13188938</th>\n",
       "      <td>12.0</td>\n",
       "      <td>10115966.0</td>\n",
       "      <td>18</td>\n",
       "      <td>1.0</td>\n",
       "      <td>9624.614033</td>\n",
       "      <td>1.0</td>\n",
       "      <td>0.0</td>\n",
       "      <td>0.0</td>\n",
       "      <td>0.0</td>\n",
       "      <td>1.00</td>\n",
       "      <td>...</td>\n",
       "      <td>1.0</td>\n",
       "      <td>4.0</td>\n",
       "      <td>15.0</td>\n",
       "      <td>1.0</td>\n",
       "      <td>1.0</td>\n",
       "      <td>30.0</td>\n",
       "      <td>133000.939458</td>\n",
       "      <td>0.0</td>\n",
       "      <td>5.0</td>\n",
       "      <td>1.0</td>\n",
       "    </tr>\n",
       "    <tr>\n",
       "      <th>13188944</th>\n",
       "      <td>12.0</td>\n",
       "      <td>10115966.0</td>\n",
       "      <td>25</td>\n",
       "      <td>1.0</td>\n",
       "      <td>2338.181448</td>\n",
       "      <td>1.0</td>\n",
       "      <td>0.0</td>\n",
       "      <td>0.0</td>\n",
       "      <td>0.0</td>\n",
       "      <td>1.00</td>\n",
       "      <td>...</td>\n",
       "      <td>1.0</td>\n",
       "      <td>4.0</td>\n",
       "      <td>15.0</td>\n",
       "      <td>1.0</td>\n",
       "      <td>1.0</td>\n",
       "      <td>30.0</td>\n",
       "      <td>133000.939458</td>\n",
       "      <td>0.0</td>\n",
       "      <td>5.0</td>\n",
       "      <td>1.0</td>\n",
       "    </tr>\n",
       "    <tr>\n",
       "      <th>13188946</th>\n",
       "      <td>12.0</td>\n",
       "      <td>10115966.0</td>\n",
       "      <td>26</td>\n",
       "      <td>2.0</td>\n",
       "      <td>16627.150110</td>\n",
       "      <td>2.0</td>\n",
       "      <td>0.0</td>\n",
       "      <td>0.0</td>\n",
       "      <td>0.0</td>\n",
       "      <td>1.00</td>\n",
       "      <td>...</td>\n",
       "      <td>1.0</td>\n",
       "      <td>4.0</td>\n",
       "      <td>15.0</td>\n",
       "      <td>1.0</td>\n",
       "      <td>1.0</td>\n",
       "      <td>30.0</td>\n",
       "      <td>133000.939458</td>\n",
       "      <td>0.0</td>\n",
       "      <td>5.0</td>\n",
       "      <td>1.0</td>\n",
       "    </tr>\n",
       "    <tr>\n",
       "      <th>13188957</th>\n",
       "      <td>12.0</td>\n",
       "      <td>10115966.0</td>\n",
       "      <td>37</td>\n",
       "      <td>13.0</td>\n",
       "      <td>18485.113446</td>\n",
       "      <td>3.0</td>\n",
       "      <td>10.0</td>\n",
       "      <td>0.0</td>\n",
       "      <td>0.0</td>\n",
       "      <td>0.27</td>\n",
       "      <td>...</td>\n",
       "      <td>1.0</td>\n",
       "      <td>4.0</td>\n",
       "      <td>15.0</td>\n",
       "      <td>1.0</td>\n",
       "      <td>1.0</td>\n",
       "      <td>30.0</td>\n",
       "      <td>133000.939458</td>\n",
       "      <td>0.0</td>\n",
       "      <td>5.0</td>\n",
       "      <td>1.0</td>\n",
       "    </tr>\n",
       "  </tbody>\n",
       "</table>\n",
       "<p>5 rows × 53 columns</p>\n",
       "</div>"
      ],
      "text/plain": [
       "            dt        chid shop_tag  txn_cnt       txn_amt  \\\n",
       "13188928  12.0  10115966.0       15      1.0   9678.450445   \n",
       "13188938  12.0  10115966.0       18      1.0   9624.614033   \n",
       "13188944  12.0  10115966.0       25      1.0   2338.181448   \n",
       "13188946  12.0  10115966.0       26      2.0  16627.150110   \n",
       "13188957  12.0  10115966.0       37     13.0  18485.113446   \n",
       "\n",
       "          domestic_offline_cnt  domestic_online_cnt  overseas_offline_cnt  \\\n",
       "13188928                   1.0                  0.0                   0.0   \n",
       "13188938                   1.0                  0.0                   0.0   \n",
       "13188944                   1.0                  0.0                   0.0   \n",
       "13188946                   2.0                  0.0                   0.0   \n",
       "13188957                   3.0                 10.0                   0.0   \n",
       "\n",
       "          overseas_online_cnt  domestic_offline_amt_pct  ...  masts  educd  \\\n",
       "13188928                  0.0                      1.00  ...    1.0    4.0   \n",
       "13188938                  0.0                      1.00  ...    1.0    4.0   \n",
       "13188944                  0.0                      1.00  ...    1.0    4.0   \n",
       "13188946                  0.0                      1.00  ...    1.0    4.0   \n",
       "13188957                  0.0                      0.27  ...    1.0    4.0   \n",
       "\n",
       "          trdtp  naty  poscd  cuorg           slam  gender_code  age  \\\n",
       "13188928   15.0   1.0    1.0   30.0  133000.939458          0.0  5.0   \n",
       "13188938   15.0   1.0    1.0   30.0  133000.939458          0.0  5.0   \n",
       "13188944   15.0   1.0    1.0   30.0  133000.939458          0.0  5.0   \n",
       "13188946   15.0   1.0    1.0   30.0  133000.939458          0.0  5.0   \n",
       "13188957   15.0   1.0    1.0   30.0  133000.939458          0.0  5.0   \n",
       "\n",
       "          primary_card  \n",
       "13188928           1.0  \n",
       "13188938           1.0  \n",
       "13188944           1.0  \n",
       "13188946           1.0  \n",
       "13188957           1.0  \n",
       "\n",
       "[5 rows x 53 columns]"
      ]
     },
     "metadata": {},
     "output_type": "display_data"
    },
    {
     "data": {
      "text/html": [
       "<div>\n",
       "<style scoped>\n",
       "    .dataframe tbody tr th:only-of-type {\n",
       "        vertical-align: middle;\n",
       "    }\n",
       "\n",
       "    .dataframe tbody tr th {\n",
       "        vertical-align: top;\n",
       "    }\n",
       "\n",
       "    .dataframe thead th {\n",
       "        text-align: right;\n",
       "    }\n",
       "</style>\n",
       "<table border=\"1\" class=\"dataframe\">\n",
       "  <thead>\n",
       "    <tr style=\"text-align: right;\">\n",
       "      <th></th>\n",
       "      <th>chid</th>\n",
       "      <th>top1</th>\n",
       "      <th>top2</th>\n",
       "      <th>top3</th>\n",
       "    </tr>\n",
       "  </thead>\n",
       "  <tbody>\n",
       "    <tr>\n",
       "      <th>0</th>\n",
       "      <td>10128239</td>\n",
       "      <td>18</td>\n",
       "      <td>10</td>\n",
       "      <td>6</td>\n",
       "    </tr>\n",
       "    <tr>\n",
       "      <th>1</th>\n",
       "      <td>10077943</td>\n",
       "      <td>48</td>\n",
       "      <td>22</td>\n",
       "      <td>6</td>\n",
       "    </tr>\n",
       "    <tr>\n",
       "      <th>2</th>\n",
       "      <td>10277876</td>\n",
       "      <td>22</td>\n",
       "      <td>10</td>\n",
       "      <td>39</td>\n",
       "    </tr>\n",
       "    <tr>\n",
       "      <th>3</th>\n",
       "      <td>10364842</td>\n",
       "      <td>37</td>\n",
       "      <td>19</td>\n",
       "      <td>13</td>\n",
       "    </tr>\n",
       "    <tr>\n",
       "      <th>4</th>\n",
       "      <td>10392717</td>\n",
       "      <td>2</td>\n",
       "      <td>36</td>\n",
       "      <td>26</td>\n",
       "    </tr>\n",
       "  </tbody>\n",
       "</table>\n",
       "</div>"
      ],
      "text/plain": [
       "       chid  top1  top2  top3\n",
       "0  10128239    18    10     6\n",
       "1  10077943    48    22     6\n",
       "2  10277876    22    10    39\n",
       "3  10364842    37    19    13\n",
       "4  10392717     2    36    26"
      ]
     },
     "metadata": {},
     "output_type": "display_data"
    }
   ],
   "source": [
    "df = pd.read_feather('../data/2021玉山人工智慧公開挑戰賽冬季賽訓練資料集.feather')\n",
    "df = df.loc[df.dt >= 12] # 取最近12個月資料\n",
    "test_data = pd.read_feather('../data/需預測的顧客名單及提交檔案範例.feather')\n",
    "display(df.head())\n",
    "display(test_data.head())"
   ]
  },
  {
   "cell_type": "code",
   "execution_count": 4,
   "metadata": {},
   "outputs": [],
   "source": [
    "def chid2answer(chid): #chid到answer的映射\n",
    "    a = df.loc[df['chid']==chid,'shop_tag'].value_counts().to_frame()\n",
    "    a['在指認欄位'] = False\n",
    "    a.loc[list(set(a.index)&set(官方指認欄位)),'在指認欄位'] = True #有交集的部份做記號\n",
    "    answer = a[a['在指認欄位']==True].index.tolist()[:3] # 取有交集的部份前三名返回\n",
    "    return answer\n",
    "\n",
    "def get_values_counts(chid:int)->dict:\n",
    "    '''\n",
    "    chid到shop_tag之value_counts的映射\n",
    "    '''\n",
    "    n_class = 49\n",
    "    d = dict(zip([str(i) for i in range(1,n_class)]+['other'],[0 for _ in range(n_class)]))\n",
    "    frame = df.loc[df.chid==chid,'shop_tag'].value_counts()\n",
    "    for shop_tag,counts in zip(frame.index,frame.values):\n",
    "        d[shop_tag] = counts\n",
    "    assert len(d.keys()) == n_class\n",
    "    return d\n",
    "\n",
    "def get_probs(value_counts:dict)->np.array:\n",
    "    '''\n",
    "    將value_counts(字典)轉成機率向量(np.array)\n",
    "    '''\n",
    "    n_class = 49\n",
    "    counts = np.array(list(value_counts.values()))\n",
    "    probs = counts / np.sum(counts)\n",
    "    assert len(probs) == n_class\n",
    "    return probs.tolist()\n",
    "\n",
    "def adjust(x):\n",
    "    a = torch.tensor([*range(len(x))]).reshape(-1,1)\n",
    "    b = x.argmax(axis=1).reshape(-1,1)\n",
    "    idx = torch.cat([a,b],dim=1)\n",
    "    x[idx[:, 0], idx[:, 1]] = 0.0\n",
    "    x /= x.sum(dim=1).reshape(-1,1)\n",
    "    return x\n",
    "\n",
    "def initial_h0(probs:np.array,remain)->torch.FloatTensor:\n",
    "    '''\n",
    "    初始化rnn的隱變量h0\n",
    "    '''\n",
    "    probs = torch.FloatTensor(probs).clone() # 轉成tensor\n",
    "    if 3-remain == 0: #如果規則完全找不到任何shop_tag,remain=3\n",
    "        hx = torch.zeros((probs.shape[0],49)) # \"全零\"初始化\n",
    "        return hx\n",
    "    else:\n",
    "        for _ in range(3-remain): #例如剩下一個則3-1=2,做兩次括號內動作(找出第一名的機率的idx然後把它歸0剩下的歸一化)\n",
    "            hx = adjust(probs)\n",
    "        return hx\n",
    "\n",
    "def probs2shoptag(probs,answer):\n",
    "    官方指認欄位 = ['2','6','10','12','13','15','18','19','21','22','25','26','36','37','39','48']\n",
    "    #print(probs.ravel().detach().numpy())\n",
    "    probs = dict(zip([ str(i) for i in range(1,49)]+['other'],probs.ravel().detach().numpy())) # 概率tensor轉換成概率字典\n",
    "    probs = dict((k,probs[k]) for k in probs.keys() if k not in answer) # 將answer裡面已經有的濾掉(保留不在answer裡的)\n",
    "    probs = dict((k,probs[k]) for k in probs.keys() if k in 官方指認欄位) # 將官方欄位裡面沒有的濾掉(保留在官方指定欄位的)\n",
    "    shop_tag = max(probs,key=probs.get) # 取得概率字典中概率最大value(機率)對應的key(shop_tag)\n",
    "    return shop_tag\n"
   ]
  },
  {
   "cell_type": "markdown",
   "metadata": {},
   "source": [
    "# Y"
   ]
  },
  {
   "cell_type": "code",
   "execution_count": 5,
   "metadata": {},
   "outputs": [
    {
     "name": "stderr",
     "output_type": "stream",
     "text": [
      "C:\\Users\\ricky\\AppData\\Local\\Temp/ipykernel_7420/4107910735.py:3: TqdmDeprecationWarning: This function will be removed in tqdm==5.0.0\n",
      "Please use `tqdm.notebook.tqdm` instead of `tqdm.tqdm_notebook`\n",
      "  for idx in tqdm(test_data.sample(100,random_state=seed).index.tolist()):\n"
     ]
    },
    {
     "data": {
      "application/vnd.jupyter.widget-view+json": {
       "model_id": "a1fccd4516bc4f64bd625c14e77ba875",
       "version_major": 2,
       "version_minor": 0
      },
      "text/plain": [
       "HBox(children=(FloatProgress(value=0.0), HTML(value='')))"
      ]
     },
     "metadata": {},
     "output_type": "display_data"
    },
    {
     "name": "stderr",
     "output_type": "stream",
     "text": [
      "  8%|▊         | 6/77 [00:00<00:01, 50.90it/s]"
     ]
    },
    {
     "name": "stdout",
     "output_type": "stream",
     "text": [
      "\n"
     ]
    },
    {
     "name": "stderr",
     "output_type": "stream",
     "text": [
      "100%|██████████| 77/77 [00:01<00:00, 54.83it/s]\n"
     ]
    },
    {
     "name": "stdout",
     "output_type": "stream",
     "text": [
      "torch.Size([77, 49])\n"
     ]
    },
    {
     "data": {
      "text/plain": [
       "tensor([0.0000, 0.0303, 0.0000, 0.0000, 0.0000, 0.0000, 0.0000, 0.0000, 0.0000,\n",
       "        0.1818, 0.0303, 0.0000, 0.0000, 0.0000, 0.0909, 0.3939, 0.0303, 0.1212,\n",
       "        0.0303, 0.0000, 0.0000, 0.0000, 0.0000, 0.0000, 0.0000, 0.0303, 0.0000,\n",
       "        0.0000, 0.0000, 0.0000, 0.0000, 0.0606, 0.0000, 0.0000, 0.0000, 0.0000,\n",
       "        0.0000, 0.0000, 0.0000, 0.0000, 0.0000, 0.0000, 0.0000, 0.0000, 0.0000,\n",
       "        0.0000, 0.0000, 0.0000, 0.0000])"
      ]
     },
     "execution_count": 5,
     "metadata": {},
     "output_type": "execute_result"
    }
   ],
   "source": [
    "idx_list = []\n",
    "chid_list = test_data.loc[idx_list,'chid'].values.tolist()\n",
    "for idx in tqdm(test_data.sample(100,random_state=seed).index.tolist()):\n",
    "    answer = chid2answer(test_data.loc[idx,'chid'])\n",
    "    if len(answer) == 3:\n",
    "        idx_list.append(idx)\n",
    "Y = torch.FloatTensor(test_data.loc[idx_list,'chid'].progress_apply(lambda chid:get_probs(get_values_counts(chid))).tolist())\n",
    "print(Y.shape)\n",
    "Y[0]"
   ]
  },
  {
   "cell_type": "markdown",
   "metadata": {},
   "source": [
    "# X"
   ]
  },
  {
   "cell_type": "code",
   "execution_count": 6,
   "metadata": {},
   "outputs": [
    {
     "name": "stdout",
     "output_type": "stream",
     "text": [
      "torch.Size([77, 64])\n"
     ]
    },
    {
     "data": {
      "text/plain": [
       "tensor([-1.6331,  0.0086, -1.0127,  4.3523, -1.7636, -0.8571, -0.2015, -2.3001,\n",
       "         0.0139, -0.0713,  0.1270, -1.0754, -0.5480, -0.4240, -0.1055, -0.7731,\n",
       "         0.4983, -0.3807,  0.2435,  0.3736,  0.0901,  2.4743, -0.7095,  1.6788,\n",
       "        -0.0920,  0.8914, -1.1161, -0.1720,  0.1899, -1.4712,  1.1456, -0.3039,\n",
       "         0.4823,  1.0408,  0.3724, -0.2565, -0.3282, -0.4531,  0.9377, -0.0534,\n",
       "        -0.9197,  0.4067, -0.6670, -0.0293,  0.4245,  0.1005, -0.2838, -0.3001,\n",
       "         0.0401, -0.0456, -0.0494,  0.0087, -0.0922,  0.0056,  0.0562, -0.0142,\n",
       "        -0.0403,  0.2313,  0.2356,  0.2933, -0.0624, -0.2291, -0.4001,  0.5754])"
      ]
     },
     "execution_count": 6,
     "metadata": {},
     "output_type": "execute_result"
    }
   ],
   "source": [
    "X_pca = joblib.load('../model/X_pca_for_knn.pkl')[idx_list]\n",
    "X_pca = torch.FloatTensor(X_pca)\n",
    "print(X_pca.shape)\n",
    "X_pca[0]"
   ]
  },
  {
   "cell_type": "markdown",
   "metadata": {},
   "source": [
    "# MODEL"
   ]
  },
  {
   "cell_type": "code",
   "execution_count": 7,
   "metadata": {},
   "outputs": [
    {
     "data": {
      "text/plain": [
       "R2D2(\n",
       "  (l1): Linear(in_features=64, out_features=49, bias=True)\n",
       "  (l2): Linear(in_features=49, out_features=49, bias=True)\n",
       ")"
      ]
     },
     "execution_count": 7,
     "metadata": {},
     "output_type": "execute_result"
    }
   ],
   "source": [
    "class R2D2(nn.Module):\n",
    "  def __init__(self,input_size,output_size,hidden_size):\n",
    "    super().__init__()\n",
    "    self.l1 = nn.Linear(input_size,hidden_size) #layer1線性層\n",
    "    #self.l2 = nn.GRUCell(hidden_size,output_size) #layer2是GRU\n",
    "    self.l2 = nn.Linear(hidden_size,output_size)\n",
    "  def forward(self,x,hx):\n",
    "    features =  torch.tanh(self.l1(x)) #將x再經過layer1抽取有用的特徵稱之為features\n",
    "    #logits = self.l2(features,hx) #將features(有用的特徵)和hx(每個shop_tag的概率)一併丟給layer2計算出logits(輸出)\n",
    "    logits = self.l2(features)\n",
    "    return torch.softmax(logits,dim=1) # 將logits輸出轉換成機率(softmax)\n",
    "rnn = R2D2(X_pca.shape[1],Y.shape[1],Y.shape[1])\n",
    "rnn"
   ]
  },
  {
   "cell_type": "markdown",
   "metadata": {},
   "source": [
    "# forward test"
   ]
  },
  {
   "cell_type": "code",
   "execution_count": 8,
   "metadata": {},
   "outputs": [
    {
     "data": {
      "text/plain": [
       "tensor([[0.0158, 0.0232, 0.0239,  ..., 0.0148, 0.0221, 0.0254],\n",
       "        [0.0241, 0.0286, 0.0131,  ..., 0.0248, 0.0196, 0.0211],\n",
       "        [0.0157, 0.0288, 0.0132,  ..., 0.0109, 0.0129, 0.0122],\n",
       "        ...,\n",
       "        [0.0229, 0.0161, 0.0178,  ..., 0.0182, 0.0245, 0.0138],\n",
       "        [0.0145, 0.0210, 0.0140,  ..., 0.0175, 0.0163, 0.0245],\n",
       "        [0.0132, 0.0239, 0.0151,  ..., 0.0095, 0.0147, 0.0120]],\n",
       "       grad_fn=<SoftmaxBackward>)"
      ]
     },
     "execution_count": 8,
     "metadata": {},
     "output_type": "execute_result"
    }
   ],
   "source": [
    "hx = initial_h0(Y,remain=0)\n",
    "rnn(X_pca,hx)"
   ]
  },
  {
   "cell_type": "markdown",
   "metadata": {},
   "source": [
    "# train"
   ]
  },
  {
   "cell_type": "code",
   "execution_count": 9,
   "metadata": {},
   "outputs": [],
   "source": [
    "optimizer = MADGRAD(rnn.parameters(),lr=1e-3)\n",
    "def train(idx_list,x,y,model,optimizer):\n",
    "    answer_dict = {}\n",
    "    loss_dict = {}\n",
    "    for i,idx in enumerate(idx_list):\n",
    "        answer = []\n",
    "        total_loss = 0\n",
    "        for remain in [3,2,1]:\n",
    "            hx = initial_h0(y,remain=remain)\n",
    "            probs = rnn(x,hx)\n",
    "            loss = SmoothL1Loss()(probs,y) # 算loss\n",
    "            total_loss += loss\n",
    "            shop_tag = probs2shoptag(probs[i],answer)\n",
    "            answer.append(shop_tag)\n",
    "        total_loss.backward()# 反向傳播求梯度\n",
    "        optimizer.step() # 執行梯度下降更新參數\n",
    "        optimizer.zero_grad() # 清空梯度\n",
    "        answer_dict[idx] = answer\n",
    "        loss_dict[idx] = total_loss\n",
    "    return answer_dict,loss_dict"
   ]
  },
  {
   "cell_type": "code",
   "execution_count": 10,
   "metadata": {},
   "outputs": [
    {
     "name": "stderr",
     "output_type": "stream",
     "text": [
      "C:\\Users\\ricky\\AppData\\Local\\Temp/ipykernel_7420/210216523.py:2: TqdmDeprecationWarning: This function will be removed in tqdm==5.0.0\n",
      "Please use `tqdm.notebook.tqdm` instead of `tqdm.tqdm_notebook`\n",
      "  for epoch in tqdm(range(100)):\n"
     ]
    },
    {
     "data": {
      "application/vnd.jupyter.widget-view+json": {
       "model_id": "f146c25e65664b199d09420eb7337efe",
       "version_major": 2,
       "version_minor": 0
      },
      "text/plain": [
       "HBox(children=(FloatProgress(value=0.0), HTML(value='')))"
      ]
     },
     "metadata": {},
     "output_type": "display_data"
    },
    {
     "name": "stdout",
     "output_type": "stream",
     "text": [
      "epoch:0 loss:0.3906383812427521\n",
      "epoch:5 loss:0.22014181315898895\n",
      "epoch:10 loss:0.10757124423980713\n",
      "epoch:15 loss:0.07140175253152847\n",
      "epoch:20 loss:0.04963460937142372\n",
      "epoch:25 loss:0.035254232585430145\n",
      "epoch:30 loss:0.027955394238233566\n",
      "epoch:35 loss:0.02351226657629013\n",
      "epoch:40 loss:0.0203440859913826\n",
      "epoch:45 loss:0.017420999705791473\n",
      "epoch:50 loss:0.015262726694345474\n",
      "epoch:55 loss:0.012729272246360779\n",
      "epoch:60 loss:0.011582323350012302\n",
      "epoch:65 loss:0.010404864326119423\n",
      "epoch:70 loss:0.009157334454357624\n",
      "epoch:75 loss:0.008156920783221722\n",
      "epoch:80 loss:0.007452488411217928\n",
      "epoch:85 loss:0.006845371797680855\n",
      "epoch:90 loss:0.006255391053855419\n",
      "epoch:95 loss:0.00573786161839962\n",
      "\n"
     ]
    }
   ],
   "source": [
    "loss_history = []\n",
    "for epoch in tqdm(range(100)):\n",
    "    answer_dict,loss_dict = train(idx_list,X_pca,Y,rnn,optimizer)\n",
    "    loss_history.append(np.sum(list(loss_dict.values())))\n",
    "    if epoch % 5 == 0:\n",
    "        print(f'epoch:{epoch} loss:{loss_history[-1]}')"
   ]
  },
  {
   "cell_type": "code",
   "execution_count": 11,
   "metadata": {},
   "outputs": [
    {
     "data": {
      "text/plain": [
       "({104241: ['10', '18', '15'],\n",
       "  140199: ['37', '15', '26'],\n",
       "  132814: ['37', '25', '10'],\n",
       "  408697: ['13', '15', '48'],\n",
       "  215758: ['10', '2', '48'],\n",
       "  6940: ['37', '15', '2'],\n",
       "  382310: ['37', '25', '18'],\n",
       "  472236: ['36', '10', '37'],\n",
       "  309086: ['36', '48', '37'],\n",
       "  419699: ['12', '36', '15'],\n",
       "  81780: ['48', '36', '2'],\n",
       "  274641: ['12', '2', '15'],\n",
       "  133794: ['15', '37', '12'],\n",
       "  230532: ['15', '37', '10'],\n",
       "  305856: ['37', '15', '48'],\n",
       "  194411: ['2', '19', '15'],\n",
       "  173647: ['37', '15', '39'],\n",
       "  76146: ['13', '15', '2'],\n",
       "  119495: ['19', '36', '37'],\n",
       "  3749: ['48', '37', '2'],\n",
       "  158067: ['36', '10', '12'],\n",
       "  423413: ['48', '10', '2'],\n",
       "  259441: ['15', '36', '10'],\n",
       "  226642: ['10', '19', '2'],\n",
       "  179265: ['37', '48', '36'],\n",
       "  443375: ['15', '36', '10'],\n",
       "  136652: ['2', '48', '15'],\n",
       "  447625: ['36', '15', '2'],\n",
       "  263901: ['37', '15', '12'],\n",
       "  340119: ['10', '37', '36'],\n",
       "  43171: ['6', '10', '48'],\n",
       "  246411: ['37', '22', '36'],\n",
       "  314881: ['48', '15', '2'],\n",
       "  302087: ['2', '15', '48'],\n",
       "  186082: ['37', '15', '10'],\n",
       "  148766: ['37', '13', '15'],\n",
       "  86172: ['15', '37', '10'],\n",
       "  133647: ['37', '36', '25'],\n",
       "  259270: ['26', '10', '25'],\n",
       "  232595: ['15', '2', '13'],\n",
       "  214739: ['37', '2', '15'],\n",
       "  99406: ['48', '2', '15'],\n",
       "  230883: ['37', '19', '10'],\n",
       "  261173: ['10', '12', '37'],\n",
       "  479491: ['19', '39', '15'],\n",
       "  224948: ['36', '48', '19'],\n",
       "  421373: ['36', '10', '37'],\n",
       "  378074: ['36', '13', '37'],\n",
       "  284120: ['36', '2', '48'],\n",
       "  107865: ['37', '12', '19'],\n",
       "  137412: ['37', '15', '2'],\n",
       "  285814: ['36', '37', '13'],\n",
       "  168011: ['37', '2', '18'],\n",
       "  159580: ['15', '2', '19'],\n",
       "  490935: ['22', '12', '2'],\n",
       "  251203: ['37', '6', '12'],\n",
       "  483960: ['22', '2', '37'],\n",
       "  292870: ['15', '36', '37'],\n",
       "  24187: ['15', '22', '10'],\n",
       "  314265: ['48', '10', '15'],\n",
       "  232498: ['48', '37', '36'],\n",
       "  451682: ['36', '37', '2'],\n",
       "  291519: ['10', '2', '15'],\n",
       "  20765: ['10', '2', '15'],\n",
       "  109209: ['48', '15', '37'],\n",
       "  279505: ['37', '2', '19'],\n",
       "  233366: ['12', '2', '37'],\n",
       "  5969: ['15', '37', '10'],\n",
       "  378513: ['25', '21', '39'],\n",
       "  38384: ['19', '12', '2'],\n",
       "  127576: ['39', '15', '37'],\n",
       "  428202: ['36', '37', '25'],\n",
       "  18636: ['15', '2', '48'],\n",
       "  297827: ['37', '36', '18'],\n",
       "  204336: ['36', '37', '2'],\n",
       "  334901: ['12', '13', '36'],\n",
       "  196564: ['2', '37', '15']},\n",
       " {104241: tensor(7.0920e-05, grad_fn=<AddBackward0>),\n",
       "  140199: tensor(7.0908e-05, grad_fn=<AddBackward0>),\n",
       "  132814: tensor(7.0895e-05, grad_fn=<AddBackward0>),\n",
       "  408697: tensor(7.0883e-05, grad_fn=<AddBackward0>),\n",
       "  215758: tensor(7.0871e-05, grad_fn=<AddBackward0>),\n",
       "  6940: tensor(7.0859e-05, grad_fn=<AddBackward0>),\n",
       "  382310: tensor(7.0847e-05, grad_fn=<AddBackward0>),\n",
       "  472236: tensor(7.0835e-05, grad_fn=<AddBackward0>),\n",
       "  309086: tensor(7.0823e-05, grad_fn=<AddBackward0>),\n",
       "  419699: tensor(7.0811e-05, grad_fn=<AddBackward0>),\n",
       "  81780: tensor(7.0799e-05, grad_fn=<AddBackward0>),\n",
       "  274641: tensor(7.0786e-05, grad_fn=<AddBackward0>),\n",
       "  133794: tensor(7.0774e-05, grad_fn=<AddBackward0>),\n",
       "  230532: tensor(7.0762e-05, grad_fn=<AddBackward0>),\n",
       "  305856: tensor(7.0750e-05, grad_fn=<AddBackward0>),\n",
       "  194411: tensor(7.0738e-05, grad_fn=<AddBackward0>),\n",
       "  173647: tensor(7.0726e-05, grad_fn=<AddBackward0>),\n",
       "  76146: tensor(7.0714e-05, grad_fn=<AddBackward0>),\n",
       "  119495: tensor(7.0702e-05, grad_fn=<AddBackward0>),\n",
       "  3749: tensor(7.0690e-05, grad_fn=<AddBackward0>),\n",
       "  158067: tensor(7.0678e-05, grad_fn=<AddBackward0>),\n",
       "  423413: tensor(7.0666e-05, grad_fn=<AddBackward0>),\n",
       "  259441: tensor(7.0654e-05, grad_fn=<AddBackward0>),\n",
       "  226642: tensor(7.0642e-05, grad_fn=<AddBackward0>),\n",
       "  179265: tensor(7.0630e-05, grad_fn=<AddBackward0>),\n",
       "  443375: tensor(7.0618e-05, grad_fn=<AddBackward0>),\n",
       "  136652: tensor(7.0606e-05, grad_fn=<AddBackward0>),\n",
       "  447625: tensor(7.0594e-05, grad_fn=<AddBackward0>),\n",
       "  263901: tensor(7.0582e-05, grad_fn=<AddBackward0>),\n",
       "  340119: tensor(7.0570e-05, grad_fn=<AddBackward0>),\n",
       "  43171: tensor(7.0558e-05, grad_fn=<AddBackward0>),\n",
       "  246411: tensor(7.0546e-05, grad_fn=<AddBackward0>),\n",
       "  314881: tensor(7.0535e-05, grad_fn=<AddBackward0>),\n",
       "  302087: tensor(7.0523e-05, grad_fn=<AddBackward0>),\n",
       "  186082: tensor(7.0511e-05, grad_fn=<AddBackward0>),\n",
       "  148766: tensor(7.0499e-05, grad_fn=<AddBackward0>),\n",
       "  86172: tensor(7.0487e-05, grad_fn=<AddBackward0>),\n",
       "  133647: tensor(7.0475e-05, grad_fn=<AddBackward0>),\n",
       "  259270: tensor(7.0463e-05, grad_fn=<AddBackward0>),\n",
       "  232595: tensor(7.0451e-05, grad_fn=<AddBackward0>),\n",
       "  214739: tensor(7.0439e-05, grad_fn=<AddBackward0>),\n",
       "  99406: tensor(7.0428e-05, grad_fn=<AddBackward0>),\n",
       "  230883: tensor(7.0416e-05, grad_fn=<AddBackward0>),\n",
       "  261173: tensor(7.0404e-05, grad_fn=<AddBackward0>),\n",
       "  479491: tensor(7.0392e-05, grad_fn=<AddBackward0>),\n",
       "  224948: tensor(7.0380e-05, grad_fn=<AddBackward0>),\n",
       "  421373: tensor(7.0368e-05, grad_fn=<AddBackward0>),\n",
       "  378074: tensor(7.0356e-05, grad_fn=<AddBackward0>),\n",
       "  284120: tensor(7.0345e-05, grad_fn=<AddBackward0>),\n",
       "  107865: tensor(7.0333e-05, grad_fn=<AddBackward0>),\n",
       "  137412: tensor(7.0321e-05, grad_fn=<AddBackward0>),\n",
       "  285814: tensor(7.0309e-05, grad_fn=<AddBackward0>),\n",
       "  168011: tensor(7.0297e-05, grad_fn=<AddBackward0>),\n",
       "  159580: tensor(7.0286e-05, grad_fn=<AddBackward0>),\n",
       "  490935: tensor(7.0274e-05, grad_fn=<AddBackward0>),\n",
       "  251203: tensor(7.0262e-05, grad_fn=<AddBackward0>),\n",
       "  483960: tensor(7.0250e-05, grad_fn=<AddBackward0>),\n",
       "  292870: tensor(7.0239e-05, grad_fn=<AddBackward0>),\n",
       "  24187: tensor(7.0227e-05, grad_fn=<AddBackward0>),\n",
       "  314265: tensor(7.0215e-05, grad_fn=<AddBackward0>),\n",
       "  232498: tensor(7.0203e-05, grad_fn=<AddBackward0>),\n",
       "  451682: tensor(7.0192e-05, grad_fn=<AddBackward0>),\n",
       "  291519: tensor(7.0180e-05, grad_fn=<AddBackward0>),\n",
       "  20765: tensor(7.0168e-05, grad_fn=<AddBackward0>),\n",
       "  109209: tensor(7.0157e-05, grad_fn=<AddBackward0>),\n",
       "  279505: tensor(7.0145e-05, grad_fn=<AddBackward0>),\n",
       "  233366: tensor(7.0133e-05, grad_fn=<AddBackward0>),\n",
       "  5969: tensor(7.0121e-05, grad_fn=<AddBackward0>),\n",
       "  378513: tensor(7.0110e-05, grad_fn=<AddBackward0>),\n",
       "  38384: tensor(7.0098e-05, grad_fn=<AddBackward0>),\n",
       "  127576: tensor(7.0086e-05, grad_fn=<AddBackward0>),\n",
       "  428202: tensor(7.0075e-05, grad_fn=<AddBackward0>),\n",
       "  18636: tensor(7.0063e-05, grad_fn=<AddBackward0>),\n",
       "  297827: tensor(7.0051e-05, grad_fn=<AddBackward0>),\n",
       "  204336: tensor(7.0040e-05, grad_fn=<AddBackward0>),\n",
       "  334901: tensor(7.0028e-05, grad_fn=<AddBackward0>),\n",
       "  196564: tensor(7.0016e-05, grad_fn=<AddBackward0>)})"
      ]
     },
     "execution_count": 11,
     "metadata": {},
     "output_type": "execute_result"
    }
   ],
   "source": [
    "answer_dict,loss_dict"
   ]
  },
  {
   "cell_type": "code",
   "execution_count": 12,
   "metadata": {},
   "outputs": [],
   "source": [
    "ground_true = dict(zip(idx_list,[chid2answer(test_data.loc[idx,'chid']) for idx in idx_list]))"
   ]
  },
  {
   "cell_type": "code",
   "execution_count": 13,
   "metadata": {},
   "outputs": [
    {
     "name": "stdout",
     "output_type": "stream",
     "text": [
      "['10', '18', '15'] ['10', '18', '15']\n",
      "['37', '15', '26'] ['37', '15', '26']\n",
      "['37', '25', '10'] ['37', '10', '25']\n",
      "['13', '15', '48'] ['13', '15', '48']\n",
      "['10', '2', '48'] ['10', '2', '48']\n",
      "['37', '15', '2'] ['37', '15', '2']\n",
      "['37', '25', '18'] ['37', '18', '21']\n",
      "['36', '10', '37'] ['36', '10', '37']\n",
      "['36', '48', '37'] ['36', '48', '37']\n",
      "['12', '36', '15'] ['12', '36', '37']\n",
      "['48', '36', '2'] ['48', '36', '13']\n",
      "['12', '2', '15'] ['12', '2', '15']\n",
      "['15', '37', '12'] ['15', '37', '12']\n",
      "['15', '37', '10'] ['15', '37', '10']\n",
      "['37', '15', '48'] ['37', '15', '26']\n",
      "['2', '19', '15'] ['2', '15', '19']\n",
      "['37', '15', '39'] ['37', '15', '39']\n",
      "['13', '15', '2'] ['13', '2', '15']\n",
      "['19', '36', '37'] ['19', '36', '2']\n",
      "['48', '37', '2'] ['48', '37', '36']\n",
      "['36', '10', '12'] ['36', '10', '12']\n",
      "['48', '10', '2'] ['48', '10', '2']\n",
      "['15', '36', '10'] ['15', '36', '10']\n",
      "['10', '19', '2'] ['10', '19', '2']\n",
      "['37', '48', '36'] ['37', '48', '36']\n",
      "['15', '36', '10'] ['15', '36', '10']\n",
      "['2', '48', '15'] ['2', '48', '19']\n",
      "['36', '15', '2'] ['36', '2', '15']\n",
      "['37', '15', '12'] ['37', '12', '21']\n",
      "['10', '37', '36'] ['10', '37', '36']\n",
      "['6', '10', '48'] ['6', '10', '48']\n",
      "['37', '22', '36'] ['37', '22', '36']\n",
      "['48', '15', '2'] ['48', '15', '2']\n",
      "['2', '15', '48'] ['2', '15', '48']\n",
      "['37', '15', '10'] ['37', '15', '10']\n",
      "['37', '13', '15'] ['37', '13', '15']\n",
      "['15', '37', '10'] ['37', '15', '10']\n",
      "['37', '36', '25'] ['37', '36', '25']\n",
      "['26', '10', '25'] ['26', '10', '25']\n",
      "['15', '2', '13'] ['2', '15', '13']\n",
      "['37', '2', '15'] ['37', '2', '15']\n",
      "['48', '2', '15'] ['48', '2', '15']\n",
      "['37', '19', '10'] ['37', '19', '10']\n",
      "['10', '12', '37'] ['37', '12', '10']\n",
      "['19', '39', '15'] ['19', '39', '15']\n",
      "['36', '48', '19'] ['36', '48', '19']\n",
      "['36', '10', '37'] ['36', '10', '37']\n",
      "['36', '13', '37'] ['36', '13', '37']\n",
      "['36', '2', '48'] ['36', '2', '48']\n",
      "['37', '12', '19'] ['37', '12', '19']\n",
      "['37', '15', '2'] ['37', '15', '2']\n",
      "['36', '37', '13'] ['36', '13', '37']\n",
      "['37', '2', '18'] ['37', '25', '15']\n",
      "['15', '2', '19'] ['15', '2', '19']\n",
      "['22', '12', '2'] ['22', '12', '2']\n",
      "['37', '6', '12'] ['37', '6', '12']\n",
      "['22', '2', '37'] ['22', '2', '37']\n",
      "['15', '36', '37'] ['15', '36', '37']\n",
      "['15', '22', '10'] ['37', '22', '15']\n",
      "['48', '10', '15'] ['48', '10', '15']\n",
      "['48', '37', '36'] ['48', '37', '36']\n",
      "['36', '37', '2'] ['37', '36', '15']\n",
      "['10', '2', '15'] ['10', '2', '15']\n",
      "['10', '2', '15'] ['10', '2', '15']\n",
      "['48', '15', '37'] ['48', '15', '37']\n",
      "['37', '2', '19'] ['37', '2', '19']\n",
      "['12', '2', '37'] ['12', '2', '37']\n",
      "['15', '37', '10'] ['15', '37', '10']\n",
      "['25', '21', '39'] ['39', '21', '26']\n",
      "['19', '12', '2'] ['19', '12', '25']\n",
      "['39', '15', '37'] ['39', '15', '26']\n",
      "['36', '37', '25'] ['36', '37', '25']\n",
      "['15', '2', '48'] ['15', '2', '48']\n",
      "['37', '36', '18'] ['37', '36', '15']\n",
      "['36', '37', '2'] ['36', '37', '2']\n",
      "['12', '13', '36'] ['12', '13', '36']\n",
      "['2', '37', '15'] ['2', '37', '19']\n"
     ]
    }
   ],
   "source": [
    "for a,b in zip(answer_dict.values(),ground_true.values()):\n",
    "    print(a,b)"
   ]
  },
  {
   "cell_type": "code",
   "execution_count": 19,
   "metadata": {},
   "outputs": [
    {
     "data": {
      "text/plain": [
       "[<matplotlib.lines.Line2D at 0x1f0f626edc0>]"
      ]
     },
     "execution_count": 19,
     "metadata": {},
     "output_type": "execute_result"
    },
    {
     "data": {
      "image/png": "[encoded data removed]",
      "text/plain": [
       "<Figure size 432x288 with 1 Axes>"
      ]
     },
     "metadata": {
      "needs_background": "light"
     },
     "output_type": "display_data"
    }
   ],
   "source": [
    "plt.plot(loss_history)"
   ]
  },
  {
   "cell_type": "code",
   "execution_count": null,
   "metadata": {},
   "outputs": [],
   "source": []
  }
 ],
 "metadata": {
  "interpreter": {
   "hash": "2ccee5cc862501c1aad1cf19888c2a2eca4026b72d187db43d5e889cbdc6ee97"
  },
  "kernelspec": {
   "display_name": "Python 3.8.5 64-bit ('base': conda)",
   "language": "python",
   "name": "python3"
  },
  "language_info": {
   "codemirror_mode": {
    "name": "ipython",
    "version": 3
   },
   "file_extension": ".py",
   "mimetype": "text/x-python",
   "name": "python",
   "nbconvert_exporter": "python",
   "pygments_lexer": "ipython3",
   "version": "3.8.5"
  },
  "orig_nbformat": 4
 },
 "nbformat": 4,
 "nbformat_minor": 2
}
