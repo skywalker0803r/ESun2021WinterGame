{
 "cells": [
  {
   "cell_type": "code",
   "execution_count": 76,
   "metadata": {},
   "outputs": [
    {
     "name": "stderr",
     "output_type": "stream",
     "text": [
      "C:\\Users\\ricky\\anaconda3\\lib\\site-packages\\tqdm\\std.py:658: FutureWarning: The Panel class is removed from pandas. Accessing it from the top-level namespace will also be removed in the next version\n",
      "  from pandas import Panel\n"
     ]
    }
   ],
   "source": [
    "import pandas as pd\n",
    "import numpy as np\n",
    "from tqdm import tqdm\n",
    "from copy import deepcopy\n",
    "tqdm.pandas()\n",
    "from tqdm import tqdm_notebook as tqdm\n",
    "import time\n",
    "import torch\n",
    "from torch import nn\n",
    "import itertools\n",
    "import joblib\n",
    "import matplotlib.pyplot as plt\n",
    "import random\n",
    "from sklearn.preprocessing import normalize\n",
    "import gc\n",
    "import requests\n",
    "from torch.nn import SmoothL1Loss\n",
    "from sklearn.model_selection import train_test_split\n",
    "gc.collect()\n",
    "\n",
    "exec(requests.get('https://raw.githubusercontent.com/facebookresearch/madgrad/main/madgrad/madgrad.py').text)\n",
    "\n",
    "def set_seed(seed = 42):\n",
    "    np.random.seed(seed)\n",
    "    random_state = np.random.RandomState(seed)\n",
    "    random.seed(seed)\n",
    "    os.environ['PYTHONHASHSEED'] = str(seed)\n",
    "    return seed\n",
    "seed = set_seed(seed = 42)"
   ]
  },
  {
   "cell_type": "markdown",
   "metadata": {},
   "source": [
    "# load data"
   ]
  },
  {
   "cell_type": "code",
   "execution_count": 77,
   "metadata": {},
   "outputs": [
    {
     "name": "stdout",
     "output_type": "stream",
     "text": [
      "(500000, 100) (500000, 148)\n"
     ]
    }
   ],
   "source": [
    "官方指認欄位 = ['2','6','10','12','13','15','18','19','21','22','25','26','36','37','39','48']\n",
    "X_pca = joblib.load('../model/X_pca_for_knn.pkl')\n",
    "df_groupby_chid_preprocessed = pd.read_feather('../data/df_groupby_chid_preprocessed.feather')\n",
    "print(X_pca.shape,df_groupby_chid_preprocessed.shape)"
   ]
  },
  {
   "cell_type": "code",
   "execution_count": 78,
   "metadata": {},
   "outputs": [
    {
     "data": {
      "text/html": [
       "<div>\n",
       "<style scoped>\n",
       "    .dataframe tbody tr th:only-of-type {\n",
       "        vertical-align: middle;\n",
       "    }\n",
       "\n",
       "    .dataframe tbody tr th {\n",
       "        vertical-align: top;\n",
       "    }\n",
       "\n",
       "    .dataframe thead th {\n",
       "        text-align: right;\n",
       "    }\n",
       "</style>\n",
       "<table border=\"1\" class=\"dataframe\">\n",
       "  <thead>\n",
       "    <tr style=\"text-align: right;\">\n",
       "      <th></th>\n",
       "      <th>dt</th>\n",
       "      <th>chid</th>\n",
       "      <th>shop_tag</th>\n",
       "      <th>txn_cnt</th>\n",
       "      <th>txn_amt</th>\n",
       "      <th>domestic_offline_cnt</th>\n",
       "      <th>domestic_online_cnt</th>\n",
       "      <th>overseas_offline_cnt</th>\n",
       "      <th>overseas_online_cnt</th>\n",
       "      <th>domestic_offline_amt_pct</th>\n",
       "      <th>...</th>\n",
       "      <th>masts</th>\n",
       "      <th>educd</th>\n",
       "      <th>trdtp</th>\n",
       "      <th>naty</th>\n",
       "      <th>poscd</th>\n",
       "      <th>cuorg</th>\n",
       "      <th>slam</th>\n",
       "      <th>gender_code</th>\n",
       "      <th>age</th>\n",
       "      <th>primary_card</th>\n",
       "    </tr>\n",
       "  </thead>\n",
       "  <tbody>\n",
       "    <tr>\n",
       "      <th>13188928</th>\n",
       "      <td>12.0</td>\n",
       "      <td>10115966.0</td>\n",
       "      <td>15</td>\n",
       "      <td>1.0</td>\n",
       "      <td>9678.450445</td>\n",
       "      <td>1.0</td>\n",
       "      <td>0.0</td>\n",
       "      <td>0.0</td>\n",
       "      <td>0.0</td>\n",
       "      <td>1.00</td>\n",
       "      <td>...</td>\n",
       "      <td>1.0</td>\n",
       "      <td>4.0</td>\n",
       "      <td>15.0</td>\n",
       "      <td>1.0</td>\n",
       "      <td>1.0</td>\n",
       "      <td>30.0</td>\n",
       "      <td>133000.939458</td>\n",
       "      <td>0.0</td>\n",
       "      <td>5.0</td>\n",
       "      <td>1.0</td>\n",
       "    </tr>\n",
       "    <tr>\n",
       "      <th>13188938</th>\n",
       "      <td>12.0</td>\n",
       "      <td>10115966.0</td>\n",
       "      <td>18</td>\n",
       "      <td>1.0</td>\n",
       "      <td>9624.614033</td>\n",
       "      <td>1.0</td>\n",
       "      <td>0.0</td>\n",
       "      <td>0.0</td>\n",
       "      <td>0.0</td>\n",
       "      <td>1.00</td>\n",
       "      <td>...</td>\n",
       "      <td>1.0</td>\n",
       "      <td>4.0</td>\n",
       "      <td>15.0</td>\n",
       "      <td>1.0</td>\n",
       "      <td>1.0</td>\n",
       "      <td>30.0</td>\n",
       "      <td>133000.939458</td>\n",
       "      <td>0.0</td>\n",
       "      <td>5.0</td>\n",
       "      <td>1.0</td>\n",
       "    </tr>\n",
       "    <tr>\n",
       "      <th>13188944</th>\n",
       "      <td>12.0</td>\n",
       "      <td>10115966.0</td>\n",
       "      <td>25</td>\n",
       "      <td>1.0</td>\n",
       "      <td>2338.181448</td>\n",
       "      <td>1.0</td>\n",
       "      <td>0.0</td>\n",
       "      <td>0.0</td>\n",
       "      <td>0.0</td>\n",
       "      <td>1.00</td>\n",
       "      <td>...</td>\n",
       "      <td>1.0</td>\n",
       "      <td>4.0</td>\n",
       "      <td>15.0</td>\n",
       "      <td>1.0</td>\n",
       "      <td>1.0</td>\n",
       "      <td>30.0</td>\n",
       "      <td>133000.939458</td>\n",
       "      <td>0.0</td>\n",
       "      <td>5.0</td>\n",
       "      <td>1.0</td>\n",
       "    </tr>\n",
       "    <tr>\n",
       "      <th>13188946</th>\n",
       "      <td>12.0</td>\n",
       "      <td>10115966.0</td>\n",
       "      <td>26</td>\n",
       "      <td>2.0</td>\n",
       "      <td>16627.150110</td>\n",
       "      <td>2.0</td>\n",
       "      <td>0.0</td>\n",
       "      <td>0.0</td>\n",
       "      <td>0.0</td>\n",
       "      <td>1.00</td>\n",
       "      <td>...</td>\n",
       "      <td>1.0</td>\n",
       "      <td>4.0</td>\n",
       "      <td>15.0</td>\n",
       "      <td>1.0</td>\n",
       "      <td>1.0</td>\n",
       "      <td>30.0</td>\n",
       "      <td>133000.939458</td>\n",
       "      <td>0.0</td>\n",
       "      <td>5.0</td>\n",
       "      <td>1.0</td>\n",
       "    </tr>\n",
       "    <tr>\n",
       "      <th>13188957</th>\n",
       "      <td>12.0</td>\n",
       "      <td>10115966.0</td>\n",
       "      <td>37</td>\n",
       "      <td>13.0</td>\n",
       "      <td>18485.113446</td>\n",
       "      <td>3.0</td>\n",
       "      <td>10.0</td>\n",
       "      <td>0.0</td>\n",
       "      <td>0.0</td>\n",
       "      <td>0.27</td>\n",
       "      <td>...</td>\n",
       "      <td>1.0</td>\n",
       "      <td>4.0</td>\n",
       "      <td>15.0</td>\n",
       "      <td>1.0</td>\n",
       "      <td>1.0</td>\n",
       "      <td>30.0</td>\n",
       "      <td>133000.939458</td>\n",
       "      <td>0.0</td>\n",
       "      <td>5.0</td>\n",
       "      <td>1.0</td>\n",
       "    </tr>\n",
       "  </tbody>\n",
       "</table>\n",
       "<p>5 rows × 53 columns</p>\n",
       "</div>"
      ],
      "text/plain": [
       "            dt        chid shop_tag  txn_cnt       txn_amt  \\\n",
       "13188928  12.0  10115966.0       15      1.0   9678.450445   \n",
       "13188938  12.0  10115966.0       18      1.0   9624.614033   \n",
       "13188944  12.0  10115966.0       25      1.0   2338.181448   \n",
       "13188946  12.0  10115966.0       26      2.0  16627.150110   \n",
       "13188957  12.0  10115966.0       37     13.0  18485.113446   \n",
       "\n",
       "          domestic_offline_cnt  domestic_online_cnt  overseas_offline_cnt  \\\n",
       "13188928                   1.0                  0.0                   0.0   \n",
       "13188938                   1.0                  0.0                   0.0   \n",
       "13188944                   1.0                  0.0                   0.0   \n",
       "13188946                   2.0                  0.0                   0.0   \n",
       "13188957                   3.0                 10.0                   0.0   \n",
       "\n",
       "          overseas_online_cnt  domestic_offline_amt_pct  ...  masts  educd  \\\n",
       "13188928                  0.0                      1.00  ...    1.0    4.0   \n",
       "13188938                  0.0                      1.00  ...    1.0    4.0   \n",
       "13188944                  0.0                      1.00  ...    1.0    4.0   \n",
       "13188946                  0.0                      1.00  ...    1.0    4.0   \n",
       "13188957                  0.0                      0.27  ...    1.0    4.0   \n",
       "\n",
       "          trdtp  naty  poscd  cuorg           slam  gender_code  age  \\\n",
       "13188928   15.0   1.0    1.0   30.0  133000.939458          0.0  5.0   \n",
       "13188938   15.0   1.0    1.0   30.0  133000.939458          0.0  5.0   \n",
       "13188944   15.0   1.0    1.0   30.0  133000.939458          0.0  5.0   \n",
       "13188946   15.0   1.0    1.0   30.0  133000.939458          0.0  5.0   \n",
       "13188957   15.0   1.0    1.0   30.0  133000.939458          0.0  5.0   \n",
       "\n",
       "          primary_card  \n",
       "13188928           1.0  \n",
       "13188938           1.0  \n",
       "13188944           1.0  \n",
       "13188946           1.0  \n",
       "13188957           1.0  \n",
       "\n",
       "[5 rows x 53 columns]"
      ]
     },
     "metadata": {},
     "output_type": "display_data"
    },
    {
     "data": {
      "text/html": [
       "<div>\n",
       "<style scoped>\n",
       "    .dataframe tbody tr th:only-of-type {\n",
       "        vertical-align: middle;\n",
       "    }\n",
       "\n",
       "    .dataframe tbody tr th {\n",
       "        vertical-align: top;\n",
       "    }\n",
       "\n",
       "    .dataframe thead th {\n",
       "        text-align: right;\n",
       "    }\n",
       "</style>\n",
       "<table border=\"1\" class=\"dataframe\">\n",
       "  <thead>\n",
       "    <tr style=\"text-align: right;\">\n",
       "      <th></th>\n",
       "      <th>chid</th>\n",
       "      <th>top1</th>\n",
       "      <th>top2</th>\n",
       "      <th>top3</th>\n",
       "    </tr>\n",
       "  </thead>\n",
       "  <tbody>\n",
       "    <tr>\n",
       "      <th>0</th>\n",
       "      <td>10128239</td>\n",
       "      <td>18</td>\n",
       "      <td>10</td>\n",
       "      <td>6</td>\n",
       "    </tr>\n",
       "    <tr>\n",
       "      <th>1</th>\n",
       "      <td>10077943</td>\n",
       "      <td>48</td>\n",
       "      <td>22</td>\n",
       "      <td>6</td>\n",
       "    </tr>\n",
       "    <tr>\n",
       "      <th>2</th>\n",
       "      <td>10277876</td>\n",
       "      <td>22</td>\n",
       "      <td>10</td>\n",
       "      <td>39</td>\n",
       "    </tr>\n",
       "    <tr>\n",
       "      <th>3</th>\n",
       "      <td>10364842</td>\n",
       "      <td>37</td>\n",
       "      <td>19</td>\n",
       "      <td>13</td>\n",
       "    </tr>\n",
       "    <tr>\n",
       "      <th>4</th>\n",
       "      <td>10392717</td>\n",
       "      <td>2</td>\n",
       "      <td>36</td>\n",
       "      <td>26</td>\n",
       "    </tr>\n",
       "  </tbody>\n",
       "</table>\n",
       "</div>"
      ],
      "text/plain": [
       "       chid  top1  top2  top3\n",
       "0  10128239    18    10     6\n",
       "1  10077943    48    22     6\n",
       "2  10277876    22    10    39\n",
       "3  10364842    37    19    13\n",
       "4  10392717     2    36    26"
      ]
     },
     "metadata": {},
     "output_type": "display_data"
    }
   ],
   "source": [
    "df = pd.read_feather('../data/2021玉山人工智慧公開挑戰賽冬季賽訓練資料集.feather')\n",
    "df = df.loc[df.dt >= 12] # 取最近12個月資料\n",
    "test_data = pd.read_feather('../data/需預測的顧客名單及提交檔案範例.feather')\n",
    "display(df.head())\n",
    "display(test_data.head())"
   ]
  },
  {
   "cell_type": "code",
   "execution_count": null,
   "metadata": {},
   "outputs": [],
   "source": []
  },
  {
   "cell_type": "markdown",
   "metadata": {},
   "source": [
    "# help functions"
   ]
  },
  {
   "cell_type": "code",
   "execution_count": 79,
   "metadata": {},
   "outputs": [],
   "source": [
    "def chid2answer(chid): #chid到answer的映射\n",
    "    a = df.loc[df['chid']==chid,'shop_tag'].value_counts().to_frame()\n",
    "    a['在指認欄位'] = False\n",
    "    a.loc[list(set(a.index)&set(官方指認欄位)),'在指認欄位'] = True #有交集的部份做記號\n",
    "    answer = a[a['在指認欄位']==True].index.tolist()[:3] # 取有交集的部份前三名返回\n",
    "    return answer\n",
    "\n",
    "def get_values_counts(chid:int)->dict:\n",
    "    '''\n",
    "    chid到shop_tag之value_counts的映射\n",
    "    '''\n",
    "    n_class = 49\n",
    "    d = dict(zip([str(i) for i in range(1,n_class)]+['other'],[0 for _ in range(n_class)]))\n",
    "    frame = df.loc[df.chid==chid,'shop_tag'].value_counts()\n",
    "    for shop_tag,counts in zip(frame.index,frame.values):\n",
    "        d[shop_tag] = counts\n",
    "    assert len(d.keys()) == n_class\n",
    "    return d\n",
    "\n",
    "def get_probs(value_counts:dict)->np.array:\n",
    "    '''\n",
    "    將value_counts(字典)轉成機率向量(np.array)\n",
    "    '''\n",
    "    n_class = 49\n",
    "    counts = np.array(list(value_counts.values()))\n",
    "    probs = counts / np.sum(counts)\n",
    "    assert len(probs) == n_class\n",
    "    return probs.tolist()\n",
    "\n",
    "def adjust(x):\n",
    "    a = torch.tensor([*range(len(x))]).reshape(-1,1)\n",
    "    b = x.argmax(axis=1).reshape(-1,1)\n",
    "    idx = torch.cat([a,b],dim=1)\n",
    "    x[idx[:, 0], idx[:, 1]] = 0.0\n",
    "    x /= x.sum(dim=1).reshape(-1,1)\n",
    "    return x\n",
    "\n",
    "def initial_h0(probs:np.array,remain)->torch.FloatTensor:\n",
    "    '''\n",
    "    初始化rnn的隱變量h0\n",
    "    '''\n",
    "    probs = torch.FloatTensor(probs).clone() # 轉成tensor\n",
    "    if 3-remain == 0: #如果規則完全找不到任何shop_tag,remain=3\n",
    "        hx = torch.zeros((probs.shape[0],49)) # \"全零\"初始化\n",
    "        return hx\n",
    "    else:\n",
    "        for _ in range(3-remain): #例如剩下一個則3-1=2,做兩次括號內動作(找出第一名的機率的idx然後把它歸0剩下的歸一化)\n",
    "            hx = adjust(probs)\n",
    "        return hx\n",
    "\n",
    "def probs2shoptag(probs,answer):\n",
    "    官方指認欄位 = ['2','6','10','12','13','15','18','19','21','22','25','26','36','37','39','48']\n",
    "    probs = dict(zip([ str(i) for i in range(1,49)]+['other'],probs.ravel().detach().numpy())) # 概率tensor轉換成概率字典\n",
    "    probs = dict((k,probs[k]) for k in probs.keys() if k not in answer) # 將answer裡面已經有的濾掉(保留不在answer裡的)\n",
    "    probs = dict((k,probs[k]) for k in probs.keys() if k in 官方指認欄位) # 將官方欄位裡面沒有的濾掉(保留在官方指定欄位的)\n",
    "    shop_tag = max(probs,key=probs.get) # 取得概率字典中概率最大value(機率)對應的key(shop_tag)\n",
    "    return shop_tag\n"
   ]
  },
  {
   "cell_type": "markdown",
   "metadata": {},
   "source": [
    "# Y"
   ]
  },
  {
   "cell_type": "code",
   "execution_count": 80,
   "metadata": {},
   "outputs": [
    {
     "name": "stderr",
     "output_type": "stream",
     "text": [
      "C:\\Users\\ricky\\AppData\\Local\\Temp/ipykernel_16244/789838116.py:3: TqdmDeprecationWarning: This function will be removed in tqdm==5.0.0\n",
      "Please use `tqdm.notebook.tqdm` instead of `tqdm.tqdm_notebook`\n",
      "  for idx in tqdm(test_data.sample(500,random_state=seed).index.tolist()):\n"
     ]
    },
    {
     "data": {
      "application/vnd.jupyter.widget-view+json": {
       "model_id": "25c9a64946644b85a360ef45663fffe5",
       "version_major": 2,
       "version_minor": 0
      },
      "text/plain": [
       "HBox(children=(FloatProgress(value=0.0, max=500.0), HTML(value='')))"
      ]
     },
     "metadata": {},
     "output_type": "display_data"
    },
    {
     "name": "stderr",
     "output_type": "stream",
     "text": [
      "  2%|▏         | 7/380 [00:00<00:06, 61.57it/s]"
     ]
    },
    {
     "name": "stdout",
     "output_type": "stream",
     "text": [
      "\n"
     ]
    },
    {
     "name": "stderr",
     "output_type": "stream",
     "text": [
      "100%|██████████| 380/380 [00:07<00:00, 51.90it/s]"
     ]
    },
    {
     "name": "stdout",
     "output_type": "stream",
     "text": [
      "torch.Size([380, 49])\n"
     ]
    },
    {
     "name": "stderr",
     "output_type": "stream",
     "text": [
      "\n"
     ]
    },
    {
     "data": {
      "text/plain": [
       "tensor([0.0000, 0.0303, 0.0000, 0.0000, 0.0000, 0.0000, 0.0000, 0.0000, 0.0000,\n",
       "        0.1818, 0.0303, 0.0000, 0.0000, 0.0000, 0.0909, 0.3939, 0.0303, 0.1212,\n",
       "        0.0303, 0.0000, 0.0000, 0.0000, 0.0000, 0.0000, 0.0000, 0.0303, 0.0000,\n",
       "        0.0000, 0.0000, 0.0000, 0.0000, 0.0606, 0.0000, 0.0000, 0.0000, 0.0000,\n",
       "        0.0000, 0.0000, 0.0000, 0.0000, 0.0000, 0.0000, 0.0000, 0.0000, 0.0000,\n",
       "        0.0000, 0.0000, 0.0000, 0.0000])"
      ]
     },
     "execution_count": 80,
     "metadata": {},
     "output_type": "execute_result"
    }
   ],
   "source": [
    "idx_list = []\n",
    "chid_list = test_data.loc[idx_list,'chid'].values.tolist()\n",
    "for idx in tqdm(test_data.sample(500,random_state=seed).index.tolist()):\n",
    "    answer = chid2answer(test_data.loc[idx,'chid'])\n",
    "    if len(answer) == 3:\n",
    "        idx_list.append(idx)\n",
    "Y = torch.FloatTensor(test_data.loc[idx_list,'chid'].progress_apply(lambda chid:get_probs(get_values_counts(chid))).tolist())\n",
    "print(Y.shape)\n",
    "Y[0]"
   ]
  },
  {
   "cell_type": "markdown",
   "metadata": {},
   "source": [
    "# X"
   ]
  },
  {
   "cell_type": "code",
   "execution_count": 81,
   "metadata": {},
   "outputs": [
    {
     "name": "stdout",
     "output_type": "stream",
     "text": [
      "torch.Size([380, 100])\n"
     ]
    },
    {
     "data": {
      "text/plain": [
       "tensor([-1.6332e+00,  9.0545e-03, -1.0140e+00,  4.3550e+00, -1.7651e+00,\n",
       "        -8.5587e-01, -1.9024e-01, -2.2905e+00,  2.3728e-02, -1.0820e-01,\n",
       "         1.5173e-01, -1.0652e+00, -5.2777e-01, -4.3207e-01, -1.1028e-01,\n",
       "        -7.7571e-01,  5.4544e-01, -3.5338e-01,  2.3715e-01,  3.1433e-01,\n",
       "         9.6921e-02, -2.4594e+00, -6.2733e-01,  1.7855e+00, -9.3818e-02,\n",
       "        -7.0888e-01,  1.1093e+00,  7.8211e-02,  1.8381e-02, -1.1325e+00,\n",
       "         9.7349e-01, -3.2835e-01, -1.3693e+00,  1.4367e+00, -6.2182e-02,\n",
       "         7.4944e-01,  6.5275e-01,  5.0727e-01, -6.3567e-01, -3.1819e-01,\n",
       "        -1.2062e+00, -1.1418e+00,  1.5680e-01,  2.5214e-01, -2.3176e-01,\n",
       "         1.5719e-01, -2.7729e-01,  1.5682e-02, -1.1049e-01,  3.2408e-01,\n",
       "        -2.2430e-01, -8.3480e-02, -4.5862e-02, -2.0913e-01, -2.4418e-01,\n",
       "         7.2761e-04,  4.1447e-02,  1.3467e-01, -1.0717e-01, -2.1765e-02,\n",
       "        -3.3931e-02,  2.8161e-02,  8.0549e-03,  8.2429e-02,  2.8586e-02,\n",
       "         1.5299e-02,  5.9053e-02,  1.7095e-02, -5.2068e-02,  7.5678e-03,\n",
       "        -8.1379e-02, -3.6110e-02,  3.3873e-02, -6.6505e-02,  6.4528e-02,\n",
       "         1.2237e-01, -1.1878e-01,  8.5642e-02,  8.1510e-02, -4.6122e-02,\n",
       "         7.1357e-02,  5.9297e-02,  4.4472e-02,  1.3722e-01, -2.7316e-01,\n",
       "         3.6320e-01, -5.7156e-01,  3.9881e-01, -3.4855e-01,  2.8209e-01,\n",
       "        -1.1135e-01, -3.8036e-01,  3.9591e-02, -6.5236e-01,  5.1425e-02,\n",
       "         6.0270e-01,  4.1996e-01,  7.4042e-01,  1.6832e-01,  3.7323e-01])"
      ]
     },
     "execution_count": 81,
     "metadata": {},
     "output_type": "execute_result"
    }
   ],
   "source": [
    "X_pca = joblib.load('../model/X_pca_for_knn.pkl')[idx_list]\n",
    "X_pca = torch.FloatTensor(X_pca)\n",
    "print(X_pca.shape)\n",
    "X_pca[0]"
   ]
  },
  {
   "cell_type": "markdown",
   "metadata": {},
   "source": [
    "# define model"
   ]
  },
  {
   "cell_type": "code",
   "execution_count": 82,
   "metadata": {},
   "outputs": [
    {
     "data": {
      "text/plain": [
       "R2D2(\n",
       "  (l1): Linear(in_features=100, out_features=49, bias=True)\n",
       "  (l2): Linear(in_features=49, out_features=49, bias=True)\n",
       ")"
      ]
     },
     "execution_count": 82,
     "metadata": {},
     "output_type": "execute_result"
    }
   ],
   "source": [
    "class R2D2(nn.Module):\n",
    "  def __init__(self,input_size,output_size,hidden_size):\n",
    "    super().__init__()\n",
    "    self.l1 = nn.Linear(input_size,hidden_size) #layer1線性層\n",
    "    self.l2 = nn.Linear(hidden_size,output_size) #layer2線性層\n",
    "  def forward(self,x):\n",
    "    features =  torch.tanh(self.l1(x)) #將x再經過layer1配激勵函數抽取有用的特徵稱之為features\n",
    "    logits = self.l2(features) # 將features丟入layer2輸出logits\n",
    "    logits = nn.Dropout(p=0.2)(logits) # 防止over fitting\n",
    "    return torch.softmax(logits,dim=1) # 將logits輸出轉換成機率(softmax)\n",
    "rnn = R2D2(X_pca.shape[1],Y.shape[1],Y.shape[1])\n",
    "rnn"
   ]
  },
  {
   "cell_type": "markdown",
   "metadata": {},
   "source": [
    "# forward test"
   ]
  },
  {
   "cell_type": "code",
   "execution_count": 83,
   "metadata": {},
   "outputs": [
    {
     "data": {
      "text/plain": [
       "tensor([[0.0205, 0.0173, 0.0205,  ..., 0.0205, 0.0101, 0.0205],\n",
       "        [0.0223, 0.0181, 0.0111,  ..., 0.0191, 0.0179, 0.0107],\n",
       "        [0.0258, 0.0194, 0.0194,  ..., 0.0194, 0.0196, 0.0366],\n",
       "        ...,\n",
       "        [0.0244, 0.0584, 0.0181,  ..., 0.0087, 0.0381, 0.0080],\n",
       "        [0.0176, 0.0217, 0.0357,  ..., 0.0167, 0.0234, 0.0204],\n",
       "        [0.0188, 0.0188, 0.0188,  ..., 0.0172, 0.0188, 0.0153]],\n",
       "       grad_fn=<SoftmaxBackward>)"
      ]
     },
     "execution_count": 83,
     "metadata": {},
     "output_type": "execute_result"
    }
   ],
   "source": [
    "rnn(X_pca)"
   ]
  },
  {
   "cell_type": "markdown",
   "metadata": {},
   "source": [
    "# train test split"
   ]
  },
  {
   "cell_type": "code",
   "execution_count": 84,
   "metadata": {},
   "outputs": [],
   "source": [
    "train_idx ,test_idx = train_test_split([*range(len(X_pca))],test_size=0.5)"
   ]
  },
  {
   "cell_type": "code",
   "execution_count": 85,
   "metadata": {},
   "outputs": [],
   "source": [
    "x_train,x_test = X_pca[train_idx],X_pca[test_idx]\n",
    "y_train,y_test = Y[train_idx],Y[test_idx]"
   ]
  },
  {
   "cell_type": "markdown",
   "metadata": {},
   "source": [
    "# train"
   ]
  },
  {
   "cell_type": "code",
   "execution_count": 86,
   "metadata": {},
   "outputs": [],
   "source": [
    "def step(idx_list,x,y,model,mode='train'):\n",
    "    # 切換兩種模式\n",
    "    if mode == 'train':\n",
    "        model.train()\n",
    "    if mode == 'eval':\n",
    "        model.eval()\n",
    "    optimizer = MADGRAD(model.parameters(),lr=1e-3) # 優化器\n",
    "    answer_dict = {} # 初始化answer字典\n",
    "    loss_dict = {} # 初始化loss字典\n",
    "    for i,idx in enumerate(idx_list): # 對樣本作遍歷\n",
    "        answer = [] # 初始化answer列表\n",
    "        total_loss = 0 # 初始化總損失\n",
    "        for _ in range(3): # 預測top1,top2,top3\n",
    "            probs = rnn(x) # nn forward\n",
    "            total_loss += SmoothL1Loss()(probs,y) # 計算loss並加入total_loss\n",
    "            shop_tag = probs2shoptag(probs[i],answer) # 預測這個樣本的shop_tag\n",
    "            answer.append(shop_tag) # 將shop_tag併入answer\n",
    "        answer_dict[idx] = answer # 紀錄answer\n",
    "        loss_dict[idx] = total_loss # 紀錄loss\n",
    "        if (mode in ['train']) & (i%2==0): # 更新網路參數(如果是訓練模式)\n",
    "            total_loss.backward()# 利用反向傳播算法求梯度\n",
    "            optimizer.step() # 執行梯度下降更新神經網路參數\n",
    "            optimizer.zero_grad() # 梯度歸零\n",
    "    return answer_dict,loss_dict # 返回答案和loss"
   ]
  },
  {
   "cell_type": "markdown",
   "metadata": {},
   "source": [
    "# look loss"
   ]
  },
  {
   "cell_type": "code",
   "execution_count": 87,
   "metadata": {},
   "outputs": [
    {
     "name": "stderr",
     "output_type": "stream",
     "text": [
      "C:\\Users\\ricky\\AppData\\Local\\Temp/ipykernel_16244/203329622.py:3: TqdmDeprecationWarning: This function will be removed in tqdm==5.0.0\n",
      "Please use `tqdm.notebook.tqdm` instead of `tqdm.tqdm_notebook`\n",
      "  for epoch in tqdm(range(100)):\n"
     ]
    },
    {
     "data": {
      "application/vnd.jupyter.widget-view+json": {
       "model_id": "0c3bb217a6ee4bb4b756d5db72cd5317",
       "version_major": 2,
       "version_minor": 0
      },
      "text/plain": [
       "HBox(children=(FloatProgress(value=0.0), HTML(value='')))"
      ]
     },
     "metadata": {},
     "output_type": "display_data"
    },
    {
     "name": "stdout",
     "output_type": "stream",
     "text": [
      "epoch:0 train loss:0.8941814303398132 test loss:1.0015372037887573\n",
      "epoch:10 train loss:0.5024821758270264 test loss:1.0319737195968628\n",
      "epoch:20 train loss:0.3764210641384125 test loss:1.1838901042938232\n",
      "epoch:30 train loss:0.3141210377216339 test loss:1.2284317016601562\n",
      "epoch:40 train loss:0.28752973675727844 test loss:1.2426831722259521\n",
      "epoch:50 train loss:0.2680579721927643 test loss:1.2517718076705933\n",
      "epoch:60 train loss:0.2531372010707855 test loss:1.277053952217102\n",
      "epoch:70 train loss:0.24493290483951569 test loss:1.3035249710083008\n",
      "epoch:80 train loss:0.23493856191635132 test loss:1.3307043313980103\n",
      "epoch:90 train loss:0.23203063011169434 test loss:1.3714083433151245\n",
      "\n"
     ]
    },
    {
     "data": {
      "image/png": "[encoded data removed]",
      "text/plain": [
       "<Figure size 432x288 with 1 Axes>"
      ]
     },
     "metadata": {
      "needs_background": "light"
     },
     "output_type": "display_data"
    }
   ],
   "source": [
    "loss_history = {'train':[],'test':[]}\n",
    "best_loss = np.inf\n",
    "for epoch in tqdm(range(100)):\n",
    "    # train step\n",
    "    train_pred,train_loss = step(train_idx,x_train,y_train,rnn,mode='train')\n",
    "    loss_history['train'].append(np.sum(list(train_loss.values())))\n",
    "    # test step\n",
    "    test_pred,test_loss = step(test_idx,x_test,y_test,rnn,mode='eval')\n",
    "    loss_history['test'].append(np.sum(list(test_loss.values())))\n",
    "    if loss_history['test'][-1] < best_loss:\n",
    "        best_loss = loss_history['test'][-1]\n",
    "        best_model = deepcopy(rnn.eval())\n",
    "        #print('best model saved')\n",
    "    # print information\n",
    "    if epoch % 10 == 0:\n",
    "        a = epoch\n",
    "        b = loss_history['train'][-1]\n",
    "        c = loss_history['test'][-1]\n",
    "        print(f'epoch:{a} train loss:{b} test loss:{c}')\n",
    "# plot loss_history\n",
    "plt.plot(loss_history['train'],label='train')\n",
    "plt.plot(loss_history['test'],label='test')\n",
    "plt.show()"
   ]
  },
  {
   "cell_type": "markdown",
   "metadata": {},
   "source": [
    "# use best model"
   ]
  },
  {
   "cell_type": "code",
   "execution_count": 88,
   "metadata": {},
   "outputs": [],
   "source": [
    "train_pred,train_loss = step(train_idx,x_train,y_train,best_model,mode='eval')\n",
    "test_pred,test_loss = step(test_idx,x_test,y_test,best_model,mode='eval')"
   ]
  },
  {
   "cell_type": "markdown",
   "metadata": {},
   "source": [
    "# metrics"
   ]
  },
  {
   "cell_type": "code",
   "execution_count": 89,
   "metadata": {},
   "outputs": [],
   "source": [
    "def metrics(pred_dict,test_data,idx_list):\n",
    "    a,b = [],[]\n",
    "    ground_true = dict(zip(idx_list,test_data.loc[idx_list,'chid'].progress_apply(chid2answer).values.tolist()))\n",
    "    for y_pred,y_true in tqdm(zip(pred_dict.values(),ground_true.values())):\n",
    "        a.append(y_pred),b.append(y_true)\n",
    "    a,b = pd.DataFrame(a).values,pd.DataFrame(b).values\n",
    "    return np.equal(a,b).sum()/(a.shape[0]*a.shape[1])"
   ]
  },
  {
   "cell_type": "code",
   "execution_count": 90,
   "metadata": {},
   "outputs": [
    {
     "name": "stderr",
     "output_type": "stream",
     "text": [
      "100%|██████████| 190/190 [00:03<00:00, 51.39it/s]\n",
      "C:\\Users\\ricky\\AppData\\Local\\Temp/ipykernel_16244/1991256331.py:4: TqdmDeprecationWarning: This function will be removed in tqdm==5.0.0\n",
      "Please use `tqdm.notebook.tqdm` instead of `tqdm.tqdm_notebook`\n",
      "  for y_pred,y_true in tqdm(zip(pred_dict.values(),ground_true.values())):\n"
     ]
    },
    {
     "data": {
      "application/vnd.jupyter.widget-view+json": {
       "model_id": "606ead8108d1487387289e0db4b33b73",
       "version_major": 2,
       "version_minor": 0
      },
      "text/plain": [
       "HBox(children=(FloatProgress(value=1.0, bar_style='info', max=1.0), HTML(value='')))"
      ]
     },
     "metadata": {},
     "output_type": "display_data"
    },
    {
     "name": "stderr",
     "output_type": "stream",
     "text": [
      "  4%|▎         | 7/190 [00:00<00:02, 61.03it/s]"
     ]
    },
    {
     "name": "stdout",
     "output_type": "stream",
     "text": [
      "\n",
      "訓練集正確率: 0.531578947368421\n"
     ]
    },
    {
     "name": "stderr",
     "output_type": "stream",
     "text": [
      "100%|██████████| 190/190 [00:03<00:00, 50.95it/s]\n",
      "C:\\Users\\ricky\\AppData\\Local\\Temp/ipykernel_16244/1991256331.py:4: TqdmDeprecationWarning: This function will be removed in tqdm==5.0.0\n",
      "Please use `tqdm.notebook.tqdm` instead of `tqdm.tqdm_notebook`\n",
      "  for y_pred,y_true in tqdm(zip(pred_dict.values(),ground_true.values())):\n"
     ]
    },
    {
     "data": {
      "application/vnd.jupyter.widget-view+json": {
       "model_id": "bf4a9b35c81c472c91371ab925ff134e",
       "version_major": 2,
       "version_minor": 0
      },
      "text/plain": [
       "HBox(children=(FloatProgress(value=1.0, bar_style='info', max=1.0), HTML(value='')))"
      ]
     },
     "metadata": {},
     "output_type": "display_data"
    },
    {
     "name": "stdout",
     "output_type": "stream",
     "text": [
      "\n",
      "測試集正確率: 0.1\n"
     ]
    }
   ],
   "source": [
    "print('訓練集正確率:',metrics(train_pred,test_data,[idx_list[i] for i in train_idx]))\n",
    "print('測試集正確率:',metrics(test_pred,test_data,[idx_list[i] for i in test_idx]))"
   ]
  },
  {
   "cell_type": "code",
   "execution_count": null,
   "metadata": {},
   "outputs": [],
   "source": []
  }
 ],
 "metadata": {
  "interpreter": {
   "hash": "2ccee5cc862501c1aad1cf19888c2a2eca4026b72d187db43d5e889cbdc6ee97"
  },
  "kernelspec": {
   "display_name": "Python 3.8.5 64-bit ('base': conda)",
   "language": "python",
   "name": "python3"
  },
  "language_info": {
   "codemirror_mode": {
    "name": "ipython",
    "version": 3
   },
   "file_extension": ".py",
   "mimetype": "text/x-python",
   "name": "python",
   "nbconvert_exporter": "python",
   "pygments_lexer": "ipython3",
   "version": "3.8.5"
  },
  "orig_nbformat": 4
 },
 "nbformat": 4,
 "nbformat_minor": 2
}
