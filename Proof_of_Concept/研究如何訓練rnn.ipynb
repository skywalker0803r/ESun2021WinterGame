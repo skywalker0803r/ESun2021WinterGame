{
 "cells": [
  {
   "cell_type": "code",
   "execution_count": 244,
   "metadata": {},
   "outputs": [],
   "source": [
    "import pandas as pd\n",
    "import numpy as np\n",
    "from tqdm import tqdm\n",
    "tqdm.pandas()\n",
    "from tqdm import tqdm_notebook as tqdm\n",
    "import time\n",
    "import torch\n",
    "from torch import nn\n",
    "import itertools\n",
    "import joblib\n",
    "import matplotlib.pyplot as plt\n",
    "import random\n",
    "from sklearn.preprocessing import normalize\n",
    "import gc\n",
    "import requests\n",
    "from torch.nn import SmoothL1Loss\n",
    "from sklearn.model_selection import train_test_split\n",
    "gc.collect()\n",
    "\n",
    "exec(requests.get('https://raw.githubusercontent.com/facebookresearch/madgrad/main/madgrad/madgrad.py').text)\n",
    "\n",
    "def set_seed(seed = 42):\n",
    "    np.random.seed(seed)\n",
    "    random_state = np.random.RandomState(seed)\n",
    "    random.seed(seed)\n",
    "    os.environ['PYTHONHASHSEED'] = str(seed)\n",
    "    return seed\n",
    "seed = set_seed(seed = 42)"
   ]
  },
  {
   "cell_type": "markdown",
   "metadata": {},
   "source": [
    "# load data"
   ]
  },
  {
   "cell_type": "code",
   "execution_count": 245,
   "metadata": {},
   "outputs": [],
   "source": [
    "官方指認欄位 = ['2','6','10','12','13','15','18','19','21','22','25','26','36','37','39','48']\n",
    "X_pca = joblib.load('../model/X_pca_for_knn.pkl')\n",
    "df_groupby_chid_preprocessed = pd.read_feather('../data/df_groupby_chid_preprocessed.feather')"
   ]
  },
  {
   "cell_type": "code",
   "execution_count": 246,
   "metadata": {},
   "outputs": [
    {
     "data": {
      "text/html": [
       "<div>\n",
       "<style scoped>\n",
       "    .dataframe tbody tr th:only-of-type {\n",
       "        vertical-align: middle;\n",
       "    }\n",
       "\n",
       "    .dataframe tbody tr th {\n",
       "        vertical-align: top;\n",
       "    }\n",
       "\n",
       "    .dataframe thead th {\n",
       "        text-align: right;\n",
       "    }\n",
       "</style>\n",
       "<table border=\"1\" class=\"dataframe\">\n",
       "  <thead>\n",
       "    <tr style=\"text-align: right;\">\n",
       "      <th></th>\n",
       "      <th>dt</th>\n",
       "      <th>chid</th>\n",
       "      <th>shop_tag</th>\n",
       "      <th>txn_cnt</th>\n",
       "      <th>txn_amt</th>\n",
       "      <th>domestic_offline_cnt</th>\n",
       "      <th>domestic_online_cnt</th>\n",
       "      <th>overseas_offline_cnt</th>\n",
       "      <th>overseas_online_cnt</th>\n",
       "      <th>domestic_offline_amt_pct</th>\n",
       "      <th>...</th>\n",
       "      <th>masts</th>\n",
       "      <th>educd</th>\n",
       "      <th>trdtp</th>\n",
       "      <th>naty</th>\n",
       "      <th>poscd</th>\n",
       "      <th>cuorg</th>\n",
       "      <th>slam</th>\n",
       "      <th>gender_code</th>\n",
       "      <th>age</th>\n",
       "      <th>primary_card</th>\n",
       "    </tr>\n",
       "  </thead>\n",
       "  <tbody>\n",
       "    <tr>\n",
       "      <th>13188928</th>\n",
       "      <td>12.0</td>\n",
       "      <td>10115966.0</td>\n",
       "      <td>15</td>\n",
       "      <td>1.0</td>\n",
       "      <td>9678.450445</td>\n",
       "      <td>1.0</td>\n",
       "      <td>0.0</td>\n",
       "      <td>0.0</td>\n",
       "      <td>0.0</td>\n",
       "      <td>1.00</td>\n",
       "      <td>...</td>\n",
       "      <td>1.0</td>\n",
       "      <td>4.0</td>\n",
       "      <td>15.0</td>\n",
       "      <td>1.0</td>\n",
       "      <td>1.0</td>\n",
       "      <td>30.0</td>\n",
       "      <td>133000.939458</td>\n",
       "      <td>0.0</td>\n",
       "      <td>5.0</td>\n",
       "      <td>1.0</td>\n",
       "    </tr>\n",
       "    <tr>\n",
       "      <th>13188938</th>\n",
       "      <td>12.0</td>\n",
       "      <td>10115966.0</td>\n",
       "      <td>18</td>\n",
       "      <td>1.0</td>\n",
       "      <td>9624.614033</td>\n",
       "      <td>1.0</td>\n",
       "      <td>0.0</td>\n",
       "      <td>0.0</td>\n",
       "      <td>0.0</td>\n",
       "      <td>1.00</td>\n",
       "      <td>...</td>\n",
       "      <td>1.0</td>\n",
       "      <td>4.0</td>\n",
       "      <td>15.0</td>\n",
       "      <td>1.0</td>\n",
       "      <td>1.0</td>\n",
       "      <td>30.0</td>\n",
       "      <td>133000.939458</td>\n",
       "      <td>0.0</td>\n",
       "      <td>5.0</td>\n",
       "      <td>1.0</td>\n",
       "    </tr>\n",
       "    <tr>\n",
       "      <th>13188944</th>\n",
       "      <td>12.0</td>\n",
       "      <td>10115966.0</td>\n",
       "      <td>25</td>\n",
       "      <td>1.0</td>\n",
       "      <td>2338.181448</td>\n",
       "      <td>1.0</td>\n",
       "      <td>0.0</td>\n",
       "      <td>0.0</td>\n",
       "      <td>0.0</td>\n",
       "      <td>1.00</td>\n",
       "      <td>...</td>\n",
       "      <td>1.0</td>\n",
       "      <td>4.0</td>\n",
       "      <td>15.0</td>\n",
       "      <td>1.0</td>\n",
       "      <td>1.0</td>\n",
       "      <td>30.0</td>\n",
       "      <td>133000.939458</td>\n",
       "      <td>0.0</td>\n",
       "      <td>5.0</td>\n",
       "      <td>1.0</td>\n",
       "    </tr>\n",
       "    <tr>\n",
       "      <th>13188946</th>\n",
       "      <td>12.0</td>\n",
       "      <td>10115966.0</td>\n",
       "      <td>26</td>\n",
       "      <td>2.0</td>\n",
       "      <td>16627.150110</td>\n",
       "      <td>2.0</td>\n",
       "      <td>0.0</td>\n",
       "      <td>0.0</td>\n",
       "      <td>0.0</td>\n",
       "      <td>1.00</td>\n",
       "      <td>...</td>\n",
       "      <td>1.0</td>\n",
       "      <td>4.0</td>\n",
       "      <td>15.0</td>\n",
       "      <td>1.0</td>\n",
       "      <td>1.0</td>\n",
       "      <td>30.0</td>\n",
       "      <td>133000.939458</td>\n",
       "      <td>0.0</td>\n",
       "      <td>5.0</td>\n",
       "      <td>1.0</td>\n",
       "    </tr>\n",
       "    <tr>\n",
       "      <th>13188957</th>\n",
       "      <td>12.0</td>\n",
       "      <td>10115966.0</td>\n",
       "      <td>37</td>\n",
       "      <td>13.0</td>\n",
       "      <td>18485.113446</td>\n",
       "      <td>3.0</td>\n",
       "      <td>10.0</td>\n",
       "      <td>0.0</td>\n",
       "      <td>0.0</td>\n",
       "      <td>0.27</td>\n",
       "      <td>...</td>\n",
       "      <td>1.0</td>\n",
       "      <td>4.0</td>\n",
       "      <td>15.0</td>\n",
       "      <td>1.0</td>\n",
       "      <td>1.0</td>\n",
       "      <td>30.0</td>\n",
       "      <td>133000.939458</td>\n",
       "      <td>0.0</td>\n",
       "      <td>5.0</td>\n",
       "      <td>1.0</td>\n",
       "    </tr>\n",
       "  </tbody>\n",
       "</table>\n",
       "<p>5 rows × 53 columns</p>\n",
       "</div>"
      ],
      "text/plain": [
       "            dt        chid shop_tag  txn_cnt       txn_amt  \\\n",
       "13188928  12.0  10115966.0       15      1.0   9678.450445   \n",
       "13188938  12.0  10115966.0       18      1.0   9624.614033   \n",
       "13188944  12.0  10115966.0       25      1.0   2338.181448   \n",
       "13188946  12.0  10115966.0       26      2.0  16627.150110   \n",
       "13188957  12.0  10115966.0       37     13.0  18485.113446   \n",
       "\n",
       "          domestic_offline_cnt  domestic_online_cnt  overseas_offline_cnt  \\\n",
       "13188928                   1.0                  0.0                   0.0   \n",
       "13188938                   1.0                  0.0                   0.0   \n",
       "13188944                   1.0                  0.0                   0.0   \n",
       "13188946                   2.0                  0.0                   0.0   \n",
       "13188957                   3.0                 10.0                   0.0   \n",
       "\n",
       "          overseas_online_cnt  domestic_offline_amt_pct  ...  masts  educd  \\\n",
       "13188928                  0.0                      1.00  ...    1.0    4.0   \n",
       "13188938                  0.0                      1.00  ...    1.0    4.0   \n",
       "13188944                  0.0                      1.00  ...    1.0    4.0   \n",
       "13188946                  0.0                      1.00  ...    1.0    4.0   \n",
       "13188957                  0.0                      0.27  ...    1.0    4.0   \n",
       "\n",
       "          trdtp  naty  poscd  cuorg           slam  gender_code  age  \\\n",
       "13188928   15.0   1.0    1.0   30.0  133000.939458          0.0  5.0   \n",
       "13188938   15.0   1.0    1.0   30.0  133000.939458          0.0  5.0   \n",
       "13188944   15.0   1.0    1.0   30.0  133000.939458          0.0  5.0   \n",
       "13188946   15.0   1.0    1.0   30.0  133000.939458          0.0  5.0   \n",
       "13188957   15.0   1.0    1.0   30.0  133000.939458          0.0  5.0   \n",
       "\n",
       "          primary_card  \n",
       "13188928           1.0  \n",
       "13188938           1.0  \n",
       "13188944           1.0  \n",
       "13188946           1.0  \n",
       "13188957           1.0  \n",
       "\n",
       "[5 rows x 53 columns]"
      ]
     },
     "metadata": {},
     "output_type": "display_data"
    },
    {
     "data": {
      "text/html": [
       "<div>\n",
       "<style scoped>\n",
       "    .dataframe tbody tr th:only-of-type {\n",
       "        vertical-align: middle;\n",
       "    }\n",
       "\n",
       "    .dataframe tbody tr th {\n",
       "        vertical-align: top;\n",
       "    }\n",
       "\n",
       "    .dataframe thead th {\n",
       "        text-align: right;\n",
       "    }\n",
       "</style>\n",
       "<table border=\"1\" class=\"dataframe\">\n",
       "  <thead>\n",
       "    <tr style=\"text-align: right;\">\n",
       "      <th></th>\n",
       "      <th>chid</th>\n",
       "      <th>top1</th>\n",
       "      <th>top2</th>\n",
       "      <th>top3</th>\n",
       "    </tr>\n",
       "  </thead>\n",
       "  <tbody>\n",
       "    <tr>\n",
       "      <th>0</th>\n",
       "      <td>10128239</td>\n",
       "      <td>18</td>\n",
       "      <td>10</td>\n",
       "      <td>6</td>\n",
       "    </tr>\n",
       "    <tr>\n",
       "      <th>1</th>\n",
       "      <td>10077943</td>\n",
       "      <td>48</td>\n",
       "      <td>22</td>\n",
       "      <td>6</td>\n",
       "    </tr>\n",
       "    <tr>\n",
       "      <th>2</th>\n",
       "      <td>10277876</td>\n",
       "      <td>22</td>\n",
       "      <td>10</td>\n",
       "      <td>39</td>\n",
       "    </tr>\n",
       "    <tr>\n",
       "      <th>3</th>\n",
       "      <td>10364842</td>\n",
       "      <td>37</td>\n",
       "      <td>19</td>\n",
       "      <td>13</td>\n",
       "    </tr>\n",
       "    <tr>\n",
       "      <th>4</th>\n",
       "      <td>10392717</td>\n",
       "      <td>2</td>\n",
       "      <td>36</td>\n",
       "      <td>26</td>\n",
       "    </tr>\n",
       "  </tbody>\n",
       "</table>\n",
       "</div>"
      ],
      "text/plain": [
       "       chid  top1  top2  top3\n",
       "0  10128239    18    10     6\n",
       "1  10077943    48    22     6\n",
       "2  10277876    22    10    39\n",
       "3  10364842    37    19    13\n",
       "4  10392717     2    36    26"
      ]
     },
     "metadata": {},
     "output_type": "display_data"
    }
   ],
   "source": [
    "df = pd.read_feather('../data/2021玉山人工智慧公開挑戰賽冬季賽訓練資料集.feather')\n",
    "df = df.loc[df.dt >= 12] # 取最近12個月資料\n",
    "test_data = pd.read_feather('../data/需預測的顧客名單及提交檔案範例.feather')\n",
    "display(df.head())\n",
    "display(test_data.head())"
   ]
  },
  {
   "cell_type": "markdown",
   "metadata": {},
   "source": [
    "# help functions"
   ]
  },
  {
   "cell_type": "code",
   "execution_count": 247,
   "metadata": {},
   "outputs": [],
   "source": [
    "def chid2answer(chid): #chid到answer的映射\n",
    "    a = df.loc[df['chid']==chid,'shop_tag'].value_counts().to_frame()\n",
    "    a['在指認欄位'] = False\n",
    "    a.loc[list(set(a.index)&set(官方指認欄位)),'在指認欄位'] = True #有交集的部份做記號\n",
    "    answer = a[a['在指認欄位']==True].index.tolist()[:3] # 取有交集的部份前三名返回\n",
    "    return answer\n",
    "\n",
    "def get_values_counts(chid:int)->dict:\n",
    "    '''\n",
    "    chid到shop_tag之value_counts的映射\n",
    "    '''\n",
    "    n_class = 49\n",
    "    d = dict(zip([str(i) for i in range(1,n_class)]+['other'],[0 for _ in range(n_class)]))\n",
    "    frame = df.loc[df.chid==chid,'shop_tag'].value_counts()\n",
    "    for shop_tag,counts in zip(frame.index,frame.values):\n",
    "        d[shop_tag] = counts\n",
    "    assert len(d.keys()) == n_class\n",
    "    return d\n",
    "\n",
    "def get_probs(value_counts:dict)->np.array:\n",
    "    '''\n",
    "    將value_counts(字典)轉成機率向量(np.array)\n",
    "    '''\n",
    "    n_class = 49\n",
    "    counts = np.array(list(value_counts.values()))\n",
    "    probs = counts / np.sum(counts)\n",
    "    assert len(probs) == n_class\n",
    "    return probs.tolist()\n",
    "\n",
    "def adjust(x):\n",
    "    a = torch.tensor([*range(len(x))]).reshape(-1,1)\n",
    "    b = x.argmax(axis=1).reshape(-1,1)\n",
    "    idx = torch.cat([a,b],dim=1)\n",
    "    x[idx[:, 0], idx[:, 1]] = 0.0\n",
    "    x /= x.sum(dim=1).reshape(-1,1)\n",
    "    return x\n",
    "\n",
    "def initial_h0(probs:np.array,remain)->torch.FloatTensor:\n",
    "    '''\n",
    "    初始化rnn的隱變量h0\n",
    "    '''\n",
    "    probs = torch.FloatTensor(probs).clone() # 轉成tensor\n",
    "    if 3-remain == 0: #如果規則完全找不到任何shop_tag,remain=3\n",
    "        hx = torch.zeros((probs.shape[0],49)) # \"全零\"初始化\n",
    "        return hx\n",
    "    else:\n",
    "        for _ in range(3-remain): #例如剩下一個則3-1=2,做兩次括號內動作(找出第一名的機率的idx然後把它歸0剩下的歸一化)\n",
    "            hx = adjust(probs)\n",
    "        return hx\n",
    "\n",
    "def probs2shoptag(probs,answer):\n",
    "    官方指認欄位 = ['2','6','10','12','13','15','18','19','21','22','25','26','36','37','39','48']\n",
    "    probs = dict(zip([ str(i) for i in range(1,49)]+['other'],probs.ravel().detach().numpy())) # 概率tensor轉換成概率字典\n",
    "    probs = dict((k,probs[k]) for k in probs.keys() if k not in answer) # 將answer裡面已經有的濾掉(保留不在answer裡的)\n",
    "    probs = dict((k,probs[k]) for k in probs.keys() if k in 官方指認欄位) # 將官方欄位裡面沒有的濾掉(保留在官方指定欄位的)\n",
    "    shop_tag = max(probs,key=probs.get) # 取得概率字典中概率最大value(機率)對應的key(shop_tag)\n",
    "    return shop_tag\n"
   ]
  },
  {
   "cell_type": "markdown",
   "metadata": {},
   "source": [
    "# Y"
   ]
  },
  {
   "cell_type": "code",
   "execution_count": 248,
   "metadata": {},
   "outputs": [
    {
     "data": {
      "application/vnd.jupyter.widget-view+json": {
       "model_id": "cba547e162a148839c6c85339edd0226",
       "version_major": 2,
       "version_minor": 0
      },
      "text/plain": [
       "HBox(children=(FloatProgress(value=0.0, max=250.0), HTML(value='')))"
      ]
     },
     "metadata": {},
     "output_type": "display_data"
    },
    {
     "name": "stderr",
     "output_type": "stream",
     "text": [
      "  3%|▎         | 6/190 [00:00<00:03, 58.97it/s]"
     ]
    },
    {
     "name": "stdout",
     "output_type": "stream",
     "text": [
      "\n"
     ]
    },
    {
     "name": "stderr",
     "output_type": "stream",
     "text": [
      "100%|██████████| 190/190 [00:03<00:00, 53.42it/s]"
     ]
    },
    {
     "name": "stdout",
     "output_type": "stream",
     "text": [
      "torch.Size([190, 49])\n"
     ]
    },
    {
     "name": "stderr",
     "output_type": "stream",
     "text": [
      "\n"
     ]
    },
    {
     "data": {
      "text/plain": [
       "tensor([0.0000, 0.0303, 0.0000, 0.0000, 0.0000, 0.0000, 0.0000, 0.0000, 0.0000,\n",
       "        0.1818, 0.0303, 0.0000, 0.0000, 0.0000, 0.0909, 0.3939, 0.0303, 0.1212,\n",
       "        0.0303, 0.0000, 0.0000, 0.0000, 0.0000, 0.0000, 0.0000, 0.0303, 0.0000,\n",
       "        0.0000, 0.0000, 0.0000, 0.0000, 0.0606, 0.0000, 0.0000, 0.0000, 0.0000,\n",
       "        0.0000, 0.0000, 0.0000, 0.0000, 0.0000, 0.0000, 0.0000, 0.0000, 0.0000,\n",
       "        0.0000, 0.0000, 0.0000, 0.0000])"
      ]
     },
     "execution_count": 248,
     "metadata": {},
     "output_type": "execute_result"
    }
   ],
   "source": [
    "idx_list = []\n",
    "chid_list = test_data.loc[idx_list,'chid'].values.tolist()\n",
    "for idx in tqdm(test_data.sample(250,random_state=seed).index.tolist()):\n",
    "    answer = chid2answer(test_data.loc[idx,'chid'])\n",
    "    if len(answer) == 3:\n",
    "        idx_list.append(idx)\n",
    "Y = torch.FloatTensor(test_data.loc[idx_list,'chid'].progress_apply(lambda chid:get_probs(get_values_counts(chid))).tolist())\n",
    "print(Y.shape)\n",
    "Y[0]"
   ]
  },
  {
   "cell_type": "markdown",
   "metadata": {},
   "source": [
    "# X"
   ]
  },
  {
   "cell_type": "code",
   "execution_count": 249,
   "metadata": {},
   "outputs": [
    {
     "name": "stdout",
     "output_type": "stream",
     "text": [
      "torch.Size([190, 64])\n"
     ]
    },
    {
     "data": {
      "text/plain": [
       "tensor([-1.6331,  0.0086, -1.0127,  4.3523, -1.7636, -0.8571, -0.2015, -2.3001,\n",
       "         0.0139, -0.0713,  0.1270, -1.0754, -0.5480, -0.4240, -0.1055, -0.7731,\n",
       "         0.4983, -0.3807,  0.2435,  0.3736,  0.0901,  2.4743, -0.7095,  1.6788,\n",
       "        -0.0920,  0.8914, -1.1161, -0.1720,  0.1899, -1.4712,  1.1456, -0.3039,\n",
       "         0.4823,  1.0408,  0.3724, -0.2565, -0.3282, -0.4531,  0.9377, -0.0534,\n",
       "        -0.9197,  0.4067, -0.6670, -0.0293,  0.4245,  0.1005, -0.2838, -0.3001,\n",
       "         0.0401, -0.0456, -0.0494,  0.0087, -0.0922,  0.0056,  0.0562, -0.0142,\n",
       "        -0.0403,  0.2313,  0.2356,  0.2933, -0.0624, -0.2291, -0.4001,  0.5754])"
      ]
     },
     "execution_count": 249,
     "metadata": {},
     "output_type": "execute_result"
    }
   ],
   "source": [
    "X_pca = joblib.load('../model/X_pca_for_knn.pkl')[idx_list]\n",
    "X_pca = torch.FloatTensor(X_pca)\n",
    "print(X_pca.shape)\n",
    "X_pca[0]"
   ]
  },
  {
   "cell_type": "markdown",
   "metadata": {},
   "source": [
    "# define model"
   ]
  },
  {
   "cell_type": "code",
   "execution_count": 250,
   "metadata": {},
   "outputs": [
    {
     "data": {
      "text/plain": [
       "R2D2(\n",
       "  (l1): Linear(in_features=64, out_features=49, bias=True)\n",
       "  (l2): Linear(in_features=49, out_features=49, bias=True)\n",
       ")"
      ]
     },
     "execution_count": 250,
     "metadata": {},
     "output_type": "execute_result"
    }
   ],
   "source": [
    "class R2D2(nn.Module):\n",
    "  def __init__(self,input_size,output_size,hidden_size):\n",
    "    super().__init__()\n",
    "    self.l1 = nn.Linear(input_size,hidden_size) #layer1線性層\n",
    "    self.l2 = nn.Linear(hidden_size,output_size) #layer2線性層\n",
    "  def forward(self,x):\n",
    "    features =  torch.tanh(self.l1(x)) #將x再經過layer1配激勵函數抽取有用的特徵稱之為features\n",
    "    logits = self.l2(features) # 將features丟入layer2輸出logits\n",
    "    return torch.softmax(logits,dim=1) # 將logits輸出轉換成機率(softmax)\n",
    "rnn = R2D2(X_pca.shape[1],Y.shape[1],Y.shape[1])\n",
    "rnn"
   ]
  },
  {
   "cell_type": "markdown",
   "metadata": {},
   "source": [
    "# forward test"
   ]
  },
  {
   "cell_type": "code",
   "execution_count": 251,
   "metadata": {},
   "outputs": [
    {
     "data": {
      "text/plain": [
       "tensor([[0.0245, 0.0234, 0.0157,  ..., 0.0240, 0.0216, 0.0171],\n",
       "        [0.0218, 0.0214, 0.0283,  ..., 0.0312, 0.0272, 0.0142],\n",
       "        [0.0204, 0.0163, 0.0225,  ..., 0.0133, 0.0165, 0.0184],\n",
       "        ...,\n",
       "        [0.0181, 0.0260, 0.0162,  ..., 0.0164, 0.0182, 0.0170],\n",
       "        [0.0119, 0.0181, 0.0175,  ..., 0.0161, 0.0206, 0.0257],\n",
       "        [0.0151, 0.0244, 0.0124,  ..., 0.0204, 0.0178, 0.0154]],\n",
       "       grad_fn=<SoftmaxBackward>)"
      ]
     },
     "execution_count": 251,
     "metadata": {},
     "output_type": "execute_result"
    }
   ],
   "source": [
    "rnn(X_pca)"
   ]
  },
  {
   "cell_type": "markdown",
   "metadata": {},
   "source": [
    "# train test split"
   ]
  },
  {
   "cell_type": "code",
   "execution_count": 252,
   "metadata": {},
   "outputs": [],
   "source": [
    "train_idx ,test_idx = train_test_split([*range(len(X_pca))],test_size=0.2)"
   ]
  },
  {
   "cell_type": "code",
   "execution_count": 253,
   "metadata": {},
   "outputs": [],
   "source": [
    "x_train,x_test = X_pca[train_idx],X_pca[test_idx]\n",
    "y_train,y_test = Y[train_idx],Y[test_idx]"
   ]
  },
  {
   "cell_type": "markdown",
   "metadata": {},
   "source": [
    "# train"
   ]
  },
  {
   "cell_type": "code",
   "execution_count": 254,
   "metadata": {},
   "outputs": [],
   "source": [
    "def step(idx_list,x,y,model,mode='train'):\n",
    "    # 切換兩種模式\n",
    "    if mode == 'train':\n",
    "        model.train()\n",
    "    if mode == 'eval':\n",
    "        model.eval()\n",
    "    optimizer = MADGRAD(model.parameters(),lr=1e-3) # 優化器\n",
    "    answer_dict = {} # 初始化answer字典\n",
    "    loss_dict = {} # 初始化loss字典\n",
    "    for i,idx in enumerate(idx_list): # 對樣本作遍歷\n",
    "        answer = [] # 初始化answer列表\n",
    "        total_loss = 0 # 初始化總損失\n",
    "        for _ in range(3): # 預測top1,top2,top3\n",
    "            probs = rnn(x) # nn forward\n",
    "            total_loss += SmoothL1Loss()(probs,y) # 計算loss並加入total_loss\n",
    "            shop_tag = probs2shoptag(probs[i],answer) # 預測這個樣本的shop_tag\n",
    "            answer.append(shop_tag) # 將shop_tag併入answer\n",
    "        answer_dict[idx] = answer # 紀錄answer\n",
    "        loss_dict[idx] = total_loss # 紀錄loss\n",
    "        if mode == 'train': # 更新網路參數(如果是訓練模式)\n",
    "            total_loss.backward()# 利用反向傳播算法求梯度\n",
    "            optimizer.step() # 執行梯度下降更新神經網路參數\n",
    "            optimizer.zero_grad() # 梯度歸零\n",
    "    return answer_dict,loss_dict # 返回答案和loss"
   ]
  },
  {
   "cell_type": "markdown",
   "metadata": {},
   "source": [
    "# look loss"
   ]
  },
  {
   "cell_type": "code",
   "execution_count": 255,
   "metadata": {},
   "outputs": [
    {
     "data": {
      "application/vnd.jupyter.widget-view+json": {
       "model_id": "8d35de91293e45e6bf905ea4653ac10e",
       "version_major": 2,
       "version_minor": 0
      },
      "text/plain": [
       "HBox(children=(FloatProgress(value=0.0), HTML(value='')))"
      ]
     },
     "metadata": {},
     "output_type": "display_data"
    },
    {
     "name": "stdout",
     "output_type": "stream",
     "text": [
      "epoch:0 train loss:0.6913043856620789 test loss:0.23320379853248596\n",
      "epoch:10 train loss:0.19915558397769928 test loss:0.2579345405101776\n",
      "epoch:20 train loss:0.08473359793424606 test loss:0.28876084089279175\n",
      "epoch:30 train loss:0.044924747198820114 test loss:0.3113810122013092\n",
      "epoch:40 train loss:0.030235448852181435 test loss:0.3316970765590668\n",
      "epoch:50 train loss:0.022224564105272293 test loss:0.3577284812927246\n",
      "epoch:60 train loss:0.01677120476961136 test loss:0.3829180896282196\n",
      "epoch:70 train loss:0.013920141384005547 test loss:0.41602835059165955\n",
      "epoch:80 train loss:0.01178759429603815 test loss:0.4356611371040344\n",
      "epoch:90 train loss:0.010246421210467815 test loss:0.45194557309150696\n",
      "\n"
     ]
    },
    {
     "data": {
      "image/png": "[encoded data removed]",
      "text/plain": [
       "<Figure size 432x288 with 1 Axes>"
      ]
     },
     "metadata": {
      "needs_background": "light"
     },
     "output_type": "display_data"
    }
   ],
   "source": [
    "loss_history = {'train':[],'test':[]}\n",
    "for epoch in tqdm(range(100)):\n",
    "    # train step\n",
    "    train_pred,train_loss = step(train_idx,x_train,y_train,rnn,mode='train')\n",
    "    loss_history['train'].append(np.sum(list(train_loss.values())))\n",
    "    # test step\n",
    "    test_pred,test_loss = step(test_idx,x_test,y_test,rnn,mode='eval')\n",
    "    loss_history['test'].append(np.sum(list(test_loss.values())))\n",
    "    # print information\n",
    "    if epoch % 10 == 0:\n",
    "        a = epoch\n",
    "        b = loss_history['train'][-1]\n",
    "        c = loss_history['test'][-1]\n",
    "        print(f'epoch:{a} train loss:{b} test loss:{c}')\n",
    "# plot loss_history\n",
    "plt.plot(loss_history['train'],label='train')\n",
    "plt.plot(loss_history['test'],label='test')\n",
    "plt.show()"
   ]
  },
  {
   "cell_type": "markdown",
   "metadata": {},
   "source": [
    "# metrics"
   ]
  },
  {
   "cell_type": "code",
   "execution_count": 256,
   "metadata": {},
   "outputs": [],
   "source": [
    "def metrics(pred_dict,test_data,idx_list):\n",
    "    a,b = [],[]\n",
    "    ground_true = dict(zip(idx_list,test_data.loc[idx_list,'chid'].progress_apply(chid2answer).values.tolist()))\n",
    "    for y_pred,y_true in tqdm(zip(pred_dict.values(),ground_true.values())):\n",
    "        a.append(y_pred),b.append(y_true)\n",
    "    a,b = pd.DataFrame(a).values,pd.DataFrame(b).values\n",
    "    return np.equal(a,b).sum()/(a.shape[0]*a.shape[1])"
   ]
  },
  {
   "cell_type": "code",
   "execution_count": 257,
   "metadata": {},
   "outputs": [
    {
     "name": "stderr",
     "output_type": "stream",
     "text": [
      "100%|██████████| 152/152 [00:02<00:00, 52.67it/s]\n"
     ]
    },
    {
     "data": {
      "application/vnd.jupyter.widget-view+json": {
       "model_id": "0d1b72630dab4bc293ae8e096e709838",
       "version_major": 2,
       "version_minor": 0
      },
      "text/plain": [
       "HBox(children=(FloatProgress(value=1.0, bar_style='info', max=1.0), HTML(value='')))"
      ]
     },
     "metadata": {},
     "output_type": "display_data"
    },
    {
     "name": "stderr",
     "output_type": "stream",
     "text": [
      " 16%|█▌        | 6/38 [00:00<00:00, 58.41it/s]"
     ]
    },
    {
     "name": "stdout",
     "output_type": "stream",
     "text": [
      "\n",
      "訓練集正確率: 0.7828947368421053\n"
     ]
    },
    {
     "name": "stderr",
     "output_type": "stream",
     "text": [
      "100%|██████████| 38/38 [00:00<00:00, 52.50it/s]\n"
     ]
    },
    {
     "data": {
      "application/vnd.jupyter.widget-view+json": {
       "model_id": "cab0c93724b242d08171fbb35c0e3316",
       "version_major": 2,
       "version_minor": 0
      },
      "text/plain": [
       "HBox(children=(FloatProgress(value=1.0, bar_style='info', max=1.0), HTML(value='')))"
      ]
     },
     "metadata": {},
     "output_type": "display_data"
    },
    {
     "name": "stdout",
     "output_type": "stream",
     "text": [
      "\n",
      "測試集正確率: 0.14035087719298245\n"
     ]
    }
   ],
   "source": [
    "print('訓練集正確率:',metrics(train_pred,test_data,[idx_list[i] for i in train_idx]))\n",
    "print('測試集正確率:',metrics(test_pred,test_data,[idx_list[i] for i in test_idx]))"
   ]
  },
  {
   "cell_type": "code",
   "execution_count": null,
   "metadata": {},
   "outputs": [],
   "source": []
  }
 ],
 "metadata": {
  "interpreter": {
   "hash": "2ccee5cc862501c1aad1cf19888c2a2eca4026b72d187db43d5e889cbdc6ee97"
  },
  "kernelspec": {
   "display_name": "Python 3.8.5 64-bit ('base': conda)",
   "language": "python",
   "name": "python3"
  },
  "language_info": {
   "codemirror_mode": {
    "name": "ipython",
    "version": 3
   },
   "file_extension": ".py",
   "mimetype": "text/x-python",
   "name": "python",
   "nbconvert_exporter": "python",
   "pygments_lexer": "ipython3",
   "version": "3.8.5"
  },
  "orig_nbformat": 4
 },
 "nbformat": 4,
 "nbformat_minor": 2
}
