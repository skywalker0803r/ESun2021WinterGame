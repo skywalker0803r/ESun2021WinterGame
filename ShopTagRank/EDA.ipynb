{
 "cells": [
  {
   "cell_type": "code",
   "execution_count": 1,
   "metadata": {
    "executionInfo": {
     "elapsed": 2030,
     "status": "ok",
     "timestamp": 1635324749673,
     "user": {
      "displayName": "劉書廷",
      "photoUrl": "https://lh3.googleusercontent.com/a/default-user=s64",
      "userId": "10960942539894280548"
     },
     "user_tz": -480
    },
    "id": "oE4cNTCg7EvZ"
   },
   "outputs": [],
   "source": [
    "from datetime import datetime\n",
    "import matplotlib.pyplot as plt\n",
    "import numpy as np\n",
    "import pandas as pd\n",
    "import plotly.express as px\n",
    "import seaborn as sns\n",
    "from tqdm import tqdm\n",
    "pd.set_option('display.max_columns', 55)\n",
    "pd.set_option('display.max_rows', 70)"
   ]
  },
  {
   "cell_type": "code",
   "execution_count": 2,
   "metadata": {
    "id": "W6uW9jXD8Y5p"
   },
   "outputs": [],
   "source": [
    "df = pd.read_feather('../data/data.feather')"
   ]
  },
  {
   "cell_type": "code",
   "execution_count": 3,
   "metadata": {
    "id": "b9Wi6a4o8iT0"
   },
   "outputs": [
    {
     "data": {
      "text/html": [
       "<div>\n",
       "<style scoped>\n",
       "    .dataframe tbody tr th:only-of-type {\n",
       "        vertical-align: middle;\n",
       "    }\n",
       "\n",
       "    .dataframe tbody tr th {\n",
       "        vertical-align: top;\n",
       "    }\n",
       "\n",
       "    .dataframe thead th {\n",
       "        text-align: right;\n",
       "    }\n",
       "</style>\n",
       "<table border=\"1\" class=\"dataframe\">\n",
       "  <thead>\n",
       "    <tr style=\"text-align: right;\">\n",
       "      <th></th>\n",
       "      <th>dt</th>\n",
       "      <th>chid</th>\n",
       "      <th>shop_tag</th>\n",
       "      <th>txn_cnt</th>\n",
       "      <th>txn_amt</th>\n",
       "      <th>domestic_offline_cnt</th>\n",
       "      <th>domestic_online_cnt</th>\n",
       "      <th>overseas_offline_cnt</th>\n",
       "      <th>overseas_online_cnt</th>\n",
       "      <th>domestic_offline_amt_pct</th>\n",
       "      <th>domestic_online_amt_pct</th>\n",
       "      <th>overseas_offline_amt_pct</th>\n",
       "      <th>overseas_online_amt_pct</th>\n",
       "      <th>card_1_txn_cnt</th>\n",
       "      <th>card_2_txn_cnt</th>\n",
       "      <th>card_3_txn_cnt</th>\n",
       "      <th>card_4_txn_cnt</th>\n",
       "      <th>card_5_txn_cnt</th>\n",
       "      <th>card_6_txn_cnt</th>\n",
       "      <th>card_7_txn_cnt</th>\n",
       "      <th>card_8_txn_cnt</th>\n",
       "      <th>card_9_txn_cnt</th>\n",
       "      <th>card_10_txn_cnt</th>\n",
       "      <th>card_11_txn_cnt</th>\n",
       "      <th>card_12_txn_cnt</th>\n",
       "      <th>card_13_txn_cnt</th>\n",
       "      <th>card_14_txn_cnt</th>\n",
       "      <th>card_other_txn_cnt</th>\n",
       "      <th>card_1_txn_amt_pct</th>\n",
       "      <th>card_2_txn_amt_pct</th>\n",
       "      <th>card_3_txn_amt_pct</th>\n",
       "      <th>card_4_txn_amt_pct</th>\n",
       "      <th>card_5_txn_amt_pct</th>\n",
       "      <th>card_6_txn_amt_pct</th>\n",
       "      <th>card_7_txn_amt_pct</th>\n",
       "      <th>card_8_txn_amt_pct</th>\n",
       "      <th>card_9_txn_amt_pct</th>\n",
       "      <th>card_10_txn_amt_pct</th>\n",
       "      <th>card_11_txn_amt_pct</th>\n",
       "      <th>card_12_txn_amt_pct</th>\n",
       "      <th>card_13_txn_amt_pct</th>\n",
       "      <th>card_14_txn_amt_pct</th>\n",
       "      <th>card_other_txn_amt_pct</th>\n",
       "      <th>masts</th>\n",
       "      <th>educd</th>\n",
       "      <th>trdtp</th>\n",
       "      <th>naty</th>\n",
       "      <th>poscd</th>\n",
       "      <th>cuorg</th>\n",
       "      <th>slam</th>\n",
       "      <th>gender_code</th>\n",
       "      <th>age</th>\n",
       "      <th>primary_card</th>\n",
       "    </tr>\n",
       "  </thead>\n",
       "  <tbody>\n",
       "    <tr>\n",
       "      <th>0</th>\n",
       "      <td>1.0</td>\n",
       "      <td>10321418.0</td>\n",
       "      <td>45</td>\n",
       "      <td>3.0</td>\n",
       "      <td>3891.965283</td>\n",
       "      <td>3.0</td>\n",
       "      <td>0.0</td>\n",
       "      <td>0.0</td>\n",
       "      <td>0.0</td>\n",
       "      <td>1.00</td>\n",
       "      <td>0.00</td>\n",
       "      <td>0.0</td>\n",
       "      <td>0.0</td>\n",
       "      <td>0.0</td>\n",
       "      <td>0.0</td>\n",
       "      <td>0.0</td>\n",
       "      <td>3.0</td>\n",
       "      <td>0.0</td>\n",
       "      <td>0.0</td>\n",
       "      <td>0.0</td>\n",
       "      <td>0.0</td>\n",
       "      <td>0.0</td>\n",
       "      <td>0.0</td>\n",
       "      <td>0.0</td>\n",
       "      <td>0.0</td>\n",
       "      <td>0.0</td>\n",
       "      <td>0.0</td>\n",
       "      <td>0.0</td>\n",
       "      <td>0.0</td>\n",
       "      <td>0.0</td>\n",
       "      <td>0.0</td>\n",
       "      <td>1.0</td>\n",
       "      <td>0.0</td>\n",
       "      <td>0.0</td>\n",
       "      <td>0.0</td>\n",
       "      <td>0.0</td>\n",
       "      <td>0.0</td>\n",
       "      <td>0.0</td>\n",
       "      <td>0.0</td>\n",
       "      <td>0.0</td>\n",
       "      <td>0.0</td>\n",
       "      <td>0.0</td>\n",
       "      <td>0.0</td>\n",
       "      <td>1.0</td>\n",
       "      <td>4.0</td>\n",
       "      <td>5.0</td>\n",
       "      <td>1.0</td>\n",
       "      <td>99.0</td>\n",
       "      <td>30.0</td>\n",
       "      <td>95982.822967</td>\n",
       "      <td>1.0</td>\n",
       "      <td>4.0</td>\n",
       "      <td>1.0</td>\n",
       "    </tr>\n",
       "    <tr>\n",
       "      <th>1</th>\n",
       "      <td>1.0</td>\n",
       "      <td>10414574.0</td>\n",
       "      <td>15</td>\n",
       "      <td>2.0</td>\n",
       "      <td>10616.561549</td>\n",
       "      <td>2.0</td>\n",
       "      <td>0.0</td>\n",
       "      <td>0.0</td>\n",
       "      <td>0.0</td>\n",
       "      <td>1.00</td>\n",
       "      <td>0.00</td>\n",
       "      <td>0.0</td>\n",
       "      <td>0.0</td>\n",
       "      <td>0.0</td>\n",
       "      <td>0.0</td>\n",
       "      <td>0.0</td>\n",
       "      <td>0.0</td>\n",
       "      <td>0.0</td>\n",
       "      <td>0.0</td>\n",
       "      <td>0.0</td>\n",
       "      <td>2.0</td>\n",
       "      <td>0.0</td>\n",
       "      <td>0.0</td>\n",
       "      <td>0.0</td>\n",
       "      <td>0.0</td>\n",
       "      <td>0.0</td>\n",
       "      <td>0.0</td>\n",
       "      <td>0.0</td>\n",
       "      <td>0.0</td>\n",
       "      <td>0.0</td>\n",
       "      <td>0.0</td>\n",
       "      <td>0.0</td>\n",
       "      <td>0.0</td>\n",
       "      <td>0.0</td>\n",
       "      <td>0.0</td>\n",
       "      <td>1.0</td>\n",
       "      <td>0.0</td>\n",
       "      <td>0.0</td>\n",
       "      <td>0.0</td>\n",
       "      <td>0.0</td>\n",
       "      <td>0.0</td>\n",
       "      <td>0.0</td>\n",
       "      <td>0.0</td>\n",
       "      <td>2.0</td>\n",
       "      <td>2.0</td>\n",
       "      <td>15.0</td>\n",
       "      <td>1.0</td>\n",
       "      <td>2.0</td>\n",
       "      <td>30.0</td>\n",
       "      <td>130702.351368</td>\n",
       "      <td>1.0</td>\n",
       "      <td>3.0</td>\n",
       "      <td>1.0</td>\n",
       "    </tr>\n",
       "    <tr>\n",
       "      <th>2</th>\n",
       "      <td>1.0</td>\n",
       "      <td>10134567.0</td>\n",
       "      <td>48</td>\n",
       "      <td>2.0</td>\n",
       "      <td>23527.655416</td>\n",
       "      <td>0.0</td>\n",
       "      <td>2.0</td>\n",
       "      <td>0.0</td>\n",
       "      <td>0.0</td>\n",
       "      <td>0.00</td>\n",
       "      <td>1.00</td>\n",
       "      <td>0.0</td>\n",
       "      <td>0.0</td>\n",
       "      <td>0.0</td>\n",
       "      <td>2.0</td>\n",
       "      <td>0.0</td>\n",
       "      <td>0.0</td>\n",
       "      <td>0.0</td>\n",
       "      <td>0.0</td>\n",
       "      <td>0.0</td>\n",
       "      <td>0.0</td>\n",
       "      <td>0.0</td>\n",
       "      <td>0.0</td>\n",
       "      <td>0.0</td>\n",
       "      <td>0.0</td>\n",
       "      <td>0.0</td>\n",
       "      <td>0.0</td>\n",
       "      <td>0.0</td>\n",
       "      <td>0.0</td>\n",
       "      <td>1.0</td>\n",
       "      <td>0.0</td>\n",
       "      <td>0.0</td>\n",
       "      <td>0.0</td>\n",
       "      <td>0.0</td>\n",
       "      <td>0.0</td>\n",
       "      <td>0.0</td>\n",
       "      <td>0.0</td>\n",
       "      <td>0.0</td>\n",
       "      <td>0.0</td>\n",
       "      <td>0.0</td>\n",
       "      <td>0.0</td>\n",
       "      <td>0.0</td>\n",
       "      <td>0.0</td>\n",
       "      <td>1.0</td>\n",
       "      <td>3.0</td>\n",
       "      <td>11.0</td>\n",
       "      <td>1.0</td>\n",
       "      <td>3.0</td>\n",
       "      <td>30.0</td>\n",
       "      <td>112010.611717</td>\n",
       "      <td>0.0</td>\n",
       "      <td>4.0</td>\n",
       "      <td>1.0</td>\n",
       "    </tr>\n",
       "    <tr>\n",
       "      <th>3</th>\n",
       "      <td>1.0</td>\n",
       "      <td>10001003.0</td>\n",
       "      <td>48</td>\n",
       "      <td>9.0</td>\n",
       "      <td>17751.558260</td>\n",
       "      <td>7.0</td>\n",
       "      <td>2.0</td>\n",
       "      <td>0.0</td>\n",
       "      <td>0.0</td>\n",
       "      <td>0.75</td>\n",
       "      <td>0.25</td>\n",
       "      <td>0.0</td>\n",
       "      <td>0.0</td>\n",
       "      <td>0.0</td>\n",
       "      <td>9.0</td>\n",
       "      <td>0.0</td>\n",
       "      <td>0.0</td>\n",
       "      <td>0.0</td>\n",
       "      <td>0.0</td>\n",
       "      <td>0.0</td>\n",
       "      <td>0.0</td>\n",
       "      <td>0.0</td>\n",
       "      <td>0.0</td>\n",
       "      <td>0.0</td>\n",
       "      <td>0.0</td>\n",
       "      <td>0.0</td>\n",
       "      <td>0.0</td>\n",
       "      <td>0.0</td>\n",
       "      <td>0.0</td>\n",
       "      <td>1.0</td>\n",
       "      <td>0.0</td>\n",
       "      <td>0.0</td>\n",
       "      <td>0.0</td>\n",
       "      <td>0.0</td>\n",
       "      <td>0.0</td>\n",
       "      <td>0.0</td>\n",
       "      <td>0.0</td>\n",
       "      <td>0.0</td>\n",
       "      <td>0.0</td>\n",
       "      <td>0.0</td>\n",
       "      <td>0.0</td>\n",
       "      <td>0.0</td>\n",
       "      <td>0.0</td>\n",
       "      <td>2.0</td>\n",
       "      <td>3.0</td>\n",
       "      <td>11.0</td>\n",
       "      <td>1.0</td>\n",
       "      <td>2.0</td>\n",
       "      <td>30.0</td>\n",
       "      <td>59701.507360</td>\n",
       "      <td>0.0</td>\n",
       "      <td>3.0</td>\n",
       "      <td>1.0</td>\n",
       "    </tr>\n",
       "    <tr>\n",
       "      <th>4</th>\n",
       "      <td>1.0</td>\n",
       "      <td>10267183.0</td>\n",
       "      <td>2</td>\n",
       "      <td>1.0</td>\n",
       "      <td>21701.307598</td>\n",
       "      <td>1.0</td>\n",
       "      <td>0.0</td>\n",
       "      <td>0.0</td>\n",
       "      <td>0.0</td>\n",
       "      <td>1.00</td>\n",
       "      <td>0.00</td>\n",
       "      <td>0.0</td>\n",
       "      <td>0.0</td>\n",
       "      <td>0.0</td>\n",
       "      <td>0.0</td>\n",
       "      <td>0.0</td>\n",
       "      <td>1.0</td>\n",
       "      <td>0.0</td>\n",
       "      <td>0.0</td>\n",
       "      <td>0.0</td>\n",
       "      <td>0.0</td>\n",
       "      <td>0.0</td>\n",
       "      <td>0.0</td>\n",
       "      <td>0.0</td>\n",
       "      <td>0.0</td>\n",
       "      <td>0.0</td>\n",
       "      <td>0.0</td>\n",
       "      <td>0.0</td>\n",
       "      <td>0.0</td>\n",
       "      <td>0.0</td>\n",
       "      <td>0.0</td>\n",
       "      <td>1.0</td>\n",
       "      <td>0.0</td>\n",
       "      <td>0.0</td>\n",
       "      <td>0.0</td>\n",
       "      <td>0.0</td>\n",
       "      <td>0.0</td>\n",
       "      <td>0.0</td>\n",
       "      <td>0.0</td>\n",
       "      <td>0.0</td>\n",
       "      <td>0.0</td>\n",
       "      <td>0.0</td>\n",
       "      <td>0.0</td>\n",
       "      <td>2.0</td>\n",
       "      <td>6.0</td>\n",
       "      <td>15.0</td>\n",
       "      <td>1.0</td>\n",
       "      <td>99.0</td>\n",
       "      <td>30.0</td>\n",
       "      <td>NaN</td>\n",
       "      <td>0.0</td>\n",
       "      <td>6.0</td>\n",
       "      <td>0.0</td>\n",
       "    </tr>\n",
       "  </tbody>\n",
       "</table>\n",
       "</div>"
      ],
      "text/plain": [
       "    dt        chid shop_tag  txn_cnt       txn_amt  domestic_offline_cnt  \\\n",
       "0  1.0  10321418.0       45      3.0   3891.965283                   3.0   \n",
       "1  1.0  10414574.0       15      2.0  10616.561549                   2.0   \n",
       "2  1.0  10134567.0       48      2.0  23527.655416                   0.0   \n",
       "3  1.0  10001003.0       48      9.0  17751.558260                   7.0   \n",
       "4  1.0  10267183.0        2      1.0  21701.307598                   1.0   \n",
       "\n",
       "   domestic_online_cnt  overseas_offline_cnt  overseas_online_cnt  \\\n",
       "0                  0.0                   0.0                  0.0   \n",
       "1                  0.0                   0.0                  0.0   \n",
       "2                  2.0                   0.0                  0.0   \n",
       "3                  2.0                   0.0                  0.0   \n",
       "4                  0.0                   0.0                  0.0   \n",
       "\n",
       "   domestic_offline_amt_pct  domestic_online_amt_pct  \\\n",
       "0                      1.00                     0.00   \n",
       "1                      1.00                     0.00   \n",
       "2                      0.00                     1.00   \n",
       "3                      0.75                     0.25   \n",
       "4                      1.00                     0.00   \n",
       "\n",
       "   overseas_offline_amt_pct  overseas_online_amt_pct  card_1_txn_cnt  \\\n",
       "0                       0.0                      0.0             0.0   \n",
       "1                       0.0                      0.0             0.0   \n",
       "2                       0.0                      0.0             0.0   \n",
       "3                       0.0                      0.0             0.0   \n",
       "4                       0.0                      0.0             0.0   \n",
       "\n",
       "   card_2_txn_cnt  card_3_txn_cnt  card_4_txn_cnt  card_5_txn_cnt  \\\n",
       "0             0.0             0.0             3.0             0.0   \n",
       "1             0.0             0.0             0.0             0.0   \n",
       "2             2.0             0.0             0.0             0.0   \n",
       "3             9.0             0.0             0.0             0.0   \n",
       "4             0.0             0.0             1.0             0.0   \n",
       "\n",
       "   card_6_txn_cnt  card_7_txn_cnt  card_8_txn_cnt  card_9_txn_cnt  \\\n",
       "0             0.0             0.0             0.0             0.0   \n",
       "1             0.0             0.0             2.0             0.0   \n",
       "2             0.0             0.0             0.0             0.0   \n",
       "3             0.0             0.0             0.0             0.0   \n",
       "4             0.0             0.0             0.0             0.0   \n",
       "\n",
       "   card_10_txn_cnt  card_11_txn_cnt  card_12_txn_cnt  card_13_txn_cnt  \\\n",
       "0              0.0              0.0              0.0              0.0   \n",
       "1              0.0              0.0              0.0              0.0   \n",
       "2              0.0              0.0              0.0              0.0   \n",
       "3              0.0              0.0              0.0              0.0   \n",
       "4              0.0              0.0              0.0              0.0   \n",
       "\n",
       "   card_14_txn_cnt  card_other_txn_cnt  card_1_txn_amt_pct  \\\n",
       "0              0.0                 0.0                 0.0   \n",
       "1              0.0                 0.0                 0.0   \n",
       "2              0.0                 0.0                 0.0   \n",
       "3              0.0                 0.0                 0.0   \n",
       "4              0.0                 0.0                 0.0   \n",
       "\n",
       "   card_2_txn_amt_pct  card_3_txn_amt_pct  card_4_txn_amt_pct  \\\n",
       "0                 0.0                 0.0                 1.0   \n",
       "1                 0.0                 0.0                 0.0   \n",
       "2                 1.0                 0.0                 0.0   \n",
       "3                 1.0                 0.0                 0.0   \n",
       "4                 0.0                 0.0                 1.0   \n",
       "\n",
       "   card_5_txn_amt_pct  card_6_txn_amt_pct  card_7_txn_amt_pct  \\\n",
       "0                 0.0                 0.0                 0.0   \n",
       "1                 0.0                 0.0                 0.0   \n",
       "2                 0.0                 0.0                 0.0   \n",
       "3                 0.0                 0.0                 0.0   \n",
       "4                 0.0                 0.0                 0.0   \n",
       "\n",
       "   card_8_txn_amt_pct  card_9_txn_amt_pct  card_10_txn_amt_pct  \\\n",
       "0                 0.0                 0.0                  0.0   \n",
       "1                 1.0                 0.0                  0.0   \n",
       "2                 0.0                 0.0                  0.0   \n",
       "3                 0.0                 0.0                  0.0   \n",
       "4                 0.0                 0.0                  0.0   \n",
       "\n",
       "   card_11_txn_amt_pct  card_12_txn_amt_pct  card_13_txn_amt_pct  \\\n",
       "0                  0.0                  0.0                  0.0   \n",
       "1                  0.0                  0.0                  0.0   \n",
       "2                  0.0                  0.0                  0.0   \n",
       "3                  0.0                  0.0                  0.0   \n",
       "4                  0.0                  0.0                  0.0   \n",
       "\n",
       "   card_14_txn_amt_pct  card_other_txn_amt_pct  masts  educd  trdtp  naty  \\\n",
       "0                  0.0                     0.0    1.0    4.0    5.0   1.0   \n",
       "1                  0.0                     0.0    2.0    2.0   15.0   1.0   \n",
       "2                  0.0                     0.0    1.0    3.0   11.0   1.0   \n",
       "3                  0.0                     0.0    2.0    3.0   11.0   1.0   \n",
       "4                  0.0                     0.0    2.0    6.0   15.0   1.0   \n",
       "\n",
       "   poscd  cuorg           slam  gender_code  age  primary_card  \n",
       "0   99.0   30.0   95982.822967          1.0  4.0           1.0  \n",
       "1    2.0   30.0  130702.351368          1.0  3.0           1.0  \n",
       "2    3.0   30.0  112010.611717          0.0  4.0           1.0  \n",
       "3    2.0   30.0   59701.507360          0.0  3.0           1.0  \n",
       "4   99.0   30.0            NaN          0.0  6.0           0.0  "
      ]
     },
     "execution_count": 3,
     "metadata": {},
     "output_type": "execute_result"
    }
   ],
   "source": [
    "df.head()"
   ]
  },
  {
   "cell_type": "code",
   "execution_count": 4,
   "metadata": {},
   "outputs": [],
   "source": [
    "df['shop_tag'] = df['shop_tag'].replace('other','50')"
   ]
  },
  {
   "cell_type": "markdown",
   "metadata": {},
   "source": [
    "### Check the missing value"
   ]
  },
  {
   "cell_type": "code",
   "execution_count": 5,
   "metadata": {},
   "outputs": [
    {
     "name": "stdout",
     "output_type": "stream",
     "text": [
      "Wall time: 0 ns\n"
     ]
    }
   ],
   "source": [
    "%%time\n",
    "# Function to calculate missing values by column# Funct \n",
    "def missing_values_table(df):\n",
    "        # Total missing values\n",
    "        mis_val = df.isnull().sum()\n",
    "        \n",
    "        # Percentage of missing values\n",
    "        mis_val_percent = 100 * df.isnull().sum() / len(df)\n",
    "        \n",
    "        # Make a table with the results\n",
    "        mis_val_table = pd.concat([mis_val, mis_val_percent], axis=1)\n",
    "        \n",
    "        # Rename the columns\n",
    "        mis_val_table_ren_columns = mis_val_table.rename(\n",
    "        columns = {0 : 'Missing Values', 1 : '% of Total Values'})\n",
    "        \n",
    "        # Sort the table by percentage of missing descending\n",
    "        mis_val_table_ren_columns = mis_val_table_ren_columns[\n",
    "            mis_val_table_ren_columns.iloc[:,1] != 0].sort_values(\n",
    "        '% of Total Values', ascending=False).round(1)\n",
    "        \n",
    "        # Print some summary information\n",
    "        print (\"Your selected dataframe has \" + str(df.shape[1]) + \" columns.\\n\"      \n",
    "            \"There are \" + str(mis_val_table_ren_columns.shape[0]) +\n",
    "              \" columns that have missing values.\")\n",
    "        \n",
    "        # Return the dataframe with missing information\n",
    "        return mis_val_table_ren_columns\n",
    "# display(missing_values_table(df))"
   ]
  },
  {
   "cell_type": "markdown",
   "metadata": {},
   "source": [
    "### Check all variable"
   ]
  },
  {
   "cell_type": "code",
   "execution_count": 6,
   "metadata": {},
   "outputs": [
    {
     "name": "stdout",
     "output_type": "stream",
     "text": [
      "Wall time: 0 ns\n"
     ]
    }
   ],
   "source": [
    "%%time\n",
    "# df.describe()"
   ]
  },
  {
   "cell_type": "markdown",
   "metadata": {},
   "source": [
    "### Check \"chid\" in train data and submission file"
   ]
  },
  {
   "cell_type": "code",
   "execution_count": 7,
   "metadata": {},
   "outputs": [],
   "source": [
    "submission_df = pd.read_csv('../data/需預測的顧客名單及提交檔案範例.csv')"
   ]
  },
  {
   "cell_type": "code",
   "execution_count": 8,
   "metadata": {},
   "outputs": [
    {
     "data": {
      "text/html": [
       "<div>\n",
       "<style scoped>\n",
       "    .dataframe tbody tr th:only-of-type {\n",
       "        vertical-align: middle;\n",
       "    }\n",
       "\n",
       "    .dataframe tbody tr th {\n",
       "        vertical-align: top;\n",
       "    }\n",
       "\n",
       "    .dataframe thead th {\n",
       "        text-align: right;\n",
       "    }\n",
       "</style>\n",
       "<table border=\"1\" class=\"dataframe\">\n",
       "  <thead>\n",
       "    <tr style=\"text-align: right;\">\n",
       "      <th></th>\n",
       "      <th>chid</th>\n",
       "      <th>top1</th>\n",
       "      <th>top2</th>\n",
       "      <th>top3</th>\n",
       "    </tr>\n",
       "  </thead>\n",
       "  <tbody>\n",
       "    <tr>\n",
       "      <th>0</th>\n",
       "      <td>10128239</td>\n",
       "      <td>18</td>\n",
       "      <td>10</td>\n",
       "      <td>6</td>\n",
       "    </tr>\n",
       "    <tr>\n",
       "      <th>1</th>\n",
       "      <td>10077943</td>\n",
       "      <td>48</td>\n",
       "      <td>22</td>\n",
       "      <td>6</td>\n",
       "    </tr>\n",
       "    <tr>\n",
       "      <th>2</th>\n",
       "      <td>10277876</td>\n",
       "      <td>22</td>\n",
       "      <td>10</td>\n",
       "      <td>39</td>\n",
       "    </tr>\n",
       "    <tr>\n",
       "      <th>3</th>\n",
       "      <td>10364842</td>\n",
       "      <td>37</td>\n",
       "      <td>19</td>\n",
       "      <td>13</td>\n",
       "    </tr>\n",
       "    <tr>\n",
       "      <th>4</th>\n",
       "      <td>10392717</td>\n",
       "      <td>2</td>\n",
       "      <td>36</td>\n",
       "      <td>26</td>\n",
       "    </tr>\n",
       "    <tr>\n",
       "      <th>...</th>\n",
       "      <td>...</td>\n",
       "      <td>...</td>\n",
       "      <td>...</td>\n",
       "      <td>...</td>\n",
       "    </tr>\n",
       "    <tr>\n",
       "      <th>499995</th>\n",
       "      <td>10433239</td>\n",
       "      <td>18</td>\n",
       "      <td>48</td>\n",
       "      <td>25</td>\n",
       "    </tr>\n",
       "    <tr>\n",
       "      <th>499996</th>\n",
       "      <td>10235119</td>\n",
       "      <td>6</td>\n",
       "      <td>36</td>\n",
       "      <td>12</td>\n",
       "    </tr>\n",
       "    <tr>\n",
       "      <th>499997</th>\n",
       "      <td>10267595</td>\n",
       "      <td>21</td>\n",
       "      <td>26</td>\n",
       "      <td>15</td>\n",
       "    </tr>\n",
       "    <tr>\n",
       "      <th>499998</th>\n",
       "      <td>10160606</td>\n",
       "      <td>39</td>\n",
       "      <td>15</td>\n",
       "      <td>13</td>\n",
       "    </tr>\n",
       "    <tr>\n",
       "      <th>499999</th>\n",
       "      <td>10141759</td>\n",
       "      <td>13</td>\n",
       "      <td>12</td>\n",
       "      <td>19</td>\n",
       "    </tr>\n",
       "  </tbody>\n",
       "</table>\n",
       "<p>500000 rows × 4 columns</p>\n",
       "</div>"
      ],
      "text/plain": [
       "            chid  top1  top2  top3\n",
       "0       10128239    18    10     6\n",
       "1       10077943    48    22     6\n",
       "2       10277876    22    10    39\n",
       "3       10364842    37    19    13\n",
       "4       10392717     2    36    26\n",
       "...          ...   ...   ...   ...\n",
       "499995  10433239    18    48    25\n",
       "499996  10235119     6    36    12\n",
       "499997  10267595    21    26    15\n",
       "499998  10160606    39    15    13\n",
       "499999  10141759    13    12    19\n",
       "\n",
       "[500000 rows x 4 columns]"
      ]
     },
     "execution_count": 8,
     "metadata": {},
     "output_type": "execute_result"
    }
   ],
   "source": [
    "submission_df"
   ]
  },
  {
   "cell_type": "code",
   "execution_count": 9,
   "metadata": {},
   "outputs": [
    {
     "name": "stdout",
     "output_type": "stream",
     "text": [
      "Amount of unique chid in train set:  500001 \n",
      "Amount of unique chid in submission set:  500000\n"
     ]
    }
   ],
   "source": [
    "train_chid = df['chid'].unique()\n",
    "submission_chid = submission_df['chid'].unique()\n",
    "print('Amount of unique chid in train set: ', len(train_chid), '\\nAmount of unique chid in submission set: ', len(submission_chid))\n",
    "# set(train_chid).intersection(set(submission_chid))"
   ]
  },
  {
   "cell_type": "code",
   "execution_count": 10,
   "metadata": {},
   "outputs": [
    {
     "name": "stderr",
     "output_type": "stream",
     "text": [
      "IOPub data rate exceeded.\n",
      "The notebook server will temporarily stop sending output\n",
      "to the client in order to avoid crashing it.\n",
      "To change this limit, set the config variable\n",
      "`--NotebookApp.iopub_data_rate_limit`.\n",
      "\n",
      "Current values:\n",
      "NotebookApp.iopub_data_rate_limit=1000000.0 (bytes/sec)\n",
      "NotebookApp.rate_limit_window=3.0 (secs)\n",
      "\n"
     ]
    }
   ],
   "source": [
    "print('Union of chid in train and submission df', set(train_chid).union(set(submission_chid)))"
   ]
  },
  {
   "cell_type": "code",
   "execution_count": 11,
   "metadata": {},
   "outputs": [
    {
     "name": "stdout",
     "output_type": "stream",
     "text": [
      "chid in train df, not in submission df {nan}\n"
     ]
    }
   ],
   "source": [
    "print('chid in train df, not in submission df', set(train_chid).difference(set(submission_chid)))"
   ]
  },
  {
   "cell_type": "code",
   "execution_count": 12,
   "metadata": {},
   "outputs": [
    {
     "data": {
      "text/plain": [
       "nan"
      ]
     },
     "execution_count": 12,
     "metadata": {},
     "output_type": "execute_result"
    }
   ],
   "source": [
    "chid_list = list(df['chid'].unique())\n",
    "chid_list.pop(-1)"
   ]
  },
  {
   "cell_type": "code",
   "execution_count": 13,
   "metadata": {
    "scrolled": true
   },
   "outputs": [
    {
     "name": "stdout",
     "output_type": "stream",
     "text": [
      "Wall time: 1.72 s\n"
     ]
    }
   ],
   "source": [
    "%%time\n",
    "k = chid_list[381600]\n",
    "dt_sample_df = pd.DataFrame(index=np.arange(1.0, 25.0, 1).tolist())\n",
    "test_df = df[df['chid'] == k]\n",
    "pivot_df_T = dt_sample_df.join(test_df.pivot(index='dt', columns='shop_tag', values='txn_amt').fillna(0)).T\n",
    "dt_df = pd.DataFrame(index=pivot_df_T.index)\n",
    "column_list = pivot_df_T.columns.tolist()\n",
    "dt_df = pivot_df_T.apply(lambda row: row.rank(method='max') + 50 - pivot_df_T.shape[0]).apply(lambda row: row.replace(row.min(), 1))\n",
    "\n",
    "shop_tag_rank = dt_df.T\n",
    "shop_tag_rank.columns = [\"shop_tag_\" + i + \"_rank\" for i in shop_tag_rank.columns.tolist()]\n",
    "\n",
    "output = shop_tag_rank\n",
    "for j in np.r_[1:12]:\n",
    "    temp_shop_tag_rank = shop_tag_rank.shift(periods =j)\n",
    "    temp_shop_tag_rank.columns = [str(i) + \"_t-\" + str(j) for i in shop_tag_rank.columns.tolist()]\n",
    "\n",
    "    output = pd.concat([output, temp_shop_tag_rank], axis=1)\n",
    "\n",
    "top5_shop_tag = pd.DataFrame()\n",
    "for i in range(len(column_list)):\n",
    "    sort_index = np.argsort(pivot_df_T[column_list[i]].values.tolist())\n",
    "    for j in np.r_[1:6]:\n",
    "        try:\n",
    "            if pivot_df_T.loc[:, column_list[i]][sort_index[-j]] == 0:\n",
    "                top5_shop_tag.loc[column_list[i], 'top'+ str(j)] = pivot_df_T.index[sort_index[-j+1]]\n",
    "            elif np.isnan(pivot_df_T.loc[:, column_list[i]][sort_index[-j]]):\n",
    "                top5_shop_tag.loc[column_list[i], 'top'+ str(j)] = 0\n",
    "            else:\n",
    "                top5_shop_tag.loc[column_list[i], 'top'+ str(j)] = pivot_df_T.index[sort_index[-j]]\n",
    "        except BaseException as e:\n",
    "            print('k = ', k, '\\nErrorMessage: ',e)\n",
    "\n",
    "top5_shop_tag.index = output.index\n",
    "output = pd.concat([output, top5_shop_tag], axis=1)\n",
    "        \n",
    "output['chid'] = k\n",
    "for i in ['masts', 'educd', 'trdtp', 'naty', 'poscd', 'cuorg', 'slam', 'gender_code', 'age', 'primary_card']:\n",
    "    output[i] = df[df['chid'] == k].loc[:,i].values[0]\n",
    "output = output.reset_index().rename(columns={'index': 'dt'})"
   ]
  },
  {
   "cell_type": "code",
   "execution_count": 14,
   "metadata": {},
   "outputs": [
    {
     "name": "stderr",
     "output_type": "stream",
     "text": [
      "\r",
      "  0%|                                                                                          | 0/400 [00:00<?, ?it/s]"
     ]
    },
    {
     "name": "stdout",
     "output_type": "stream",
     "text": [
      "k =  10060916.0 \n",
      "ErrorMessage:  index -4 is out of bounds for axis 0 with size 3\n",
      "k =  10060916.0 \n",
      "ErrorMessage:  index -5 is out of bounds for axis 0 with size 3\n",
      "k =  10060916.0 \n",
      "ErrorMessage:  index -4 is out of bounds for axis 0 with size 3\n",
      "k =  10060916.0 \n",
      "ErrorMessage:  index -5 is out of bounds for axis 0 with size 3\n",
      "k =  10060916.0 \n",
      "ErrorMessage:  index -4 is out of bounds for axis 0 with size 3\n",
      "k =  10060916.0 \n",
      "ErrorMessage:  index -5 is out of bounds for axis 0 with size 3\n",
      "k =  10060916.0 \n",
      "ErrorMessage:  index -4 is out of bounds for axis 0 with size 3\n",
      "k =  10060916.0 \n",
      "ErrorMessage:  index -5 is out of bounds for axis 0 with size 3\n",
      "k =  10060916.0 \n",
      "ErrorMessage:  index -4 is out of bounds for axis 0 with size 3\n",
      "k =  10060916.0 \n",
      "ErrorMessage:  index -5 is out of bounds for axis 0 with size 3\n",
      "k =  10060916.0 \n",
      "ErrorMessage:  index -4 is out of bounds for axis 0 with size 3\n",
      "k =  10060916.0 \n",
      "ErrorMessage:  index -5 is out of bounds for axis 0 with size 3\n",
      "k =  10060916.0 \n",
      "ErrorMessage:  index -4 is out of bounds for axis 0 with size 3\n",
      "k =  10060916.0 \n",
      "ErrorMessage:  index -5 is out of bounds for axis 0 with size 3\n",
      "k =  10060916.0 \n",
      "ErrorMessage:  index -4 is out of bounds for axis 0 with size 3\n",
      "k =  10060916.0 \n",
      "ErrorMessage:  index -5 is out of bounds for axis 0 with size 3\n",
      "k =  10060916.0 \n",
      "ErrorMessage:  index -4 is out of bounds for axis 0 with size 3\n",
      "k =  10060916.0 \n",
      "ErrorMessage:  index -5 is out of bounds for axis 0 with size 3\n",
      "k =  10060916.0 \n",
      "ErrorMessage:  index -4 is out of bounds for axis 0 with size 3\n",
      "k =  10060916.0 \n",
      "ErrorMessage:  index -5 is out of bounds for axis 0 with size 3\n",
      "k =  10060916.0 \n",
      "ErrorMessage:  index -4 is out of bounds for axis 0 with size 3\n",
      "k =  10060916.0 \n",
      "ErrorMessage:  index -5 is out of bounds for axis 0 with size 3\n",
      "k =  10060916.0 \n",
      "ErrorMessage:  index -4 is out of bounds for axis 0 with size 3\n",
      "k =  10060916.0 \n",
      "ErrorMessage:  index -5 is out of bounds for axis 0 with size 3\n",
      "k =  10060916.0 \n",
      "ErrorMessage:  index -4 is out of bounds for axis 0 with size 3\n",
      "k =  10060916.0 \n",
      "ErrorMessage:  index -5 is out of bounds for axis 0 with size 3\n",
      "k =  10060916.0 \n",
      "ErrorMessage:  index -4 is out of bounds for axis 0 with size 3\n",
      "k =  10060916.0 \n",
      "ErrorMessage:  index -5 is out of bounds for axis 0 with size 3\n",
      "k =  10060916.0 \n",
      "ErrorMessage:  index -4 is out of bounds for axis 0 with size 3\n",
      "k =  10060916.0 \n",
      "ErrorMessage:  index -5 is out of bounds for axis 0 with size 3\n",
      "k =  10060916.0 \n",
      "ErrorMessage:  index -4 is out of bounds for axis 0 with size 3\n",
      "k =  10060916.0 \n",
      "ErrorMessage:  index -5 is out of bounds for axis 0 with size 3\n",
      "k =  10060916.0 \n",
      "ErrorMessage:  index -4 is out of bounds for axis 0 with size 3\n",
      "k =  10060916.0 \n",
      "ErrorMessage:  index -5 is out of bounds for axis 0 with size 3\n",
      "k =  10060916.0 \n",
      "ErrorMessage:  index -4 is out of bounds for axis 0 with size 3\n",
      "k =  10060916.0 \n",
      "ErrorMessage:  index -5 is out of bounds for axis 0 with size 3\n",
      "k =  10060916.0 \n",
      "ErrorMessage:  index -4 is out of bounds for axis 0 with size 3\n",
      "k =  10060916.0 \n",
      "ErrorMessage:  index -5 is out of bounds for axis 0 with size 3\n",
      "k =  10060916.0 \n",
      "ErrorMessage:  index -4 is out of bounds for axis 0 with size 3\n",
      "k =  10060916.0 \n",
      "ErrorMessage:  index -5 is out of bounds for axis 0 with size 3\n",
      "k =  10060916.0 \n",
      "ErrorMessage:  index -4 is out of bounds for axis 0 with size 3\n",
      "k =  10060916.0 \n",
      "ErrorMessage:  index -5 is out of bounds for axis 0 with size 3\n",
      "k =  10060916.0 \n",
      "ErrorMessage:  index -4 is out of bounds for axis 0 with size 3\n",
      "k =  10060916.0 \n",
      "ErrorMessage:  index -5 is out of bounds for axis 0 with size 3\n",
      "k =  10060916.0 \n",
      "ErrorMessage:  index -4 is out of bounds for axis 0 with size 3\n",
      "k =  10060916.0 \n",
      "ErrorMessage:  index -5 is out of bounds for axis 0 with size 3\n",
      "k =  10060916.0 \n",
      "ErrorMessage:  index -4 is out of bounds for axis 0 with size 3\n",
      "k =  10060916.0 \n",
      "ErrorMessage:  index -5 is out of bounds for axis 0 with size 3\n"
     ]
    },
    {
     "name": "stderr",
     "output_type": "stream",
     "text": [
      "\r",
      "  0%|▏                                                                                 | 1/400 [00:01<07:35,  1.14s/it]"
     ]
    },
    {
     "name": "stdout",
     "output_type": "stream",
     "text": [
      "Shape of output:  (48, 245)\n"
     ]
    },
    {
     "name": "stderr",
     "output_type": "stream",
     "text": [
      "\r",
      "  0%|▍                                                                                 | 2/400 [00:02<07:22,  1.11s/it]"
     ]
    },
    {
     "name": "stdout",
     "output_type": "stream",
     "text": [
      "Shape of output:  (72, 281)\n",
      "k =  10353654.0 \n",
      "ErrorMessage:  index -3 is out of bounds for axis 0 with size 2\n",
      "k =  10353654.0 \n",
      "ErrorMessage:  index -4 is out of bounds for axis 0 with size 2\n",
      "k =  10353654.0 \n",
      "ErrorMessage:  index -5 is out of bounds for axis 0 with size 2\n",
      "k =  10353654.0 \n",
      "ErrorMessage:  index -3 is out of bounds for axis 0 with size 2\n",
      "k =  10353654.0 \n",
      "ErrorMessage:  index -4 is out of bounds for axis 0 with size 2\n",
      "k =  10353654.0 \n",
      "ErrorMessage:  index -5 is out of bounds for axis 0 with size 2\n",
      "k =  10353654.0 \n",
      "ErrorMessage:  index -3 is out of bounds for axis 0 with size 2\n",
      "k =  10353654.0 \n",
      "ErrorMessage:  index -4 is out of bounds for axis 0 with size 2\n",
      "k =  10353654.0 \n",
      "ErrorMessage:  index -5 is out of bounds for axis 0 with size 2\n",
      "k =  10353654.0 \n",
      "ErrorMessage:  index -3 is out of bounds for axis 0 with size 2\n",
      "k =  10353654.0 \n",
      "ErrorMessage:  index -4 is out of bounds for axis 0 with size 2\n",
      "k =  10353654.0 \n",
      "ErrorMessage:  index -5 is out of bounds for axis 0 with size 2\n",
      "k =  10353654.0 \n",
      "ErrorMessage:  index -3 is out of bounds for axis 0 with size 2\n",
      "k =  10353654.0 \n",
      "ErrorMessage:  index -4 is out of bounds for axis 0 with size 2\n",
      "k =  10353654.0 \n",
      "ErrorMessage:  index -5 is out of bounds for axis 0 with size 2\n",
      "k =  10353654.0 \n",
      "ErrorMessage:  index -3 is out of bounds for axis 0 with size 2\n",
      "k =  10353654.0 \n",
      "ErrorMessage:  index -4 is out of bounds for axis 0 with size 2\n",
      "k =  10353654.0 \n",
      "ErrorMessage:  index -5 is out of bounds for axis 0 with size 2\n",
      "k =  10353654.0 \n",
      "ErrorMessage:  index -3 is out of bounds for axis 0 with size 2\n",
      "k =  10353654.0 \n",
      "ErrorMessage:  index -4 is out of bounds for axis 0 with size 2\n",
      "k =  10353654.0 \n",
      "ErrorMessage:  index -5 is out of bounds for axis 0 with size 2\n",
      "k =  10353654.0 \n",
      "ErrorMessage:  index -3 is out of bounds for axis 0 with size 2\n",
      "k =  10353654.0 \n",
      "ErrorMessage:  index -4 is out of bounds for axis 0 with size 2\n",
      "k =  10353654.0 \n",
      "ErrorMessage:  index -5 is out of bounds for axis 0 with size 2\n",
      "k =  10353654.0 \n",
      "ErrorMessage:  index -3 is out of bounds for axis 0 with size 2\n",
      "k =  10353654.0 \n",
      "ErrorMessage:  index -4 is out of bounds for axis 0 with size 2\n",
      "k =  10353654.0 \n",
      "ErrorMessage:  index -5 is out of bounds for axis 0 with size 2\n",
      "k =  10353654.0 \n",
      "ErrorMessage:  index -3 is out of bounds for axis 0 with size 2\n",
      "k =  10353654.0 \n",
      "ErrorMessage:  index -4 is out of bounds for axis 0 with size 2\n",
      "k =  10353654.0 \n",
      "ErrorMessage:  index -5 is out of bounds for axis 0 with size 2\n",
      "k =  10353654.0 \n",
      "ErrorMessage:  index -3 is out of bounds for axis 0 with size 2\n",
      "k =  10353654.0 \n",
      "ErrorMessage:  index -4 is out of bounds for axis 0 with size 2\n",
      "k =  10353654.0 \n",
      "ErrorMessage:  index -5 is out of bounds for axis 0 with size 2\n",
      "k =  10353654.0 \n",
      "ErrorMessage:  index -3 is out of bounds for axis 0 with size 2\n",
      "k =  10353654.0 \n",
      "ErrorMessage:  index -4 is out of bounds for axis 0 with size 2\n",
      "k =  10353654.0 \n",
      "ErrorMessage:  index -5 is out of bounds for axis 0 with size 2\n",
      "k =  10353654.0 \n",
      "ErrorMessage:  index -3 is out of bounds for axis 0 with size 2\n",
      "k =  10353654.0 \n",
      "ErrorMessage:  index -4 is out of bounds for axis 0 with size 2\n",
      "k =  10353654.0 \n",
      "ErrorMessage:  index -5 is out of bounds for axis 0 with size 2\n",
      "k =  10353654.0 \n",
      "ErrorMessage:  index -3 is out of bounds for axis 0 with size 2\n",
      "k =  10353654.0 \n",
      "ErrorMessage:  index -4 is out of bounds for axis 0 with size 2\n",
      "k =  10353654.0 \n",
      "ErrorMessage:  index -5 is out of bounds for axis 0 with size 2\n",
      "k =  10353654.0 \n",
      "ErrorMessage:  index -3 is out of bounds for axis 0 with size 2\n",
      "k =  10353654.0 \n",
      "ErrorMessage:  index -4 is out of bounds for axis 0 with size 2\n",
      "k =  10353654.0 \n",
      "ErrorMessage:  index -5 is out of bounds for axis 0 with size 2\n",
      "k =  10353654.0 \n",
      "ErrorMessage:  index -3 is out of bounds for axis 0 with size 2\n",
      "k =  10353654.0 \n",
      "ErrorMessage:  index -4 is out of bounds for axis 0 with size 2\n",
      "k =  10353654.0 \n",
      "ErrorMessage:  index -5 is out of bounds for axis 0 with size 2\n",
      "k =  10353654.0 \n",
      "ErrorMessage:  index -3 is out of bounds for axis 0 with size 2\n",
      "k =  10353654.0 \n",
      "ErrorMessage:  index -4 is out of bounds for axis 0 with size 2\n",
      "k =  10353654.0 \n",
      "ErrorMessage:  index -5 is out of bounds for axis 0 with size 2\n",
      "k =  10353654.0 \n",
      "ErrorMessage:  index -3 is out of bounds for axis 0 with size 2\n",
      "k =  10353654.0 \n",
      "ErrorMessage:  index -4 is out of bounds for axis 0 with size 2\n",
      "k =  10353654.0 \n",
      "ErrorMessage:  index -5 is out of bounds for axis 0 with size 2\n",
      "k =  10353654.0 \n",
      "ErrorMessage:  index -3 is out of bounds for axis 0 with size 2\n",
      "k =  10353654.0 \n",
      "ErrorMessage:  index -4 is out of bounds for axis 0 with size 2\n",
      "k =  10353654.0 \n",
      "ErrorMessage:  index -5 is out of bounds for axis 0 with size 2\n",
      "k =  10353654.0 \n",
      "ErrorMessage:  index -3 is out of bounds for axis 0 with size 2\n",
      "k =  10353654.0 \n",
      "ErrorMessage:  index -4 is out of bounds for axis 0 with size 2\n",
      "k =  10353654.0 \n",
      "ErrorMessage:  index -5 is out of bounds for axis 0 with size 2\n",
      "k =  10353654.0 \n",
      "ErrorMessage:  index -3 is out of bounds for axis 0 with size 2\n",
      "k =  10353654.0 \n",
      "ErrorMessage:  index -4 is out of bounds for axis 0 with size 2\n",
      "k =  10353654.0 \n",
      "ErrorMessage:  index -5 is out of bounds for axis 0 with size 2\n",
      "k =  10353654.0 \n",
      "ErrorMessage:  index -3 is out of bounds for axis 0 with size 2\n",
      "k =  10353654.0 \n",
      "ErrorMessage:  index -4 is out of bounds for axis 0 with size 2\n",
      "k =  10353654.0 \n",
      "ErrorMessage:  index -5 is out of bounds for axis 0 with size 2\n",
      "k =  10353654.0 \n",
      "ErrorMessage:  index -3 is out of bounds for axis 0 with size 2\n",
      "k =  10353654.0 \n",
      "ErrorMessage:  index -4 is out of bounds for axis 0 with size 2\n",
      "k =  10353654.0 \n",
      "ErrorMessage:  index -5 is out of bounds for axis 0 with size 2\n",
      "k =  10353654.0 \n",
      "ErrorMessage:  index -3 is out of bounds for axis 0 with size 2\n",
      "k =  10353654.0 \n",
      "ErrorMessage:  index -4 is out of bounds for axis 0 with size 2\n",
      "k =  10353654.0 \n",
      "ErrorMessage:  index -5 is out of bounds for axis 0 with size 2\n"
     ]
    },
    {
     "name": "stderr",
     "output_type": "stream",
     "text": [
      "\r",
      "  1%|▌                                                                                 | 3/400 [00:03<06:59,  1.06s/it]"
     ]
    },
    {
     "name": "stdout",
     "output_type": "stream",
     "text": [
      "Shape of output:  (96, 281)\n"
     ]
    },
    {
     "name": "stderr",
     "output_type": "stream",
     "text": [
      "\r",
      "  1%|▊                                                                                 | 4/400 [00:04<06:40,  1.01s/it]"
     ]
    },
    {
     "name": "stdout",
     "output_type": "stream",
     "text": [
      "Shape of output:  (120, 293)\n"
     ]
    },
    {
     "name": "stderr",
     "output_type": "stream",
     "text": [
      "\r",
      "  1%|█                                                                                 | 5/400 [00:05<06:14,  1.06it/s]"
     ]
    },
    {
     "name": "stdout",
     "output_type": "stream",
     "text": [
      "Shape of output:  (144, 389)\n",
      "k =  10351235.0 \n",
      "ErrorMessage:  index -4 is out of bounds for axis 0 with size 3\n",
      "k =  10351235.0 \n",
      "ErrorMessage:  index -5 is out of bounds for axis 0 with size 3\n",
      "k =  10351235.0 \n",
      "ErrorMessage:  index -4 is out of bounds for axis 0 with size 3\n",
      "k =  10351235.0 \n",
      "ErrorMessage:  index -5 is out of bounds for axis 0 with size 3\n",
      "k =  10351235.0 \n",
      "ErrorMessage:  index -4 is out of bounds for axis 0 with size 3\n",
      "k =  10351235.0 \n",
      "ErrorMessage:  index -5 is out of bounds for axis 0 with size 3\n",
      "k =  10351235.0 \n",
      "ErrorMessage:  index -4 is out of bounds for axis 0 with size 3\n",
      "k =  10351235.0 \n",
      "ErrorMessage:  index -5 is out of bounds for axis 0 with size 3\n",
      "k =  10351235.0 \n",
      "ErrorMessage:  index -4 is out of bounds for axis 0 with size 3\n",
      "k =  10351235.0 \n",
      "ErrorMessage:  index -5 is out of bounds for axis 0 with size 3\n",
      "k =  10351235.0 \n",
      "ErrorMessage:  index -4 is out of bounds for axis 0 with size 3\n",
      "k =  10351235.0 \n",
      "ErrorMessage:  index -5 is out of bounds for axis 0 with size 3\n",
      "k =  10351235.0 \n",
      "ErrorMessage:  index -4 is out of bounds for axis 0 with size 3\n",
      "k =  10351235.0 \n",
      "ErrorMessage:  index -5 is out of bounds for axis 0 with size 3\n",
      "k =  10351235.0 \n",
      "ErrorMessage:  index -4 is out of bounds for axis 0 with size 3\n",
      "k =  10351235.0 \n",
      "ErrorMessage:  index -5 is out of bounds for axis 0 with size 3\n",
      "k =  10351235.0 \n",
      "ErrorMessage:  index -4 is out of bounds for axis 0 with size 3\n",
      "k =  10351235.0 \n",
      "ErrorMessage:  index -5 is out of bounds for axis 0 with size 3\n",
      "k =  10351235.0 \n",
      "ErrorMessage:  index -4 is out of bounds for axis 0 with size 3\n",
      "k =  10351235.0 \n",
      "ErrorMessage:  index -5 is out of bounds for axis 0 with size 3\n",
      "k =  10351235.0 \n",
      "ErrorMessage:  index -4 is out of bounds for axis 0 with size 3\n",
      "k =  10351235.0 \n",
      "ErrorMessage:  index -5 is out of bounds for axis 0 with size 3\n",
      "k =  10351235.0 \n",
      "ErrorMessage:  index -4 is out of bounds for axis 0 with size 3\n",
      "k =  10351235.0 \n",
      "ErrorMessage:  index -5 is out of bounds for axis 0 with size 3\n",
      "k =  10351235.0 \n",
      "ErrorMessage:  index -4 is out of bounds for axis 0 with size 3\n",
      "k =  10351235.0 \n",
      "ErrorMessage:  index -5 is out of bounds for axis 0 with size 3\n",
      "k =  10351235.0 \n",
      "ErrorMessage:  index -4 is out of bounds for axis 0 with size 3\n",
      "k =  10351235.0 \n",
      "ErrorMessage:  index -5 is out of bounds for axis 0 with size 3\n",
      "k =  10351235.0 \n",
      "ErrorMessage:  index -4 is out of bounds for axis 0 with size 3\n",
      "k =  10351235.0 \n",
      "ErrorMessage:  index -5 is out of bounds for axis 0 with size 3\n",
      "k =  10351235.0 \n",
      "ErrorMessage:  index -4 is out of bounds for axis 0 with size 3\n",
      "k =  10351235.0 \n",
      "ErrorMessage:  index -5 is out of bounds for axis 0 with size 3\n",
      "k =  10351235.0 \n",
      "ErrorMessage:  index -4 is out of bounds for axis 0 with size 3\n",
      "k =  10351235.0 \n",
      "ErrorMessage:  index -5 is out of bounds for axis 0 with size 3\n",
      "k =  10351235.0 \n",
      "ErrorMessage:  index -4 is out of bounds for axis 0 with size 3\n",
      "k =  10351235.0 \n",
      "ErrorMessage:  index -5 is out of bounds for axis 0 with size 3\n",
      "k =  10351235.0 \n",
      "ErrorMessage:  index -4 is out of bounds for axis 0 with size 3\n",
      "k =  10351235.0 \n",
      "ErrorMessage:  index -5 is out of bounds for axis 0 with size 3\n",
      "k =  10351235.0 \n",
      "ErrorMessage:  index -4 is out of bounds for axis 0 with size 3\n",
      "k =  10351235.0 \n",
      "ErrorMessage:  index -5 is out of bounds for axis 0 with size 3\n",
      "k =  10351235.0 \n",
      "ErrorMessage:  index -4 is out of bounds for axis 0 with size 3\n",
      "k =  10351235.0 \n",
      "ErrorMessage:  index -5 is out of bounds for axis 0 with size 3\n",
      "k =  10351235.0 \n",
      "ErrorMessage:  index -4 is out of bounds for axis 0 with size 3\n",
      "k =  10351235.0 \n",
      "ErrorMessage:  index -5 is out of bounds for axis 0 with size 3\n",
      "k =  10351235.0 \n",
      "ErrorMessage:  index -4 is out of bounds for axis 0 with size 3\n",
      "k =  10351235.0 \n",
      "ErrorMessage:  index -5 is out of bounds for axis 0 with size 3\n",
      "k =  10351235.0 \n",
      "ErrorMessage:  index -4 is out of bounds for axis 0 with size 3\n",
      "k =  10351235.0 \n",
      "ErrorMessage:  index -5 is out of bounds for axis 0 with size 3\n"
     ]
    },
    {
     "name": "stderr",
     "output_type": "stream",
     "text": [
      "\r",
      "  2%|█▏                                                                                | 6/400 [00:05<06:00,  1.09it/s]"
     ]
    },
    {
     "name": "stdout",
     "output_type": "stream",
     "text": [
      "Shape of output:  (168, 389)\n"
     ]
    },
    {
     "name": "stderr",
     "output_type": "stream",
     "text": [
      "\r",
      "  2%|█▍                                                                                | 7/400 [00:06<06:06,  1.07it/s]"
     ]
    },
    {
     "name": "stdout",
     "output_type": "stream",
     "text": [
      "Shape of output:  (192, 401)\n"
     ]
    },
    {
     "name": "stderr",
     "output_type": "stream",
     "text": [
      "\r",
      "  2%|█▋                                                                                | 8/400 [00:07<06:17,  1.04it/s]"
     ]
    },
    {
     "name": "stdout",
     "output_type": "stream",
     "text": [
      "Shape of output:  (216, 425)\n"
     ]
    },
    {
     "name": "stderr",
     "output_type": "stream",
     "text": [
      "\r",
      "  2%|█▊                                                                                | 9/400 [00:08<06:10,  1.05it/s]"
     ]
    },
    {
     "name": "stdout",
     "output_type": "stream",
     "text": [
      "Shape of output:  (240, 425)\n"
     ]
    },
    {
     "name": "stderr",
     "output_type": "stream",
     "text": [
      "\r",
      "  2%|██                                                                               | 10/400 [00:09<06:06,  1.06it/s]"
     ]
    },
    {
     "name": "stdout",
     "output_type": "stream",
     "text": [
      "Shape of output:  (264, 461)\n"
     ]
    },
    {
     "name": "stderr",
     "output_type": "stream",
     "text": [
      "\r",
      "  3%|██▏                                                                              | 11/400 [00:10<06:24,  1.01it/s]"
     ]
    },
    {
     "name": "stdout",
     "output_type": "stream",
     "text": [
      "Shape of output:  (288, 473)\n",
      "k =  10336936.0 \n",
      "ErrorMessage:  index -3 is out of bounds for axis 0 with size 2\n",
      "k =  10336936.0 \n",
      "ErrorMessage:  index -4 is out of bounds for axis 0 with size 2\n",
      "k =  10336936.0 \n",
      "ErrorMessage:  index -5 is out of bounds for axis 0 with size 2\n",
      "k =  10336936.0 \n",
      "ErrorMessage:  index -3 is out of bounds for axis 0 with size 2\n",
      "k =  10336936.0 \n",
      "ErrorMessage:  index -4 is out of bounds for axis 0 with size 2\n",
      "k =  10336936.0 \n",
      "ErrorMessage:  index -5 is out of bounds for axis 0 with size 2\n",
      "k =  10336936.0 \n",
      "ErrorMessage:  index -3 is out of bounds for axis 0 with size 2\n",
      "k =  10336936.0 \n",
      "ErrorMessage:  index -4 is out of bounds for axis 0 with size 2\n",
      "k =  10336936.0 \n",
      "ErrorMessage:  index -5 is out of bounds for axis 0 with size 2\n",
      "k =  10336936.0 \n",
      "ErrorMessage:  index -3 is out of bounds for axis 0 with size 2\n",
      "k =  10336936.0 \n",
      "ErrorMessage:  index -4 is out of bounds for axis 0 with size 2\n",
      "k =  10336936.0 \n",
      "ErrorMessage:  index -5 is out of bounds for axis 0 with size 2\n",
      "k =  10336936.0 \n",
      "ErrorMessage:  index -3 is out of bounds for axis 0 with size 2\n",
      "k =  10336936.0 \n",
      "ErrorMessage:  index -4 is out of bounds for axis 0 with size 2\n",
      "k =  10336936.0 \n",
      "ErrorMessage:  index -5 is out of bounds for axis 0 with size 2\n",
      "k =  10336936.0 \n",
      "ErrorMessage:  index -3 is out of bounds for axis 0 with size 2\n",
      "k =  10336936.0 \n",
      "ErrorMessage:  index -4 is out of bounds for axis 0 with size 2\n",
      "k =  10336936.0 \n",
      "ErrorMessage:  index -5 is out of bounds for axis 0 with size 2\n",
      "k =  10336936.0 \n",
      "ErrorMessage:  index -3 is out of bounds for axis 0 with size 2\n",
      "k =  10336936.0 \n",
      "ErrorMessage:  index -4 is out of bounds for axis 0 with size 2\n",
      "k =  10336936.0 \n",
      "ErrorMessage:  index -5 is out of bounds for axis 0 with size 2\n",
      "k =  10336936.0 \n",
      "ErrorMessage:  index -3 is out of bounds for axis 0 with size 2\n",
      "k =  10336936.0 \n",
      "ErrorMessage:  index -4 is out of bounds for axis 0 with size 2\n",
      "k =  10336936.0 \n",
      "ErrorMessage:  index -5 is out of bounds for axis 0 with size 2\n",
      "k =  10336936.0 \n",
      "ErrorMessage:  index -3 is out of bounds for axis 0 with size 2\n",
      "k =  10336936.0 \n",
      "ErrorMessage:  index -4 is out of bounds for axis 0 with size 2\n",
      "k =  10336936.0 \n",
      "ErrorMessage:  index -5 is out of bounds for axis 0 with size 2\n",
      "k =  10336936.0 \n",
      "ErrorMessage:  index -3 is out of bounds for axis 0 with size 2\n",
      "k =  10336936.0 \n",
      "ErrorMessage:  index -4 is out of bounds for axis 0 with size 2\n",
      "k =  10336936.0 \n",
      "ErrorMessage:  index -5 is out of bounds for axis 0 with size 2\n",
      "k =  10336936.0 \n",
      "ErrorMessage:  index -3 is out of bounds for axis 0 with size 2\n",
      "k =  10336936.0 \n",
      "ErrorMessage:  index -4 is out of bounds for axis 0 with size 2\n",
      "k =  10336936.0 \n",
      "ErrorMessage:  index -5 is out of bounds for axis 0 with size 2\n",
      "k =  10336936.0 \n",
      "ErrorMessage:  index -3 is out of bounds for axis 0 with size 2\n",
      "k =  10336936.0 \n",
      "ErrorMessage:  index -4 is out of bounds for axis 0 with size 2\n",
      "k =  10336936.0 \n",
      "ErrorMessage:  index -5 is out of bounds for axis 0 with size 2\n",
      "k =  10336936.0 \n",
      "ErrorMessage:  index -3 is out of bounds for axis 0 with size 2\n",
      "k =  10336936.0 \n",
      "ErrorMessage:  index -4 is out of bounds for axis 0 with size 2\n",
      "k =  10336936.0 \n",
      "ErrorMessage:  index -5 is out of bounds for axis 0 with size 2\n",
      "k =  10336936.0 \n",
      "ErrorMessage:  index -3 is out of bounds for axis 0 with size 2\n",
      "k =  10336936.0 \n",
      "ErrorMessage:  index -4 is out of bounds for axis 0 with size 2\n",
      "k =  10336936.0 \n",
      "ErrorMessage:  index -5 is out of bounds for axis 0 with size 2\n",
      "k =  10336936.0 \n",
      "ErrorMessage:  index -3 is out of bounds for axis 0 with size 2\n",
      "k =  10336936.0 \n",
      "ErrorMessage:  index -4 is out of bounds for axis 0 with size 2\n",
      "k =  10336936.0 \n",
      "ErrorMessage:  index -5 is out of bounds for axis 0 with size 2\n",
      "k =  10336936.0 \n",
      "ErrorMessage:  index -3 is out of bounds for axis 0 with size 2\n",
      "k =  10336936.0 \n",
      "ErrorMessage:  index -4 is out of bounds for axis 0 with size 2\n",
      "k =  10336936.0 \n",
      "ErrorMessage:  index -5 is out of bounds for axis 0 with size 2\n",
      "k =  10336936.0 \n",
      "ErrorMessage:  index -3 is out of bounds for axis 0 with size 2\n",
      "k =  10336936.0 \n",
      "ErrorMessage:  index -4 is out of bounds for axis 0 with size 2\n",
      "k =  10336936.0 \n",
      "ErrorMessage:  index -5 is out of bounds for axis 0 with size 2\n",
      "k =  10336936.0 \n",
      "ErrorMessage:  index -3 is out of bounds for axis 0 with size 2\n",
      "k =  10336936.0 \n",
      "ErrorMessage:  index -4 is out of bounds for axis 0 with size 2\n",
      "k =  10336936.0 \n",
      "ErrorMessage:  index -5 is out of bounds for axis 0 with size 2\n",
      "k =  10336936.0 \n",
      "ErrorMessage:  index -3 is out of bounds for axis 0 with size 2\n",
      "k =  10336936.0 \n",
      "ErrorMessage:  index -4 is out of bounds for axis 0 with size 2\n",
      "k =  10336936.0 \n",
      "ErrorMessage:  index -5 is out of bounds for axis 0 with size 2\n",
      "k =  10336936.0 \n",
      "ErrorMessage:  index -3 is out of bounds for axis 0 with size 2\n",
      "k =  10336936.0 \n",
      "ErrorMessage:  index -4 is out of bounds for axis 0 with size 2\n",
      "k =  10336936.0 \n",
      "ErrorMessage:  index -5 is out of bounds for axis 0 with size 2\n",
      "k =  10336936.0 \n",
      "ErrorMessage:  index -3 is out of bounds for axis 0 with size 2\n",
      "k =  10336936.0 \n",
      "ErrorMessage:  index -4 is out of bounds for axis 0 with size 2\n",
      "k =  10336936.0 \n",
      "ErrorMessage:  index -5 is out of bounds for axis 0 with size 2\n",
      "k =  10336936.0 \n",
      "ErrorMessage:  index -3 is out of bounds for axis 0 with size 2\n",
      "k =  10336936.0 \n",
      "ErrorMessage:  index -4 is out of bounds for axis 0 with size 2\n",
      "k =  10336936.0 \n",
      "ErrorMessage:  index -5 is out of bounds for axis 0 with size 2\n",
      "k =  10336936.0 \n",
      "ErrorMessage:  index -3 is out of bounds for axis 0 with size 2\n",
      "k =  10336936.0 \n",
      "ErrorMessage:  index -4 is out of bounds for axis 0 with size 2\n",
      "k =  10336936.0 \n",
      "ErrorMessage:  index -5 is out of bounds for axis 0 with size 2\n",
      "k =  10336936.0 \n",
      "ErrorMessage:  index -3 is out of bounds for axis 0 with size 2\n",
      "k =  10336936.0 \n",
      "ErrorMessage:  index -4 is out of bounds for axis 0 with size 2\n",
      "k =  10336936.0 \n",
      "ErrorMessage:  index -5 is out of bounds for axis 0 with size 2\n"
     ]
    },
    {
     "name": "stderr",
     "output_type": "stream",
     "text": [
      "\r",
      "  3%|██▍                                                                              | 12/400 [00:11<06:39,  1.03s/it]"
     ]
    },
    {
     "name": "stdout",
     "output_type": "stream",
     "text": [
      "Shape of output:  (312, 473)\n"
     ]
    },
    {
     "name": "stderr",
     "output_type": "stream",
     "text": [
      "\r",
      "  3%|██▋                                                                              | 13/400 [00:12<06:41,  1.04s/it]"
     ]
    },
    {
     "name": "stdout",
     "output_type": "stream",
     "text": [
      "Shape of output:  (336, 521)\n"
     ]
    },
    {
     "name": "stderr",
     "output_type": "stream",
     "text": [
      "\r",
      "  4%|██▊                                                                              | 14/400 [00:14<06:45,  1.05s/it]"
     ]
    },
    {
     "name": "stdout",
     "output_type": "stream",
     "text": [
      "Shape of output:  (360, 521)\n"
     ]
    },
    {
     "name": "stderr",
     "output_type": "stream",
     "text": [
      "\r",
      "  4%|███                                                                              | 15/400 [00:15<06:41,  1.04s/it]"
     ]
    },
    {
     "name": "stdout",
     "output_type": "stream",
     "text": [
      "Shape of output:  (384, 533)\n"
     ]
    },
    {
     "name": "stderr",
     "output_type": "stream",
     "text": [
      "\r",
      "  4%|███▏                                                                             | 16/400 [00:16<06:31,  1.02s/it]"
     ]
    },
    {
     "name": "stdout",
     "output_type": "stream",
     "text": [
      "Shape of output:  (408, 533)\n"
     ]
    },
    {
     "name": "stderr",
     "output_type": "stream",
     "text": [
      "\r",
      "  4%|███▍                                                                             | 17/400 [00:16<06:16,  1.02it/s]"
     ]
    },
    {
     "name": "stdout",
     "output_type": "stream",
     "text": [
      "Shape of output:  (432, 533)\n"
     ]
    },
    {
     "name": "stderr",
     "output_type": "stream",
     "text": [
      "\r",
      "  4%|███▋                                                                             | 18/400 [00:17<06:24,  1.01s/it]"
     ]
    },
    {
     "name": "stdout",
     "output_type": "stream",
     "text": [
      "Shape of output:  (456, 533)\n"
     ]
    },
    {
     "name": "stderr",
     "output_type": "stream",
     "text": [
      "\r",
      "  5%|███▊                                                                             | 19/400 [00:19<06:32,  1.03s/it]"
     ]
    },
    {
     "name": "stdout",
     "output_type": "stream",
     "text": [
      "Shape of output:  (480, 533)\n"
     ]
    },
    {
     "name": "stderr",
     "output_type": "stream",
     "text": [
      "\r",
      "  5%|████                                                                             | 20/400 [00:20<06:35,  1.04s/it]"
     ]
    },
    {
     "name": "stdout",
     "output_type": "stream",
     "text": [
      "Shape of output:  (504, 533)\n",
      "k =  10166955.0 \n",
      "ErrorMessage:  index -2 is out of bounds for axis 0 with size 1\n",
      "k =  10166955.0 \n",
      "ErrorMessage:  index -3 is out of bounds for axis 0 with size 1\n",
      "k =  10166955.0 \n",
      "ErrorMessage:  index -4 is out of bounds for axis 0 with size 1\n",
      "k =  10166955.0 \n",
      "ErrorMessage:  index -5 is out of bounds for axis 0 with size 1\n",
      "k =  10166955.0 \n",
      "ErrorMessage:  index -2 is out of bounds for axis 0 with size 1\n",
      "k =  10166955.0 \n",
      "ErrorMessage:  index -3 is out of bounds for axis 0 with size 1\n",
      "k =  10166955.0 \n",
      "ErrorMessage:  index -4 is out of bounds for axis 0 with size 1\n",
      "k =  10166955.0 \n",
      "ErrorMessage:  index -5 is out of bounds for axis 0 with size 1\n",
      "k =  10166955.0 \n",
      "ErrorMessage:  index -2 is out of bounds for axis 0 with size 1\n",
      "k =  10166955.0 \n",
      "ErrorMessage:  index -3 is out of bounds for axis 0 with size 1\n",
      "k =  10166955.0 \n",
      "ErrorMessage:  index -4 is out of bounds for axis 0 with size 1\n",
      "k =  10166955.0 \n",
      "ErrorMessage:  index -5 is out of bounds for axis 0 with size 1\n",
      "k =  10166955.0 \n",
      "ErrorMessage:  index -2 is out of bounds for axis 0 with size 1\n",
      "k =  10166955.0 \n",
      "ErrorMessage:  index -3 is out of bounds for axis 0 with size 1\n",
      "k =  10166955.0 \n",
      "ErrorMessage:  index -4 is out of bounds for axis 0 with size 1\n",
      "k =  10166955.0 \n",
      "ErrorMessage:  index -5 is out of bounds for axis 0 with size 1\n",
      "k =  10166955.0 \n",
      "ErrorMessage:  index -2 is out of bounds for axis 0 with size 1\n",
      "k =  10166955.0 \n",
      "ErrorMessage:  index -3 is out of bounds for axis 0 with size 1\n",
      "k =  10166955.0 \n",
      "ErrorMessage:  index -4 is out of bounds for axis 0 with size 1\n",
      "k =  10166955.0 \n",
      "ErrorMessage:  index -5 is out of bounds for axis 0 with size 1\n",
      "k =  10166955.0 \n",
      "ErrorMessage:  index -2 is out of bounds for axis 0 with size 1\n",
      "k =  10166955.0 \n",
      "ErrorMessage:  index -3 is out of bounds for axis 0 with size 1\n",
      "k =  10166955.0 \n",
      "ErrorMessage:  index -4 is out of bounds for axis 0 with size 1\n",
      "k =  10166955.0 \n",
      "ErrorMessage:  index -5 is out of bounds for axis 0 with size 1\n",
      "k =  10166955.0 \n",
      "ErrorMessage:  index -2 is out of bounds for axis 0 with size 1\n",
      "k =  10166955.0 \n",
      "ErrorMessage:  index -3 is out of bounds for axis 0 with size 1\n",
      "k =  10166955.0 \n",
      "ErrorMessage:  index -4 is out of bounds for axis 0 with size 1\n",
      "k =  10166955.0 \n",
      "ErrorMessage:  index -5 is out of bounds for axis 0 with size 1\n",
      "k =  10166955.0 \n",
      "ErrorMessage:  index -2 is out of bounds for axis 0 with size 1\n",
      "k =  10166955.0 \n",
      "ErrorMessage:  index -3 is out of bounds for axis 0 with size 1\n",
      "k =  10166955.0 \n",
      "ErrorMessage:  index -4 is out of bounds for axis 0 with size 1\n",
      "k =  10166955.0 \n",
      "ErrorMessage:  index -5 is out of bounds for axis 0 with size 1\n",
      "k =  10166955.0 \n",
      "ErrorMessage:  index -2 is out of bounds for axis 0 with size 1\n",
      "k =  10166955.0 \n",
      "ErrorMessage:  index -3 is out of bounds for axis 0 with size 1\n",
      "k =  10166955.0 \n",
      "ErrorMessage:  index -4 is out of bounds for axis 0 with size 1\n",
      "k =  10166955.0 \n",
      "ErrorMessage:  index -5 is out of bounds for axis 0 with size 1\n",
      "k =  10166955.0 \n",
      "ErrorMessage:  index -2 is out of bounds for axis 0 with size 1\n",
      "k =  10166955.0 \n",
      "ErrorMessage:  index -3 is out of bounds for axis 0 with size 1\n",
      "k =  10166955.0 \n",
      "ErrorMessage:  index -4 is out of bounds for axis 0 with size 1\n",
      "k =  10166955.0 \n",
      "ErrorMessage:  index -5 is out of bounds for axis 0 with size 1\n",
      "k =  10166955.0 \n",
      "ErrorMessage:  index -2 is out of bounds for axis 0 with size 1\n",
      "k =  10166955.0 \n",
      "ErrorMessage:  index -3 is out of bounds for axis 0 with size 1\n",
      "k =  10166955.0 \n",
      "ErrorMessage:  index -4 is out of bounds for axis 0 with size 1\n",
      "k =  10166955.0 \n",
      "ErrorMessage:  index -5 is out of bounds for axis 0 with size 1\n",
      "k =  10166955.0 \n",
      "ErrorMessage:  index -2 is out of bounds for axis 0 with size 1\n",
      "k =  10166955.0 \n",
      "ErrorMessage:  index -3 is out of bounds for axis 0 with size 1\n",
      "k =  10166955.0 \n",
      "ErrorMessage:  index -4 is out of bounds for axis 0 with size 1\n",
      "k =  10166955.0 \n",
      "ErrorMessage:  index -5 is out of bounds for axis 0 with size 1\n",
      "k =  10166955.0 \n",
      "ErrorMessage:  index -2 is out of bounds for axis 0 with size 1\n",
      "k =  10166955.0 \n",
      "ErrorMessage:  index -3 is out of bounds for axis 0 with size 1\n",
      "k =  10166955.0 \n",
      "ErrorMessage:  index -4 is out of bounds for axis 0 with size 1\n",
      "k =  10166955.0 \n",
      "ErrorMessage:  index -5 is out of bounds for axis 0 with size 1\n",
      "k =  10166955.0 \n",
      "ErrorMessage:  index -2 is out of bounds for axis 0 with size 1\n",
      "k =  10166955.0 \n",
      "ErrorMessage:  index -3 is out of bounds for axis 0 with size 1\n",
      "k =  10166955.0 \n",
      "ErrorMessage:  index -4 is out of bounds for axis 0 with size 1\n",
      "k =  10166955.0 \n",
      "ErrorMessage:  index -5 is out of bounds for axis 0 with size 1\n",
      "k =  10166955.0 \n",
      "ErrorMessage:  index -2 is out of bounds for axis 0 with size 1\n",
      "k =  10166955.0 \n",
      "ErrorMessage:  index -3 is out of bounds for axis 0 with size 1\n",
      "k =  10166955.0 \n",
      "ErrorMessage:  index -4 is out of bounds for axis 0 with size 1\n",
      "k =  10166955.0 \n",
      "ErrorMessage:  index -5 is out of bounds for axis 0 with size 1\n",
      "k =  10166955.0 \n",
      "ErrorMessage:  index -2 is out of bounds for axis 0 with size 1\n",
      "k =  10166955.0 \n",
      "ErrorMessage:  index -3 is out of bounds for axis 0 with size 1\n",
      "k =  10166955.0 \n",
      "ErrorMessage:  index -4 is out of bounds for axis 0 with size 1\n",
      "k =  10166955.0 \n",
      "ErrorMessage:  index -5 is out of bounds for axis 0 with size 1\n",
      "k =  10166955.0 \n",
      "ErrorMessage:  index -2 is out of bounds for axis 0 with size 1\n",
      "k =  10166955.0 \n",
      "ErrorMessage:  index -3 is out of bounds for axis 0 with size 1\n",
      "k =  10166955.0 \n",
      "ErrorMessage:  index -4 is out of bounds for axis 0 with size 1\n",
      "k =  10166955.0 \n",
      "ErrorMessage:  index -5 is out of bounds for axis 0 with size 1\n",
      "k =  10166955.0 \n",
      "ErrorMessage:  index -2 is out of bounds for axis 0 with size 1\n",
      "k =  10166955.0 \n",
      "ErrorMessage:  index -3 is out of bounds for axis 0 with size 1\n",
      "k =  10166955.0 \n",
      "ErrorMessage:  index -4 is out of bounds for axis 0 with size 1\n",
      "k =  10166955.0 \n",
      "ErrorMessage:  index -5 is out of bounds for axis 0 with size 1\n",
      "k =  10166955.0 \n",
      "ErrorMessage:  index -2 is out of bounds for axis 0 with size 1\n",
      "k =  10166955.0 \n",
      "ErrorMessage:  index -3 is out of bounds for axis 0 with size 1\n",
      "k =  10166955.0 \n",
      "ErrorMessage:  index -4 is out of bounds for axis 0 with size 1\n",
      "k =  10166955.0 \n",
      "ErrorMessage:  index -5 is out of bounds for axis 0 with size 1\n",
      "k =  10166955.0 \n",
      "ErrorMessage:  index -2 is out of bounds for axis 0 with size 1\n",
      "k =  10166955.0 \n",
      "ErrorMessage:  index -3 is out of bounds for axis 0 with size 1\n",
      "k =  10166955.0 \n",
      "ErrorMessage:  index -4 is out of bounds for axis 0 with size 1\n",
      "k =  10166955.0 \n",
      "ErrorMessage:  index -5 is out of bounds for axis 0 with size 1\n",
      "k =  10166955.0 \n",
      "ErrorMessage:  index -2 is out of bounds for axis 0 with size 1\n",
      "k =  10166955.0 \n",
      "ErrorMessage:  index -3 is out of bounds for axis 0 with size 1\n",
      "k =  10166955.0 \n",
      "ErrorMessage:  index -4 is out of bounds for axis 0 with size 1\n",
      "k =  10166955.0 \n",
      "ErrorMessage:  index -5 is out of bounds for axis 0 with size 1\n",
      "k =  10166955.0 \n",
      "ErrorMessage:  index -2 is out of bounds for axis 0 with size 1\n",
      "k =  10166955.0 \n",
      "ErrorMessage:  index -3 is out of bounds for axis 0 with size 1\n",
      "k =  10166955.0 \n",
      "ErrorMessage:  index -4 is out of bounds for axis 0 with size 1\n",
      "k =  10166955.0 \n",
      "ErrorMessage:  index -5 is out of bounds for axis 0 with size 1\n",
      "k =  10166955.0 \n",
      "ErrorMessage:  index -2 is out of bounds for axis 0 with size 1\n",
      "k =  10166955.0 \n",
      "ErrorMessage:  index -3 is out of bounds for axis 0 with size 1\n",
      "k =  10166955.0 \n",
      "ErrorMessage:  index -4 is out of bounds for axis 0 with size 1\n",
      "k =  10166955.0 \n",
      "ErrorMessage:  index -5 is out of bounds for axis 0 with size 1\n",
      "k =  10166955.0 \n",
      "ErrorMessage:  index -2 is out of bounds for axis 0 with size 1\n",
      "k =  10166955.0 \n",
      "ErrorMessage:  index -3 is out of bounds for axis 0 with size 1\n",
      "k =  10166955.0 \n",
      "ErrorMessage:  index -4 is out of bounds for axis 0 with size 1\n",
      "k =  10166955.0 \n",
      "ErrorMessage:  index -5 is out of bounds for axis 0 with size 1\n"
     ]
    },
    {
     "name": "stderr",
     "output_type": "stream",
     "text": [
      "\r",
      "  5%|████▎                                                                            | 21/400 [00:21<06:48,  1.08s/it]"
     ]
    },
    {
     "name": "stdout",
     "output_type": "stream",
     "text": [
      "Shape of output:  (528, 533)\n"
     ]
    },
    {
     "name": "stderr",
     "output_type": "stream",
     "text": [
      "\r",
      "  6%|████▍                                                                            | 22/400 [00:22<06:58,  1.11s/it]"
     ]
    },
    {
     "name": "stdout",
     "output_type": "stream",
     "text": [
      "Shape of output:  (552, 545)\n"
     ]
    },
    {
     "name": "stderr",
     "output_type": "stream",
     "text": [
      "\r",
      "  6%|████▋                                                                            | 23/400 [00:23<07:00,  1.12s/it]"
     ]
    },
    {
     "name": "stdout",
     "output_type": "stream",
     "text": [
      "Shape of output:  (576, 545)\n"
     ]
    },
    {
     "name": "stderr",
     "output_type": "stream",
     "text": [
      "\r",
      "  6%|████▊                                                                            | 24/400 [00:24<06:54,  1.10s/it]"
     ]
    },
    {
     "name": "stdout",
     "output_type": "stream",
     "text": [
      "Shape of output:  (600, 545)\n"
     ]
    },
    {
     "name": "stderr",
     "output_type": "stream",
     "text": [
      "\r",
      "  6%|█████                                                                            | 25/400 [00:25<06:47,  1.09s/it]"
     ]
    },
    {
     "name": "stdout",
     "output_type": "stream",
     "text": [
      "Shape of output:  (624, 545)\n"
     ]
    },
    {
     "name": "stderr",
     "output_type": "stream",
     "text": [
      "\r",
      "  6%|█████▎                                                                           | 26/400 [00:26<06:52,  1.10s/it]"
     ]
    },
    {
     "name": "stdout",
     "output_type": "stream",
     "text": [
      "Shape of output:  (648, 545)\n"
     ]
    },
    {
     "name": "stderr",
     "output_type": "stream",
     "text": [
      "\r",
      "  7%|█████▍                                                                           | 27/400 [00:27<06:32,  1.05s/it]"
     ]
    },
    {
     "name": "stdout",
     "output_type": "stream",
     "text": [
      "Shape of output:  (672, 545)\n"
     ]
    },
    {
     "name": "stderr",
     "output_type": "stream",
     "text": [
      "\r",
      "  7%|█████▋                                                                           | 28/400 [00:28<06:11,  1.00it/s]"
     ]
    },
    {
     "name": "stdout",
     "output_type": "stream",
     "text": [
      "Shape of output:  (696, 545)\n"
     ]
    },
    {
     "name": "stderr",
     "output_type": "stream",
     "text": [
      "\r",
      "  7%|█████▊                                                                           | 29/400 [00:29<05:59,  1.03it/s]"
     ]
    },
    {
     "name": "stdout",
     "output_type": "stream",
     "text": [
      "Shape of output:  (720, 545)\n"
     ]
    },
    {
     "name": "stderr",
     "output_type": "stream",
     "text": [
      "\r",
      "  8%|██████                                                                           | 30/400 [00:30<05:54,  1.04it/s]"
     ]
    },
    {
     "name": "stdout",
     "output_type": "stream",
     "text": [
      "Shape of output:  (744, 545)\n"
     ]
    },
    {
     "name": "stderr",
     "output_type": "stream",
     "text": [
      "\r",
      "  8%|██████▎                                                                          | 31/400 [00:31<05:52,  1.05it/s]"
     ]
    },
    {
     "name": "stdout",
     "output_type": "stream",
     "text": [
      "Shape of output:  (768, 545)\n"
     ]
    },
    {
     "name": "stderr",
     "output_type": "stream",
     "text": [
      "\r",
      "  8%|██████▍                                                                          | 32/400 [00:32<05:46,  1.06it/s]"
     ]
    },
    {
     "name": "stdout",
     "output_type": "stream",
     "text": [
      "Shape of output:  (792, 545)\n"
     ]
    },
    {
     "name": "stderr",
     "output_type": "stream",
     "text": [
      "\r",
      "  8%|██████▋                                                                          | 33/400 [00:33<05:46,  1.06it/s]"
     ]
    },
    {
     "name": "stdout",
     "output_type": "stream",
     "text": [
      "Shape of output:  (816, 545)\n"
     ]
    },
    {
     "name": "stderr",
     "output_type": "stream",
     "text": [
      "\r",
      "  8%|██████▉                                                                          | 34/400 [00:34<05:41,  1.07it/s]"
     ]
    },
    {
     "name": "stdout",
     "output_type": "stream",
     "text": [
      "Shape of output:  (840, 545)\n",
      "k =  10123647.0 \n",
      "ErrorMessage:  index -5 is out of bounds for axis 0 with size 4\n",
      "k =  10123647.0 \n",
      "ErrorMessage:  index -5 is out of bounds for axis 0 with size 4\n",
      "k =  10123647.0 \n",
      "ErrorMessage:  index -5 is out of bounds for axis 0 with size 4\n",
      "k =  10123647.0 \n",
      "ErrorMessage:  index -5 is out of bounds for axis 0 with size 4\n",
      "k =  10123647.0 \n",
      "ErrorMessage:  index -5 is out of bounds for axis 0 with size 4\n",
      "k =  10123647.0 \n",
      "ErrorMessage:  index -5 is out of bounds for axis 0 with size 4\n",
      "k =  10123647.0 \n",
      "ErrorMessage:  index -5 is out of bounds for axis 0 with size 4\n",
      "k =  10123647.0 \n",
      "ErrorMessage:  index -5 is out of bounds for axis 0 with size 4\n",
      "k =  10123647.0 \n",
      "ErrorMessage:  index -5 is out of bounds for axis 0 with size 4\n",
      "k =  10123647.0 \n",
      "ErrorMessage:  index -5 is out of bounds for axis 0 with size 4\n",
      "k =  10123647.0 \n",
      "ErrorMessage:  index -5 is out of bounds for axis 0 with size 4\n",
      "k =  10123647.0 \n",
      "ErrorMessage:  index -5 is out of bounds for axis 0 with size 4\n",
      "k =  10123647.0 \n",
      "ErrorMessage:  index -5 is out of bounds for axis 0 with size 4\n",
      "k =  10123647.0 \n",
      "ErrorMessage:  index -5 is out of bounds for axis 0 with size 4\n",
      "k =  10123647.0 \n",
      "ErrorMessage:  index -5 is out of bounds for axis 0 with size 4\n",
      "k =  10123647.0 \n",
      "ErrorMessage:  index -5 is out of bounds for axis 0 with size 4\n",
      "k =  10123647.0 \n",
      "ErrorMessage:  index -5 is out of bounds for axis 0 with size 4\n",
      "k =  10123647.0 \n",
      "ErrorMessage:  index -5 is out of bounds for axis 0 with size 4\n",
      "k =  10123647.0 \n",
      "ErrorMessage:  index -5 is out of bounds for axis 0 with size 4\n",
      "k =  10123647.0 \n",
      "ErrorMessage:  index -5 is out of bounds for axis 0 with size 4\n",
      "k =  10123647.0 \n",
      "ErrorMessage:  index -5 is out of bounds for axis 0 with size 4\n",
      "k =  10123647.0 \n",
      "ErrorMessage:  index -5 is out of bounds for axis 0 with size 4\n",
      "k =  10123647.0 \n",
      "ErrorMessage:  index -5 is out of bounds for axis 0 with size 4\n",
      "k =  10123647.0 \n",
      "ErrorMessage:  index -5 is out of bounds for axis 0 with size 4\n"
     ]
    },
    {
     "name": "stderr",
     "output_type": "stream",
     "text": [
      "\r",
      "  9%|███████                                                                          | 35/400 [00:35<05:35,  1.09it/s]"
     ]
    },
    {
     "name": "stdout",
     "output_type": "stream",
     "text": [
      "Shape of output:  (864, 545)\n"
     ]
    },
    {
     "name": "stderr",
     "output_type": "stream",
     "text": [
      "\r",
      "  9%|███████▎                                                                         | 36/400 [00:36<05:43,  1.06it/s]"
     ]
    },
    {
     "name": "stdout",
     "output_type": "stream",
     "text": [
      "Shape of output:  (888, 545)\n"
     ]
    },
    {
     "name": "stderr",
     "output_type": "stream",
     "text": [
      "\r",
      "  9%|███████▍                                                                         | 37/400 [00:37<05:39,  1.07it/s]"
     ]
    },
    {
     "name": "stdout",
     "output_type": "stream",
     "text": [
      "Shape of output:  (912, 545)\n"
     ]
    },
    {
     "name": "stderr",
     "output_type": "stream",
     "text": [
      "\r",
      " 10%|███████▋                                                                         | 38/400 [00:38<06:11,  1.03s/it]"
     ]
    },
    {
     "name": "stdout",
     "output_type": "stream",
     "text": [
      "Shape of output:  (936, 545)\n",
      "k =  10469234.0 \n",
      "ErrorMessage:  index -3 is out of bounds for axis 0 with size 2\n",
      "k =  10469234.0 \n",
      "ErrorMessage:  index -4 is out of bounds for axis 0 with size 2\n",
      "k =  10469234.0 \n",
      "ErrorMessage:  index -5 is out of bounds for axis 0 with size 2\n",
      "k =  10469234.0 \n",
      "ErrorMessage:  index -3 is out of bounds for axis 0 with size 2\n",
      "k =  10469234.0 \n",
      "ErrorMessage:  index -4 is out of bounds for axis 0 with size 2\n",
      "k =  10469234.0 \n",
      "ErrorMessage:  index -5 is out of bounds for axis 0 with size 2\n",
      "k =  10469234.0 \n",
      "ErrorMessage:  index -3 is out of bounds for axis 0 with size 2\n",
      "k =  10469234.0 \n",
      "ErrorMessage:  index -4 is out of bounds for axis 0 with size 2\n",
      "k =  10469234.0 \n",
      "ErrorMessage:  index -5 is out of bounds for axis 0 with size 2\n",
      "k =  10469234.0 \n",
      "ErrorMessage:  index -3 is out of bounds for axis 0 with size 2\n",
      "k =  10469234.0 \n",
      "ErrorMessage:  index -4 is out of bounds for axis 0 with size 2\n",
      "k =  10469234.0 \n",
      "ErrorMessage:  index -5 is out of bounds for axis 0 with size 2\n",
      "k =  10469234.0 \n",
      "ErrorMessage:  index -3 is out of bounds for axis 0 with size 2\n",
      "k =  10469234.0 \n",
      "ErrorMessage:  index -4 is out of bounds for axis 0 with size 2\n",
      "k =  10469234.0 \n",
      "ErrorMessage:  index -5 is out of bounds for axis 0 with size 2\n",
      "k =  10469234.0 \n",
      "ErrorMessage:  index -3 is out of bounds for axis 0 with size 2\n",
      "k =  10469234.0 \n",
      "ErrorMessage:  index -4 is out of bounds for axis 0 with size 2\n",
      "k =  10469234.0 \n",
      "ErrorMessage:  index -5 is out of bounds for axis 0 with size 2\n",
      "k =  10469234.0 \n",
      "ErrorMessage:  index -3 is out of bounds for axis 0 with size 2\n",
      "k =  10469234.0 \n",
      "ErrorMessage:  index -4 is out of bounds for axis 0 with size 2\n",
      "k =  10469234.0 \n",
      "ErrorMessage:  index -5 is out of bounds for axis 0 with size 2\n",
      "k =  10469234.0 \n",
      "ErrorMessage:  index -3 is out of bounds for axis 0 with size 2\n",
      "k =  10469234.0 \n",
      "ErrorMessage:  index -4 is out of bounds for axis 0 with size 2\n",
      "k =  10469234.0 \n",
      "ErrorMessage:  index -5 is out of bounds for axis 0 with size 2\n",
      "k =  10469234.0 \n",
      "ErrorMessage:  index -3 is out of bounds for axis 0 with size 2\n",
      "k =  10469234.0 \n",
      "ErrorMessage:  index -4 is out of bounds for axis 0 with size 2\n",
      "k =  10469234.0 \n",
      "ErrorMessage:  index -5 is out of bounds for axis 0 with size 2\n",
      "k =  10469234.0 \n",
      "ErrorMessage:  index -3 is out of bounds for axis 0 with size 2\n",
      "k =  10469234.0 \n",
      "ErrorMessage:  index -4 is out of bounds for axis 0 with size 2\n",
      "k =  10469234.0 \n",
      "ErrorMessage:  index -5 is out of bounds for axis 0 with size 2\n",
      "k =  10469234.0 \n",
      "ErrorMessage:  index -3 is out of bounds for axis 0 with size 2\n",
      "k =  10469234.0 \n",
      "ErrorMessage:  index -4 is out of bounds for axis 0 with size 2\n",
      "k =  10469234.0 \n",
      "ErrorMessage:  index -5 is out of bounds for axis 0 with size 2\n",
      "k =  10469234.0 \n",
      "ErrorMessage:  index -3 is out of bounds for axis 0 with size 2\n",
      "k =  10469234.0 \n",
      "ErrorMessage:  index -4 is out of bounds for axis 0 with size 2\n",
      "k =  10469234.0 \n",
      "ErrorMessage:  index -5 is out of bounds for axis 0 with size 2\n",
      "k =  10469234.0 \n",
      "ErrorMessage:  index -3 is out of bounds for axis 0 with size 2\n",
      "k =  10469234.0 \n",
      "ErrorMessage:  index -4 is out of bounds for axis 0 with size 2\n",
      "k =  10469234.0 \n",
      "ErrorMessage:  index -5 is out of bounds for axis 0 with size 2\n",
      "k =  10469234.0 \n",
      "ErrorMessage:  index -3 is out of bounds for axis 0 with size 2\n",
      "k =  10469234.0 \n",
      "ErrorMessage:  index -4 is out of bounds for axis 0 with size 2\n",
      "k =  10469234.0 \n",
      "ErrorMessage:  index -5 is out of bounds for axis 0 with size 2\n",
      "k =  10469234.0 \n",
      "ErrorMessage:  index -3 is out of bounds for axis 0 with size 2\n",
      "k =  10469234.0 \n",
      "ErrorMessage:  index -4 is out of bounds for axis 0 with size 2\n",
      "k =  10469234.0 \n",
      "ErrorMessage:  index -5 is out of bounds for axis 0 with size 2\n",
      "k =  10469234.0 \n",
      "ErrorMessage:  index -3 is out of bounds for axis 0 with size 2\n",
      "k =  10469234.0 \n",
      "ErrorMessage:  index -4 is out of bounds for axis 0 with size 2\n",
      "k =  10469234.0 \n",
      "ErrorMessage:  index -5 is out of bounds for axis 0 with size 2\n",
      "k =  10469234.0 \n",
      "ErrorMessage:  index -3 is out of bounds for axis 0 with size 2\n",
      "k =  10469234.0 \n",
      "ErrorMessage:  index -4 is out of bounds for axis 0 with size 2\n",
      "k =  10469234.0 \n",
      "ErrorMessage:  index -5 is out of bounds for axis 0 with size 2\n",
      "k =  10469234.0 \n",
      "ErrorMessage:  index -3 is out of bounds for axis 0 with size 2\n",
      "k =  10469234.0 \n",
      "ErrorMessage:  index -4 is out of bounds for axis 0 with size 2\n",
      "k =  10469234.0 \n",
      "ErrorMessage:  index -5 is out of bounds for axis 0 with size 2\n",
      "k =  10469234.0 \n",
      "ErrorMessage:  index -3 is out of bounds for axis 0 with size 2\n",
      "k =  10469234.0 \n",
      "ErrorMessage:  index -4 is out of bounds for axis 0 with size 2\n",
      "k =  10469234.0 \n",
      "ErrorMessage:  index -5 is out of bounds for axis 0 with size 2\n",
      "k =  10469234.0 \n",
      "ErrorMessage:  index -3 is out of bounds for axis 0 with size 2\n",
      "k =  10469234.0 \n",
      "ErrorMessage:  index -4 is out of bounds for axis 0 with size 2\n",
      "k =  10469234.0 \n",
      "ErrorMessage:  index -5 is out of bounds for axis 0 with size 2\n",
      "k =  10469234.0 \n",
      "ErrorMessage:  index -3 is out of bounds for axis 0 with size 2\n",
      "k =  10469234.0 \n",
      "ErrorMessage:  index -4 is out of bounds for axis 0 with size 2\n",
      "k =  10469234.0 \n",
      "ErrorMessage:  index -5 is out of bounds for axis 0 with size 2\n",
      "k =  10469234.0 \n",
      "ErrorMessage:  index -3 is out of bounds for axis 0 with size 2\n",
      "k =  10469234.0 \n",
      "ErrorMessage:  index -4 is out of bounds for axis 0 with size 2\n",
      "k =  10469234.0 \n",
      "ErrorMessage:  index -5 is out of bounds for axis 0 with size 2\n",
      "k =  10469234.0 \n",
      "ErrorMessage:  index -3 is out of bounds for axis 0 with size 2\n",
      "k =  10469234.0 \n",
      "ErrorMessage:  index -4 is out of bounds for axis 0 with size 2\n",
      "k =  10469234.0 \n",
      "ErrorMessage:  index -5 is out of bounds for axis 0 with size 2\n",
      "k =  10469234.0 \n",
      "ErrorMessage:  index -3 is out of bounds for axis 0 with size 2\n",
      "k =  10469234.0 \n",
      "ErrorMessage:  index -4 is out of bounds for axis 0 with size 2\n",
      "k =  10469234.0 \n",
      "ErrorMessage:  index -5 is out of bounds for axis 0 with size 2\n"
     ]
    },
    {
     "name": "stderr",
     "output_type": "stream",
     "text": [
      "\r",
      " 10%|███████▉                                                                         | 39/400 [00:39<05:53,  1.02it/s]"
     ]
    },
    {
     "name": "stdout",
     "output_type": "stream",
     "text": [
      "Shape of output:  (960, 545)\n"
     ]
    },
    {
     "name": "stderr",
     "output_type": "stream",
     "text": [
      "\r",
      " 10%|████████                                                                         | 40/400 [00:40<05:40,  1.06it/s]"
     ]
    },
    {
     "name": "stdout",
     "output_type": "stream",
     "text": [
      "Shape of output:  (984, 557)\n"
     ]
    },
    {
     "name": "stderr",
     "output_type": "stream",
     "text": [
      "\r",
      " 10%|████████▎                                                                        | 41/400 [00:40<05:25,  1.10it/s]"
     ]
    },
    {
     "name": "stdout",
     "output_type": "stream",
     "text": [
      "Shape of output:  (1008, 557)\n"
     ]
    },
    {
     "name": "stderr",
     "output_type": "stream",
     "text": [
      "\r",
      " 10%|████████▌                                                                        | 42/400 [00:41<05:15,  1.13it/s]"
     ]
    },
    {
     "name": "stdout",
     "output_type": "stream",
     "text": [
      "Shape of output:  (1032, 557)\n"
     ]
    },
    {
     "name": "stderr",
     "output_type": "stream",
     "text": [
      "\r",
      " 11%|████████▋                                                                        | 43/400 [00:42<05:11,  1.15it/s]"
     ]
    },
    {
     "name": "stdout",
     "output_type": "stream",
     "text": [
      "Shape of output:  (1056, 557)\n"
     ]
    },
    {
     "name": "stderr",
     "output_type": "stream",
     "text": [
      "\r",
      " 11%|████████▉                                                                        | 44/400 [00:43<05:07,  1.16it/s]"
     ]
    },
    {
     "name": "stdout",
     "output_type": "stream",
     "text": [
      "Shape of output:  (1080, 557)\n"
     ]
    },
    {
     "name": "stderr",
     "output_type": "stream",
     "text": [
      "\r",
      " 11%|█████████                                                                        | 45/400 [00:44<05:07,  1.15it/s]"
     ]
    },
    {
     "name": "stdout",
     "output_type": "stream",
     "text": [
      "Shape of output:  (1104, 557)\n"
     ]
    },
    {
     "name": "stderr",
     "output_type": "stream",
     "text": [
      "\r",
      " 12%|█████████▎                                                                       | 46/400 [00:45<05:16,  1.12it/s]"
     ]
    },
    {
     "name": "stdout",
     "output_type": "stream",
     "text": [
      "Shape of output:  (1128, 557)\n"
     ]
    },
    {
     "name": "stderr",
     "output_type": "stream",
     "text": [
      "\r",
      " 12%|█████████▌                                                                       | 47/400 [00:46<05:20,  1.10it/s]"
     ]
    },
    {
     "name": "stdout",
     "output_type": "stream",
     "text": [
      "Shape of output:  (1152, 557)\n",
      "k =  10260648.0 \n",
      "ErrorMessage:  index -5 is out of bounds for axis 0 with size 4\n",
      "k =  10260648.0 \n",
      "ErrorMessage:  index -5 is out of bounds for axis 0 with size 4\n",
      "k =  10260648.0 \n",
      "ErrorMessage:  index -5 is out of bounds for axis 0 with size 4\n",
      "k =  10260648.0 \n",
      "ErrorMessage:  index -5 is out of bounds for axis 0 with size 4\n",
      "k =  10260648.0 \n",
      "ErrorMessage:  index -5 is out of bounds for axis 0 with size 4\n",
      "k =  10260648.0 \n",
      "ErrorMessage:  index -5 is out of bounds for axis 0 with size 4\n",
      "k =  10260648.0 \n",
      "ErrorMessage:  index -5 is out of bounds for axis 0 with size 4\n",
      "k =  10260648.0 \n",
      "ErrorMessage:  index -5 is out of bounds for axis 0 with size 4\n",
      "k =  10260648.0 \n",
      "ErrorMessage:  index -5 is out of bounds for axis 0 with size 4\n",
      "k =  10260648.0 \n",
      "ErrorMessage:  index -5 is out of bounds for axis 0 with size 4\n",
      "k =  10260648.0 \n",
      "ErrorMessage:  index -5 is out of bounds for axis 0 with size 4\n",
      "k =  10260648.0 \n",
      "ErrorMessage:  index -5 is out of bounds for axis 0 with size 4\n",
      "k =  10260648.0 \n",
      "ErrorMessage:  index -5 is out of bounds for axis 0 with size 4\n",
      "k =  10260648.0 \n",
      "ErrorMessage:  index -5 is out of bounds for axis 0 with size 4\n",
      "k =  10260648.0 \n",
      "ErrorMessage:  index -5 is out of bounds for axis 0 with size 4\n",
      "k =  10260648.0 \n",
      "ErrorMessage:  index -5 is out of bounds for axis 0 with size 4\n",
      "k =  10260648.0 \n",
      "ErrorMessage:  index -5 is out of bounds for axis 0 with size 4\n",
      "k =  10260648.0 \n",
      "ErrorMessage:  index -5 is out of bounds for axis 0 with size 4\n",
      "k =  10260648.0 \n",
      "ErrorMessage:  index -5 is out of bounds for axis 0 with size 4\n",
      "k =  10260648.0 \n",
      "ErrorMessage:  index -5 is out of bounds for axis 0 with size 4\n",
      "k =  10260648.0 \n",
      "ErrorMessage:  index -5 is out of bounds for axis 0 with size 4\n",
      "k =  10260648.0 \n",
      "ErrorMessage:  index -5 is out of bounds for axis 0 with size 4\n",
      "k =  10260648.0 \n",
      "ErrorMessage:  index -5 is out of bounds for axis 0 with size 4\n",
      "k =  10260648.0 \n",
      "ErrorMessage:  index -5 is out of bounds for axis 0 with size 4\n"
     ]
    },
    {
     "name": "stderr",
     "output_type": "stream",
     "text": [
      "\r",
      " 12%|█████████▋                                                                       | 48/400 [00:46<05:12,  1.13it/s]"
     ]
    },
    {
     "name": "stdout",
     "output_type": "stream",
     "text": [
      "Shape of output:  (1176, 557)\n",
      "k =  10249941.0 \n",
      "ErrorMessage:  index -3 is out of bounds for axis 0 with size 2\n",
      "k =  10249941.0 \n",
      "ErrorMessage:  index -4 is out of bounds for axis 0 with size 2\n",
      "k =  10249941.0 \n",
      "ErrorMessage:  index -5 is out of bounds for axis 0 with size 2\n",
      "k =  10249941.0 \n",
      "ErrorMessage:  index -3 is out of bounds for axis 0 with size 2\n",
      "k =  10249941.0 \n",
      "ErrorMessage:  index -4 is out of bounds for axis 0 with size 2\n",
      "k =  10249941.0 \n",
      "ErrorMessage:  index -5 is out of bounds for axis 0 with size 2\n",
      "k =  10249941.0 \n",
      "ErrorMessage:  index -3 is out of bounds for axis 0 with size 2\n",
      "k =  10249941.0 \n",
      "ErrorMessage:  index -4 is out of bounds for axis 0 with size 2\n",
      "k =  10249941.0 \n",
      "ErrorMessage:  index -5 is out of bounds for axis 0 with size 2\n",
      "k =  10249941.0 \n",
      "ErrorMessage:  index -3 is out of bounds for axis 0 with size 2\n",
      "k =  10249941.0 \n",
      "ErrorMessage:  index -4 is out of bounds for axis 0 with size 2\n",
      "k =  10249941.0 \n",
      "ErrorMessage:  index -5 is out of bounds for axis 0 with size 2\n",
      "k =  10249941.0 \n",
      "ErrorMessage:  index -3 is out of bounds for axis 0 with size 2\n",
      "k =  10249941.0 \n",
      "ErrorMessage:  index -4 is out of bounds for axis 0 with size 2\n",
      "k =  10249941.0 \n",
      "ErrorMessage:  index -5 is out of bounds for axis 0 with size 2\n",
      "k =  10249941.0 \n",
      "ErrorMessage:  index -3 is out of bounds for axis 0 with size 2\n",
      "k =  10249941.0 \n",
      "ErrorMessage:  index -4 is out of bounds for axis 0 with size 2\n",
      "k =  10249941.0 \n",
      "ErrorMessage:  index -5 is out of bounds for axis 0 with size 2\n",
      "k =  10249941.0 \n",
      "ErrorMessage:  index -3 is out of bounds for axis 0 with size 2\n",
      "k =  10249941.0 \n",
      "ErrorMessage:  index -4 is out of bounds for axis 0 with size 2\n",
      "k =  10249941.0 \n",
      "ErrorMessage:  index -5 is out of bounds for axis 0 with size 2\n",
      "k =  10249941.0 \n",
      "ErrorMessage:  index -3 is out of bounds for axis 0 with size 2\n",
      "k =  10249941.0 \n",
      "ErrorMessage:  index -4 is out of bounds for axis 0 with size 2\n",
      "k =  10249941.0 \n",
      "ErrorMessage:  index -5 is out of bounds for axis 0 with size 2\n",
      "k =  10249941.0 \n",
      "ErrorMessage:  index -3 is out of bounds for axis 0 with size 2\n",
      "k =  10249941.0 \n",
      "ErrorMessage:  index -4 is out of bounds for axis 0 with size 2\n",
      "k =  10249941.0 \n",
      "ErrorMessage:  index -5 is out of bounds for axis 0 with size 2\n",
      "k =  10249941.0 \n",
      "ErrorMessage:  index -3 is out of bounds for axis 0 with size 2\n",
      "k =  10249941.0 \n",
      "ErrorMessage:  index -4 is out of bounds for axis 0 with size 2\n",
      "k =  10249941.0 \n",
      "ErrorMessage:  index -5 is out of bounds for axis 0 with size 2\n",
      "k =  10249941.0 \n",
      "ErrorMessage:  index -3 is out of bounds for axis 0 with size 2\n",
      "k =  10249941.0 \n",
      "ErrorMessage:  index -4 is out of bounds for axis 0 with size 2\n",
      "k =  10249941.0 \n",
      "ErrorMessage:  index -5 is out of bounds for axis 0 with size 2\n",
      "k =  10249941.0 \n",
      "ErrorMessage:  index -3 is out of bounds for axis 0 with size 2\n",
      "k =  10249941.0 \n",
      "ErrorMessage:  index -4 is out of bounds for axis 0 with size 2\n",
      "k =  10249941.0 \n",
      "ErrorMessage:  index -5 is out of bounds for axis 0 with size 2\n",
      "k =  10249941.0 \n",
      "ErrorMessage:  index -3 is out of bounds for axis 0 with size 2\n",
      "k =  10249941.0 \n",
      "ErrorMessage:  index -4 is out of bounds for axis 0 with size 2\n",
      "k =  10249941.0 \n",
      "ErrorMessage:  index -5 is out of bounds for axis 0 with size 2\n",
      "k =  10249941.0 \n",
      "ErrorMessage:  index -3 is out of bounds for axis 0 with size 2\n",
      "k =  10249941.0 \n",
      "ErrorMessage:  index -4 is out of bounds for axis 0 with size 2\n",
      "k =  10249941.0 \n",
      "ErrorMessage:  index -5 is out of bounds for axis 0 with size 2\n",
      "k =  10249941.0 \n",
      "ErrorMessage:  index -3 is out of bounds for axis 0 with size 2\n",
      "k =  10249941.0 \n",
      "ErrorMessage:  index -4 is out of bounds for axis 0 with size 2\n",
      "k =  10249941.0 \n",
      "ErrorMessage:  index -5 is out of bounds for axis 0 with size 2\n",
      "k =  10249941.0 \n",
      "ErrorMessage:  index -3 is out of bounds for axis 0 with size 2\n",
      "k =  10249941.0 \n",
      "ErrorMessage:  index -4 is out of bounds for axis 0 with size 2\n",
      "k =  10249941.0 \n",
      "ErrorMessage:  index -5 is out of bounds for axis 0 with size 2\n",
      "k =  10249941.0 \n",
      "ErrorMessage:  index -3 is out of bounds for axis 0 with size 2\n",
      "k =  10249941.0 \n",
      "ErrorMessage:  index -4 is out of bounds for axis 0 with size 2\n",
      "k =  10249941.0 \n",
      "ErrorMessage:  index -5 is out of bounds for axis 0 with size 2\n",
      "k =  10249941.0 \n",
      "ErrorMessage:  index -3 is out of bounds for axis 0 with size 2\n",
      "k =  10249941.0 \n",
      "ErrorMessage:  index -4 is out of bounds for axis 0 with size 2\n",
      "k =  10249941.0 \n",
      "ErrorMessage:  index -5 is out of bounds for axis 0 with size 2\n",
      "k =  10249941.0 \n",
      "ErrorMessage:  index -3 is out of bounds for axis 0 with size 2\n",
      "k =  10249941.0 \n",
      "ErrorMessage:  index -4 is out of bounds for axis 0 with size 2\n",
      "k =  10249941.0 \n",
      "ErrorMessage:  index -5 is out of bounds for axis 0 with size 2\n",
      "k =  10249941.0 \n",
      "ErrorMessage:  index -3 is out of bounds for axis 0 with size 2\n",
      "k =  10249941.0 \n",
      "ErrorMessage:  index -4 is out of bounds for axis 0 with size 2\n",
      "k =  10249941.0 \n",
      "ErrorMessage:  index -5 is out of bounds for axis 0 with size 2\n",
      "k =  10249941.0 \n",
      "ErrorMessage:  index -3 is out of bounds for axis 0 with size 2\n",
      "k =  10249941.0 \n",
      "ErrorMessage:  index -4 is out of bounds for axis 0 with size 2\n",
      "k =  10249941.0 \n",
      "ErrorMessage:  index -5 is out of bounds for axis 0 with size 2\n",
      "k =  10249941.0 \n",
      "ErrorMessage:  index -3 is out of bounds for axis 0 with size 2\n",
      "k =  10249941.0 \n",
      "ErrorMessage:  index -4 is out of bounds for axis 0 with size 2\n",
      "k =  10249941.0 \n",
      "ErrorMessage:  index -5 is out of bounds for axis 0 with size 2\n",
      "k =  10249941.0 \n",
      "ErrorMessage:  index -3 is out of bounds for axis 0 with size 2\n",
      "k =  10249941.0 \n",
      "ErrorMessage:  index -4 is out of bounds for axis 0 with size 2\n",
      "k =  10249941.0 \n",
      "ErrorMessage:  index -5 is out of bounds for axis 0 with size 2\n",
      "k =  10249941.0 \n",
      "ErrorMessage:  index -3 is out of bounds for axis 0 with size 2\n",
      "k =  10249941.0 \n",
      "ErrorMessage:  index -4 is out of bounds for axis 0 with size 2\n",
      "k =  10249941.0 \n",
      "ErrorMessage:  index -5 is out of bounds for axis 0 with size 2\n"
     ]
    },
    {
     "name": "stderr",
     "output_type": "stream",
     "text": [
      "\r",
      " 12%|█████████▉                                                                       | 49/400 [00:47<05:06,  1.14it/s]"
     ]
    },
    {
     "name": "stdout",
     "output_type": "stream",
     "text": [
      "Shape of output:  (1200, 557)\n",
      "k =  10138058.0 \n",
      "ErrorMessage:  index -3 is out of bounds for axis 0 with size 2\n",
      "k =  10138058.0 \n",
      "ErrorMessage:  index -4 is out of bounds for axis 0 with size 2\n",
      "k =  10138058.0 \n",
      "ErrorMessage:  index -5 is out of bounds for axis 0 with size 2\n",
      "k =  10138058.0 \n",
      "ErrorMessage:  index -3 is out of bounds for axis 0 with size 2\n",
      "k =  10138058.0 \n",
      "ErrorMessage:  index -4 is out of bounds for axis 0 with size 2\n",
      "k =  10138058.0 \n",
      "ErrorMessage:  index -5 is out of bounds for axis 0 with size 2\n",
      "k =  10138058.0 \n",
      "ErrorMessage:  index -3 is out of bounds for axis 0 with size 2\n",
      "k =  10138058.0 \n",
      "ErrorMessage:  index -4 is out of bounds for axis 0 with size 2\n",
      "k =  10138058.0 \n",
      "ErrorMessage:  index -5 is out of bounds for axis 0 with size 2\n",
      "k =  10138058.0 \n",
      "ErrorMessage:  index -3 is out of bounds for axis 0 with size 2\n",
      "k =  10138058.0 \n",
      "ErrorMessage:  index -4 is out of bounds for axis 0 with size 2\n",
      "k =  10138058.0 \n",
      "ErrorMessage:  index -5 is out of bounds for axis 0 with size 2\n",
      "k =  10138058.0 \n",
      "ErrorMessage:  index -3 is out of bounds for axis 0 with size 2\n",
      "k =  10138058.0 \n",
      "ErrorMessage:  index -4 is out of bounds for axis 0 with size 2\n",
      "k =  10138058.0 \n",
      "ErrorMessage:  index -5 is out of bounds for axis 0 with size 2\n",
      "k =  10138058.0 \n",
      "ErrorMessage:  index -3 is out of bounds for axis 0 with size 2\n",
      "k =  10138058.0 \n",
      "ErrorMessage:  index -4 is out of bounds for axis 0 with size 2\n",
      "k =  10138058.0 \n",
      "ErrorMessage:  index -5 is out of bounds for axis 0 with size 2\n",
      "k =  10138058.0 \n",
      "ErrorMessage:  index -3 is out of bounds for axis 0 with size 2\n",
      "k =  10138058.0 \n",
      "ErrorMessage:  index -4 is out of bounds for axis 0 with size 2\n",
      "k =  10138058.0 \n",
      "ErrorMessage:  index -5 is out of bounds for axis 0 with size 2\n",
      "k =  10138058.0 \n",
      "ErrorMessage:  index -3 is out of bounds for axis 0 with size 2\n",
      "k =  10138058.0 \n",
      "ErrorMessage:  index -4 is out of bounds for axis 0 with size 2\n",
      "k =  10138058.0 \n",
      "ErrorMessage:  index -5 is out of bounds for axis 0 with size 2\n",
      "k =  10138058.0 \n",
      "ErrorMessage:  index -3 is out of bounds for axis 0 with size 2\n",
      "k =  10138058.0 \n",
      "ErrorMessage:  index -4 is out of bounds for axis 0 with size 2\n",
      "k =  10138058.0 \n",
      "ErrorMessage:  index -5 is out of bounds for axis 0 with size 2\n",
      "k =  10138058.0 \n",
      "ErrorMessage:  index -3 is out of bounds for axis 0 with size 2\n",
      "k =  10138058.0 \n",
      "ErrorMessage:  index -4 is out of bounds for axis 0 with size 2\n",
      "k =  10138058.0 \n",
      "ErrorMessage:  index -5 is out of bounds for axis 0 with size 2\n",
      "k =  10138058.0 \n",
      "ErrorMessage:  index -3 is out of bounds for axis 0 with size 2\n",
      "k =  10138058.0 \n",
      "ErrorMessage:  index -4 is out of bounds for axis 0 with size 2\n",
      "k =  10138058.0 \n",
      "ErrorMessage:  index -5 is out of bounds for axis 0 with size 2\n",
      "k =  10138058.0 \n",
      "ErrorMessage:  index -3 is out of bounds for axis 0 with size 2\n",
      "k =  10138058.0 \n",
      "ErrorMessage:  index -4 is out of bounds for axis 0 with size 2\n",
      "k =  10138058.0 \n",
      "ErrorMessage:  index -5 is out of bounds for axis 0 with size 2\n",
      "k =  10138058.0 \n",
      "ErrorMessage:  index -3 is out of bounds for axis 0 with size 2\n",
      "k =  10138058.0 \n",
      "ErrorMessage:  index -4 is out of bounds for axis 0 with size 2\n",
      "k =  10138058.0 \n",
      "ErrorMessage:  index -5 is out of bounds for axis 0 with size 2\n",
      "k =  10138058.0 \n",
      "ErrorMessage:  index -3 is out of bounds for axis 0 with size 2\n",
      "k =  10138058.0 \n",
      "ErrorMessage:  index -4 is out of bounds for axis 0 with size 2\n",
      "k =  10138058.0 \n",
      "ErrorMessage:  index -5 is out of bounds for axis 0 with size 2\n",
      "k =  10138058.0 \n",
      "ErrorMessage:  index -3 is out of bounds for axis 0 with size 2\n",
      "k =  10138058.0 \n",
      "ErrorMessage:  index -4 is out of bounds for axis 0 with size 2\n",
      "k =  10138058.0 \n",
      "ErrorMessage:  index -5 is out of bounds for axis 0 with size 2\n",
      "k =  10138058.0 \n",
      "ErrorMessage:  index -3 is out of bounds for axis 0 with size 2\n",
      "k =  10138058.0 \n",
      "ErrorMessage:  index -4 is out of bounds for axis 0 with size 2\n",
      "k =  10138058.0 \n",
      "ErrorMessage:  index -5 is out of bounds for axis 0 with size 2\n",
      "k =  10138058.0 \n",
      "ErrorMessage:  index -3 is out of bounds for axis 0 with size 2\n",
      "k =  10138058.0 \n",
      "ErrorMessage:  index -4 is out of bounds for axis 0 with size 2\n",
      "k =  10138058.0 \n",
      "ErrorMessage:  index -5 is out of bounds for axis 0 with size 2\n",
      "k =  10138058.0 \n",
      "ErrorMessage:  index -3 is out of bounds for axis 0 with size 2\n",
      "k =  10138058.0 \n",
      "ErrorMessage:  index -4 is out of bounds for axis 0 with size 2\n",
      "k =  10138058.0 \n",
      "ErrorMessage:  index -5 is out of bounds for axis 0 with size 2\n",
      "k =  10138058.0 \n",
      "ErrorMessage:  index -3 is out of bounds for axis 0 with size 2\n",
      "k =  10138058.0 \n",
      "ErrorMessage:  index -4 is out of bounds for axis 0 with size 2\n",
      "k =  10138058.0 \n",
      "ErrorMessage:  index -5 is out of bounds for axis 0 with size 2\n",
      "k =  10138058.0 \n",
      "ErrorMessage:  index -3 is out of bounds for axis 0 with size 2\n",
      "k =  10138058.0 \n",
      "ErrorMessage:  index -4 is out of bounds for axis 0 with size 2\n",
      "k =  10138058.0 \n",
      "ErrorMessage:  index -5 is out of bounds for axis 0 with size 2\n",
      "k =  10138058.0 \n",
      "ErrorMessage:  index -3 is out of bounds for axis 0 with size 2\n",
      "k =  10138058.0 \n",
      "ErrorMessage:  index -4 is out of bounds for axis 0 with size 2\n",
      "k =  10138058.0 \n",
      "ErrorMessage:  index -5 is out of bounds for axis 0 with size 2\n",
      "k =  10138058.0 \n",
      "ErrorMessage:  index -3 is out of bounds for axis 0 with size 2\n",
      "k =  10138058.0 \n",
      "ErrorMessage:  index -4 is out of bounds for axis 0 with size 2\n",
      "k =  10138058.0 \n",
      "ErrorMessage:  index -5 is out of bounds for axis 0 with size 2\n",
      "k =  10138058.0 \n",
      "ErrorMessage:  index -3 is out of bounds for axis 0 with size 2\n",
      "k =  10138058.0 \n",
      "ErrorMessage:  index -4 is out of bounds for axis 0 with size 2\n",
      "k =  10138058.0 \n",
      "ErrorMessage:  index -5 is out of bounds for axis 0 with size 2\n",
      "k =  10138058.0 \n",
      "ErrorMessage:  index -3 is out of bounds for axis 0 with size 2\n",
      "k =  10138058.0 \n",
      "ErrorMessage:  index -4 is out of bounds for axis 0 with size 2\n",
      "k =  10138058.0 \n",
      "ErrorMessage:  index -5 is out of bounds for axis 0 with size 2\n"
     ]
    },
    {
     "name": "stderr",
     "output_type": "stream",
     "text": [
      "\r",
      " 12%|██████████▏                                                                      | 50/400 [00:48<04:57,  1.18it/s]"
     ]
    },
    {
     "name": "stdout",
     "output_type": "stream",
     "text": [
      "Shape of output:  (1224, 557)\n"
     ]
    },
    {
     "name": "stderr",
     "output_type": "stream",
     "text": [
      "\r",
      " 13%|██████████▎                                                                      | 51/400 [00:49<04:51,  1.20it/s]"
     ]
    },
    {
     "name": "stdout",
     "output_type": "stream",
     "text": [
      "Shape of output:  (1248, 557)\n"
     ]
    },
    {
     "name": "stderr",
     "output_type": "stream",
     "text": [
      "\r",
      " 13%|██████████▌                                                                      | 52/400 [00:50<04:52,  1.19it/s]"
     ]
    },
    {
     "name": "stdout",
     "output_type": "stream",
     "text": [
      "Shape of output:  (1272, 557)\n"
     ]
    },
    {
     "name": "stderr",
     "output_type": "stream",
     "text": [
      "\r",
      " 13%|██████████▋                                                                      | 53/400 [00:51<04:45,  1.21it/s]"
     ]
    },
    {
     "name": "stdout",
     "output_type": "stream",
     "text": [
      "Shape of output:  (1296, 557)\n",
      "k =  10219512.0 \n",
      "ErrorMessage:  index -3 is out of bounds for axis 0 with size 2\n",
      "k =  10219512.0 \n",
      "ErrorMessage:  index -4 is out of bounds for axis 0 with size 2\n",
      "k =  10219512.0 \n",
      "ErrorMessage:  index -5 is out of bounds for axis 0 with size 2\n",
      "k =  10219512.0 \n",
      "ErrorMessage:  index -3 is out of bounds for axis 0 with size 2\n",
      "k =  10219512.0 \n",
      "ErrorMessage:  index -4 is out of bounds for axis 0 with size 2\n",
      "k =  10219512.0 \n",
      "ErrorMessage:  index -5 is out of bounds for axis 0 with size 2\n",
      "k =  10219512.0 \n",
      "ErrorMessage:  index -3 is out of bounds for axis 0 with size 2\n",
      "k =  10219512.0 \n",
      "ErrorMessage:  index -4 is out of bounds for axis 0 with size 2\n",
      "k =  10219512.0 \n",
      "ErrorMessage:  index -5 is out of bounds for axis 0 with size 2\n",
      "k =  10219512.0 \n",
      "ErrorMessage:  index -3 is out of bounds for axis 0 with size 2\n",
      "k =  10219512.0 \n",
      "ErrorMessage:  index -4 is out of bounds for axis 0 with size 2\n",
      "k =  10219512.0 \n",
      "ErrorMessage:  index -5 is out of bounds for axis 0 with size 2\n",
      "k =  10219512.0 \n",
      "ErrorMessage:  index -3 is out of bounds for axis 0 with size 2\n",
      "k =  10219512.0 \n",
      "ErrorMessage:  index -4 is out of bounds for axis 0 with size 2\n",
      "k =  10219512.0 \n",
      "ErrorMessage:  index -5 is out of bounds for axis 0 with size 2\n",
      "k =  10219512.0 \n",
      "ErrorMessage:  index -3 is out of bounds for axis 0 with size 2\n",
      "k =  10219512.0 \n",
      "ErrorMessage:  index -4 is out of bounds for axis 0 with size 2\n",
      "k =  10219512.0 \n",
      "ErrorMessage:  index -5 is out of bounds for axis 0 with size 2\n",
      "k =  10219512.0 \n",
      "ErrorMessage:  index -3 is out of bounds for axis 0 with size 2\n",
      "k =  10219512.0 \n",
      "ErrorMessage:  index -4 is out of bounds for axis 0 with size 2\n",
      "k =  10219512.0 \n",
      "ErrorMessage:  index -5 is out of bounds for axis 0 with size 2\n",
      "k =  10219512.0 \n",
      "ErrorMessage:  index -3 is out of bounds for axis 0 with size 2\n",
      "k =  10219512.0 \n",
      "ErrorMessage:  index -4 is out of bounds for axis 0 with size 2\n",
      "k =  10219512.0 \n",
      "ErrorMessage:  index -5 is out of bounds for axis 0 with size 2\n",
      "k =  10219512.0 \n",
      "ErrorMessage:  index -3 is out of bounds for axis 0 with size 2\n",
      "k =  10219512.0 \n",
      "ErrorMessage:  index -4 is out of bounds for axis 0 with size 2\n",
      "k =  10219512.0 \n",
      "ErrorMessage:  index -5 is out of bounds for axis 0 with size 2\n",
      "k =  10219512.0 \n",
      "ErrorMessage:  index -3 is out of bounds for axis 0 with size 2\n",
      "k =  10219512.0 \n",
      "ErrorMessage:  index -4 is out of bounds for axis 0 with size 2\n",
      "k =  10219512.0 \n",
      "ErrorMessage:  index -5 is out of bounds for axis 0 with size 2\n",
      "k =  10219512.0 \n",
      "ErrorMessage:  index -3 is out of bounds for axis 0 with size 2\n",
      "k =  10219512.0 \n",
      "ErrorMessage:  index -4 is out of bounds for axis 0 with size 2\n",
      "k =  10219512.0 \n",
      "ErrorMessage:  index -5 is out of bounds for axis 0 with size 2\n",
      "k =  10219512.0 \n",
      "ErrorMessage:  index -3 is out of bounds for axis 0 with size 2\n",
      "k =  10219512.0 \n",
      "ErrorMessage:  index -4 is out of bounds for axis 0 with size 2\n",
      "k =  10219512.0 \n",
      "ErrorMessage:  index -5 is out of bounds for axis 0 with size 2\n",
      "k =  10219512.0 \n",
      "ErrorMessage:  index -3 is out of bounds for axis 0 with size 2\n",
      "k =  10219512.0 \n",
      "ErrorMessage:  index -4 is out of bounds for axis 0 with size 2\n",
      "k =  10219512.0 \n",
      "ErrorMessage:  index -5 is out of bounds for axis 0 with size 2\n",
      "k =  10219512.0 \n",
      "ErrorMessage:  index -3 is out of bounds for axis 0 with size 2\n",
      "k =  10219512.0 \n",
      "ErrorMessage:  index -4 is out of bounds for axis 0 with size 2\n",
      "k =  10219512.0 \n",
      "ErrorMessage:  index -5 is out of bounds for axis 0 with size 2\n",
      "k =  10219512.0 \n",
      "ErrorMessage:  index -3 is out of bounds for axis 0 with size 2\n",
      "k =  10219512.0 \n",
      "ErrorMessage:  index -4 is out of bounds for axis 0 with size 2\n",
      "k =  10219512.0 \n",
      "ErrorMessage:  index -5 is out of bounds for axis 0 with size 2\n",
      "k =  10219512.0 \n",
      "ErrorMessage:  index -3 is out of bounds for axis 0 with size 2\n",
      "k =  10219512.0 \n",
      "ErrorMessage:  index -4 is out of bounds for axis 0 with size 2\n",
      "k =  10219512.0 \n",
      "ErrorMessage:  index -5 is out of bounds for axis 0 with size 2\n",
      "k =  10219512.0 \n",
      "ErrorMessage:  index -3 is out of bounds for axis 0 with size 2\n",
      "k =  10219512.0 \n",
      "ErrorMessage:  index -4 is out of bounds for axis 0 with size 2\n",
      "k =  10219512.0 \n",
      "ErrorMessage:  index -5 is out of bounds for axis 0 with size 2\n",
      "k =  10219512.0 \n",
      "ErrorMessage:  index -3 is out of bounds for axis 0 with size 2\n",
      "k =  10219512.0 \n",
      "ErrorMessage:  index -4 is out of bounds for axis 0 with size 2\n",
      "k =  10219512.0 \n",
      "ErrorMessage:  index -5 is out of bounds for axis 0 with size 2\n",
      "k =  10219512.0 \n",
      "ErrorMessage:  index -3 is out of bounds for axis 0 with size 2\n",
      "k =  10219512.0 \n",
      "ErrorMessage:  index -4 is out of bounds for axis 0 with size 2\n",
      "k =  10219512.0 \n",
      "ErrorMessage:  index -5 is out of bounds for axis 0 with size 2\n",
      "k =  10219512.0 \n",
      "ErrorMessage:  index -3 is out of bounds for axis 0 with size 2\n",
      "k =  10219512.0 \n",
      "ErrorMessage:  index -4 is out of bounds for axis 0 with size 2\n",
      "k =  10219512.0 \n",
      "ErrorMessage:  index -5 is out of bounds for axis 0 with size 2\n",
      "k =  10219512.0 \n",
      "ErrorMessage:  index -3 is out of bounds for axis 0 with size 2\n",
      "k =  10219512.0 \n",
      "ErrorMessage:  index -4 is out of bounds for axis 0 with size 2\n",
      "k =  10219512.0 \n",
      "ErrorMessage:  index -5 is out of bounds for axis 0 with size 2\n",
      "k =  10219512.0 \n",
      "ErrorMessage:  index -3 is out of bounds for axis 0 with size 2\n",
      "k =  10219512.0 \n",
      "ErrorMessage:  index -4 is out of bounds for axis 0 with size 2\n",
      "k =  10219512.0 \n",
      "ErrorMessage:  index -5 is out of bounds for axis 0 with size 2\n",
      "k =  10219512.0 \n",
      "ErrorMessage:  index -3 is out of bounds for axis 0 with size 2\n",
      "k =  10219512.0 \n",
      "ErrorMessage:  index -4 is out of bounds for axis 0 with size 2\n",
      "k =  10219512.0 \n",
      "ErrorMessage:  index -5 is out of bounds for axis 0 with size 2\n",
      "k =  10219512.0 \n",
      "ErrorMessage:  index -3 is out of bounds for axis 0 with size 2\n",
      "k =  10219512.0 \n",
      "ErrorMessage:  index -4 is out of bounds for axis 0 with size 2\n",
      "k =  10219512.0 \n",
      "ErrorMessage:  index -5 is out of bounds for axis 0 with size 2\n"
     ]
    },
    {
     "name": "stderr",
     "output_type": "stream",
     "text": [
      "\r",
      " 14%|██████████▉                                                                      | 54/400 [00:51<04:43,  1.22it/s]"
     ]
    },
    {
     "name": "stdout",
     "output_type": "stream",
     "text": [
      "Shape of output:  (1320, 557)\n"
     ]
    },
    {
     "name": "stderr",
     "output_type": "stream",
     "text": [
      "\r",
      " 14%|███████████▏                                                                     | 55/400 [00:52<04:42,  1.22it/s]"
     ]
    },
    {
     "name": "stdout",
     "output_type": "stream",
     "text": [
      "Shape of output:  (1344, 557)\n"
     ]
    },
    {
     "name": "stderr",
     "output_type": "stream",
     "text": [
      "\r",
      " 14%|███████████▎                                                                     | 56/400 [00:53<04:55,  1.16it/s]"
     ]
    },
    {
     "name": "stdout",
     "output_type": "stream",
     "text": [
      "Shape of output:  (1368, 557)\n"
     ]
    },
    {
     "name": "stderr",
     "output_type": "stream",
     "text": [
      "\r",
      " 14%|███████████▌                                                                     | 57/400 [00:54<05:12,  1.10it/s]"
     ]
    },
    {
     "name": "stdout",
     "output_type": "stream",
     "text": [
      "Shape of output:  (1392, 557)\n"
     ]
    },
    {
     "name": "stderr",
     "output_type": "stream",
     "text": [
      "\r",
      " 14%|███████████▋                                                                     | 58/400 [00:55<05:32,  1.03it/s]"
     ]
    },
    {
     "name": "stdout",
     "output_type": "stream",
     "text": [
      "Shape of output:  (1416, 557)\n"
     ]
    },
    {
     "name": "stderr",
     "output_type": "stream",
     "text": [
      "\r",
      " 15%|███████████▉                                                                     | 59/400 [00:56<05:26,  1.05it/s]"
     ]
    },
    {
     "name": "stdout",
     "output_type": "stream",
     "text": [
      "Shape of output:  (1440, 557)\n"
     ]
    },
    {
     "name": "stderr",
     "output_type": "stream",
     "text": [
      "\r",
      " 15%|████████████▏                                                                    | 60/400 [00:57<05:20,  1.06it/s]"
     ]
    },
    {
     "name": "stdout",
     "output_type": "stream",
     "text": [
      "Shape of output:  (1464, 557)\n"
     ]
    },
    {
     "name": "stderr",
     "output_type": "stream",
     "text": [
      "\r",
      " 15%|████████████▎                                                                    | 61/400 [00:58<05:15,  1.07it/s]"
     ]
    },
    {
     "name": "stdout",
     "output_type": "stream",
     "text": [
      "Shape of output:  (1488, 557)\n"
     ]
    },
    {
     "name": "stderr",
     "output_type": "stream",
     "text": [
      "\r",
      " 16%|████████████▌                                                                    | 62/400 [00:59<05:09,  1.09it/s]"
     ]
    },
    {
     "name": "stdout",
     "output_type": "stream",
     "text": [
      "Shape of output:  (1512, 557)\n"
     ]
    },
    {
     "name": "stderr",
     "output_type": "stream",
     "text": [
      "\r",
      " 16%|████████████▊                                                                    | 63/400 [01:00<05:03,  1.11it/s]"
     ]
    },
    {
     "name": "stdout",
     "output_type": "stream",
     "text": [
      "Shape of output:  (1536, 557)\n"
     ]
    },
    {
     "name": "stderr",
     "output_type": "stream",
     "text": [
      "\r",
      " 16%|████████████▉                                                                    | 64/400 [01:01<04:57,  1.13it/s]"
     ]
    },
    {
     "name": "stdout",
     "output_type": "stream",
     "text": [
      "Shape of output:  (1560, 557)\n"
     ]
    },
    {
     "name": "stderr",
     "output_type": "stream",
     "text": [
      "\r",
      " 16%|█████████████▏                                                                   | 65/400 [01:01<04:50,  1.15it/s]"
     ]
    },
    {
     "name": "stdout",
     "output_type": "stream",
     "text": [
      "Shape of output:  (1584, 557)\n"
     ]
    },
    {
     "name": "stderr",
     "output_type": "stream",
     "text": [
      "\r",
      " 16%|█████████████▎                                                                   | 66/400 [01:02<04:44,  1.18it/s]"
     ]
    },
    {
     "name": "stdout",
     "output_type": "stream",
     "text": [
      "Shape of output:  (1608, 557)\n"
     ]
    },
    {
     "name": "stderr",
     "output_type": "stream",
     "text": [
      "\r",
      " 17%|█████████████▌                                                                   | 67/400 [01:03<04:42,  1.18it/s]"
     ]
    },
    {
     "name": "stdout",
     "output_type": "stream",
     "text": [
      "Shape of output:  (1632, 557)\n"
     ]
    },
    {
     "name": "stderr",
     "output_type": "stream",
     "text": [
      "\r",
      " 17%|█████████████▊                                                                   | 68/400 [01:04<04:38,  1.19it/s]"
     ]
    },
    {
     "name": "stdout",
     "output_type": "stream",
     "text": [
      "Shape of output:  (1656, 557)\n"
     ]
    },
    {
     "name": "stderr",
     "output_type": "stream",
     "text": [
      "\r",
      " 17%|█████████████▉                                                                   | 69/400 [01:05<04:35,  1.20it/s]"
     ]
    },
    {
     "name": "stdout",
     "output_type": "stream",
     "text": [
      "Shape of output:  (1680, 557)\n"
     ]
    },
    {
     "name": "stderr",
     "output_type": "stream",
     "text": [
      "\r",
      " 18%|██████████████▏                                                                  | 70/400 [01:06<04:37,  1.19it/s]"
     ]
    },
    {
     "name": "stdout",
     "output_type": "stream",
     "text": [
      "Shape of output:  (1704, 557)\n"
     ]
    },
    {
     "name": "stderr",
     "output_type": "stream",
     "text": [
      "\r",
      " 18%|██████████████▍                                                                  | 71/400 [01:06<04:33,  1.20it/s]"
     ]
    },
    {
     "name": "stdout",
     "output_type": "stream",
     "text": [
      "Shape of output:  (1728, 557)\n"
     ]
    },
    {
     "name": "stderr",
     "output_type": "stream",
     "text": [
      "\r",
      " 18%|██████████████▌                                                                  | 72/400 [01:07<04:35,  1.19it/s]"
     ]
    },
    {
     "name": "stdout",
     "output_type": "stream",
     "text": [
      "Shape of output:  (1752, 557)\n",
      "k =  10164875.0 \n",
      "ErrorMessage:  index -5 is out of bounds for axis 0 with size 4\n",
      "k =  10164875.0 \n",
      "ErrorMessage:  index -5 is out of bounds for axis 0 with size 4\n",
      "k =  10164875.0 \n",
      "ErrorMessage:  index -5 is out of bounds for axis 0 with size 4\n",
      "k =  10164875.0 \n",
      "ErrorMessage:  index -5 is out of bounds for axis 0 with size 4\n",
      "k =  10164875.0 \n",
      "ErrorMessage:  index -5 is out of bounds for axis 0 with size 4\n",
      "k =  10164875.0 \n",
      "ErrorMessage:  index -5 is out of bounds for axis 0 with size 4\n",
      "k =  10164875.0 \n",
      "ErrorMessage:  index -5 is out of bounds for axis 0 with size 4\n",
      "k =  10164875.0 \n",
      "ErrorMessage:  index -5 is out of bounds for axis 0 with size 4\n",
      "k =  10164875.0 \n",
      "ErrorMessage:  index -5 is out of bounds for axis 0 with size 4\n",
      "k =  10164875.0 \n",
      "ErrorMessage:  index -5 is out of bounds for axis 0 with size 4\n",
      "k =  10164875.0 \n",
      "ErrorMessage:  index -5 is out of bounds for axis 0 with size 4\n",
      "k =  10164875.0 \n",
      "ErrorMessage:  index -5 is out of bounds for axis 0 with size 4\n",
      "k =  10164875.0 \n",
      "ErrorMessage:  index -5 is out of bounds for axis 0 with size 4\n",
      "k =  10164875.0 \n",
      "ErrorMessage:  index -5 is out of bounds for axis 0 with size 4\n",
      "k =  10164875.0 \n",
      "ErrorMessage:  index -5 is out of bounds for axis 0 with size 4\n",
      "k =  10164875.0 \n",
      "ErrorMessage:  index -5 is out of bounds for axis 0 with size 4\n",
      "k =  10164875.0 \n",
      "ErrorMessage:  index -5 is out of bounds for axis 0 with size 4\n",
      "k =  10164875.0 \n",
      "ErrorMessage:  index -5 is out of bounds for axis 0 with size 4\n",
      "k =  10164875.0 \n",
      "ErrorMessage:  index -5 is out of bounds for axis 0 with size 4\n",
      "k =  10164875.0 \n",
      "ErrorMessage:  index -5 is out of bounds for axis 0 with size 4\n",
      "k =  10164875.0 \n",
      "ErrorMessage:  index -5 is out of bounds for axis 0 with size 4\n",
      "k =  10164875.0 \n",
      "ErrorMessage:  index -5 is out of bounds for axis 0 with size 4\n",
      "k =  10164875.0 \n",
      "ErrorMessage:  index -5 is out of bounds for axis 0 with size 4\n",
      "k =  10164875.0 \n",
      "ErrorMessage:  index -5 is out of bounds for axis 0 with size 4\n"
     ]
    },
    {
     "name": "stderr",
     "output_type": "stream",
     "text": [
      "\r",
      " 18%|██████████████▊                                                                  | 73/400 [01:08<04:30,  1.21it/s]"
     ]
    },
    {
     "name": "stdout",
     "output_type": "stream",
     "text": [
      "Shape of output:  (1776, 557)\n"
     ]
    },
    {
     "name": "stderr",
     "output_type": "stream",
     "text": [
      "\r",
      " 18%|██████████████▉                                                                  | 74/400 [01:09<04:31,  1.20it/s]"
     ]
    },
    {
     "name": "stdout",
     "output_type": "stream",
     "text": [
      "Shape of output:  (1800, 557)\n"
     ]
    },
    {
     "name": "stderr",
     "output_type": "stream",
     "text": [
      "\r",
      " 19%|███████████████▏                                                                 | 75/400 [01:10<04:31,  1.20it/s]"
     ]
    },
    {
     "name": "stdout",
     "output_type": "stream",
     "text": [
      "Shape of output:  (1824, 557)\n"
     ]
    },
    {
     "name": "stderr",
     "output_type": "stream",
     "text": [
      "\r",
      " 19%|███████████████▍                                                                 | 76/400 [01:11<04:27,  1.21it/s]"
     ]
    },
    {
     "name": "stdout",
     "output_type": "stream",
     "text": [
      "Shape of output:  (1848, 557)\n"
     ]
    },
    {
     "name": "stderr",
     "output_type": "stream",
     "text": [
      "\r",
      " 19%|███████████████▌                                                                 | 77/400 [01:11<04:28,  1.20it/s]"
     ]
    },
    {
     "name": "stdout",
     "output_type": "stream",
     "text": [
      "Shape of output:  (1872, 557)\n"
     ]
    },
    {
     "name": "stderr",
     "output_type": "stream",
     "text": [
      "\r",
      " 20%|███████████████▊                                                                 | 78/400 [01:12<04:24,  1.22it/s]"
     ]
    },
    {
     "name": "stdout",
     "output_type": "stream",
     "text": [
      "Shape of output:  (1896, 557)\n"
     ]
    },
    {
     "name": "stderr",
     "output_type": "stream",
     "text": [
      "\r",
      " 20%|███████████████▉                                                                 | 79/400 [01:13<04:23,  1.22it/s]"
     ]
    },
    {
     "name": "stdout",
     "output_type": "stream",
     "text": [
      "Shape of output:  (1920, 557)\n"
     ]
    },
    {
     "name": "stderr",
     "output_type": "stream",
     "text": [
      "\r",
      " 20%|████████████████▏                                                                | 80/400 [01:14<04:25,  1.21it/s]"
     ]
    },
    {
     "name": "stdout",
     "output_type": "stream",
     "text": [
      "Shape of output:  (1944, 557)\n"
     ]
    },
    {
     "name": "stderr",
     "output_type": "stream",
     "text": [
      "\r",
      " 20%|████████████████▍                                                                | 81/400 [01:15<04:22,  1.22it/s]"
     ]
    },
    {
     "name": "stdout",
     "output_type": "stream",
     "text": [
      "Shape of output:  (1968, 557)\n"
     ]
    },
    {
     "name": "stderr",
     "output_type": "stream",
     "text": [
      "\r",
      " 20%|████████████████▌                                                                | 82/400 [01:15<04:22,  1.21it/s]"
     ]
    },
    {
     "name": "stdout",
     "output_type": "stream",
     "text": [
      "Shape of output:  (1992, 557)\n"
     ]
    },
    {
     "name": "stderr",
     "output_type": "stream",
     "text": [
      "\r",
      " 21%|████████████████▊                                                                | 83/400 [01:16<04:21,  1.21it/s]"
     ]
    },
    {
     "name": "stdout",
     "output_type": "stream",
     "text": [
      "Shape of output:  (2016, 557)\n"
     ]
    },
    {
     "name": "stderr",
     "output_type": "stream",
     "text": [
      "\r",
      " 21%|█████████████████                                                                | 84/400 [01:17<04:26,  1.18it/s]"
     ]
    },
    {
     "name": "stdout",
     "output_type": "stream",
     "text": [
      "Shape of output:  (2040, 557)\n"
     ]
    },
    {
     "name": "stderr",
     "output_type": "stream",
     "text": [
      "\r",
      " 21%|█████████████████▏                                                               | 85/400 [01:18<04:29,  1.17it/s]"
     ]
    },
    {
     "name": "stdout",
     "output_type": "stream",
     "text": [
      "Shape of output:  (2064, 557)\n"
     ]
    },
    {
     "name": "stderr",
     "output_type": "stream",
     "text": [
      "\r",
      " 22%|█████████████████▍                                                               | 86/400 [01:19<04:27,  1.17it/s]"
     ]
    },
    {
     "name": "stdout",
     "output_type": "stream",
     "text": [
      "Shape of output:  (2088, 557)\n"
     ]
    },
    {
     "name": "stderr",
     "output_type": "stream",
     "text": [
      "\r",
      " 22%|█████████████████▌                                                               | 87/400 [01:20<04:31,  1.15it/s]"
     ]
    },
    {
     "name": "stdout",
     "output_type": "stream",
     "text": [
      "Shape of output:  (2112, 557)\n"
     ]
    },
    {
     "name": "stderr",
     "output_type": "stream",
     "text": [
      "\r",
      " 22%|█████████████████▊                                                               | 88/400 [01:21<05:18,  1.02s/it]"
     ]
    },
    {
     "name": "stdout",
     "output_type": "stream",
     "text": [
      "Shape of output:  (2136, 557)\n"
     ]
    },
    {
     "name": "stderr",
     "output_type": "stream",
     "text": [
      "\r",
      " 22%|██████████████████                                                               | 89/400 [01:22<04:53,  1.06it/s]"
     ]
    },
    {
     "name": "stdout",
     "output_type": "stream",
     "text": [
      "Shape of output:  (2160, 557)\n"
     ]
    },
    {
     "name": "stderr",
     "output_type": "stream",
     "text": [
      "\r",
      " 22%|██████████████████▏                                                              | 90/400 [01:23<04:36,  1.12it/s]"
     ]
    },
    {
     "name": "stdout",
     "output_type": "stream",
     "text": [
      "Shape of output:  (2184, 557)\n"
     ]
    },
    {
     "name": "stderr",
     "output_type": "stream",
     "text": [
      "\r",
      " 23%|██████████████████▍                                                              | 91/400 [01:24<04:26,  1.16it/s]"
     ]
    },
    {
     "name": "stdout",
     "output_type": "stream",
     "text": [
      "Shape of output:  (2208, 557)\n"
     ]
    },
    {
     "name": "stderr",
     "output_type": "stream",
     "text": [
      "\r",
      " 23%|██████████████████▋                                                              | 92/400 [01:24<04:15,  1.21it/s]"
     ]
    },
    {
     "name": "stdout",
     "output_type": "stream",
     "text": [
      "Shape of output:  (2232, 557)\n"
     ]
    },
    {
     "name": "stderr",
     "output_type": "stream",
     "text": [
      "\r",
      " 23%|██████████████████▊                                                              | 93/400 [01:25<04:13,  1.21it/s]"
     ]
    },
    {
     "name": "stdout",
     "output_type": "stream",
     "text": [
      "Shape of output:  (2256, 557)\n"
     ]
    },
    {
     "name": "stderr",
     "output_type": "stream",
     "text": [
      "\r",
      " 24%|███████████████████                                                              | 94/400 [01:26<04:12,  1.21it/s]"
     ]
    },
    {
     "name": "stdout",
     "output_type": "stream",
     "text": [
      "Shape of output:  (2280, 557)\n"
     ]
    },
    {
     "name": "stderr",
     "output_type": "stream",
     "text": [
      "\r",
      " 24%|███████████████████▏                                                             | 95/400 [01:27<04:11,  1.21it/s]"
     ]
    },
    {
     "name": "stdout",
     "output_type": "stream",
     "text": [
      "Shape of output:  (2304, 557)\n"
     ]
    },
    {
     "name": "stderr",
     "output_type": "stream",
     "text": [
      "\r",
      " 24%|███████████████████▍                                                             | 96/400 [01:28<04:07,  1.23it/s]"
     ]
    },
    {
     "name": "stdout",
     "output_type": "stream",
     "text": [
      "Shape of output:  (2328, 557)\n"
     ]
    },
    {
     "name": "stderr",
     "output_type": "stream",
     "text": [
      "\r",
      " 24%|███████████████████▋                                                             | 97/400 [01:28<04:01,  1.26it/s]"
     ]
    },
    {
     "name": "stdout",
     "output_type": "stream",
     "text": [
      "Shape of output:  (2352, 557)\n"
     ]
    },
    {
     "name": "stderr",
     "output_type": "stream",
     "text": [
      "\r",
      " 24%|███████████████████▊                                                             | 98/400 [01:29<03:57,  1.27it/s]"
     ]
    },
    {
     "name": "stdout",
     "output_type": "stream",
     "text": [
      "Shape of output:  (2376, 557)\n"
     ]
    },
    {
     "name": "stderr",
     "output_type": "stream",
     "text": [
      "\r",
      " 25%|████████████████████                                                             | 99/400 [01:30<03:54,  1.29it/s]"
     ]
    },
    {
     "name": "stdout",
     "output_type": "stream",
     "text": [
      "Shape of output:  (2400, 557)\n"
     ]
    },
    {
     "name": "stderr",
     "output_type": "stream",
     "text": [
      "\r",
      " 25%|████████████████████                                                            | 100/400 [01:31<03:48,  1.31it/s]"
     ]
    },
    {
     "name": "stdout",
     "output_type": "stream",
     "text": [
      "Shape of output:  (2424, 557)\n"
     ]
    },
    {
     "name": "stderr",
     "output_type": "stream",
     "text": [
      "\r",
      " 25%|████████████████████▏                                                           | 101/400 [01:31<03:43,  1.34it/s]"
     ]
    },
    {
     "name": "stdout",
     "output_type": "stream",
     "text": [
      "Shape of output:  (2448, 557)\n"
     ]
    },
    {
     "name": "stderr",
     "output_type": "stream",
     "text": [
      "\r",
      " 26%|████████████████████▍                                                           | 102/400 [01:32<03:44,  1.33it/s]"
     ]
    },
    {
     "name": "stdout",
     "output_type": "stream",
     "text": [
      "Shape of output:  (2472, 557)\n"
     ]
    },
    {
     "name": "stderr",
     "output_type": "stream",
     "text": [
      "\r",
      " 26%|████████████████████▌                                                           | 103/400 [01:33<03:40,  1.35it/s]"
     ]
    },
    {
     "name": "stdout",
     "output_type": "stream",
     "text": [
      "Shape of output:  (2496, 557)\n"
     ]
    },
    {
     "name": "stderr",
     "output_type": "stream",
     "text": [
      "\r",
      " 26%|████████████████████▊                                                           | 104/400 [01:34<03:47,  1.30it/s]"
     ]
    },
    {
     "name": "stdout",
     "output_type": "stream",
     "text": [
      "Shape of output:  (2520, 557)\n"
     ]
    },
    {
     "name": "stderr",
     "output_type": "stream",
     "text": [
      "\r",
      " 26%|█████████████████████                                                           | 105/400 [01:34<03:44,  1.31it/s]"
     ]
    },
    {
     "name": "stdout",
     "output_type": "stream",
     "text": [
      "Shape of output:  (2544, 557)\n"
     ]
    },
    {
     "name": "stderr",
     "output_type": "stream",
     "text": [
      "\r",
      " 26%|█████████████████████▏                                                          | 106/400 [01:35<03:44,  1.31it/s]"
     ]
    },
    {
     "name": "stdout",
     "output_type": "stream",
     "text": [
      "Shape of output:  (2568, 557)\n"
     ]
    },
    {
     "name": "stderr",
     "output_type": "stream",
     "text": [
      "\r",
      " 27%|█████████████████████▍                                                          | 107/400 [01:36<03:41,  1.32it/s]"
     ]
    },
    {
     "name": "stdout",
     "output_type": "stream",
     "text": [
      "Shape of output:  (2592, 557)\n",
      "k =  10230523.0 \n",
      "ErrorMessage:  index -4 is out of bounds for axis 0 with size 3\n",
      "k =  10230523.0 \n",
      "ErrorMessage:  index -5 is out of bounds for axis 0 with size 3\n",
      "k =  10230523.0 \n",
      "ErrorMessage:  index -4 is out of bounds for axis 0 with size 3\n",
      "k =  10230523.0 \n",
      "ErrorMessage:  index -5 is out of bounds for axis 0 with size 3\n",
      "k =  10230523.0 \n",
      "ErrorMessage:  index -4 is out of bounds for axis 0 with size 3\n",
      "k =  10230523.0 \n",
      "ErrorMessage:  index -5 is out of bounds for axis 0 with size 3\n",
      "k =  10230523.0 \n",
      "ErrorMessage:  index -4 is out of bounds for axis 0 with size 3\n",
      "k =  10230523.0 \n",
      "ErrorMessage:  index -5 is out of bounds for axis 0 with size 3\n",
      "k =  10230523.0 \n",
      "ErrorMessage:  index -4 is out of bounds for axis 0 with size 3\n",
      "k =  10230523.0 \n",
      "ErrorMessage:  index -5 is out of bounds for axis 0 with size 3\n",
      "k =  10230523.0 \n",
      "ErrorMessage:  index -4 is out of bounds for axis 0 with size 3\n",
      "k =  10230523.0 \n",
      "ErrorMessage:  index -5 is out of bounds for axis 0 with size 3\n",
      "k =  10230523.0 \n",
      "ErrorMessage:  index -4 is out of bounds for axis 0 with size 3\n",
      "k =  10230523.0 \n",
      "ErrorMessage:  index -5 is out of bounds for axis 0 with size 3\n",
      "k =  10230523.0 \n",
      "ErrorMessage:  index -4 is out of bounds for axis 0 with size 3\n",
      "k =  10230523.0 \n",
      "ErrorMessage:  index -5 is out of bounds for axis 0 with size 3\n",
      "k =  10230523.0 \n",
      "ErrorMessage:  index -4 is out of bounds for axis 0 with size 3\n",
      "k =  10230523.0 \n",
      "ErrorMessage:  index -5 is out of bounds for axis 0 with size 3\n",
      "k =  10230523.0 \n",
      "ErrorMessage:  index -4 is out of bounds for axis 0 with size 3\n",
      "k =  10230523.0 \n",
      "ErrorMessage:  index -5 is out of bounds for axis 0 with size 3\n",
      "k =  10230523.0 \n",
      "ErrorMessage:  index -4 is out of bounds for axis 0 with size 3\n",
      "k =  10230523.0 \n",
      "ErrorMessage:  index -5 is out of bounds for axis 0 with size 3\n",
      "k =  10230523.0 \n",
      "ErrorMessage:  index -4 is out of bounds for axis 0 with size 3\n",
      "k =  10230523.0 \n",
      "ErrorMessage:  index -5 is out of bounds for axis 0 with size 3\n",
      "k =  10230523.0 \n",
      "ErrorMessage:  index -4 is out of bounds for axis 0 with size 3\n",
      "k =  10230523.0 \n",
      "ErrorMessage:  index -5 is out of bounds for axis 0 with size 3\n",
      "k =  10230523.0 \n",
      "ErrorMessage:  index -4 is out of bounds for axis 0 with size 3\n",
      "k =  10230523.0 \n",
      "ErrorMessage:  index -5 is out of bounds for axis 0 with size 3\n",
      "k =  10230523.0 \n",
      "ErrorMessage:  index -4 is out of bounds for axis 0 with size 3\n",
      "k =  10230523.0 \n",
      "ErrorMessage:  index -5 is out of bounds for axis 0 with size 3\n",
      "k =  10230523.0 \n",
      "ErrorMessage:  index -4 is out of bounds for axis 0 with size 3\n",
      "k =  10230523.0 \n",
      "ErrorMessage:  index -5 is out of bounds for axis 0 with size 3\n",
      "k =  10230523.0 \n",
      "ErrorMessage:  index -4 is out of bounds for axis 0 with size 3\n",
      "k =  10230523.0 \n",
      "ErrorMessage:  index -5 is out of bounds for axis 0 with size 3\n",
      "k =  10230523.0 \n",
      "ErrorMessage:  index -4 is out of bounds for axis 0 with size 3\n",
      "k =  10230523.0 \n",
      "ErrorMessage:  index -5 is out of bounds for axis 0 with size 3\n",
      "k =  10230523.0 \n",
      "ErrorMessage:  index -4 is out of bounds for axis 0 with size 3\n",
      "k =  10230523.0 \n",
      "ErrorMessage:  index -5 is out of bounds for axis 0 with size 3\n",
      "k =  10230523.0 \n",
      "ErrorMessage:  index -4 is out of bounds for axis 0 with size 3\n",
      "k =  10230523.0 \n",
      "ErrorMessage:  index -5 is out of bounds for axis 0 with size 3\n",
      "k =  10230523.0 \n",
      "ErrorMessage:  index -4 is out of bounds for axis 0 with size 3\n",
      "k =  10230523.0 \n",
      "ErrorMessage:  index -5 is out of bounds for axis 0 with size 3\n",
      "k =  10230523.0 \n",
      "ErrorMessage:  index -4 is out of bounds for axis 0 with size 3\n",
      "k =  10230523.0 \n",
      "ErrorMessage:  index -5 is out of bounds for axis 0 with size 3\n",
      "k =  10230523.0 \n",
      "ErrorMessage:  index -4 is out of bounds for axis 0 with size 3\n",
      "k =  10230523.0 \n",
      "ErrorMessage:  index -5 is out of bounds for axis 0 with size 3\n",
      "k =  10230523.0 \n",
      "ErrorMessage:  index -4 is out of bounds for axis 0 with size 3\n",
      "k =  10230523.0 \n",
      "ErrorMessage:  index -5 is out of bounds for axis 0 with size 3\n"
     ]
    },
    {
     "name": "stderr",
     "output_type": "stream",
     "text": [
      "\r",
      " 27%|█████████████████████▌                                                          | 108/400 [01:37<03:37,  1.34it/s]"
     ]
    },
    {
     "name": "stdout",
     "output_type": "stream",
     "text": [
      "Shape of output:  (2616, 557)\n"
     ]
    },
    {
     "name": "stderr",
     "output_type": "stream",
     "text": [
      "\r",
      " 27%|█████████████████████▊                                                          | 109/400 [01:37<03:35,  1.35it/s]"
     ]
    },
    {
     "name": "stdout",
     "output_type": "stream",
     "text": [
      "Shape of output:  (2640, 557)\n"
     ]
    },
    {
     "name": "stderr",
     "output_type": "stream",
     "text": [
      "\r",
      " 28%|██████████████████████                                                          | 110/400 [01:38<03:41,  1.31it/s]"
     ]
    },
    {
     "name": "stdout",
     "output_type": "stream",
     "text": [
      "Shape of output:  (2664, 557)\n"
     ]
    },
    {
     "name": "stderr",
     "output_type": "stream",
     "text": [
      "\r",
      " 28%|██████████████████████▏                                                         | 111/400 [01:39<03:48,  1.26it/s]"
     ]
    },
    {
     "name": "stdout",
     "output_type": "stream",
     "text": [
      "Shape of output:  (2688, 557)\n",
      "k =  10180698.0 \n",
      "ErrorMessage:  index -2 is out of bounds for axis 0 with size 1\n",
      "k =  10180698.0 \n",
      "ErrorMessage:  index -3 is out of bounds for axis 0 with size 1\n",
      "k =  10180698.0 \n",
      "ErrorMessage:  index -4 is out of bounds for axis 0 with size 1\n",
      "k =  10180698.0 \n",
      "ErrorMessage:  index -5 is out of bounds for axis 0 with size 1\n",
      "k =  10180698.0 \n",
      "ErrorMessage:  index -2 is out of bounds for axis 0 with size 1\n",
      "k =  10180698.0 \n",
      "ErrorMessage:  index -3 is out of bounds for axis 0 with size 1\n",
      "k =  10180698.0 \n",
      "ErrorMessage:  index -4 is out of bounds for axis 0 with size 1\n",
      "k =  10180698.0 \n",
      "ErrorMessage:  index -5 is out of bounds for axis 0 with size 1\n",
      "k =  10180698.0 \n",
      "ErrorMessage:  index -2 is out of bounds for axis 0 with size 1\n",
      "k =  10180698.0 \n",
      "ErrorMessage:  index -3 is out of bounds for axis 0 with size 1\n",
      "k =  10180698.0 \n",
      "ErrorMessage:  index -4 is out of bounds for axis 0 with size 1\n",
      "k =  10180698.0 \n",
      "ErrorMessage:  index -5 is out of bounds for axis 0 with size 1\n",
      "k =  10180698.0 \n",
      "ErrorMessage:  index -2 is out of bounds for axis 0 with size 1\n",
      "k =  10180698.0 \n",
      "ErrorMessage:  index -3 is out of bounds for axis 0 with size 1\n",
      "k =  10180698.0 \n",
      "ErrorMessage:  index -4 is out of bounds for axis 0 with size 1\n",
      "k =  10180698.0 \n",
      "ErrorMessage:  index -5 is out of bounds for axis 0 with size 1\n",
      "k =  10180698.0 \n",
      "ErrorMessage:  index -2 is out of bounds for axis 0 with size 1\n",
      "k =  10180698.0 \n",
      "ErrorMessage:  index -3 is out of bounds for axis 0 with size 1\n",
      "k =  10180698.0 \n",
      "ErrorMessage:  index -4 is out of bounds for axis 0 with size 1\n",
      "k =  10180698.0 \n",
      "ErrorMessage:  index -5 is out of bounds for axis 0 with size 1\n",
      "k =  10180698.0 \n",
      "ErrorMessage:  index -2 is out of bounds for axis 0 with size 1\n",
      "k =  10180698.0 \n",
      "ErrorMessage:  index -3 is out of bounds for axis 0 with size 1\n",
      "k =  10180698.0 \n",
      "ErrorMessage:  index -4 is out of bounds for axis 0 with size 1\n",
      "k =  10180698.0 \n",
      "ErrorMessage:  index -5 is out of bounds for axis 0 with size 1\n",
      "k =  10180698.0 \n",
      "ErrorMessage:  index -2 is out of bounds for axis 0 with size 1\n",
      "k =  10180698.0 \n",
      "ErrorMessage:  index -3 is out of bounds for axis 0 with size 1\n",
      "k =  10180698.0 \n",
      "ErrorMessage:  index -4 is out of bounds for axis 0 with size 1\n",
      "k =  10180698.0 \n",
      "ErrorMessage:  index -5 is out of bounds for axis 0 with size 1\n",
      "k =  10180698.0 \n",
      "ErrorMessage:  index -2 is out of bounds for axis 0 with size 1\n",
      "k =  10180698.0 \n",
      "ErrorMessage:  index -3 is out of bounds for axis 0 with size 1\n",
      "k =  10180698.0 \n",
      "ErrorMessage:  index -4 is out of bounds for axis 0 with size 1\n",
      "k =  10180698.0 \n",
      "ErrorMessage:  index -5 is out of bounds for axis 0 with size 1\n",
      "k =  10180698.0 \n",
      "ErrorMessage:  index -2 is out of bounds for axis 0 with size 1\n",
      "k =  10180698.0 \n",
      "ErrorMessage:  index -3 is out of bounds for axis 0 with size 1\n",
      "k =  10180698.0 \n",
      "ErrorMessage:  index -4 is out of bounds for axis 0 with size 1\n",
      "k =  10180698.0 \n",
      "ErrorMessage:  index -5 is out of bounds for axis 0 with size 1\n",
      "k =  10180698.0 \n",
      "ErrorMessage:  index -2 is out of bounds for axis 0 with size 1\n",
      "k =  10180698.0 \n",
      "ErrorMessage:  index -3 is out of bounds for axis 0 with size 1\n",
      "k =  10180698.0 \n",
      "ErrorMessage:  index -4 is out of bounds for axis 0 with size 1\n",
      "k =  10180698.0 \n",
      "ErrorMessage:  index -5 is out of bounds for axis 0 with size 1\n",
      "k =  10180698.0 \n",
      "ErrorMessage:  index -2 is out of bounds for axis 0 with size 1\n",
      "k =  10180698.0 \n",
      "ErrorMessage:  index -3 is out of bounds for axis 0 with size 1\n",
      "k =  10180698.0 \n",
      "ErrorMessage:  index -4 is out of bounds for axis 0 with size 1\n",
      "k =  10180698.0 \n",
      "ErrorMessage:  index -5 is out of bounds for axis 0 with size 1\n",
      "k =  10180698.0 \n",
      "ErrorMessage:  index -2 is out of bounds for axis 0 with size 1\n",
      "k =  10180698.0 \n",
      "ErrorMessage:  index -3 is out of bounds for axis 0 with size 1\n",
      "k =  10180698.0 \n",
      "ErrorMessage:  index -4 is out of bounds for axis 0 with size 1\n",
      "k =  10180698.0 \n",
      "ErrorMessage:  index -5 is out of bounds for axis 0 with size 1\n",
      "k =  10180698.0 \n",
      "ErrorMessage:  index -2 is out of bounds for axis 0 with size 1\n",
      "k =  10180698.0 \n",
      "ErrorMessage:  index -3 is out of bounds for axis 0 with size 1\n",
      "k =  10180698.0 \n",
      "ErrorMessage:  index -4 is out of bounds for axis 0 with size 1\n",
      "k =  10180698.0 \n",
      "ErrorMessage:  index -5 is out of bounds for axis 0 with size 1\n",
      "k =  10180698.0 \n",
      "ErrorMessage:  index -2 is out of bounds for axis 0 with size 1\n",
      "k =  10180698.0 \n",
      "ErrorMessage:  index -3 is out of bounds for axis 0 with size 1\n",
      "k =  10180698.0 \n",
      "ErrorMessage:  index -4 is out of bounds for axis 0 with size 1\n",
      "k =  10180698.0 \n",
      "ErrorMessage:  index -5 is out of bounds for axis 0 with size 1\n",
      "k =  10180698.0 \n",
      "ErrorMessage:  index -2 is out of bounds for axis 0 with size 1\n",
      "k =  10180698.0 \n",
      "ErrorMessage:  index -3 is out of bounds for axis 0 with size 1\n",
      "k =  10180698.0 \n",
      "ErrorMessage:  index -4 is out of bounds for axis 0 with size 1\n",
      "k =  10180698.0 \n",
      "ErrorMessage:  index -5 is out of bounds for axis 0 with size 1\n",
      "k =  10180698.0 \n",
      "ErrorMessage:  index -2 is out of bounds for axis 0 with size 1\n",
      "k =  10180698.0 \n",
      "ErrorMessage:  index -3 is out of bounds for axis 0 with size 1\n",
      "k =  10180698.0 \n",
      "ErrorMessage:  index -4 is out of bounds for axis 0 with size 1\n",
      "k =  10180698.0 \n",
      "ErrorMessage:  index -5 is out of bounds for axis 0 with size 1\n",
      "k =  10180698.0 \n",
      "ErrorMessage:  index -2 is out of bounds for axis 0 with size 1\n",
      "k =  10180698.0 \n",
      "ErrorMessage:  index -3 is out of bounds for axis 0 with size 1\n",
      "k =  10180698.0 \n",
      "ErrorMessage:  index -4 is out of bounds for axis 0 with size 1\n",
      "k =  10180698.0 \n",
      "ErrorMessage:  index -5 is out of bounds for axis 0 with size 1\n",
      "k =  10180698.0 \n",
      "ErrorMessage:  index -2 is out of bounds for axis 0 with size 1\n",
      "k =  10180698.0 \n",
      "ErrorMessage:  index -3 is out of bounds for axis 0 with size 1\n",
      "k =  10180698.0 \n",
      "ErrorMessage:  index -4 is out of bounds for axis 0 with size 1\n",
      "k =  10180698.0 \n",
      "ErrorMessage:  index -5 is out of bounds for axis 0 with size 1\n",
      "k =  10180698.0 \n",
      "ErrorMessage:  index -2 is out of bounds for axis 0 with size 1\n",
      "k =  10180698.0 \n",
      "ErrorMessage:  index -3 is out of bounds for axis 0 with size 1\n",
      "k =  10180698.0 \n",
      "ErrorMessage:  index -4 is out of bounds for axis 0 with size 1\n",
      "k =  10180698.0 \n",
      "ErrorMessage:  index -5 is out of bounds for axis 0 with size 1\n",
      "k =  10180698.0 \n",
      "ErrorMessage:  index -2 is out of bounds for axis 0 with size 1\n",
      "k =  10180698.0 \n",
      "ErrorMessage:  index -3 is out of bounds for axis 0 with size 1\n",
      "k =  10180698.0 \n",
      "ErrorMessage:  index -4 is out of bounds for axis 0 with size 1\n",
      "k =  10180698.0 \n",
      "ErrorMessage:  index -5 is out of bounds for axis 0 with size 1\n",
      "k =  10180698.0 \n",
      "ErrorMessage:  index -2 is out of bounds for axis 0 with size 1\n",
      "k =  10180698.0 \n",
      "ErrorMessage:  index -3 is out of bounds for axis 0 with size 1\n",
      "k =  10180698.0 \n",
      "ErrorMessage:  index -4 is out of bounds for axis 0 with size 1\n",
      "k =  10180698.0 \n",
      "ErrorMessage:  index -5 is out of bounds for axis 0 with size 1\n",
      "k =  10180698.0 \n",
      "ErrorMessage:  index -2 is out of bounds for axis 0 with size 1\n",
      "k =  10180698.0 \n",
      "ErrorMessage:  index -3 is out of bounds for axis 0 with size 1\n",
      "k =  10180698.0 \n",
      "ErrorMessage:  index -4 is out of bounds for axis 0 with size 1\n",
      "k =  10180698.0 \n",
      "ErrorMessage:  index -5 is out of bounds for axis 0 with size 1\n",
      "k =  10180698.0 \n",
      "ErrorMessage:  index -2 is out of bounds for axis 0 with size 1\n",
      "k =  10180698.0 \n",
      "ErrorMessage:  index -3 is out of bounds for axis 0 with size 1\n",
      "k =  10180698.0 \n",
      "ErrorMessage:  index -4 is out of bounds for axis 0 with size 1\n",
      "k =  10180698.0 \n",
      "ErrorMessage:  index -5 is out of bounds for axis 0 with size 1\n",
      "k =  10180698.0 \n",
      "ErrorMessage:  index -2 is out of bounds for axis 0 with size 1\n",
      "k =  10180698.0 \n",
      "ErrorMessage:  index -3 is out of bounds for axis 0 with size 1\n",
      "k =  10180698.0 \n",
      "ErrorMessage:  index -4 is out of bounds for axis 0 with size 1\n",
      "k =  10180698.0 \n",
      "ErrorMessage:  index -5 is out of bounds for axis 0 with size 1\n"
     ]
    },
    {
     "name": "stderr",
     "output_type": "stream",
     "text": [
      "\r",
      " 28%|██████████████████████▍                                                         | 112/400 [01:40<03:44,  1.28it/s]"
     ]
    },
    {
     "name": "stdout",
     "output_type": "stream",
     "text": [
      "Shape of output:  (2712, 557)\n"
     ]
    },
    {
     "name": "stderr",
     "output_type": "stream",
     "text": [
      "\r",
      " 28%|██████████████████████▌                                                         | 113/400 [01:40<03:41,  1.29it/s]"
     ]
    },
    {
     "name": "stdout",
     "output_type": "stream",
     "text": [
      "Shape of output:  (2736, 557)\n"
     ]
    },
    {
     "name": "stderr",
     "output_type": "stream",
     "text": [
      "\r",
      " 28%|██████████████████████▊                                                         | 114/400 [01:41<03:35,  1.33it/s]"
     ]
    },
    {
     "name": "stdout",
     "output_type": "stream",
     "text": [
      "Shape of output:  (2760, 557)\n"
     ]
    },
    {
     "name": "stderr",
     "output_type": "stream",
     "text": [
      "\r",
      " 29%|███████████████████████                                                         | 115/400 [01:42<03:32,  1.34it/s]"
     ]
    },
    {
     "name": "stdout",
     "output_type": "stream",
     "text": [
      "Shape of output:  (2784, 557)\n"
     ]
    },
    {
     "name": "stderr",
     "output_type": "stream",
     "text": [
      "\r",
      " 29%|███████████████████████▏                                                        | 116/400 [01:43<03:29,  1.36it/s]"
     ]
    },
    {
     "name": "stdout",
     "output_type": "stream",
     "text": [
      "Shape of output:  (2808, 557)\n"
     ]
    },
    {
     "name": "stderr",
     "output_type": "stream",
     "text": [
      "\r",
      " 29%|███████████████████████▍                                                        | 117/400 [01:43<03:28,  1.36it/s]"
     ]
    },
    {
     "name": "stdout",
     "output_type": "stream",
     "text": [
      "Shape of output:  (2832, 557)\n"
     ]
    },
    {
     "name": "stderr",
     "output_type": "stream",
     "text": [
      "\r",
      " 30%|███████████████████████▌                                                        | 118/400 [01:44<03:29,  1.35it/s]"
     ]
    },
    {
     "name": "stdout",
     "output_type": "stream",
     "text": [
      "Shape of output:  (2856, 557)\n",
      "k =  10342485.0 \n",
      "ErrorMessage:  index -5 is out of bounds for axis 0 with size 4\n",
      "k =  10342485.0 \n",
      "ErrorMessage:  index -5 is out of bounds for axis 0 with size 4\n",
      "k =  10342485.0 \n",
      "ErrorMessage:  index -5 is out of bounds for axis 0 with size 4\n",
      "k =  10342485.0 \n",
      "ErrorMessage:  index -5 is out of bounds for axis 0 with size 4\n",
      "k =  10342485.0 \n",
      "ErrorMessage:  index -5 is out of bounds for axis 0 with size 4\n",
      "k =  10342485.0 \n",
      "ErrorMessage:  index -5 is out of bounds for axis 0 with size 4\n",
      "k =  10342485.0 \n",
      "ErrorMessage:  index -5 is out of bounds for axis 0 with size 4\n",
      "k =  10342485.0 \n",
      "ErrorMessage:  index -5 is out of bounds for axis 0 with size 4\n",
      "k =  10342485.0 \n",
      "ErrorMessage:  index -5 is out of bounds for axis 0 with size 4\n",
      "k =  10342485.0 \n",
      "ErrorMessage:  index -5 is out of bounds for axis 0 with size 4\n",
      "k =  10342485.0 \n",
      "ErrorMessage:  index -5 is out of bounds for axis 0 with size 4\n",
      "k =  10342485.0 \n",
      "ErrorMessage:  index -5 is out of bounds for axis 0 with size 4\n",
      "k =  10342485.0 \n",
      "ErrorMessage:  index -5 is out of bounds for axis 0 with size 4\n",
      "k =  10342485.0 \n",
      "ErrorMessage:  index -5 is out of bounds for axis 0 with size 4\n",
      "k =  10342485.0 \n",
      "ErrorMessage:  index -5 is out of bounds for axis 0 with size 4\n",
      "k =  10342485.0 \n",
      "ErrorMessage:  index -5 is out of bounds for axis 0 with size 4\n",
      "k =  10342485.0 \n",
      "ErrorMessage:  index -5 is out of bounds for axis 0 with size 4\n",
      "k =  10342485.0 \n",
      "ErrorMessage:  index -5 is out of bounds for axis 0 with size 4\n",
      "k =  10342485.0 \n",
      "ErrorMessage:  index -5 is out of bounds for axis 0 with size 4\n",
      "k =  10342485.0 \n",
      "ErrorMessage:  index -5 is out of bounds for axis 0 with size 4\n",
      "k =  10342485.0 \n",
      "ErrorMessage:  index -5 is out of bounds for axis 0 with size 4\n",
      "k =  10342485.0 \n",
      "ErrorMessage:  index -5 is out of bounds for axis 0 with size 4\n",
      "k =  10342485.0 \n",
      "ErrorMessage:  index -5 is out of bounds for axis 0 with size 4\n",
      "k =  10342485.0 \n",
      "ErrorMessage:  index -5 is out of bounds for axis 0 with size 4\n"
     ]
    },
    {
     "name": "stderr",
     "output_type": "stream",
     "text": [
      "\r",
      " 30%|███████████████████████▊                                                        | 119/400 [01:45<03:30,  1.33it/s]"
     ]
    },
    {
     "name": "stdout",
     "output_type": "stream",
     "text": [
      "Shape of output:  (2880, 557)\n"
     ]
    },
    {
     "name": "stderr",
     "output_type": "stream",
     "text": [
      "\r",
      " 30%|████████████████████████                                                        | 120/400 [01:46<03:31,  1.32it/s]"
     ]
    },
    {
     "name": "stdout",
     "output_type": "stream",
     "text": [
      "Shape of output:  (2904, 557)\n"
     ]
    },
    {
     "name": "stderr",
     "output_type": "stream",
     "text": [
      "\r",
      " 30%|████████████████████████▏                                                       | 121/400 [01:46<03:30,  1.33it/s]"
     ]
    },
    {
     "name": "stdout",
     "output_type": "stream",
     "text": [
      "Shape of output:  (2928, 557)\n"
     ]
    },
    {
     "name": "stderr",
     "output_type": "stream",
     "text": [
      "\r",
      " 30%|████████████████████████▍                                                       | 122/400 [01:47<03:26,  1.35it/s]"
     ]
    },
    {
     "name": "stdout",
     "output_type": "stream",
     "text": [
      "Shape of output:  (2952, 557)\n"
     ]
    },
    {
     "name": "stderr",
     "output_type": "stream",
     "text": [
      "\r",
      " 31%|████████████████████████▌                                                       | 123/400 [01:48<03:26,  1.34it/s]"
     ]
    },
    {
     "name": "stdout",
     "output_type": "stream",
     "text": [
      "Shape of output:  (2976, 557)\n"
     ]
    },
    {
     "name": "stderr",
     "output_type": "stream",
     "text": [
      "\r",
      " 31%|████████████████████████▊                                                       | 124/400 [01:49<03:26,  1.34it/s]"
     ]
    },
    {
     "name": "stdout",
     "output_type": "stream",
     "text": [
      "Shape of output:  (3000, 557)\n"
     ]
    },
    {
     "name": "stderr",
     "output_type": "stream",
     "text": [
      "\r",
      " 31%|█████████████████████████                                                       | 125/400 [01:49<03:25,  1.34it/s]"
     ]
    },
    {
     "name": "stdout",
     "output_type": "stream",
     "text": [
      "Shape of output:  (3024, 557)\n"
     ]
    },
    {
     "name": "stderr",
     "output_type": "stream",
     "text": [
      "\r",
      " 32%|█████████████████████████▏                                                      | 126/400 [01:50<03:22,  1.36it/s]"
     ]
    },
    {
     "name": "stdout",
     "output_type": "stream",
     "text": [
      "Shape of output:  (3048, 557)\n"
     ]
    },
    {
     "name": "stderr",
     "output_type": "stream",
     "text": [
      "\r",
      " 32%|█████████████████████████▍                                                      | 127/400 [01:51<03:21,  1.35it/s]"
     ]
    },
    {
     "name": "stdout",
     "output_type": "stream",
     "text": [
      "Shape of output:  (3072, 557)\n"
     ]
    },
    {
     "name": "stderr",
     "output_type": "stream",
     "text": [
      "\r",
      " 32%|█████████████████████████▌                                                      | 128/400 [01:52<03:22,  1.34it/s]"
     ]
    },
    {
     "name": "stdout",
     "output_type": "stream",
     "text": [
      "Shape of output:  (3096, 557)\n"
     ]
    },
    {
     "name": "stderr",
     "output_type": "stream",
     "text": [
      "\r",
      " 32%|█████████████████████████▊                                                      | 129/400 [01:52<03:23,  1.33it/s]"
     ]
    },
    {
     "name": "stdout",
     "output_type": "stream",
     "text": [
      "Shape of output:  (3120, 557)\n"
     ]
    },
    {
     "name": "stderr",
     "output_type": "stream",
     "text": [
      "\r",
      " 32%|██████████████████████████                                                      | 130/400 [01:53<03:26,  1.31it/s]"
     ]
    },
    {
     "name": "stdout",
     "output_type": "stream",
     "text": [
      "Shape of output:  (3144, 557)\n"
     ]
    },
    {
     "name": "stderr",
     "output_type": "stream",
     "text": [
      "\r",
      " 33%|██████████████████████████▏                                                     | 131/400 [01:54<03:26,  1.30it/s]"
     ]
    },
    {
     "name": "stdout",
     "output_type": "stream",
     "text": [
      "Shape of output:  (3168, 557)\n"
     ]
    },
    {
     "name": "stderr",
     "output_type": "stream",
     "text": [
      "\r",
      " 33%|██████████████████████████▍                                                     | 132/400 [01:55<03:23,  1.32it/s]"
     ]
    },
    {
     "name": "stdout",
     "output_type": "stream",
     "text": [
      "Shape of output:  (3192, 557)\n",
      "k =  10239877.0 \n",
      "ErrorMessage:  index -5 is out of bounds for axis 0 with size 4\n",
      "k =  10239877.0 \n",
      "ErrorMessage:  index -5 is out of bounds for axis 0 with size 4\n",
      "k =  10239877.0 \n",
      "ErrorMessage:  index -5 is out of bounds for axis 0 with size 4\n",
      "k =  10239877.0 \n",
      "ErrorMessage:  index -5 is out of bounds for axis 0 with size 4\n",
      "k =  10239877.0 \n",
      "ErrorMessage:  index -5 is out of bounds for axis 0 with size 4\n",
      "k =  10239877.0 \n",
      "ErrorMessage:  index -5 is out of bounds for axis 0 with size 4\n",
      "k =  10239877.0 \n",
      "ErrorMessage:  index -5 is out of bounds for axis 0 with size 4\n",
      "k =  10239877.0 \n",
      "ErrorMessage:  index -5 is out of bounds for axis 0 with size 4\n",
      "k =  10239877.0 \n",
      "ErrorMessage:  index -5 is out of bounds for axis 0 with size 4\n",
      "k =  10239877.0 \n",
      "ErrorMessage:  index -5 is out of bounds for axis 0 with size 4\n",
      "k =  10239877.0 \n",
      "ErrorMessage:  index -5 is out of bounds for axis 0 with size 4\n",
      "k =  10239877.0 \n",
      "ErrorMessage:  index -5 is out of bounds for axis 0 with size 4\n",
      "k =  10239877.0 \n",
      "ErrorMessage:  index -5 is out of bounds for axis 0 with size 4\n",
      "k =  10239877.0 \n",
      "ErrorMessage:  index -5 is out of bounds for axis 0 with size 4\n",
      "k =  10239877.0 \n",
      "ErrorMessage:  index -5 is out of bounds for axis 0 with size 4\n",
      "k =  10239877.0 \n",
      "ErrorMessage:  index -5 is out of bounds for axis 0 with size 4\n",
      "k =  10239877.0 \n",
      "ErrorMessage:  index -5 is out of bounds for axis 0 with size 4\n",
      "k =  10239877.0 \n",
      "ErrorMessage:  index -5 is out of bounds for axis 0 with size 4\n",
      "k =  10239877.0 \n",
      "ErrorMessage:  index -5 is out of bounds for axis 0 with size 4\n",
      "k =  10239877.0 \n",
      "ErrorMessage:  index -5 is out of bounds for axis 0 with size 4\n",
      "k =  10239877.0 \n",
      "ErrorMessage:  index -5 is out of bounds for axis 0 with size 4\n",
      "k =  10239877.0 \n",
      "ErrorMessage:  index -5 is out of bounds for axis 0 with size 4\n",
      "k =  10239877.0 \n",
      "ErrorMessage:  index -5 is out of bounds for axis 0 with size 4\n",
      "k =  10239877.0 \n",
      "ErrorMessage:  index -5 is out of bounds for axis 0 with size 4\n"
     ]
    },
    {
     "name": "stderr",
     "output_type": "stream",
     "text": [
      "\r",
      " 33%|██████████████████████████▌                                                     | 133/400 [01:55<03:21,  1.33it/s]"
     ]
    },
    {
     "name": "stdout",
     "output_type": "stream",
     "text": [
      "Shape of output:  (3216, 557)\n"
     ]
    },
    {
     "name": "stderr",
     "output_type": "stream",
     "text": [
      "\r",
      " 34%|██████████████████████████▊                                                     | 134/400 [01:56<03:19,  1.33it/s]"
     ]
    },
    {
     "name": "stdout",
     "output_type": "stream",
     "text": [
      "Shape of output:  (3240, 569)\n"
     ]
    },
    {
     "name": "stderr",
     "output_type": "stream",
     "text": [
      "\r",
      " 34%|███████████████████████████                                                     | 135/400 [01:57<03:18,  1.34it/s]"
     ]
    },
    {
     "name": "stdout",
     "output_type": "stream",
     "text": [
      "Shape of output:  (3264, 569)\n"
     ]
    },
    {
     "name": "stderr",
     "output_type": "stream",
     "text": [
      "\r",
      " 34%|███████████████████████████▏                                                    | 136/400 [01:58<03:18,  1.33it/s]"
     ]
    },
    {
     "name": "stdout",
     "output_type": "stream",
     "text": [
      "Shape of output:  (3288, 569)\n"
     ]
    },
    {
     "name": "stderr",
     "output_type": "stream",
     "text": [
      "\r",
      " 34%|███████████████████████████▍                                                    | 137/400 [01:58<03:17,  1.33it/s]"
     ]
    },
    {
     "name": "stdout",
     "output_type": "stream",
     "text": [
      "Shape of output:  (3312, 569)\n"
     ]
    },
    {
     "name": "stderr",
     "output_type": "stream",
     "text": [
      "\r",
      " 34%|███████████████████████████▌                                                    | 138/400 [01:59<03:18,  1.32it/s]"
     ]
    },
    {
     "name": "stdout",
     "output_type": "stream",
     "text": [
      "Shape of output:  (3336, 569)\n"
     ]
    },
    {
     "name": "stderr",
     "output_type": "stream",
     "text": [
      "\r",
      " 35%|███████████████████████████▊                                                    | 139/400 [02:00<03:20,  1.30it/s]"
     ]
    },
    {
     "name": "stdout",
     "output_type": "stream",
     "text": [
      "Shape of output:  (3360, 569)\n"
     ]
    },
    {
     "name": "stderr",
     "output_type": "stream",
     "text": [
      "\r",
      " 35%|████████████████████████████                                                    | 140/400 [02:01<03:21,  1.29it/s]"
     ]
    },
    {
     "name": "stdout",
     "output_type": "stream",
     "text": [
      "Shape of output:  (3384, 569)\n",
      "k =  10000928.0 \n",
      "ErrorMessage:  index -3 is out of bounds for axis 0 with size 2\n",
      "k =  10000928.0 \n",
      "ErrorMessage:  index -4 is out of bounds for axis 0 with size 2\n",
      "k =  10000928.0 \n",
      "ErrorMessage:  index -5 is out of bounds for axis 0 with size 2\n",
      "k =  10000928.0 \n",
      "ErrorMessage:  index -3 is out of bounds for axis 0 with size 2\n",
      "k =  10000928.0 \n",
      "ErrorMessage:  index -4 is out of bounds for axis 0 with size 2\n",
      "k =  10000928.0 \n",
      "ErrorMessage:  index -5 is out of bounds for axis 0 with size 2\n",
      "k =  10000928.0 \n",
      "ErrorMessage:  index -3 is out of bounds for axis 0 with size 2\n",
      "k =  10000928.0 \n",
      "ErrorMessage:  index -4 is out of bounds for axis 0 with size 2\n",
      "k =  10000928.0 \n",
      "ErrorMessage:  index -5 is out of bounds for axis 0 with size 2\n",
      "k =  10000928.0 \n",
      "ErrorMessage:  index -3 is out of bounds for axis 0 with size 2\n",
      "k =  10000928.0 \n",
      "ErrorMessage:  index -4 is out of bounds for axis 0 with size 2\n",
      "k =  10000928.0 \n",
      "ErrorMessage:  index -5 is out of bounds for axis 0 with size 2\n",
      "k =  10000928.0 \n",
      "ErrorMessage:  index -3 is out of bounds for axis 0 with size 2\n",
      "k =  10000928.0 \n",
      "ErrorMessage:  index -4 is out of bounds for axis 0 with size 2\n",
      "k =  10000928.0 \n",
      "ErrorMessage:  index -5 is out of bounds for axis 0 with size 2\n",
      "k =  10000928.0 \n",
      "ErrorMessage:  index -3 is out of bounds for axis 0 with size 2\n",
      "k =  10000928.0 \n",
      "ErrorMessage:  index -4 is out of bounds for axis 0 with size 2\n",
      "k =  10000928.0 \n",
      "ErrorMessage:  index -5 is out of bounds for axis 0 with size 2\n",
      "k =  10000928.0 \n",
      "ErrorMessage:  index -3 is out of bounds for axis 0 with size 2\n",
      "k =  10000928.0 \n",
      "ErrorMessage:  index -4 is out of bounds for axis 0 with size 2\n",
      "k =  10000928.0 \n",
      "ErrorMessage:  index -5 is out of bounds for axis 0 with size 2\n",
      "k =  10000928.0 \n",
      "ErrorMessage:  index -3 is out of bounds for axis 0 with size 2\n",
      "k =  10000928.0 \n",
      "ErrorMessage:  index -4 is out of bounds for axis 0 with size 2\n",
      "k =  10000928.0 \n",
      "ErrorMessage:  index -5 is out of bounds for axis 0 with size 2\n",
      "k =  10000928.0 \n",
      "ErrorMessage:  index -3 is out of bounds for axis 0 with size 2\n",
      "k =  10000928.0 \n",
      "ErrorMessage:  index -4 is out of bounds for axis 0 with size 2\n",
      "k =  10000928.0 \n",
      "ErrorMessage:  index -5 is out of bounds for axis 0 with size 2\n",
      "k =  10000928.0 \n",
      "ErrorMessage:  index -3 is out of bounds for axis 0 with size 2\n",
      "k =  10000928.0 \n",
      "ErrorMessage:  index -4 is out of bounds for axis 0 with size 2\n",
      "k =  10000928.0 \n",
      "ErrorMessage:  index -5 is out of bounds for axis 0 with size 2\n",
      "k =  10000928.0 \n",
      "ErrorMessage:  index -3 is out of bounds for axis 0 with size 2\n",
      "k =  10000928.0 \n",
      "ErrorMessage:  index -4 is out of bounds for axis 0 with size 2\n",
      "k =  10000928.0 \n",
      "ErrorMessage:  index -5 is out of bounds for axis 0 with size 2\n",
      "k =  10000928.0 \n",
      "ErrorMessage:  index -3 is out of bounds for axis 0 with size 2\n",
      "k =  10000928.0 \n",
      "ErrorMessage:  index -4 is out of bounds for axis 0 with size 2\n",
      "k =  10000928.0 \n",
      "ErrorMessage:  index -5 is out of bounds for axis 0 with size 2\n",
      "k =  10000928.0 \n",
      "ErrorMessage:  index -3 is out of bounds for axis 0 with size 2\n",
      "k =  10000928.0 \n",
      "ErrorMessage:  index -4 is out of bounds for axis 0 with size 2\n",
      "k =  10000928.0 \n",
      "ErrorMessage:  index -5 is out of bounds for axis 0 with size 2\n",
      "k =  10000928.0 \n",
      "ErrorMessage:  index -3 is out of bounds for axis 0 with size 2\n",
      "k =  10000928.0 \n",
      "ErrorMessage:  index -4 is out of bounds for axis 0 with size 2\n",
      "k =  10000928.0 \n",
      "ErrorMessage:  index -5 is out of bounds for axis 0 with size 2\n",
      "k =  10000928.0 \n",
      "ErrorMessage:  index -3 is out of bounds for axis 0 with size 2\n",
      "k =  10000928.0 \n",
      "ErrorMessage:  index -4 is out of bounds for axis 0 with size 2\n",
      "k =  10000928.0 \n",
      "ErrorMessage:  index -5 is out of bounds for axis 0 with size 2\n",
      "k =  10000928.0 \n",
      "ErrorMessage:  index -3 is out of bounds for axis 0 with size 2\n",
      "k =  10000928.0 \n",
      "ErrorMessage:  index -4 is out of bounds for axis 0 with size 2\n",
      "k =  10000928.0 \n",
      "ErrorMessage:  index -5 is out of bounds for axis 0 with size 2\n",
      "k =  10000928.0 \n",
      "ErrorMessage:  index -3 is out of bounds for axis 0 with size 2\n",
      "k =  10000928.0 \n",
      "ErrorMessage:  index -4 is out of bounds for axis 0 with size 2\n",
      "k =  10000928.0 \n",
      "ErrorMessage:  index -5 is out of bounds for axis 0 with size 2\n",
      "k =  10000928.0 \n",
      "ErrorMessage:  index -3 is out of bounds for axis 0 with size 2\n",
      "k =  10000928.0 \n",
      "ErrorMessage:  index -4 is out of bounds for axis 0 with size 2\n",
      "k =  10000928.0 \n",
      "ErrorMessage:  index -5 is out of bounds for axis 0 with size 2\n",
      "k =  10000928.0 \n",
      "ErrorMessage:  index -3 is out of bounds for axis 0 with size 2\n",
      "k =  10000928.0 \n",
      "ErrorMessage:  index -4 is out of bounds for axis 0 with size 2\n",
      "k =  10000928.0 \n",
      "ErrorMessage:  index -5 is out of bounds for axis 0 with size 2\n",
      "k =  10000928.0 \n",
      "ErrorMessage:  index -3 is out of bounds for axis 0 with size 2\n",
      "k =  10000928.0 \n",
      "ErrorMessage:  index -4 is out of bounds for axis 0 with size 2\n",
      "k =  10000928.0 \n",
      "ErrorMessage:  index -5 is out of bounds for axis 0 with size 2\n",
      "k =  10000928.0 \n",
      "ErrorMessage:  index -3 is out of bounds for axis 0 with size 2\n",
      "k =  10000928.0 \n",
      "ErrorMessage:  index -4 is out of bounds for axis 0 with size 2\n",
      "k =  10000928.0 \n",
      "ErrorMessage:  index -5 is out of bounds for axis 0 with size 2\n",
      "k =  10000928.0 \n",
      "ErrorMessage:  index -3 is out of bounds for axis 0 with size 2\n",
      "k =  10000928.0 \n",
      "ErrorMessage:  index -4 is out of bounds for axis 0 with size 2\n",
      "k =  10000928.0 \n",
      "ErrorMessage:  index -5 is out of bounds for axis 0 with size 2\n",
      "k =  10000928.0 \n",
      "ErrorMessage:  index -3 is out of bounds for axis 0 with size 2\n",
      "k =  10000928.0 \n",
      "ErrorMessage:  index -4 is out of bounds for axis 0 with size 2\n",
      "k =  10000928.0 \n",
      "ErrorMessage:  index -5 is out of bounds for axis 0 with size 2\n",
      "k =  10000928.0 \n",
      "ErrorMessage:  index -3 is out of bounds for axis 0 with size 2\n",
      "k =  10000928.0 \n",
      "ErrorMessage:  index -4 is out of bounds for axis 0 with size 2\n",
      "k =  10000928.0 \n",
      "ErrorMessage:  index -5 is out of bounds for axis 0 with size 2\n"
     ]
    },
    {
     "name": "stderr",
     "output_type": "stream",
     "text": [
      "\r",
      " 35%|████████████████████████████▏                                                   | 141/400 [02:01<03:18,  1.31it/s]"
     ]
    },
    {
     "name": "stdout",
     "output_type": "stream",
     "text": [
      "Shape of output:  (3408, 569)\n"
     ]
    },
    {
     "name": "stderr",
     "output_type": "stream",
     "text": [
      "\r",
      " 36%|████████████████████████████▍                                                   | 142/400 [02:02<03:15,  1.32it/s]"
     ]
    },
    {
     "name": "stdout",
     "output_type": "stream",
     "text": [
      "Shape of output:  (3432, 569)\n"
     ]
    },
    {
     "name": "stderr",
     "output_type": "stream",
     "text": [
      "\r",
      " 36%|████████████████████████████▌                                                   | 143/400 [02:03<03:16,  1.31it/s]"
     ]
    },
    {
     "name": "stdout",
     "output_type": "stream",
     "text": [
      "Shape of output:  (3456, 569)\n"
     ]
    },
    {
     "name": "stderr",
     "output_type": "stream",
     "text": [
      "\r",
      " 36%|████████████████████████████▊                                                   | 144/400 [02:04<03:19,  1.28it/s]"
     ]
    },
    {
     "name": "stdout",
     "output_type": "stream",
     "text": [
      "Shape of output:  (3480, 569)\n"
     ]
    },
    {
     "name": "stderr",
     "output_type": "stream",
     "text": [
      "\r",
      " 36%|█████████████████████████████                                                   | 145/400 [02:05<03:23,  1.25it/s]"
     ]
    },
    {
     "name": "stdout",
     "output_type": "stream",
     "text": [
      "Shape of output:  (3504, 569)\n"
     ]
    },
    {
     "name": "stderr",
     "output_type": "stream",
     "text": [
      "\r",
      " 36%|█████████████████████████████▏                                                  | 146/400 [02:05<03:23,  1.25it/s]"
     ]
    },
    {
     "name": "stdout",
     "output_type": "stream",
     "text": [
      "Shape of output:  (3528, 569)\n"
     ]
    },
    {
     "name": "stderr",
     "output_type": "stream",
     "text": [
      "\r",
      " 37%|█████████████████████████████▍                                                  | 147/400 [02:06<03:19,  1.27it/s]"
     ]
    },
    {
     "name": "stdout",
     "output_type": "stream",
     "text": [
      "Shape of output:  (3552, 569)\n",
      "k =  10161139.0 \n",
      "ErrorMessage:  index -3 is out of bounds for axis 0 with size 2\n",
      "k =  10161139.0 \n",
      "ErrorMessage:  index -4 is out of bounds for axis 0 with size 2\n",
      "k =  10161139.0 \n",
      "ErrorMessage:  index -5 is out of bounds for axis 0 with size 2\n",
      "k =  10161139.0 \n",
      "ErrorMessage:  index -3 is out of bounds for axis 0 with size 2\n",
      "k =  10161139.0 \n",
      "ErrorMessage:  index -4 is out of bounds for axis 0 with size 2\n",
      "k =  10161139.0 \n",
      "ErrorMessage:  index -5 is out of bounds for axis 0 with size 2\n",
      "k =  10161139.0 \n",
      "ErrorMessage:  index -3 is out of bounds for axis 0 with size 2\n",
      "k =  10161139.0 \n",
      "ErrorMessage:  index -4 is out of bounds for axis 0 with size 2\n",
      "k =  10161139.0 \n",
      "ErrorMessage:  index -5 is out of bounds for axis 0 with size 2\n",
      "k =  10161139.0 \n",
      "ErrorMessage:  index -3 is out of bounds for axis 0 with size 2\n",
      "k =  10161139.0 \n",
      "ErrorMessage:  index -4 is out of bounds for axis 0 with size 2\n",
      "k =  10161139.0 \n",
      "ErrorMessage:  index -5 is out of bounds for axis 0 with size 2\n",
      "k =  10161139.0 \n",
      "ErrorMessage:  index -3 is out of bounds for axis 0 with size 2\n",
      "k =  10161139.0 \n",
      "ErrorMessage:  index -4 is out of bounds for axis 0 with size 2\n",
      "k =  10161139.0 \n",
      "ErrorMessage:  index -5 is out of bounds for axis 0 with size 2\n",
      "k =  10161139.0 \n",
      "ErrorMessage:  index -3 is out of bounds for axis 0 with size 2\n",
      "k =  10161139.0 \n",
      "ErrorMessage:  index -4 is out of bounds for axis 0 with size 2\n",
      "k =  10161139.0 \n",
      "ErrorMessage:  index -5 is out of bounds for axis 0 with size 2\n",
      "k =  10161139.0 \n",
      "ErrorMessage:  index -3 is out of bounds for axis 0 with size 2\n",
      "k =  10161139.0 \n",
      "ErrorMessage:  index -4 is out of bounds for axis 0 with size 2\n",
      "k =  10161139.0 \n",
      "ErrorMessage:  index -5 is out of bounds for axis 0 with size 2\n",
      "k =  10161139.0 \n",
      "ErrorMessage:  index -3 is out of bounds for axis 0 with size 2\n",
      "k =  10161139.0 \n",
      "ErrorMessage:  index -4 is out of bounds for axis 0 with size 2\n",
      "k =  10161139.0 \n",
      "ErrorMessage:  index -5 is out of bounds for axis 0 with size 2\n",
      "k =  10161139.0 \n",
      "ErrorMessage:  index -3 is out of bounds for axis 0 with size 2\n",
      "k =  10161139.0 \n",
      "ErrorMessage:  index -4 is out of bounds for axis 0 with size 2\n",
      "k =  10161139.0 \n",
      "ErrorMessage:  index -5 is out of bounds for axis 0 with size 2\n",
      "k =  10161139.0 \n",
      "ErrorMessage:  index -3 is out of bounds for axis 0 with size 2\n",
      "k =  10161139.0 \n",
      "ErrorMessage:  index -4 is out of bounds for axis 0 with size 2\n",
      "k =  10161139.0 \n",
      "ErrorMessage:  index -5 is out of bounds for axis 0 with size 2\n",
      "k =  10161139.0 \n",
      "ErrorMessage:  index -3 is out of bounds for axis 0 with size 2\n",
      "k =  10161139.0 \n",
      "ErrorMessage:  index -4 is out of bounds for axis 0 with size 2\n",
      "k =  10161139.0 \n",
      "ErrorMessage:  index -5 is out of bounds for axis 0 with size 2\n",
      "k =  10161139.0 \n",
      "ErrorMessage:  index -3 is out of bounds for axis 0 with size 2\n",
      "k =  10161139.0 \n",
      "ErrorMessage:  index -4 is out of bounds for axis 0 with size 2\n",
      "k =  10161139.0 \n",
      "ErrorMessage:  index -5 is out of bounds for axis 0 with size 2\n",
      "k =  10161139.0 \n",
      "ErrorMessage:  index -3 is out of bounds for axis 0 with size 2\n",
      "k =  10161139.0 \n",
      "ErrorMessage:  index -4 is out of bounds for axis 0 with size 2\n",
      "k =  10161139.0 \n",
      "ErrorMessage:  index -5 is out of bounds for axis 0 with size 2\n",
      "k =  10161139.0 \n",
      "ErrorMessage:  index -3 is out of bounds for axis 0 with size 2\n",
      "k =  10161139.0 \n",
      "ErrorMessage:  index -4 is out of bounds for axis 0 with size 2\n",
      "k =  10161139.0 \n",
      "ErrorMessage:  index -5 is out of bounds for axis 0 with size 2\n",
      "k =  10161139.0 \n",
      "ErrorMessage:  index -3 is out of bounds for axis 0 with size 2\n",
      "k =  10161139.0 \n",
      "ErrorMessage:  index -4 is out of bounds for axis 0 with size 2\n",
      "k =  10161139.0 \n",
      "ErrorMessage:  index -5 is out of bounds for axis 0 with size 2\n",
      "k =  10161139.0 \n",
      "ErrorMessage:  index -3 is out of bounds for axis 0 with size 2\n",
      "k =  10161139.0 \n",
      "ErrorMessage:  index -4 is out of bounds for axis 0 with size 2\n",
      "k =  10161139.0 \n",
      "ErrorMessage:  index -5 is out of bounds for axis 0 with size 2\n",
      "k =  10161139.0 \n",
      "ErrorMessage:  index -3 is out of bounds for axis 0 with size 2\n",
      "k =  10161139.0 \n",
      "ErrorMessage:  index -4 is out of bounds for axis 0 with size 2\n",
      "k =  10161139.0 \n",
      "ErrorMessage:  index -5 is out of bounds for axis 0 with size 2\n",
      "k =  10161139.0 \n",
      "ErrorMessage:  index -3 is out of bounds for axis 0 with size 2\n",
      "k =  10161139.0 \n",
      "ErrorMessage:  index -4 is out of bounds for axis 0 with size 2\n",
      "k =  10161139.0 \n",
      "ErrorMessage:  index -5 is out of bounds for axis 0 with size 2\n",
      "k =  10161139.0 \n",
      "ErrorMessage:  index -3 is out of bounds for axis 0 with size 2\n",
      "k =  10161139.0 \n",
      "ErrorMessage:  index -4 is out of bounds for axis 0 with size 2\n",
      "k =  10161139.0 \n",
      "ErrorMessage:  index -5 is out of bounds for axis 0 with size 2\n",
      "k =  10161139.0 \n",
      "ErrorMessage:  index -3 is out of bounds for axis 0 with size 2\n",
      "k =  10161139.0 \n",
      "ErrorMessage:  index -4 is out of bounds for axis 0 with size 2\n",
      "k =  10161139.0 \n",
      "ErrorMessage:  index -5 is out of bounds for axis 0 with size 2\n",
      "k =  10161139.0 \n",
      "ErrorMessage:  index -3 is out of bounds for axis 0 with size 2\n",
      "k =  10161139.0 \n",
      "ErrorMessage:  index -4 is out of bounds for axis 0 with size 2\n",
      "k =  10161139.0 \n",
      "ErrorMessage:  index -5 is out of bounds for axis 0 with size 2\n",
      "k =  10161139.0 \n",
      "ErrorMessage:  index -3 is out of bounds for axis 0 with size 2\n",
      "k =  10161139.0 \n",
      "ErrorMessage:  index -4 is out of bounds for axis 0 with size 2\n",
      "k =  10161139.0 \n",
      "ErrorMessage:  index -5 is out of bounds for axis 0 with size 2\n",
      "k =  10161139.0 \n",
      "ErrorMessage:  index -3 is out of bounds for axis 0 with size 2\n",
      "k =  10161139.0 \n",
      "ErrorMessage:  index -4 is out of bounds for axis 0 with size 2\n",
      "k =  10161139.0 \n",
      "ErrorMessage:  index -5 is out of bounds for axis 0 with size 2\n",
      "k =  10161139.0 \n",
      "ErrorMessage:  index -3 is out of bounds for axis 0 with size 2\n",
      "k =  10161139.0 \n",
      "ErrorMessage:  index -4 is out of bounds for axis 0 with size 2\n",
      "k =  10161139.0 \n",
      "ErrorMessage:  index -5 is out of bounds for axis 0 with size 2\n"
     ]
    },
    {
     "name": "stderr",
     "output_type": "stream",
     "text": [
      "\r",
      " 37%|█████████████████████████████▌                                                  | 148/400 [02:07<03:12,  1.31it/s]"
     ]
    },
    {
     "name": "stdout",
     "output_type": "stream",
     "text": [
      "Shape of output:  (3576, 569)\n"
     ]
    },
    {
     "name": "stderr",
     "output_type": "stream",
     "text": [
      "\r",
      " 37%|█████████████████████████████▊                                                  | 149/400 [02:08<03:11,  1.31it/s]"
     ]
    },
    {
     "name": "stdout",
     "output_type": "stream",
     "text": [
      "Shape of output:  (3600, 569)\n"
     ]
    },
    {
     "name": "stderr",
     "output_type": "stream",
     "text": [
      "\r",
      " 38%|██████████████████████████████                                                  | 150/400 [02:08<03:08,  1.32it/s]"
     ]
    },
    {
     "name": "stdout",
     "output_type": "stream",
     "text": [
      "Shape of output:  (3624, 569)\n"
     ]
    },
    {
     "name": "stderr",
     "output_type": "stream",
     "text": [
      "\r",
      " 38%|██████████████████████████████▏                                                 | 151/400 [02:09<03:09,  1.32it/s]"
     ]
    },
    {
     "name": "stdout",
     "output_type": "stream",
     "text": [
      "Shape of output:  (3648, 569)\n"
     ]
    },
    {
     "name": "stderr",
     "output_type": "stream",
     "text": [
      "\r",
      " 38%|██████████████████████████████▍                                                 | 152/400 [02:10<03:06,  1.33it/s]"
     ]
    },
    {
     "name": "stdout",
     "output_type": "stream",
     "text": [
      "Shape of output:  (3672, 569)\n"
     ]
    },
    {
     "name": "stderr",
     "output_type": "stream",
     "text": [
      "\r",
      " 38%|██████████████████████████████▌                                                 | 153/400 [02:11<03:06,  1.32it/s]"
     ]
    },
    {
     "name": "stdout",
     "output_type": "stream",
     "text": [
      "Shape of output:  (3696, 569)\n"
     ]
    },
    {
     "name": "stderr",
     "output_type": "stream",
     "text": [
      "\r",
      " 38%|██████████████████████████████▊                                                 | 154/400 [02:11<03:02,  1.35it/s]"
     ]
    },
    {
     "name": "stdout",
     "output_type": "stream",
     "text": [
      "Shape of output:  (3720, 569)\n"
     ]
    },
    {
     "name": "stderr",
     "output_type": "stream",
     "text": [
      "\r",
      " 39%|███████████████████████████████                                                 | 155/400 [02:12<03:04,  1.33it/s]"
     ]
    },
    {
     "name": "stdout",
     "output_type": "stream",
     "text": [
      "Shape of output:  (3744, 569)\n",
      "k =  10243562.0 \n",
      "ErrorMessage:  index -2 is out of bounds for axis 0 with size 1\n",
      "k =  10243562.0 \n",
      "ErrorMessage:  index -3 is out of bounds for axis 0 with size 1\n",
      "k =  10243562.0 \n",
      "ErrorMessage:  index -4 is out of bounds for axis 0 with size 1\n",
      "k =  10243562.0 \n",
      "ErrorMessage:  index -5 is out of bounds for axis 0 with size 1\n",
      "k =  10243562.0 \n",
      "ErrorMessage:  index -2 is out of bounds for axis 0 with size 1\n",
      "k =  10243562.0 \n",
      "ErrorMessage:  index -3 is out of bounds for axis 0 with size 1\n",
      "k =  10243562.0 \n",
      "ErrorMessage:  index -4 is out of bounds for axis 0 with size 1\n",
      "k =  10243562.0 \n",
      "ErrorMessage:  index -5 is out of bounds for axis 0 with size 1\n",
      "k =  10243562.0 \n",
      "ErrorMessage:  index -2 is out of bounds for axis 0 with size 1\n",
      "k =  10243562.0 \n",
      "ErrorMessage:  index -3 is out of bounds for axis 0 with size 1\n",
      "k =  10243562.0 \n",
      "ErrorMessage:  index -4 is out of bounds for axis 0 with size 1\n",
      "k =  10243562.0 \n",
      "ErrorMessage:  index -5 is out of bounds for axis 0 with size 1\n",
      "k =  10243562.0 \n",
      "ErrorMessage:  index -2 is out of bounds for axis 0 with size 1\n",
      "k =  10243562.0 \n",
      "ErrorMessage:  index -3 is out of bounds for axis 0 with size 1\n",
      "k =  10243562.0 \n",
      "ErrorMessage:  index -4 is out of bounds for axis 0 with size 1\n",
      "k =  10243562.0 \n",
      "ErrorMessage:  index -5 is out of bounds for axis 0 with size 1\n",
      "k =  10243562.0 \n",
      "ErrorMessage:  index -2 is out of bounds for axis 0 with size 1\n",
      "k =  10243562.0 \n",
      "ErrorMessage:  index -3 is out of bounds for axis 0 with size 1\n",
      "k =  10243562.0 \n",
      "ErrorMessage:  index -4 is out of bounds for axis 0 with size 1\n",
      "k =  10243562.0 \n",
      "ErrorMessage:  index -5 is out of bounds for axis 0 with size 1\n",
      "k =  10243562.0 \n",
      "ErrorMessage:  index -2 is out of bounds for axis 0 with size 1\n",
      "k =  10243562.0 \n",
      "ErrorMessage:  index -3 is out of bounds for axis 0 with size 1\n",
      "k =  10243562.0 \n",
      "ErrorMessage:  index -4 is out of bounds for axis 0 with size 1\n",
      "k =  10243562.0 \n",
      "ErrorMessage:  index -5 is out of bounds for axis 0 with size 1\n",
      "k =  10243562.0 \n",
      "ErrorMessage:  index -2 is out of bounds for axis 0 with size 1\n",
      "k =  10243562.0 \n",
      "ErrorMessage:  index -3 is out of bounds for axis 0 with size 1\n",
      "k =  10243562.0 \n",
      "ErrorMessage:  index -4 is out of bounds for axis 0 with size 1\n",
      "k =  10243562.0 \n",
      "ErrorMessage:  index -5 is out of bounds for axis 0 with size 1\n",
      "k =  10243562.0 \n",
      "ErrorMessage:  index -2 is out of bounds for axis 0 with size 1\n",
      "k =  10243562.0 \n",
      "ErrorMessage:  index -3 is out of bounds for axis 0 with size 1\n",
      "k =  10243562.0 \n",
      "ErrorMessage:  index -4 is out of bounds for axis 0 with size 1\n",
      "k =  10243562.0 \n",
      "ErrorMessage:  index -5 is out of bounds for axis 0 with size 1\n",
      "k =  10243562.0 \n",
      "ErrorMessage:  index -2 is out of bounds for axis 0 with size 1\n",
      "k =  10243562.0 \n",
      "ErrorMessage:  index -3 is out of bounds for axis 0 with size 1\n",
      "k =  10243562.0 \n",
      "ErrorMessage:  index -4 is out of bounds for axis 0 with size 1\n",
      "k =  10243562.0 \n",
      "ErrorMessage:  index -5 is out of bounds for axis 0 with size 1\n",
      "k =  10243562.0 \n",
      "ErrorMessage:  index -2 is out of bounds for axis 0 with size 1\n",
      "k =  10243562.0 \n",
      "ErrorMessage:  index -3 is out of bounds for axis 0 with size 1\n",
      "k =  10243562.0 \n",
      "ErrorMessage:  index -4 is out of bounds for axis 0 with size 1\n",
      "k =  10243562.0 \n",
      "ErrorMessage:  index -5 is out of bounds for axis 0 with size 1\n",
      "k =  10243562.0 \n",
      "ErrorMessage:  index -2 is out of bounds for axis 0 with size 1\n",
      "k =  10243562.0 \n",
      "ErrorMessage:  index -3 is out of bounds for axis 0 with size 1\n",
      "k =  10243562.0 \n",
      "ErrorMessage:  index -4 is out of bounds for axis 0 with size 1\n",
      "k =  10243562.0 \n",
      "ErrorMessage:  index -5 is out of bounds for axis 0 with size 1\n",
      "k =  10243562.0 \n",
      "ErrorMessage:  index -2 is out of bounds for axis 0 with size 1\n",
      "k =  10243562.0 \n",
      "ErrorMessage:  index -3 is out of bounds for axis 0 with size 1\n",
      "k =  10243562.0 \n",
      "ErrorMessage:  index -4 is out of bounds for axis 0 with size 1\n",
      "k =  10243562.0 \n",
      "ErrorMessage:  index -5 is out of bounds for axis 0 with size 1\n",
      "k =  10243562.0 \n",
      "ErrorMessage:  index -2 is out of bounds for axis 0 with size 1\n",
      "k =  10243562.0 \n",
      "ErrorMessage:  index -3 is out of bounds for axis 0 with size 1\n",
      "k =  10243562.0 \n",
      "ErrorMessage:  index -4 is out of bounds for axis 0 with size 1\n",
      "k =  10243562.0 \n",
      "ErrorMessage:  index -5 is out of bounds for axis 0 with size 1\n",
      "k =  10243562.0 \n",
      "ErrorMessage:  index -2 is out of bounds for axis 0 with size 1\n",
      "k =  10243562.0 \n",
      "ErrorMessage:  index -3 is out of bounds for axis 0 with size 1\n",
      "k =  10243562.0 \n",
      "ErrorMessage:  index -4 is out of bounds for axis 0 with size 1\n",
      "k =  10243562.0 \n",
      "ErrorMessage:  index -5 is out of bounds for axis 0 with size 1\n",
      "k =  10243562.0 \n",
      "ErrorMessage:  index -2 is out of bounds for axis 0 with size 1\n",
      "k =  10243562.0 \n",
      "ErrorMessage:  index -3 is out of bounds for axis 0 with size 1\n",
      "k =  10243562.0 \n",
      "ErrorMessage:  index -4 is out of bounds for axis 0 with size 1\n",
      "k =  10243562.0 \n",
      "ErrorMessage:  index -5 is out of bounds for axis 0 with size 1\n",
      "k =  10243562.0 \n",
      "ErrorMessage:  index -2 is out of bounds for axis 0 with size 1\n",
      "k =  10243562.0 \n",
      "ErrorMessage:  index -3 is out of bounds for axis 0 with size 1\n",
      "k =  10243562.0 \n",
      "ErrorMessage:  index -4 is out of bounds for axis 0 with size 1\n",
      "k =  10243562.0 \n",
      "ErrorMessage:  index -5 is out of bounds for axis 0 with size 1\n",
      "k =  10243562.0 \n",
      "ErrorMessage:  index -2 is out of bounds for axis 0 with size 1\n",
      "k =  10243562.0 \n",
      "ErrorMessage:  index -3 is out of bounds for axis 0 with size 1\n",
      "k =  10243562.0 \n",
      "ErrorMessage:  index -4 is out of bounds for axis 0 with size 1\n",
      "k =  10243562.0 \n",
      "ErrorMessage:  index -5 is out of bounds for axis 0 with size 1\n",
      "k =  10243562.0 \n",
      "ErrorMessage:  index -2 is out of bounds for axis 0 with size 1\n",
      "k =  10243562.0 \n",
      "ErrorMessage:  index -3 is out of bounds for axis 0 with size 1\n",
      "k =  10243562.0 \n",
      "ErrorMessage:  index -4 is out of bounds for axis 0 with size 1\n",
      "k =  10243562.0 \n",
      "ErrorMessage:  index -5 is out of bounds for axis 0 with size 1\n",
      "k =  10243562.0 \n",
      "ErrorMessage:  index -2 is out of bounds for axis 0 with size 1\n",
      "k =  10243562.0 \n",
      "ErrorMessage:  index -3 is out of bounds for axis 0 with size 1\n",
      "k =  10243562.0 \n",
      "ErrorMessage:  index -4 is out of bounds for axis 0 with size 1\n",
      "k =  10243562.0 \n",
      "ErrorMessage:  index -5 is out of bounds for axis 0 with size 1\n",
      "k =  10243562.0 \n",
      "ErrorMessage:  index -2 is out of bounds for axis 0 with size 1\n",
      "k =  10243562.0 \n",
      "ErrorMessage:  index -3 is out of bounds for axis 0 with size 1\n",
      "k =  10243562.0 \n",
      "ErrorMessage:  index -4 is out of bounds for axis 0 with size 1\n",
      "k =  10243562.0 \n",
      "ErrorMessage:  index -5 is out of bounds for axis 0 with size 1\n",
      "k =  10243562.0 \n",
      "ErrorMessage:  index -2 is out of bounds for axis 0 with size 1\n",
      "k =  10243562.0 \n",
      "ErrorMessage:  index -3 is out of bounds for axis 0 with size 1\n",
      "k =  10243562.0 \n",
      "ErrorMessage:  index -4 is out of bounds for axis 0 with size 1\n",
      "k =  10243562.0 \n",
      "ErrorMessage:  index -5 is out of bounds for axis 0 with size 1\n",
      "k =  10243562.0 \n",
      "ErrorMessage:  index -2 is out of bounds for axis 0 with size 1\n",
      "k =  10243562.0 \n",
      "ErrorMessage:  index -3 is out of bounds for axis 0 with size 1\n",
      "k =  10243562.0 \n",
      "ErrorMessage:  index -4 is out of bounds for axis 0 with size 1\n",
      "k =  10243562.0 \n",
      "ErrorMessage:  index -5 is out of bounds for axis 0 with size 1\n",
      "k =  10243562.0 \n",
      "ErrorMessage:  index -2 is out of bounds for axis 0 with size 1\n",
      "k =  10243562.0 \n",
      "ErrorMessage:  index -3 is out of bounds for axis 0 with size 1\n",
      "k =  10243562.0 \n",
      "ErrorMessage:  index -4 is out of bounds for axis 0 with size 1\n",
      "k =  10243562.0 \n",
      "ErrorMessage:  index -5 is out of bounds for axis 0 with size 1\n",
      "k =  10243562.0 \n",
      "ErrorMessage:  index -2 is out of bounds for axis 0 with size 1\n",
      "k =  10243562.0 \n",
      "ErrorMessage:  index -3 is out of bounds for axis 0 with size 1\n",
      "k =  10243562.0 \n",
      "ErrorMessage:  index -4 is out of bounds for axis 0 with size 1\n",
      "k =  10243562.0 \n",
      "ErrorMessage:  index -5 is out of bounds for axis 0 with size 1\n"
     ]
    },
    {
     "name": "stderr",
     "output_type": "stream",
     "text": [
      "\r",
      " 39%|███████████████████████████████▏                                                | 156/400 [02:13<03:03,  1.33it/s]"
     ]
    },
    {
     "name": "stdout",
     "output_type": "stream",
     "text": [
      "Shape of output:  (3768, 569)\n"
     ]
    },
    {
     "name": "stderr",
     "output_type": "stream",
     "text": [
      "\r",
      " 39%|███████████████████████████████▍                                                | 157/400 [02:14<03:05,  1.31it/s]"
     ]
    },
    {
     "name": "stdout",
     "output_type": "stream",
     "text": [
      "Shape of output:  (3792, 569)\n",
      "k =  10417059.0 \n",
      "ErrorMessage:  index -4 is out of bounds for axis 0 with size 3\n",
      "k =  10417059.0 \n",
      "ErrorMessage:  index -5 is out of bounds for axis 0 with size 3\n",
      "k =  10417059.0 \n",
      "ErrorMessage:  index -4 is out of bounds for axis 0 with size 3\n",
      "k =  10417059.0 \n",
      "ErrorMessage:  index -5 is out of bounds for axis 0 with size 3\n",
      "k =  10417059.0 \n",
      "ErrorMessage:  index -4 is out of bounds for axis 0 with size 3\n",
      "k =  10417059.0 \n",
      "ErrorMessage:  index -5 is out of bounds for axis 0 with size 3\n",
      "k =  10417059.0 \n",
      "ErrorMessage:  index -4 is out of bounds for axis 0 with size 3\n",
      "k =  10417059.0 \n",
      "ErrorMessage:  index -5 is out of bounds for axis 0 with size 3\n",
      "k =  10417059.0 \n",
      "ErrorMessage:  index -4 is out of bounds for axis 0 with size 3\n",
      "k =  10417059.0 \n",
      "ErrorMessage:  index -5 is out of bounds for axis 0 with size 3\n",
      "k =  10417059.0 \n",
      "ErrorMessage:  index -4 is out of bounds for axis 0 with size 3\n",
      "k =  10417059.0 \n",
      "ErrorMessage:  index -5 is out of bounds for axis 0 with size 3\n",
      "k =  10417059.0 \n",
      "ErrorMessage:  index -4 is out of bounds for axis 0 with size 3\n",
      "k =  10417059.0 \n",
      "ErrorMessage:  index -5 is out of bounds for axis 0 with size 3\n",
      "k =  10417059.0 \n",
      "ErrorMessage:  index -4 is out of bounds for axis 0 with size 3\n",
      "k =  10417059.0 \n",
      "ErrorMessage:  index -5 is out of bounds for axis 0 with size 3\n",
      "k =  10417059.0 \n",
      "ErrorMessage:  index -4 is out of bounds for axis 0 with size 3\n",
      "k =  10417059.0 \n",
      "ErrorMessage:  index -5 is out of bounds for axis 0 with size 3\n",
      "k =  10417059.0 \n",
      "ErrorMessage:  index -4 is out of bounds for axis 0 with size 3\n",
      "k =  10417059.0 \n",
      "ErrorMessage:  index -5 is out of bounds for axis 0 with size 3\n",
      "k =  10417059.0 \n",
      "ErrorMessage:  index -4 is out of bounds for axis 0 with size 3\n",
      "k =  10417059.0 \n",
      "ErrorMessage:  index -5 is out of bounds for axis 0 with size 3\n",
      "k =  10417059.0 \n",
      "ErrorMessage:  index -4 is out of bounds for axis 0 with size 3\n",
      "k =  10417059.0 \n",
      "ErrorMessage:  index -5 is out of bounds for axis 0 with size 3\n",
      "k =  10417059.0 \n",
      "ErrorMessage:  index -4 is out of bounds for axis 0 with size 3\n",
      "k =  10417059.0 \n",
      "ErrorMessage:  index -5 is out of bounds for axis 0 with size 3\n",
      "k =  10417059.0 \n",
      "ErrorMessage:  index -4 is out of bounds for axis 0 with size 3\n",
      "k =  10417059.0 \n",
      "ErrorMessage:  index -5 is out of bounds for axis 0 with size 3\n",
      "k =  10417059.0 \n",
      "ErrorMessage:  index -4 is out of bounds for axis 0 with size 3\n",
      "k =  10417059.0 \n",
      "ErrorMessage:  index -5 is out of bounds for axis 0 with size 3\n",
      "k =  10417059.0 \n",
      "ErrorMessage:  index -4 is out of bounds for axis 0 with size 3\n",
      "k =  10417059.0 \n",
      "ErrorMessage:  index -5 is out of bounds for axis 0 with size 3\n",
      "k =  10417059.0 \n",
      "ErrorMessage:  index -4 is out of bounds for axis 0 with size 3\n",
      "k =  10417059.0 \n",
      "ErrorMessage:  index -5 is out of bounds for axis 0 with size 3\n",
      "k =  10417059.0 \n",
      "ErrorMessage:  index -4 is out of bounds for axis 0 with size 3\n",
      "k =  10417059.0 \n",
      "ErrorMessage:  index -5 is out of bounds for axis 0 with size 3\n",
      "k =  10417059.0 \n",
      "ErrorMessage:  index -4 is out of bounds for axis 0 with size 3\n",
      "k =  10417059.0 \n",
      "ErrorMessage:  index -5 is out of bounds for axis 0 with size 3\n",
      "k =  10417059.0 \n",
      "ErrorMessage:  index -4 is out of bounds for axis 0 with size 3\n",
      "k =  10417059.0 \n",
      "ErrorMessage:  index -5 is out of bounds for axis 0 with size 3\n",
      "k =  10417059.0 \n",
      "ErrorMessage:  index -4 is out of bounds for axis 0 with size 3\n",
      "k =  10417059.0 \n",
      "ErrorMessage:  index -5 is out of bounds for axis 0 with size 3\n",
      "k =  10417059.0 \n",
      "ErrorMessage:  index -4 is out of bounds for axis 0 with size 3\n",
      "k =  10417059.0 \n",
      "ErrorMessage:  index -5 is out of bounds for axis 0 with size 3\n",
      "k =  10417059.0 \n",
      "ErrorMessage:  index -4 is out of bounds for axis 0 with size 3\n",
      "k =  10417059.0 \n",
      "ErrorMessage:  index -5 is out of bounds for axis 0 with size 3\n",
      "k =  10417059.0 \n",
      "ErrorMessage:  index -4 is out of bounds for axis 0 with size 3\n",
      "k =  10417059.0 \n",
      "ErrorMessage:  index -5 is out of bounds for axis 0 with size 3\n"
     ]
    },
    {
     "name": "stderr",
     "output_type": "stream",
     "text": [
      "\r",
      " 40%|███████████████████████████████▌                                                | 158/400 [02:14<03:01,  1.33it/s]"
     ]
    },
    {
     "name": "stdout",
     "output_type": "stream",
     "text": [
      "Shape of output:  (3816, 569)\n"
     ]
    },
    {
     "name": "stderr",
     "output_type": "stream",
     "text": [
      "\r",
      " 40%|███████████████████████████████▊                                                | 159/400 [02:15<03:00,  1.33it/s]"
     ]
    },
    {
     "name": "stdout",
     "output_type": "stream",
     "text": [
      "Shape of output:  (3840, 569)\n"
     ]
    },
    {
     "name": "stderr",
     "output_type": "stream",
     "text": [
      "\r",
      " 40%|████████████████████████████████                                                | 160/400 [02:16<02:57,  1.35it/s]"
     ]
    },
    {
     "name": "stdout",
     "output_type": "stream",
     "text": [
      "Shape of output:  (3864, 569)\n"
     ]
    },
    {
     "name": "stderr",
     "output_type": "stream",
     "text": [
      "\r",
      " 40%|████████████████████████████████▏                                               | 161/400 [02:17<02:58,  1.34it/s]"
     ]
    },
    {
     "name": "stdout",
     "output_type": "stream",
     "text": [
      "Shape of output:  (3888, 569)\n"
     ]
    },
    {
     "name": "stderr",
     "output_type": "stream",
     "text": [
      "\r",
      " 40%|████████████████████████████████▍                                               | 162/400 [02:17<02:58,  1.34it/s]"
     ]
    },
    {
     "name": "stdout",
     "output_type": "stream",
     "text": [
      "Shape of output:  (3912, 569)\n",
      "k =  10212754.0 \n",
      "ErrorMessage:  index -3 is out of bounds for axis 0 with size 2\n",
      "k =  10212754.0 \n",
      "ErrorMessage:  index -4 is out of bounds for axis 0 with size 2\n",
      "k =  10212754.0 \n",
      "ErrorMessage:  index -5 is out of bounds for axis 0 with size 2\n",
      "k =  10212754.0 \n",
      "ErrorMessage:  index -3 is out of bounds for axis 0 with size 2\n",
      "k =  10212754.0 \n",
      "ErrorMessage:  index -4 is out of bounds for axis 0 with size 2\n",
      "k =  10212754.0 \n",
      "ErrorMessage:  index -5 is out of bounds for axis 0 with size 2\n",
      "k =  10212754.0 \n",
      "ErrorMessage:  index -3 is out of bounds for axis 0 with size 2\n",
      "k =  10212754.0 \n",
      "ErrorMessage:  index -4 is out of bounds for axis 0 with size 2\n",
      "k =  10212754.0 \n",
      "ErrorMessage:  index -5 is out of bounds for axis 0 with size 2\n",
      "k =  10212754.0 \n",
      "ErrorMessage:  index -3 is out of bounds for axis 0 with size 2\n",
      "k =  10212754.0 \n",
      "ErrorMessage:  index -4 is out of bounds for axis 0 with size 2\n",
      "k =  10212754.0 \n",
      "ErrorMessage:  index -5 is out of bounds for axis 0 with size 2\n",
      "k =  10212754.0 \n",
      "ErrorMessage:  index -3 is out of bounds for axis 0 with size 2\n",
      "k =  10212754.0 \n",
      "ErrorMessage:  index -4 is out of bounds for axis 0 with size 2\n",
      "k =  10212754.0 \n",
      "ErrorMessage:  index -5 is out of bounds for axis 0 with size 2\n",
      "k =  10212754.0 \n",
      "ErrorMessage:  index -3 is out of bounds for axis 0 with size 2\n",
      "k =  10212754.0 \n",
      "ErrorMessage:  index -4 is out of bounds for axis 0 with size 2\n",
      "k =  10212754.0 \n",
      "ErrorMessage:  index -5 is out of bounds for axis 0 with size 2\n",
      "k =  10212754.0 \n",
      "ErrorMessage:  index -3 is out of bounds for axis 0 with size 2\n",
      "k =  10212754.0 \n",
      "ErrorMessage:  index -4 is out of bounds for axis 0 with size 2\n",
      "k =  10212754.0 \n",
      "ErrorMessage:  index -5 is out of bounds for axis 0 with size 2\n",
      "k =  10212754.0 \n",
      "ErrorMessage:  index -3 is out of bounds for axis 0 with size 2\n",
      "k =  10212754.0 \n",
      "ErrorMessage:  index -4 is out of bounds for axis 0 with size 2\n",
      "k =  10212754.0 \n",
      "ErrorMessage:  index -5 is out of bounds for axis 0 with size 2\n",
      "k =  10212754.0 \n",
      "ErrorMessage:  index -3 is out of bounds for axis 0 with size 2\n",
      "k =  10212754.0 \n",
      "ErrorMessage:  index -4 is out of bounds for axis 0 with size 2\n",
      "k =  10212754.0 \n",
      "ErrorMessage:  index -5 is out of bounds for axis 0 with size 2\n",
      "k =  10212754.0 \n",
      "ErrorMessage:  index -3 is out of bounds for axis 0 with size 2\n",
      "k =  10212754.0 \n",
      "ErrorMessage:  index -4 is out of bounds for axis 0 with size 2\n",
      "k =  10212754.0 \n",
      "ErrorMessage:  index -5 is out of bounds for axis 0 with size 2\n",
      "k =  10212754.0 \n",
      "ErrorMessage:  index -3 is out of bounds for axis 0 with size 2\n",
      "k =  10212754.0 \n",
      "ErrorMessage:  index -4 is out of bounds for axis 0 with size 2\n",
      "k =  10212754.0 \n",
      "ErrorMessage:  index -5 is out of bounds for axis 0 with size 2\n",
      "k =  10212754.0 \n",
      "ErrorMessage:  index -3 is out of bounds for axis 0 with size 2\n",
      "k =  10212754.0 \n",
      "ErrorMessage:  index -4 is out of bounds for axis 0 with size 2\n",
      "k =  10212754.0 \n",
      "ErrorMessage:  index -5 is out of bounds for axis 0 with size 2\n",
      "k =  10212754.0 \n",
      "ErrorMessage:  index -3 is out of bounds for axis 0 with size 2\n",
      "k =  10212754.0 \n",
      "ErrorMessage:  index -4 is out of bounds for axis 0 with size 2\n",
      "k =  10212754.0 \n",
      "ErrorMessage:  index -5 is out of bounds for axis 0 with size 2\n",
      "k =  10212754.0 \n",
      "ErrorMessage:  index -3 is out of bounds for axis 0 with size 2\n",
      "k =  10212754.0 \n",
      "ErrorMessage:  index -4 is out of bounds for axis 0 with size 2\n",
      "k =  10212754.0 \n",
      "ErrorMessage:  index -5 is out of bounds for axis 0 with size 2\n",
      "k =  10212754.0 \n",
      "ErrorMessage:  index -3 is out of bounds for axis 0 with size 2\n",
      "k =  10212754.0 \n",
      "ErrorMessage:  index -4 is out of bounds for axis 0 with size 2\n",
      "k =  10212754.0 \n",
      "ErrorMessage:  index -5 is out of bounds for axis 0 with size 2\n",
      "k =  10212754.0 \n",
      "ErrorMessage:  index -3 is out of bounds for axis 0 with size 2\n",
      "k =  10212754.0 \n",
      "ErrorMessage:  index -4 is out of bounds for axis 0 with size 2\n",
      "k =  10212754.0 \n",
      "ErrorMessage:  index -5 is out of bounds for axis 0 with size 2\n",
      "k =  10212754.0 \n",
      "ErrorMessage:  index -3 is out of bounds for axis 0 with size 2\n",
      "k =  10212754.0 \n",
      "ErrorMessage:  index -4 is out of bounds for axis 0 with size 2\n",
      "k =  10212754.0 \n",
      "ErrorMessage:  index -5 is out of bounds for axis 0 with size 2\n",
      "k =  10212754.0 \n",
      "ErrorMessage:  index -3 is out of bounds for axis 0 with size 2\n",
      "k =  10212754.0 \n",
      "ErrorMessage:  index -4 is out of bounds for axis 0 with size 2\n",
      "k =  10212754.0 \n",
      "ErrorMessage:  index -5 is out of bounds for axis 0 with size 2\n",
      "k =  10212754.0 \n",
      "ErrorMessage:  index -3 is out of bounds for axis 0 with size 2\n",
      "k =  10212754.0 \n",
      "ErrorMessage:  index -4 is out of bounds for axis 0 with size 2\n",
      "k =  10212754.0 \n",
      "ErrorMessage:  index -5 is out of bounds for axis 0 with size 2\n",
      "k =  10212754.0 \n",
      "ErrorMessage:  index -3 is out of bounds for axis 0 with size 2\n",
      "k =  10212754.0 \n",
      "ErrorMessage:  index -4 is out of bounds for axis 0 with size 2\n",
      "k =  10212754.0 \n",
      "ErrorMessage:  index -5 is out of bounds for axis 0 with size 2\n",
      "k =  10212754.0 \n",
      "ErrorMessage:  index -3 is out of bounds for axis 0 with size 2\n",
      "k =  10212754.0 \n",
      "ErrorMessage:  index -4 is out of bounds for axis 0 with size 2\n",
      "k =  10212754.0 \n",
      "ErrorMessage:  index -5 is out of bounds for axis 0 with size 2\n",
      "k =  10212754.0 \n",
      "ErrorMessage:  index -3 is out of bounds for axis 0 with size 2\n",
      "k =  10212754.0 \n",
      "ErrorMessage:  index -4 is out of bounds for axis 0 with size 2\n",
      "k =  10212754.0 \n",
      "ErrorMessage:  index -5 is out of bounds for axis 0 with size 2\n",
      "k =  10212754.0 \n",
      "ErrorMessage:  index -3 is out of bounds for axis 0 with size 2\n",
      "k =  10212754.0 \n",
      "ErrorMessage:  index -4 is out of bounds for axis 0 with size 2\n",
      "k =  10212754.0 \n",
      "ErrorMessage:  index -5 is out of bounds for axis 0 with size 2\n",
      "k =  10212754.0 \n",
      "ErrorMessage:  index -3 is out of bounds for axis 0 with size 2\n",
      "k =  10212754.0 \n",
      "ErrorMessage:  index -4 is out of bounds for axis 0 with size 2\n",
      "k =  10212754.0 \n",
      "ErrorMessage:  index -5 is out of bounds for axis 0 with size 2\n"
     ]
    },
    {
     "name": "stderr",
     "output_type": "stream",
     "text": [
      "\r",
      " 41%|████████████████████████████████▌                                               | 163/400 [02:18<02:56,  1.34it/s]"
     ]
    },
    {
     "name": "stdout",
     "output_type": "stream",
     "text": [
      "Shape of output:  (3936, 569)\n"
     ]
    },
    {
     "name": "stderr",
     "output_type": "stream",
     "text": [
      "\r",
      " 41%|████████████████████████████████▊                                               | 164/400 [02:19<03:00,  1.31it/s]"
     ]
    },
    {
     "name": "stdout",
     "output_type": "stream",
     "text": [
      "Shape of output:  (3960, 569)\n"
     ]
    },
    {
     "name": "stderr",
     "output_type": "stream",
     "text": [
      "\r",
      " 41%|█████████████████████████████████                                               | 165/400 [02:20<02:59,  1.31it/s]"
     ]
    },
    {
     "name": "stdout",
     "output_type": "stream",
     "text": [
      "Shape of output:  (3984, 569)\n"
     ]
    },
    {
     "name": "stderr",
     "output_type": "stream",
     "text": [
      "\r",
      " 42%|█████████████████████████████████▏                                              | 166/400 [02:21<02:58,  1.31it/s]"
     ]
    },
    {
     "name": "stdout",
     "output_type": "stream",
     "text": [
      "Shape of output:  (4008, 569)\n"
     ]
    },
    {
     "name": "stderr",
     "output_type": "stream",
     "text": [
      "\r",
      " 42%|█████████████████████████████████▍                                              | 167/400 [02:21<02:57,  1.32it/s]"
     ]
    },
    {
     "name": "stdout",
     "output_type": "stream",
     "text": [
      "Shape of output:  (4032, 569)\n"
     ]
    },
    {
     "name": "stderr",
     "output_type": "stream",
     "text": [
      "\r",
      " 42%|█████████████████████████████████▌                                              | 168/400 [02:22<02:54,  1.33it/s]"
     ]
    },
    {
     "name": "stdout",
     "output_type": "stream",
     "text": [
      "Shape of output:  (4056, 569)\n"
     ]
    },
    {
     "name": "stderr",
     "output_type": "stream",
     "text": [
      "\r",
      " 42%|█████████████████████████████████▊                                              | 169/400 [02:23<02:52,  1.34it/s]"
     ]
    },
    {
     "name": "stdout",
     "output_type": "stream",
     "text": [
      "Shape of output:  (4080, 569)\n"
     ]
    },
    {
     "name": "stderr",
     "output_type": "stream",
     "text": [
      "\r",
      " 42%|██████████████████████████████████                                              | 170/400 [02:23<02:49,  1.36it/s]"
     ]
    },
    {
     "name": "stdout",
     "output_type": "stream",
     "text": [
      "Shape of output:  (4104, 569)\n",
      "k =  10167352.0 \n",
      "ErrorMessage:  index -3 is out of bounds for axis 0 with size 2\n",
      "k =  10167352.0 \n",
      "ErrorMessage:  index -4 is out of bounds for axis 0 with size 2\n",
      "k =  10167352.0 \n",
      "ErrorMessage:  index -5 is out of bounds for axis 0 with size 2\n",
      "k =  10167352.0 \n",
      "ErrorMessage:  index -3 is out of bounds for axis 0 with size 2\n",
      "k =  10167352.0 \n",
      "ErrorMessage:  index -4 is out of bounds for axis 0 with size 2\n",
      "k =  10167352.0 \n",
      "ErrorMessage:  index -5 is out of bounds for axis 0 with size 2\n",
      "k =  10167352.0 \n",
      "ErrorMessage:  index -3 is out of bounds for axis 0 with size 2\n",
      "k =  10167352.0 \n",
      "ErrorMessage:  index -4 is out of bounds for axis 0 with size 2\n",
      "k =  10167352.0 \n",
      "ErrorMessage:  index -5 is out of bounds for axis 0 with size 2\n",
      "k =  10167352.0 \n",
      "ErrorMessage:  index -3 is out of bounds for axis 0 with size 2\n",
      "k =  10167352.0 \n",
      "ErrorMessage:  index -4 is out of bounds for axis 0 with size 2\n",
      "k =  10167352.0 \n",
      "ErrorMessage:  index -5 is out of bounds for axis 0 with size 2\n",
      "k =  10167352.0 \n",
      "ErrorMessage:  index -3 is out of bounds for axis 0 with size 2\n",
      "k =  10167352.0 \n",
      "ErrorMessage:  index -4 is out of bounds for axis 0 with size 2\n",
      "k =  10167352.0 \n",
      "ErrorMessage:  index -5 is out of bounds for axis 0 with size 2\n",
      "k =  10167352.0 \n",
      "ErrorMessage:  index -3 is out of bounds for axis 0 with size 2\n",
      "k =  10167352.0 \n",
      "ErrorMessage:  index -4 is out of bounds for axis 0 with size 2\n",
      "k =  10167352.0 \n",
      "ErrorMessage:  index -5 is out of bounds for axis 0 with size 2\n",
      "k =  10167352.0 \n",
      "ErrorMessage:  index -3 is out of bounds for axis 0 with size 2\n",
      "k =  10167352.0 \n",
      "ErrorMessage:  index -4 is out of bounds for axis 0 with size 2\n",
      "k =  10167352.0 \n",
      "ErrorMessage:  index -5 is out of bounds for axis 0 with size 2\n",
      "k =  10167352.0 \n",
      "ErrorMessage:  index -3 is out of bounds for axis 0 with size 2\n",
      "k =  10167352.0 \n",
      "ErrorMessage:  index -4 is out of bounds for axis 0 with size 2\n",
      "k =  10167352.0 \n",
      "ErrorMessage:  index -5 is out of bounds for axis 0 with size 2\n",
      "k =  10167352.0 \n",
      "ErrorMessage:  index -3 is out of bounds for axis 0 with size 2\n",
      "k =  10167352.0 \n",
      "ErrorMessage:  index -4 is out of bounds for axis 0 with size 2\n",
      "k =  10167352.0 \n",
      "ErrorMessage:  index -5 is out of bounds for axis 0 with size 2\n",
      "k =  10167352.0 \n",
      "ErrorMessage:  index -3 is out of bounds for axis 0 with size 2\n",
      "k =  10167352.0 \n",
      "ErrorMessage:  index -4 is out of bounds for axis 0 with size 2\n",
      "k =  10167352.0 \n",
      "ErrorMessage:  index -5 is out of bounds for axis 0 with size 2\n",
      "k =  10167352.0 \n",
      "ErrorMessage:  index -3 is out of bounds for axis 0 with size 2\n",
      "k =  10167352.0 \n",
      "ErrorMessage:  index -4 is out of bounds for axis 0 with size 2\n",
      "k =  10167352.0 \n",
      "ErrorMessage:  index -5 is out of bounds for axis 0 with size 2\n",
      "k =  10167352.0 \n",
      "ErrorMessage:  index -3 is out of bounds for axis 0 with size 2\n",
      "k =  10167352.0 \n",
      "ErrorMessage:  index -4 is out of bounds for axis 0 with size 2\n",
      "k =  10167352.0 \n",
      "ErrorMessage:  index -5 is out of bounds for axis 0 with size 2\n",
      "k =  10167352.0 \n",
      "ErrorMessage:  index -3 is out of bounds for axis 0 with size 2\n",
      "k =  10167352.0 \n",
      "ErrorMessage:  index -4 is out of bounds for axis 0 with size 2\n",
      "k =  10167352.0 \n",
      "ErrorMessage:  index -5 is out of bounds for axis 0 with size 2\n",
      "k =  10167352.0 \n",
      "ErrorMessage:  index -3 is out of bounds for axis 0 with size 2\n",
      "k =  10167352.0 \n",
      "ErrorMessage:  index -4 is out of bounds for axis 0 with size 2\n",
      "k =  10167352.0 \n",
      "ErrorMessage:  index -5 is out of bounds for axis 0 with size 2\n",
      "k =  10167352.0 \n",
      "ErrorMessage:  index -3 is out of bounds for axis 0 with size 2\n",
      "k =  10167352.0 \n",
      "ErrorMessage:  index -4 is out of bounds for axis 0 with size 2\n",
      "k =  10167352.0 \n",
      "ErrorMessage:  index -5 is out of bounds for axis 0 with size 2\n",
      "k =  10167352.0 \n",
      "ErrorMessage:  index -3 is out of bounds for axis 0 with size 2\n",
      "k =  10167352.0 \n",
      "ErrorMessage:  index -4 is out of bounds for axis 0 with size 2\n",
      "k =  10167352.0 \n",
      "ErrorMessage:  index -5 is out of bounds for axis 0 with size 2\n",
      "k =  10167352.0 \n",
      "ErrorMessage:  index -3 is out of bounds for axis 0 with size 2\n",
      "k =  10167352.0 \n",
      "ErrorMessage:  index -4 is out of bounds for axis 0 with size 2\n",
      "k =  10167352.0 \n",
      "ErrorMessage:  index -5 is out of bounds for axis 0 with size 2\n",
      "k =  10167352.0 \n",
      "ErrorMessage:  index -3 is out of bounds for axis 0 with size 2\n",
      "k =  10167352.0 \n",
      "ErrorMessage:  index -4 is out of bounds for axis 0 with size 2\n",
      "k =  10167352.0 \n",
      "ErrorMessage:  index -5 is out of bounds for axis 0 with size 2\n",
      "k =  10167352.0 \n",
      "ErrorMessage:  index -3 is out of bounds for axis 0 with size 2\n",
      "k =  10167352.0 \n",
      "ErrorMessage:  index -4 is out of bounds for axis 0 with size 2\n",
      "k =  10167352.0 \n",
      "ErrorMessage:  index -5 is out of bounds for axis 0 with size 2\n",
      "k =  10167352.0 \n",
      "ErrorMessage:  index -3 is out of bounds for axis 0 with size 2\n",
      "k =  10167352.0 \n",
      "ErrorMessage:  index -4 is out of bounds for axis 0 with size 2\n",
      "k =  10167352.0 \n",
      "ErrorMessage:  index -5 is out of bounds for axis 0 with size 2\n",
      "k =  10167352.0 \n",
      "ErrorMessage:  index -3 is out of bounds for axis 0 with size 2\n",
      "k =  10167352.0 \n",
      "ErrorMessage:  index -4 is out of bounds for axis 0 with size 2\n",
      "k =  10167352.0 \n",
      "ErrorMessage:  index -5 is out of bounds for axis 0 with size 2\n",
      "k =  10167352.0 \n",
      "ErrorMessage:  index -3 is out of bounds for axis 0 with size 2\n",
      "k =  10167352.0 \n",
      "ErrorMessage:  index -4 is out of bounds for axis 0 with size 2\n",
      "k =  10167352.0 \n",
      "ErrorMessage:  index -5 is out of bounds for axis 0 with size 2\n",
      "k =  10167352.0 \n",
      "ErrorMessage:  index -3 is out of bounds for axis 0 with size 2\n",
      "k =  10167352.0 \n",
      "ErrorMessage:  index -4 is out of bounds for axis 0 with size 2\n",
      "k =  10167352.0 \n",
      "ErrorMessage:  index -5 is out of bounds for axis 0 with size 2\n",
      "k =  10167352.0 \n",
      "ErrorMessage:  index -3 is out of bounds for axis 0 with size 2\n",
      "k =  10167352.0 \n",
      "ErrorMessage:  index -4 is out of bounds for axis 0 with size 2\n",
      "k =  10167352.0 \n",
      "ErrorMessage:  index -5 is out of bounds for axis 0 with size 2\n"
     ]
    },
    {
     "name": "stderr",
     "output_type": "stream",
     "text": [
      "\r",
      " 43%|██████████████████████████████████▏                                             | 171/400 [02:24<02:49,  1.35it/s]"
     ]
    },
    {
     "name": "stdout",
     "output_type": "stream",
     "text": [
      "Shape of output:  (4128, 569)\n"
     ]
    },
    {
     "name": "stderr",
     "output_type": "stream",
     "text": [
      "\r",
      " 43%|██████████████████████████████████▍                                             | 172/400 [02:25<02:51,  1.33it/s]"
     ]
    },
    {
     "name": "stdout",
     "output_type": "stream",
     "text": [
      "Shape of output:  (4152, 569)\n"
     ]
    },
    {
     "name": "stderr",
     "output_type": "stream",
     "text": [
      "\r",
      " 43%|██████████████████████████████████▌                                             | 173/400 [02:26<02:53,  1.31it/s]"
     ]
    },
    {
     "name": "stdout",
     "output_type": "stream",
     "text": [
      "Shape of output:  (4176, 569)\n"
     ]
    },
    {
     "name": "stderr",
     "output_type": "stream",
     "text": [
      "\r",
      " 44%|██████████████████████████████████▊                                             | 174/400 [02:27<02:55,  1.29it/s]"
     ]
    },
    {
     "name": "stdout",
     "output_type": "stream",
     "text": [
      "Shape of output:  (4200, 569)\n"
     ]
    },
    {
     "name": "stderr",
     "output_type": "stream",
     "text": [
      "\r",
      " 44%|███████████████████████████████████                                             | 175/400 [02:27<02:57,  1.27it/s]"
     ]
    },
    {
     "name": "stdout",
     "output_type": "stream",
     "text": [
      "Shape of output:  (4224, 569)\n"
     ]
    },
    {
     "name": "stderr",
     "output_type": "stream",
     "text": [
      "\r",
      " 44%|███████████████████████████████████▏                                            | 176/400 [02:28<02:53,  1.29it/s]"
     ]
    },
    {
     "name": "stdout",
     "output_type": "stream",
     "text": [
      "Shape of output:  (4248, 569)\n"
     ]
    },
    {
     "name": "stderr",
     "output_type": "stream",
     "text": [
      "\r",
      " 44%|███████████████████████████████████▍                                            | 177/400 [02:29<02:53,  1.29it/s]"
     ]
    },
    {
     "name": "stdout",
     "output_type": "stream",
     "text": [
      "Shape of output:  (4272, 569)\n"
     ]
    },
    {
     "name": "stderr",
     "output_type": "stream",
     "text": [
      "\r",
      " 44%|███████████████████████████████████▌                                            | 178/400 [02:30<02:50,  1.30it/s]"
     ]
    },
    {
     "name": "stdout",
     "output_type": "stream",
     "text": [
      "Shape of output:  (4296, 569)\n",
      "k =  10037484.0 \n",
      "ErrorMessage:  index -2 is out of bounds for axis 0 with size 1\n",
      "k =  10037484.0 \n",
      "ErrorMessage:  index -3 is out of bounds for axis 0 with size 1\n",
      "k =  10037484.0 \n",
      "ErrorMessage:  index -4 is out of bounds for axis 0 with size 1\n",
      "k =  10037484.0 \n",
      "ErrorMessage:  index -5 is out of bounds for axis 0 with size 1\n",
      "k =  10037484.0 \n",
      "ErrorMessage:  index -2 is out of bounds for axis 0 with size 1\n",
      "k =  10037484.0 \n",
      "ErrorMessage:  index -3 is out of bounds for axis 0 with size 1\n",
      "k =  10037484.0 \n",
      "ErrorMessage:  index -4 is out of bounds for axis 0 with size 1\n",
      "k =  10037484.0 \n",
      "ErrorMessage:  index -5 is out of bounds for axis 0 with size 1\n",
      "k =  10037484.0 \n",
      "ErrorMessage:  index -2 is out of bounds for axis 0 with size 1\n",
      "k =  10037484.0 \n",
      "ErrorMessage:  index -3 is out of bounds for axis 0 with size 1\n",
      "k =  10037484.0 \n",
      "ErrorMessage:  index -4 is out of bounds for axis 0 with size 1\n",
      "k =  10037484.0 \n",
      "ErrorMessage:  index -5 is out of bounds for axis 0 with size 1\n",
      "k =  10037484.0 \n",
      "ErrorMessage:  index -2 is out of bounds for axis 0 with size 1\n",
      "k =  10037484.0 \n",
      "ErrorMessage:  index -3 is out of bounds for axis 0 with size 1\n",
      "k =  10037484.0 \n",
      "ErrorMessage:  index -4 is out of bounds for axis 0 with size 1\n",
      "k =  10037484.0 \n",
      "ErrorMessage:  index -5 is out of bounds for axis 0 with size 1\n",
      "k =  10037484.0 \n",
      "ErrorMessage:  index -2 is out of bounds for axis 0 with size 1\n",
      "k =  10037484.0 \n",
      "ErrorMessage:  index -3 is out of bounds for axis 0 with size 1\n",
      "k =  10037484.0 \n",
      "ErrorMessage:  index -4 is out of bounds for axis 0 with size 1\n",
      "k =  10037484.0 \n",
      "ErrorMessage:  index -5 is out of bounds for axis 0 with size 1\n",
      "k =  10037484.0 \n",
      "ErrorMessage:  index -2 is out of bounds for axis 0 with size 1\n",
      "k =  10037484.0 \n",
      "ErrorMessage:  index -3 is out of bounds for axis 0 with size 1\n",
      "k =  10037484.0 \n",
      "ErrorMessage:  index -4 is out of bounds for axis 0 with size 1\n",
      "k =  10037484.0 \n",
      "ErrorMessage:  index -5 is out of bounds for axis 0 with size 1\n",
      "k =  10037484.0 \n",
      "ErrorMessage:  index -2 is out of bounds for axis 0 with size 1\n",
      "k =  10037484.0 \n",
      "ErrorMessage:  index -3 is out of bounds for axis 0 with size 1\n",
      "k =  10037484.0 \n",
      "ErrorMessage:  index -4 is out of bounds for axis 0 with size 1\n",
      "k =  10037484.0 \n",
      "ErrorMessage:  index -5 is out of bounds for axis 0 with size 1\n",
      "k =  10037484.0 \n",
      "ErrorMessage:  index -2 is out of bounds for axis 0 with size 1\n",
      "k =  10037484.0 \n",
      "ErrorMessage:  index -3 is out of bounds for axis 0 with size 1\n",
      "k =  10037484.0 \n",
      "ErrorMessage:  index -4 is out of bounds for axis 0 with size 1\n",
      "k =  10037484.0 \n",
      "ErrorMessage:  index -5 is out of bounds for axis 0 with size 1\n",
      "k =  10037484.0 \n",
      "ErrorMessage:  index -2 is out of bounds for axis 0 with size 1\n",
      "k =  10037484.0 \n",
      "ErrorMessage:  index -3 is out of bounds for axis 0 with size 1\n",
      "k =  10037484.0 \n",
      "ErrorMessage:  index -4 is out of bounds for axis 0 with size 1\n",
      "k =  10037484.0 \n",
      "ErrorMessage:  index -5 is out of bounds for axis 0 with size 1\n",
      "k =  10037484.0 \n",
      "ErrorMessage:  index -2 is out of bounds for axis 0 with size 1\n",
      "k =  10037484.0 \n",
      "ErrorMessage:  index -3 is out of bounds for axis 0 with size 1\n",
      "k =  10037484.0 \n",
      "ErrorMessage:  index -4 is out of bounds for axis 0 with size 1\n",
      "k =  10037484.0 \n",
      "ErrorMessage:  index -5 is out of bounds for axis 0 with size 1\n",
      "k =  10037484.0 \n",
      "ErrorMessage:  index -2 is out of bounds for axis 0 with size 1\n",
      "k =  10037484.0 \n",
      "ErrorMessage:  index -3 is out of bounds for axis 0 with size 1\n",
      "k =  10037484.0 \n",
      "ErrorMessage:  index -4 is out of bounds for axis 0 with size 1\n",
      "k =  10037484.0 \n",
      "ErrorMessage:  index -5 is out of bounds for axis 0 with size 1\n",
      "k =  10037484.0 \n",
      "ErrorMessage:  index -2 is out of bounds for axis 0 with size 1\n",
      "k =  10037484.0 \n",
      "ErrorMessage:  index -3 is out of bounds for axis 0 with size 1\n",
      "k =  10037484.0 \n",
      "ErrorMessage:  index -4 is out of bounds for axis 0 with size 1\n",
      "k =  10037484.0 \n",
      "ErrorMessage:  index -5 is out of bounds for axis 0 with size 1\n",
      "k =  10037484.0 \n",
      "ErrorMessage:  index -2 is out of bounds for axis 0 with size 1\n",
      "k =  10037484.0 \n",
      "ErrorMessage:  index -3 is out of bounds for axis 0 with size 1\n",
      "k =  10037484.0 \n",
      "ErrorMessage:  index -4 is out of bounds for axis 0 with size 1\n",
      "k =  10037484.0 \n",
      "ErrorMessage:  index -5 is out of bounds for axis 0 with size 1\n",
      "k =  10037484.0 \n",
      "ErrorMessage:  index -2 is out of bounds for axis 0 with size 1\n",
      "k =  10037484.0 \n",
      "ErrorMessage:  index -3 is out of bounds for axis 0 with size 1\n",
      "k =  10037484.0 \n",
      "ErrorMessage:  index -4 is out of bounds for axis 0 with size 1\n",
      "k =  10037484.0 \n",
      "ErrorMessage:  index -5 is out of bounds for axis 0 with size 1\n",
      "k =  10037484.0 \n",
      "ErrorMessage:  index -2 is out of bounds for axis 0 with size 1\n",
      "k =  10037484.0 \n",
      "ErrorMessage:  index -3 is out of bounds for axis 0 with size 1\n",
      "k =  10037484.0 \n",
      "ErrorMessage:  index -4 is out of bounds for axis 0 with size 1\n",
      "k =  10037484.0 \n",
      "ErrorMessage:  index -5 is out of bounds for axis 0 with size 1\n",
      "k =  10037484.0 \n",
      "ErrorMessage:  index -2 is out of bounds for axis 0 with size 1\n",
      "k =  10037484.0 \n",
      "ErrorMessage:  index -3 is out of bounds for axis 0 with size 1\n",
      "k =  10037484.0 \n",
      "ErrorMessage:  index -4 is out of bounds for axis 0 with size 1\n",
      "k =  10037484.0 \n",
      "ErrorMessage:  index -5 is out of bounds for axis 0 with size 1\n",
      "k =  10037484.0 \n",
      "ErrorMessage:  index -2 is out of bounds for axis 0 with size 1\n",
      "k =  10037484.0 \n",
      "ErrorMessage:  index -3 is out of bounds for axis 0 with size 1\n",
      "k =  10037484.0 \n",
      "ErrorMessage:  index -4 is out of bounds for axis 0 with size 1\n",
      "k =  10037484.0 \n",
      "ErrorMessage:  index -5 is out of bounds for axis 0 with size 1\n",
      "k =  10037484.0 \n",
      "ErrorMessage:  index -2 is out of bounds for axis 0 with size 1\n",
      "k =  10037484.0 \n",
      "ErrorMessage:  index -3 is out of bounds for axis 0 with size 1\n",
      "k =  10037484.0 \n",
      "ErrorMessage:  index -4 is out of bounds for axis 0 with size 1\n",
      "k =  10037484.0 \n",
      "ErrorMessage:  index -5 is out of bounds for axis 0 with size 1\n",
      "k =  10037484.0 \n",
      "ErrorMessage:  index -2 is out of bounds for axis 0 with size 1\n",
      "k =  10037484.0 \n",
      "ErrorMessage:  index -3 is out of bounds for axis 0 with size 1\n",
      "k =  10037484.0 \n",
      "ErrorMessage:  index -4 is out of bounds for axis 0 with size 1\n",
      "k =  10037484.0 \n",
      "ErrorMessage:  index -5 is out of bounds for axis 0 with size 1\n",
      "k =  10037484.0 \n",
      "ErrorMessage:  index -2 is out of bounds for axis 0 with size 1\n",
      "k =  10037484.0 \n",
      "ErrorMessage:  index -3 is out of bounds for axis 0 with size 1\n",
      "k =  10037484.0 \n",
      "ErrorMessage:  index -4 is out of bounds for axis 0 with size 1\n",
      "k =  10037484.0 \n",
      "ErrorMessage:  index -5 is out of bounds for axis 0 with size 1\n",
      "k =  10037484.0 \n",
      "ErrorMessage:  index -2 is out of bounds for axis 0 with size 1\n",
      "k =  10037484.0 \n",
      "ErrorMessage:  index -3 is out of bounds for axis 0 with size 1\n",
      "k =  10037484.0 \n",
      "ErrorMessage:  index -4 is out of bounds for axis 0 with size 1\n",
      "k =  10037484.0 \n",
      "ErrorMessage:  index -5 is out of bounds for axis 0 with size 1\n",
      "k =  10037484.0 \n",
      "ErrorMessage:  index -2 is out of bounds for axis 0 with size 1\n",
      "k =  10037484.0 \n",
      "ErrorMessage:  index -3 is out of bounds for axis 0 with size 1\n",
      "k =  10037484.0 \n",
      "ErrorMessage:  index -4 is out of bounds for axis 0 with size 1\n",
      "k =  10037484.0 \n",
      "ErrorMessage:  index -5 is out of bounds for axis 0 with size 1\n",
      "k =  10037484.0 \n",
      "ErrorMessage:  index -2 is out of bounds for axis 0 with size 1\n",
      "k =  10037484.0 \n",
      "ErrorMessage:  index -3 is out of bounds for axis 0 with size 1\n",
      "k =  10037484.0 \n",
      "ErrorMessage:  index -4 is out of bounds for axis 0 with size 1\n",
      "k =  10037484.0 \n",
      "ErrorMessage:  index -5 is out of bounds for axis 0 with size 1\n",
      "k =  10037484.0 \n",
      "ErrorMessage:  index -2 is out of bounds for axis 0 with size 1\n",
      "k =  10037484.0 \n",
      "ErrorMessage:  index -3 is out of bounds for axis 0 with size 1\n",
      "k =  10037484.0 \n",
      "ErrorMessage:  index -4 is out of bounds for axis 0 with size 1\n",
      "k =  10037484.0 \n",
      "ErrorMessage:  index -5 is out of bounds for axis 0 with size 1\n"
     ]
    },
    {
     "name": "stderr",
     "output_type": "stream",
     "text": [
      "\r",
      " 45%|███████████████████████████████████▊                                            | 179/400 [02:30<02:48,  1.31it/s]"
     ]
    },
    {
     "name": "stdout",
     "output_type": "stream",
     "text": [
      "Shape of output:  (4320, 569)\n"
     ]
    },
    {
     "name": "stderr",
     "output_type": "stream",
     "text": [
      "\r",
      " 45%|████████████████████████████████████                                            | 180/400 [02:31<02:47,  1.32it/s]"
     ]
    },
    {
     "name": "stdout",
     "output_type": "stream",
     "text": [
      "Shape of output:  (4344, 569)\n"
     ]
    },
    {
     "name": "stderr",
     "output_type": "stream",
     "text": [
      "\r",
      " 45%|████████████████████████████████████▏                                           | 181/400 [02:32<02:46,  1.31it/s]"
     ]
    },
    {
     "name": "stdout",
     "output_type": "stream",
     "text": [
      "Shape of output:  (4368, 569)\n"
     ]
    },
    {
     "name": "stderr",
     "output_type": "stream",
     "text": [
      "\r",
      " 46%|████████████████████████████████████▍                                           | 182/400 [02:33<02:45,  1.32it/s]"
     ]
    },
    {
     "name": "stdout",
     "output_type": "stream",
     "text": [
      "Shape of output:  (4392, 569)\n"
     ]
    },
    {
     "name": "stderr",
     "output_type": "stream",
     "text": [
      "\r",
      " 46%|████████████████████████████████████▌                                           | 183/400 [02:33<02:44,  1.32it/s]"
     ]
    },
    {
     "name": "stdout",
     "output_type": "stream",
     "text": [
      "Shape of output:  (4416, 569)\n"
     ]
    },
    {
     "name": "stderr",
     "output_type": "stream",
     "text": [
      "\r",
      " 46%|████████████████████████████████████▊                                           | 184/400 [02:34<02:49,  1.28it/s]"
     ]
    },
    {
     "name": "stdout",
     "output_type": "stream",
     "text": [
      "Shape of output:  (4440, 569)\n",
      "k =  10113361.0 \n",
      "ErrorMessage:  index -5 is out of bounds for axis 0 with size 4\n",
      "k =  10113361.0 \n",
      "ErrorMessage:  index -5 is out of bounds for axis 0 with size 4\n",
      "k =  10113361.0 \n",
      "ErrorMessage:  index -5 is out of bounds for axis 0 with size 4\n",
      "k =  10113361.0 \n",
      "ErrorMessage:  index -5 is out of bounds for axis 0 with size 4\n",
      "k =  10113361.0 \n",
      "ErrorMessage:  index -5 is out of bounds for axis 0 with size 4\n",
      "k =  10113361.0 \n",
      "ErrorMessage:  index -5 is out of bounds for axis 0 with size 4\n",
      "k =  10113361.0 \n",
      "ErrorMessage:  index -5 is out of bounds for axis 0 with size 4\n",
      "k =  10113361.0 \n",
      "ErrorMessage:  index -5 is out of bounds for axis 0 with size 4\n",
      "k =  10113361.0 \n",
      "ErrorMessage:  index -5 is out of bounds for axis 0 with size 4\n",
      "k =  10113361.0 \n",
      "ErrorMessage:  index -5 is out of bounds for axis 0 with size 4\n",
      "k =  10113361.0 \n",
      "ErrorMessage:  index -5 is out of bounds for axis 0 with size 4\n",
      "k =  10113361.0 \n",
      "ErrorMessage:  index -5 is out of bounds for axis 0 with size 4\n",
      "k =  10113361.0 \n",
      "ErrorMessage:  index -5 is out of bounds for axis 0 with size 4\n",
      "k =  10113361.0 \n",
      "ErrorMessage:  index -5 is out of bounds for axis 0 with size 4\n",
      "k =  10113361.0 \n",
      "ErrorMessage:  index -5 is out of bounds for axis 0 with size 4\n",
      "k =  10113361.0 \n",
      "ErrorMessage:  index -5 is out of bounds for axis 0 with size 4\n",
      "k =  10113361.0 \n",
      "ErrorMessage:  index -5 is out of bounds for axis 0 with size 4\n",
      "k =  10113361.0 \n",
      "ErrorMessage:  index -5 is out of bounds for axis 0 with size 4\n",
      "k =  10113361.0 \n",
      "ErrorMessage:  index -5 is out of bounds for axis 0 with size 4\n",
      "k =  10113361.0 \n",
      "ErrorMessage:  index -5 is out of bounds for axis 0 with size 4\n",
      "k =  10113361.0 \n",
      "ErrorMessage:  index -5 is out of bounds for axis 0 with size 4\n",
      "k =  10113361.0 \n",
      "ErrorMessage:  index -5 is out of bounds for axis 0 with size 4\n",
      "k =  10113361.0 \n",
      "ErrorMessage:  index -5 is out of bounds for axis 0 with size 4\n",
      "k =  10113361.0 \n",
      "ErrorMessage:  index -5 is out of bounds for axis 0 with size 4\n"
     ]
    },
    {
     "name": "stderr",
     "output_type": "stream",
     "text": [
      "\r",
      " 46%|█████████████████████████████████████                                           | 185/400 [02:35<02:47,  1.29it/s]"
     ]
    },
    {
     "name": "stdout",
     "output_type": "stream",
     "text": [
      "Shape of output:  (4464, 569)\n",
      "k =  10430972.0 \n",
      "ErrorMessage:  index -3 is out of bounds for axis 0 with size 2\n",
      "k =  10430972.0 \n",
      "ErrorMessage:  index -4 is out of bounds for axis 0 with size 2\n",
      "k =  10430972.0 \n",
      "ErrorMessage:  index -5 is out of bounds for axis 0 with size 2\n",
      "k =  10430972.0 \n",
      "ErrorMessage:  index -3 is out of bounds for axis 0 with size 2\n",
      "k =  10430972.0 \n",
      "ErrorMessage:  index -4 is out of bounds for axis 0 with size 2\n",
      "k =  10430972.0 \n",
      "ErrorMessage:  index -5 is out of bounds for axis 0 with size 2\n",
      "k =  10430972.0 \n",
      "ErrorMessage:  index -3 is out of bounds for axis 0 with size 2\n",
      "k =  10430972.0 \n",
      "ErrorMessage:  index -4 is out of bounds for axis 0 with size 2\n",
      "k =  10430972.0 \n",
      "ErrorMessage:  index -5 is out of bounds for axis 0 with size 2\n",
      "k =  10430972.0 \n",
      "ErrorMessage:  index -3 is out of bounds for axis 0 with size 2\n",
      "k =  10430972.0 \n",
      "ErrorMessage:  index -4 is out of bounds for axis 0 with size 2\n",
      "k =  10430972.0 \n",
      "ErrorMessage:  index -5 is out of bounds for axis 0 with size 2\n",
      "k =  10430972.0 \n",
      "ErrorMessage:  index -3 is out of bounds for axis 0 with size 2\n",
      "k =  10430972.0 \n",
      "ErrorMessage:  index -4 is out of bounds for axis 0 with size 2\n",
      "k =  10430972.0 \n",
      "ErrorMessage:  index -5 is out of bounds for axis 0 with size 2\n",
      "k =  10430972.0 \n",
      "ErrorMessage:  index -3 is out of bounds for axis 0 with size 2\n",
      "k =  10430972.0 \n",
      "ErrorMessage:  index -4 is out of bounds for axis 0 with size 2\n",
      "k =  10430972.0 \n",
      "ErrorMessage:  index -5 is out of bounds for axis 0 with size 2\n",
      "k =  10430972.0 \n",
      "ErrorMessage:  index -3 is out of bounds for axis 0 with size 2\n",
      "k =  10430972.0 \n",
      "ErrorMessage:  index -4 is out of bounds for axis 0 with size 2\n",
      "k =  10430972.0 \n",
      "ErrorMessage:  index -5 is out of bounds for axis 0 with size 2\n",
      "k =  10430972.0 \n",
      "ErrorMessage:  index -3 is out of bounds for axis 0 with size 2\n",
      "k =  10430972.0 \n",
      "ErrorMessage:  index -4 is out of bounds for axis 0 with size 2\n",
      "k =  10430972.0 \n",
      "ErrorMessage:  index -5 is out of bounds for axis 0 with size 2\n",
      "k =  10430972.0 \n",
      "ErrorMessage:  index -3 is out of bounds for axis 0 with size 2\n",
      "k =  10430972.0 \n",
      "ErrorMessage:  index -4 is out of bounds for axis 0 with size 2\n",
      "k =  10430972.0 \n",
      "ErrorMessage:  index -5 is out of bounds for axis 0 with size 2\n",
      "k =  10430972.0 \n",
      "ErrorMessage:  index -3 is out of bounds for axis 0 with size 2\n",
      "k =  10430972.0 \n",
      "ErrorMessage:  index -4 is out of bounds for axis 0 with size 2\n",
      "k =  10430972.0 \n",
      "ErrorMessage:  index -5 is out of bounds for axis 0 with size 2\n",
      "k =  10430972.0 \n",
      "ErrorMessage:  index -3 is out of bounds for axis 0 with size 2\n",
      "k =  10430972.0 \n",
      "ErrorMessage:  index -4 is out of bounds for axis 0 with size 2\n",
      "k =  10430972.0 \n",
      "ErrorMessage:  index -5 is out of bounds for axis 0 with size 2\n",
      "k =  10430972.0 \n",
      "ErrorMessage:  index -3 is out of bounds for axis 0 with size 2\n",
      "k =  10430972.0 \n",
      "ErrorMessage:  index -4 is out of bounds for axis 0 with size 2\n",
      "k =  10430972.0 \n",
      "ErrorMessage:  index -5 is out of bounds for axis 0 with size 2\n",
      "k =  10430972.0 \n",
      "ErrorMessage:  index -3 is out of bounds for axis 0 with size 2\n",
      "k =  10430972.0 \n",
      "ErrorMessage:  index -4 is out of bounds for axis 0 with size 2\n",
      "k =  10430972.0 \n",
      "ErrorMessage:  index -5 is out of bounds for axis 0 with size 2\n",
      "k =  10430972.0 \n",
      "ErrorMessage:  index -3 is out of bounds for axis 0 with size 2\n",
      "k =  10430972.0 \n",
      "ErrorMessage:  index -4 is out of bounds for axis 0 with size 2\n",
      "k =  10430972.0 \n",
      "ErrorMessage:  index -5 is out of bounds for axis 0 with size 2\n",
      "k =  10430972.0 \n",
      "ErrorMessage:  index -3 is out of bounds for axis 0 with size 2\n",
      "k =  10430972.0 \n",
      "ErrorMessage:  index -4 is out of bounds for axis 0 with size 2\n",
      "k =  10430972.0 \n",
      "ErrorMessage:  index -5 is out of bounds for axis 0 with size 2\n",
      "k =  10430972.0 \n",
      "ErrorMessage:  index -3 is out of bounds for axis 0 with size 2\n",
      "k =  10430972.0 \n",
      "ErrorMessage:  index -4 is out of bounds for axis 0 with size 2\n",
      "k =  10430972.0 \n",
      "ErrorMessage:  index -5 is out of bounds for axis 0 with size 2\n",
      "k =  10430972.0 \n",
      "ErrorMessage:  index -3 is out of bounds for axis 0 with size 2\n",
      "k =  10430972.0 \n",
      "ErrorMessage:  index -4 is out of bounds for axis 0 with size 2\n",
      "k =  10430972.0 \n",
      "ErrorMessage:  index -5 is out of bounds for axis 0 with size 2\n",
      "k =  10430972.0 \n",
      "ErrorMessage:  index -3 is out of bounds for axis 0 with size 2\n",
      "k =  10430972.0 \n",
      "ErrorMessage:  index -4 is out of bounds for axis 0 with size 2\n",
      "k =  10430972.0 \n",
      "ErrorMessage:  index -5 is out of bounds for axis 0 with size 2\n",
      "k =  10430972.0 \n",
      "ErrorMessage:  index -3 is out of bounds for axis 0 with size 2\n",
      "k =  10430972.0 \n",
      "ErrorMessage:  index -4 is out of bounds for axis 0 with size 2\n",
      "k =  10430972.0 \n",
      "ErrorMessage:  index -5 is out of bounds for axis 0 with size 2\n",
      "k =  10430972.0 \n",
      "ErrorMessage:  index -3 is out of bounds for axis 0 with size 2\n",
      "k =  10430972.0 \n",
      "ErrorMessage:  index -4 is out of bounds for axis 0 with size 2\n",
      "k =  10430972.0 \n",
      "ErrorMessage:  index -5 is out of bounds for axis 0 with size 2\n",
      "k =  10430972.0 \n",
      "ErrorMessage:  index -3 is out of bounds for axis 0 with size 2\n",
      "k =  10430972.0 \n",
      "ErrorMessage:  index -4 is out of bounds for axis 0 with size 2\n",
      "k =  10430972.0 \n",
      "ErrorMessage:  index -5 is out of bounds for axis 0 with size 2\n",
      "k =  10430972.0 \n",
      "ErrorMessage:  index -3 is out of bounds for axis 0 with size 2\n",
      "k =  10430972.0 \n",
      "ErrorMessage:  index -4 is out of bounds for axis 0 with size 2\n",
      "k =  10430972.0 \n",
      "ErrorMessage:  index -5 is out of bounds for axis 0 with size 2\n",
      "k =  10430972.0 \n",
      "ErrorMessage:  index -3 is out of bounds for axis 0 with size 2\n",
      "k =  10430972.0 \n",
      "ErrorMessage:  index -4 is out of bounds for axis 0 with size 2\n",
      "k =  10430972.0 \n",
      "ErrorMessage:  index -5 is out of bounds for axis 0 with size 2\n",
      "k =  10430972.0 \n",
      "ErrorMessage:  index -3 is out of bounds for axis 0 with size 2\n",
      "k =  10430972.0 \n",
      "ErrorMessage:  index -4 is out of bounds for axis 0 with size 2\n",
      "k =  10430972.0 \n",
      "ErrorMessage:  index -5 is out of bounds for axis 0 with size 2\n"
     ]
    },
    {
     "name": "stderr",
     "output_type": "stream",
     "text": [
      "\r",
      " 46%|█████████████████████████████████████▏                                          | 186/400 [02:36<02:44,  1.30it/s]"
     ]
    },
    {
     "name": "stdout",
     "output_type": "stream",
     "text": [
      "Shape of output:  (4488, 569)\n"
     ]
    },
    {
     "name": "stderr",
     "output_type": "stream",
     "text": [
      "\r",
      " 47%|█████████████████████████████████████▍                                          | 187/400 [02:37<02:42,  1.31it/s]"
     ]
    },
    {
     "name": "stdout",
     "output_type": "stream",
     "text": [
      "Shape of output:  (4512, 569)\n"
     ]
    },
    {
     "name": "stderr",
     "output_type": "stream",
     "text": [
      "\r",
      " 47%|█████████████████████████████████████▌                                          | 188/400 [02:37<02:39,  1.33it/s]"
     ]
    },
    {
     "name": "stdout",
     "output_type": "stream",
     "text": [
      "Shape of output:  (4536, 569)\n"
     ]
    },
    {
     "name": "stderr",
     "output_type": "stream",
     "text": [
      "\r",
      " 47%|█████████████████████████████████████▊                                          | 189/400 [02:38<02:37,  1.34it/s]"
     ]
    },
    {
     "name": "stdout",
     "output_type": "stream",
     "text": [
      "Shape of output:  (4560, 569)\n"
     ]
    },
    {
     "name": "stderr",
     "output_type": "stream",
     "text": [
      "\r",
      " 48%|██████████████████████████████████████                                          | 190/400 [02:39<02:38,  1.32it/s]"
     ]
    },
    {
     "name": "stdout",
     "output_type": "stream",
     "text": [
      "Shape of output:  (4584, 569)\n"
     ]
    },
    {
     "name": "stderr",
     "output_type": "stream",
     "text": [
      "\r",
      " 48%|██████████████████████████████████████▏                                         | 191/400 [02:40<02:49,  1.24it/s]"
     ]
    },
    {
     "name": "stdout",
     "output_type": "stream",
     "text": [
      "Shape of output:  (4608, 569)\n"
     ]
    },
    {
     "name": "stderr",
     "output_type": "stream",
     "text": [
      "\r",
      " 48%|██████████████████████████████████████▍                                         | 192/400 [02:41<02:49,  1.23it/s]"
     ]
    },
    {
     "name": "stdout",
     "output_type": "stream",
     "text": [
      "Shape of output:  (4632, 569)\n"
     ]
    },
    {
     "name": "stderr",
     "output_type": "stream",
     "text": [
      "\r",
      " 48%|██████████████████████████████████████▌                                         | 193/400 [02:41<02:48,  1.23it/s]"
     ]
    },
    {
     "name": "stdout",
     "output_type": "stream",
     "text": [
      "Shape of output:  (4656, 569)\n"
     ]
    },
    {
     "name": "stderr",
     "output_type": "stream",
     "text": [
      "\r",
      " 48%|██████████████████████████████████████▊                                         | 194/400 [02:42<02:43,  1.26it/s]"
     ]
    },
    {
     "name": "stdout",
     "output_type": "stream",
     "text": [
      "Shape of output:  (4680, 569)\n",
      "k =  10117878.0 \n",
      "ErrorMessage:  index -3 is out of bounds for axis 0 with size 2\n",
      "k =  10117878.0 \n",
      "ErrorMessage:  index -4 is out of bounds for axis 0 with size 2\n",
      "k =  10117878.0 \n",
      "ErrorMessage:  index -5 is out of bounds for axis 0 with size 2\n",
      "k =  10117878.0 \n",
      "ErrorMessage:  index -3 is out of bounds for axis 0 with size 2\n",
      "k =  10117878.0 \n",
      "ErrorMessage:  index -4 is out of bounds for axis 0 with size 2\n",
      "k =  10117878.0 \n",
      "ErrorMessage:  index -5 is out of bounds for axis 0 with size 2\n",
      "k =  10117878.0 \n",
      "ErrorMessage:  index -3 is out of bounds for axis 0 with size 2\n",
      "k =  10117878.0 \n",
      "ErrorMessage:  index -4 is out of bounds for axis 0 with size 2\n",
      "k =  10117878.0 \n",
      "ErrorMessage:  index -5 is out of bounds for axis 0 with size 2\n",
      "k =  10117878.0 \n",
      "ErrorMessage:  index -3 is out of bounds for axis 0 with size 2\n",
      "k =  10117878.0 \n",
      "ErrorMessage:  index -4 is out of bounds for axis 0 with size 2\n",
      "k =  10117878.0 \n",
      "ErrorMessage:  index -5 is out of bounds for axis 0 with size 2\n",
      "k =  10117878.0 \n",
      "ErrorMessage:  index -3 is out of bounds for axis 0 with size 2\n",
      "k =  10117878.0 \n",
      "ErrorMessage:  index -4 is out of bounds for axis 0 with size 2\n",
      "k =  10117878.0 \n",
      "ErrorMessage:  index -5 is out of bounds for axis 0 with size 2\n",
      "k =  10117878.0 \n",
      "ErrorMessage:  index -3 is out of bounds for axis 0 with size 2\n",
      "k =  10117878.0 \n",
      "ErrorMessage:  index -4 is out of bounds for axis 0 with size 2\n",
      "k =  10117878.0 \n",
      "ErrorMessage:  index -5 is out of bounds for axis 0 with size 2\n",
      "k =  10117878.0 \n",
      "ErrorMessage:  index -3 is out of bounds for axis 0 with size 2\n",
      "k =  10117878.0 \n",
      "ErrorMessage:  index -4 is out of bounds for axis 0 with size 2\n",
      "k =  10117878.0 \n",
      "ErrorMessage:  index -5 is out of bounds for axis 0 with size 2\n",
      "k =  10117878.0 \n",
      "ErrorMessage:  index -3 is out of bounds for axis 0 with size 2\n",
      "k =  10117878.0 \n",
      "ErrorMessage:  index -4 is out of bounds for axis 0 with size 2\n",
      "k =  10117878.0 \n",
      "ErrorMessage:  index -5 is out of bounds for axis 0 with size 2\n",
      "k =  10117878.0 \n",
      "ErrorMessage:  index -3 is out of bounds for axis 0 with size 2\n",
      "k =  10117878.0 \n",
      "ErrorMessage:  index -4 is out of bounds for axis 0 with size 2\n",
      "k =  10117878.0 \n",
      "ErrorMessage:  index -5 is out of bounds for axis 0 with size 2\n",
      "k =  10117878.0 \n",
      "ErrorMessage:  index -3 is out of bounds for axis 0 with size 2\n",
      "k =  10117878.0 \n",
      "ErrorMessage:  index -4 is out of bounds for axis 0 with size 2\n",
      "k =  10117878.0 \n",
      "ErrorMessage:  index -5 is out of bounds for axis 0 with size 2\n",
      "k =  10117878.0 \n",
      "ErrorMessage:  index -3 is out of bounds for axis 0 with size 2\n",
      "k =  10117878.0 \n",
      "ErrorMessage:  index -4 is out of bounds for axis 0 with size 2\n",
      "k =  10117878.0 \n",
      "ErrorMessage:  index -5 is out of bounds for axis 0 with size 2\n",
      "k =  10117878.0 \n",
      "ErrorMessage:  index -3 is out of bounds for axis 0 with size 2\n",
      "k =  10117878.0 \n",
      "ErrorMessage:  index -4 is out of bounds for axis 0 with size 2\n",
      "k =  10117878.0 \n",
      "ErrorMessage:  index -5 is out of bounds for axis 0 with size 2\n",
      "k =  10117878.0 \n",
      "ErrorMessage:  index -3 is out of bounds for axis 0 with size 2\n",
      "k =  10117878.0 \n",
      "ErrorMessage:  index -4 is out of bounds for axis 0 with size 2\n",
      "k =  10117878.0 \n",
      "ErrorMessage:  index -5 is out of bounds for axis 0 with size 2\n",
      "k =  10117878.0 \n",
      "ErrorMessage:  index -3 is out of bounds for axis 0 with size 2\n",
      "k =  10117878.0 \n",
      "ErrorMessage:  index -4 is out of bounds for axis 0 with size 2\n",
      "k =  10117878.0 \n",
      "ErrorMessage:  index -5 is out of bounds for axis 0 with size 2\n",
      "k =  10117878.0 \n",
      "ErrorMessage:  index -3 is out of bounds for axis 0 with size 2\n",
      "k =  10117878.0 \n",
      "ErrorMessage:  index -4 is out of bounds for axis 0 with size 2\n",
      "k =  10117878.0 \n",
      "ErrorMessage:  index -5 is out of bounds for axis 0 with size 2\n",
      "k =  10117878.0 \n",
      "ErrorMessage:  index -3 is out of bounds for axis 0 with size 2\n",
      "k =  10117878.0 \n",
      "ErrorMessage:  index -4 is out of bounds for axis 0 with size 2\n",
      "k =  10117878.0 \n",
      "ErrorMessage:  index -5 is out of bounds for axis 0 with size 2\n",
      "k =  10117878.0 \n",
      "ErrorMessage:  index -3 is out of bounds for axis 0 with size 2\n",
      "k =  10117878.0 \n",
      "ErrorMessage:  index -4 is out of bounds for axis 0 with size 2\n",
      "k =  10117878.0 \n",
      "ErrorMessage:  index -5 is out of bounds for axis 0 with size 2\n",
      "k =  10117878.0 \n",
      "ErrorMessage:  index -3 is out of bounds for axis 0 with size 2\n",
      "k =  10117878.0 \n",
      "ErrorMessage:  index -4 is out of bounds for axis 0 with size 2\n",
      "k =  10117878.0 \n",
      "ErrorMessage:  index -5 is out of bounds for axis 0 with size 2\n",
      "k =  10117878.0 \n",
      "ErrorMessage:  index -3 is out of bounds for axis 0 with size 2\n",
      "k =  10117878.0 \n",
      "ErrorMessage:  index -4 is out of bounds for axis 0 with size 2\n",
      "k =  10117878.0 \n",
      "ErrorMessage:  index -5 is out of bounds for axis 0 with size 2\n",
      "k =  10117878.0 \n",
      "ErrorMessage:  index -3 is out of bounds for axis 0 with size 2\n",
      "k =  10117878.0 \n",
      "ErrorMessage:  index -4 is out of bounds for axis 0 with size 2\n",
      "k =  10117878.0 \n",
      "ErrorMessage:  index -5 is out of bounds for axis 0 with size 2\n",
      "k =  10117878.0 \n",
      "ErrorMessage:  index -3 is out of bounds for axis 0 with size 2\n",
      "k =  10117878.0 \n",
      "ErrorMessage:  index -4 is out of bounds for axis 0 with size 2\n",
      "k =  10117878.0 \n",
      "ErrorMessage:  index -5 is out of bounds for axis 0 with size 2\n",
      "k =  10117878.0 \n",
      "ErrorMessage:  index -3 is out of bounds for axis 0 with size 2\n",
      "k =  10117878.0 \n",
      "ErrorMessage:  index -4 is out of bounds for axis 0 with size 2\n",
      "k =  10117878.0 \n",
      "ErrorMessage:  index -5 is out of bounds for axis 0 with size 2\n",
      "k =  10117878.0 \n",
      "ErrorMessage:  index -3 is out of bounds for axis 0 with size 2\n",
      "k =  10117878.0 \n",
      "ErrorMessage:  index -4 is out of bounds for axis 0 with size 2\n",
      "k =  10117878.0 \n",
      "ErrorMessage:  index -5 is out of bounds for axis 0 with size 2\n",
      "k =  10117878.0 \n",
      "ErrorMessage:  index -3 is out of bounds for axis 0 with size 2\n",
      "k =  10117878.0 \n",
      "ErrorMessage:  index -4 is out of bounds for axis 0 with size 2\n",
      "k =  10117878.0 \n",
      "ErrorMessage:  index -5 is out of bounds for axis 0 with size 2\n"
     ]
    },
    {
     "name": "stderr",
     "output_type": "stream",
     "text": [
      "\r",
      " 49%|███████████████████████████████████████                                         | 195/400 [02:43<02:39,  1.28it/s]"
     ]
    },
    {
     "name": "stdout",
     "output_type": "stream",
     "text": [
      "Shape of output:  (4704, 569)\n"
     ]
    },
    {
     "name": "stderr",
     "output_type": "stream",
     "text": [
      "\r",
      " 49%|███████████████████████████████████████▏                                        | 196/400 [02:44<02:39,  1.28it/s]"
     ]
    },
    {
     "name": "stdout",
     "output_type": "stream",
     "text": [
      "Shape of output:  (4728, 569)\n"
     ]
    },
    {
     "name": "stderr",
     "output_type": "stream",
     "text": [
      "\r",
      " 49%|███████████████████████████████████████▍                                        | 197/400 [02:44<02:37,  1.29it/s]"
     ]
    },
    {
     "name": "stdout",
     "output_type": "stream",
     "text": [
      "Shape of output:  (4752, 569)\n"
     ]
    },
    {
     "name": "stderr",
     "output_type": "stream",
     "text": [
      "\r",
      " 50%|███████████████████████████████████████▌                                        | 198/400 [02:45<02:36,  1.29it/s]"
     ]
    },
    {
     "name": "stdout",
     "output_type": "stream",
     "text": [
      "Shape of output:  (4776, 569)\n"
     ]
    },
    {
     "name": "stderr",
     "output_type": "stream",
     "text": [
      "\r",
      " 50%|███████████████████████████████████████▊                                        | 199/400 [02:46<02:33,  1.31it/s]"
     ]
    },
    {
     "name": "stdout",
     "output_type": "stream",
     "text": [
      "Shape of output:  (4800, 569)\n",
      "k =  10029470.0 \n",
      "ErrorMessage:  index -5 is out of bounds for axis 0 with size 4\n",
      "k =  10029470.0 \n",
      "ErrorMessage:  index -5 is out of bounds for axis 0 with size 4\n",
      "k =  10029470.0 \n",
      "ErrorMessage:  index -5 is out of bounds for axis 0 with size 4\n",
      "k =  10029470.0 \n",
      "ErrorMessage:  index -5 is out of bounds for axis 0 with size 4\n",
      "k =  10029470.0 \n",
      "ErrorMessage:  index -5 is out of bounds for axis 0 with size 4\n",
      "k =  10029470.0 \n",
      "ErrorMessage:  index -5 is out of bounds for axis 0 with size 4\n",
      "k =  10029470.0 \n",
      "ErrorMessage:  index -5 is out of bounds for axis 0 with size 4\n",
      "k =  10029470.0 \n",
      "ErrorMessage:  index -5 is out of bounds for axis 0 with size 4\n",
      "k =  10029470.0 \n",
      "ErrorMessage:  index -5 is out of bounds for axis 0 with size 4\n",
      "k =  10029470.0 \n",
      "ErrorMessage:  index -5 is out of bounds for axis 0 with size 4\n",
      "k =  10029470.0 \n",
      "ErrorMessage:  index -5 is out of bounds for axis 0 with size 4\n",
      "k =  10029470.0 \n",
      "ErrorMessage:  index -5 is out of bounds for axis 0 with size 4\n",
      "k =  10029470.0 \n",
      "ErrorMessage:  index -5 is out of bounds for axis 0 with size 4\n",
      "k =  10029470.0 \n",
      "ErrorMessage:  index -5 is out of bounds for axis 0 with size 4\n",
      "k =  10029470.0 \n",
      "ErrorMessage:  index -5 is out of bounds for axis 0 with size 4\n",
      "k =  10029470.0 \n",
      "ErrorMessage:  index -5 is out of bounds for axis 0 with size 4\n",
      "k =  10029470.0 \n",
      "ErrorMessage:  index -5 is out of bounds for axis 0 with size 4\n",
      "k =  10029470.0 \n",
      "ErrorMessage:  index -5 is out of bounds for axis 0 with size 4\n",
      "k =  10029470.0 \n",
      "ErrorMessage:  index -5 is out of bounds for axis 0 with size 4\n",
      "k =  10029470.0 \n",
      "ErrorMessage:  index -5 is out of bounds for axis 0 with size 4\n",
      "k =  10029470.0 \n",
      "ErrorMessage:  index -5 is out of bounds for axis 0 with size 4\n",
      "k =  10029470.0 \n",
      "ErrorMessage:  index -5 is out of bounds for axis 0 with size 4\n",
      "k =  10029470.0 \n",
      "ErrorMessage:  index -5 is out of bounds for axis 0 with size 4\n",
      "k =  10029470.0 \n",
      "ErrorMessage:  index -5 is out of bounds for axis 0 with size 4\n"
     ]
    },
    {
     "name": "stderr",
     "output_type": "stream",
     "text": [
      "\r",
      " 50%|████████████████████████████████████████                                        | 200/400 [02:47<02:31,  1.32it/s]"
     ]
    },
    {
     "name": "stdout",
     "output_type": "stream",
     "text": [
      "Shape of output:  (4824, 569)\n"
     ]
    },
    {
     "name": "stderr",
     "output_type": "stream",
     "text": [
      "\r",
      " 50%|████████████████████████████████████████▏                                       | 201/400 [02:47<02:31,  1.31it/s]"
     ]
    },
    {
     "name": "stdout",
     "output_type": "stream",
     "text": [
      "Shape of output:  (4848, 581)\n"
     ]
    },
    {
     "name": "stderr",
     "output_type": "stream",
     "text": [
      "\r",
      " 50%|████████████████████████████████████████▍                                       | 202/400 [02:48<02:30,  1.32it/s]"
     ]
    },
    {
     "name": "stdout",
     "output_type": "stream",
     "text": [
      "Shape of output:  (4872, 581)\n"
     ]
    },
    {
     "name": "stderr",
     "output_type": "stream",
     "text": [
      "\r",
      " 51%|████████████████████████████████████████▌                                       | 203/400 [02:49<02:28,  1.33it/s]"
     ]
    },
    {
     "name": "stdout",
     "output_type": "stream",
     "text": [
      "Shape of output:  (4896, 581)\n",
      "k =  10456440.0 \n",
      "ErrorMessage:  index -4 is out of bounds for axis 0 with size 3\n",
      "k =  10456440.0 \n",
      "ErrorMessage:  index -5 is out of bounds for axis 0 with size 3\n",
      "k =  10456440.0 \n",
      "ErrorMessage:  index -4 is out of bounds for axis 0 with size 3\n",
      "k =  10456440.0 \n",
      "ErrorMessage:  index -5 is out of bounds for axis 0 with size 3\n",
      "k =  10456440.0 \n",
      "ErrorMessage:  index -4 is out of bounds for axis 0 with size 3\n",
      "k =  10456440.0 \n",
      "ErrorMessage:  index -5 is out of bounds for axis 0 with size 3\n",
      "k =  10456440.0 \n",
      "ErrorMessage:  index -4 is out of bounds for axis 0 with size 3\n",
      "k =  10456440.0 \n",
      "ErrorMessage:  index -5 is out of bounds for axis 0 with size 3\n",
      "k =  10456440.0 \n",
      "ErrorMessage:  index -4 is out of bounds for axis 0 with size 3\n",
      "k =  10456440.0 \n",
      "ErrorMessage:  index -5 is out of bounds for axis 0 with size 3\n",
      "k =  10456440.0 \n",
      "ErrorMessage:  index -4 is out of bounds for axis 0 with size 3\n",
      "k =  10456440.0 \n",
      "ErrorMessage:  index -5 is out of bounds for axis 0 with size 3\n",
      "k =  10456440.0 \n",
      "ErrorMessage:  index -4 is out of bounds for axis 0 with size 3\n",
      "k =  10456440.0 \n",
      "ErrorMessage:  index -5 is out of bounds for axis 0 with size 3\n",
      "k =  10456440.0 \n",
      "ErrorMessage:  index -4 is out of bounds for axis 0 with size 3\n",
      "k =  10456440.0 \n",
      "ErrorMessage:  index -5 is out of bounds for axis 0 with size 3\n",
      "k =  10456440.0 \n",
      "ErrorMessage:  index -4 is out of bounds for axis 0 with size 3\n",
      "k =  10456440.0 \n",
      "ErrorMessage:  index -5 is out of bounds for axis 0 with size 3\n",
      "k =  10456440.0 \n",
      "ErrorMessage:  index -4 is out of bounds for axis 0 with size 3\n",
      "k =  10456440.0 \n",
      "ErrorMessage:  index -5 is out of bounds for axis 0 with size 3\n",
      "k =  10456440.0 \n",
      "ErrorMessage:  index -4 is out of bounds for axis 0 with size 3\n",
      "k =  10456440.0 \n",
      "ErrorMessage:  index -5 is out of bounds for axis 0 with size 3\n",
      "k =  10456440.0 \n",
      "ErrorMessage:  index -4 is out of bounds for axis 0 with size 3\n",
      "k =  10456440.0 \n",
      "ErrorMessage:  index -5 is out of bounds for axis 0 with size 3\n",
      "k =  10456440.0 \n",
      "ErrorMessage:  index -4 is out of bounds for axis 0 with size 3\n",
      "k =  10456440.0 \n",
      "ErrorMessage:  index -5 is out of bounds for axis 0 with size 3\n",
      "k =  10456440.0 \n",
      "ErrorMessage:  index -4 is out of bounds for axis 0 with size 3\n",
      "k =  10456440.0 \n",
      "ErrorMessage:  index -5 is out of bounds for axis 0 with size 3\n",
      "k =  10456440.0 \n",
      "ErrorMessage:  index -4 is out of bounds for axis 0 with size 3\n",
      "k =  10456440.0 \n",
      "ErrorMessage:  index -5 is out of bounds for axis 0 with size 3\n",
      "k =  10456440.0 \n",
      "ErrorMessage:  index -4 is out of bounds for axis 0 with size 3\n",
      "k =  10456440.0 \n",
      "ErrorMessage:  index -5 is out of bounds for axis 0 with size 3\n",
      "k =  10456440.0 \n",
      "ErrorMessage:  index -4 is out of bounds for axis 0 with size 3\n",
      "k =  10456440.0 \n",
      "ErrorMessage:  index -5 is out of bounds for axis 0 with size 3\n",
      "k =  10456440.0 \n",
      "ErrorMessage:  index -4 is out of bounds for axis 0 with size 3\n",
      "k =  10456440.0 \n",
      "ErrorMessage:  index -5 is out of bounds for axis 0 with size 3\n",
      "k =  10456440.0 \n",
      "ErrorMessage:  index -4 is out of bounds for axis 0 with size 3\n",
      "k =  10456440.0 \n",
      "ErrorMessage:  index -5 is out of bounds for axis 0 with size 3\n",
      "k =  10456440.0 \n",
      "ErrorMessage:  index -4 is out of bounds for axis 0 with size 3\n",
      "k =  10456440.0 \n",
      "ErrorMessage:  index -5 is out of bounds for axis 0 with size 3\n",
      "k =  10456440.0 \n",
      "ErrorMessage:  index -4 is out of bounds for axis 0 with size 3\n",
      "k =  10456440.0 \n",
      "ErrorMessage:  index -5 is out of bounds for axis 0 with size 3\n",
      "k =  10456440.0 \n",
      "ErrorMessage:  index -4 is out of bounds for axis 0 with size 3\n",
      "k =  10456440.0 \n",
      "ErrorMessage:  index -5 is out of bounds for axis 0 with size 3\n",
      "k =  10456440.0 \n",
      "ErrorMessage:  index -4 is out of bounds for axis 0 with size 3\n",
      "k =  10456440.0 \n",
      "ErrorMessage:  index -5 is out of bounds for axis 0 with size 3\n",
      "k =  10456440.0 \n",
      "ErrorMessage:  index -4 is out of bounds for axis 0 with size 3\n",
      "k =  10456440.0 \n",
      "ErrorMessage:  index -5 is out of bounds for axis 0 with size 3\n"
     ]
    },
    {
     "name": "stderr",
     "output_type": "stream",
     "text": [
      "\r",
      " 51%|████████████████████████████████████████▊                                       | 204/400 [02:50<02:28,  1.32it/s]"
     ]
    },
    {
     "name": "stdout",
     "output_type": "stream",
     "text": [
      "Shape of output:  (4920, 581)\n"
     ]
    },
    {
     "name": "stderr",
     "output_type": "stream",
     "text": [
      "\r",
      " 51%|█████████████████████████████████████████                                       | 205/400 [02:50<02:27,  1.32it/s]"
     ]
    },
    {
     "name": "stdout",
     "output_type": "stream",
     "text": [
      "Shape of output:  (4944, 581)\n"
     ]
    },
    {
     "name": "stderr",
     "output_type": "stream",
     "text": [
      "\r",
      " 52%|█████████████████████████████████████████▏                                      | 206/400 [02:51<02:27,  1.32it/s]"
     ]
    },
    {
     "name": "stdout",
     "output_type": "stream",
     "text": [
      "Shape of output:  (4968, 581)\n"
     ]
    },
    {
     "name": "stderr",
     "output_type": "stream",
     "text": [
      "\r",
      " 52%|█████████████████████████████████████████▍                                      | 207/400 [02:52<02:28,  1.30it/s]"
     ]
    },
    {
     "name": "stdout",
     "output_type": "stream",
     "text": [
      "Shape of output:  (4992, 581)\n"
     ]
    },
    {
     "name": "stderr",
     "output_type": "stream",
     "text": [
      "\r",
      " 52%|█████████████████████████████████████████▌                                      | 208/400 [02:53<02:28,  1.29it/s]"
     ]
    },
    {
     "name": "stdout",
     "output_type": "stream",
     "text": [
      "Shape of output:  (5016, 581)\n",
      "k =  10097407.0 \n",
      "ErrorMessage:  index -2 is out of bounds for axis 0 with size 1\n",
      "k =  10097407.0 \n",
      "ErrorMessage:  index -3 is out of bounds for axis 0 with size 1\n",
      "k =  10097407.0 \n",
      "ErrorMessage:  index -4 is out of bounds for axis 0 with size 1\n",
      "k =  10097407.0 \n",
      "ErrorMessage:  index -5 is out of bounds for axis 0 with size 1\n",
      "k =  10097407.0 \n",
      "ErrorMessage:  index -2 is out of bounds for axis 0 with size 1\n",
      "k =  10097407.0 \n",
      "ErrorMessage:  index -3 is out of bounds for axis 0 with size 1\n",
      "k =  10097407.0 \n",
      "ErrorMessage:  index -4 is out of bounds for axis 0 with size 1\n",
      "k =  10097407.0 \n",
      "ErrorMessage:  index -5 is out of bounds for axis 0 with size 1\n",
      "k =  10097407.0 \n",
      "ErrorMessage:  index -2 is out of bounds for axis 0 with size 1\n",
      "k =  10097407.0 \n",
      "ErrorMessage:  index -3 is out of bounds for axis 0 with size 1\n",
      "k =  10097407.0 \n",
      "ErrorMessage:  index -4 is out of bounds for axis 0 with size 1\n",
      "k =  10097407.0 \n",
      "ErrorMessage:  index -5 is out of bounds for axis 0 with size 1\n",
      "k =  10097407.0 \n",
      "ErrorMessage:  index -2 is out of bounds for axis 0 with size 1\n",
      "k =  10097407.0 \n",
      "ErrorMessage:  index -3 is out of bounds for axis 0 with size 1\n",
      "k =  10097407.0 \n",
      "ErrorMessage:  index -4 is out of bounds for axis 0 with size 1\n",
      "k =  10097407.0 \n",
      "ErrorMessage:  index -5 is out of bounds for axis 0 with size 1\n",
      "k =  10097407.0 \n",
      "ErrorMessage:  index -2 is out of bounds for axis 0 with size 1\n",
      "k =  10097407.0 \n",
      "ErrorMessage:  index -3 is out of bounds for axis 0 with size 1\n",
      "k =  10097407.0 \n",
      "ErrorMessage:  index -4 is out of bounds for axis 0 with size 1\n",
      "k =  10097407.0 \n",
      "ErrorMessage:  index -5 is out of bounds for axis 0 with size 1\n",
      "k =  10097407.0 \n",
      "ErrorMessage:  index -2 is out of bounds for axis 0 with size 1\n",
      "k =  10097407.0 \n",
      "ErrorMessage:  index -3 is out of bounds for axis 0 with size 1\n",
      "k =  10097407.0 \n",
      "ErrorMessage:  index -4 is out of bounds for axis 0 with size 1\n",
      "k =  10097407.0 \n",
      "ErrorMessage:  index -5 is out of bounds for axis 0 with size 1\n",
      "k =  10097407.0 \n",
      "ErrorMessage:  index -2 is out of bounds for axis 0 with size 1\n",
      "k =  10097407.0 \n",
      "ErrorMessage:  index -3 is out of bounds for axis 0 with size 1\n",
      "k =  10097407.0 \n",
      "ErrorMessage:  index -4 is out of bounds for axis 0 with size 1\n",
      "k =  10097407.0 \n",
      "ErrorMessage:  index -5 is out of bounds for axis 0 with size 1\n",
      "k =  10097407.0 \n",
      "ErrorMessage:  index -2 is out of bounds for axis 0 with size 1\n",
      "k =  10097407.0 \n",
      "ErrorMessage:  index -3 is out of bounds for axis 0 with size 1\n",
      "k =  10097407.0 \n",
      "ErrorMessage:  index -4 is out of bounds for axis 0 with size 1\n",
      "k =  10097407.0 \n",
      "ErrorMessage:  index -5 is out of bounds for axis 0 with size 1\n",
      "k =  10097407.0 \n",
      "ErrorMessage:  index -2 is out of bounds for axis 0 with size 1\n",
      "k =  10097407.0 \n",
      "ErrorMessage:  index -3 is out of bounds for axis 0 with size 1\n",
      "k =  10097407.0 \n",
      "ErrorMessage:  index -4 is out of bounds for axis 0 with size 1\n",
      "k =  10097407.0 \n",
      "ErrorMessage:  index -5 is out of bounds for axis 0 with size 1\n",
      "k =  10097407.0 \n",
      "ErrorMessage:  index -2 is out of bounds for axis 0 with size 1\n",
      "k =  10097407.0 \n",
      "ErrorMessage:  index -3 is out of bounds for axis 0 with size 1\n",
      "k =  10097407.0 \n",
      "ErrorMessage:  index -4 is out of bounds for axis 0 with size 1\n",
      "k =  10097407.0 \n",
      "ErrorMessage:  index -5 is out of bounds for axis 0 with size 1\n",
      "k =  10097407.0 \n",
      "ErrorMessage:  index -2 is out of bounds for axis 0 with size 1\n",
      "k =  10097407.0 \n",
      "ErrorMessage:  index -3 is out of bounds for axis 0 with size 1\n",
      "k =  10097407.0 \n",
      "ErrorMessage:  index -4 is out of bounds for axis 0 with size 1\n",
      "k =  10097407.0 \n",
      "ErrorMessage:  index -5 is out of bounds for axis 0 with size 1\n",
      "k =  10097407.0 \n",
      "ErrorMessage:  index -2 is out of bounds for axis 0 with size 1\n",
      "k =  10097407.0 \n",
      "ErrorMessage:  index -3 is out of bounds for axis 0 with size 1\n",
      "k =  10097407.0 \n",
      "ErrorMessage:  index -4 is out of bounds for axis 0 with size 1\n",
      "k =  10097407.0 \n",
      "ErrorMessage:  index -5 is out of bounds for axis 0 with size 1\n",
      "k =  10097407.0 \n",
      "ErrorMessage:  index -2 is out of bounds for axis 0 with size 1\n",
      "k =  10097407.0 \n",
      "ErrorMessage:  index -3 is out of bounds for axis 0 with size 1\n",
      "k =  10097407.0 \n",
      "ErrorMessage:  index -4 is out of bounds for axis 0 with size 1\n",
      "k =  10097407.0 \n",
      "ErrorMessage:  index -5 is out of bounds for axis 0 with size 1\n",
      "k =  10097407.0 \n",
      "ErrorMessage:  index -2 is out of bounds for axis 0 with size 1\n",
      "k =  10097407.0 \n",
      "ErrorMessage:  index -3 is out of bounds for axis 0 with size 1\n",
      "k =  10097407.0 \n",
      "ErrorMessage:  index -4 is out of bounds for axis 0 with size 1\n",
      "k =  10097407.0 \n",
      "ErrorMessage:  index -5 is out of bounds for axis 0 with size 1\n",
      "k =  10097407.0 \n",
      "ErrorMessage:  index -2 is out of bounds for axis 0 with size 1\n",
      "k =  10097407.0 \n",
      "ErrorMessage:  index -3 is out of bounds for axis 0 with size 1\n",
      "k =  10097407.0 \n",
      "ErrorMessage:  index -4 is out of bounds for axis 0 with size 1\n",
      "k =  10097407.0 \n",
      "ErrorMessage:  index -5 is out of bounds for axis 0 with size 1\n",
      "k =  10097407.0 \n",
      "ErrorMessage:  index -2 is out of bounds for axis 0 with size 1\n",
      "k =  10097407.0 \n",
      "ErrorMessage:  index -3 is out of bounds for axis 0 with size 1\n",
      "k =  10097407.0 \n",
      "ErrorMessage:  index -4 is out of bounds for axis 0 with size 1\n",
      "k =  10097407.0 \n",
      "ErrorMessage:  index -5 is out of bounds for axis 0 with size 1\n",
      "k =  10097407.0 \n",
      "ErrorMessage:  index -2 is out of bounds for axis 0 with size 1\n",
      "k =  10097407.0 \n",
      "ErrorMessage:  index -3 is out of bounds for axis 0 with size 1\n",
      "k =  10097407.0 \n",
      "ErrorMessage:  index -4 is out of bounds for axis 0 with size 1\n",
      "k =  10097407.0 \n",
      "ErrorMessage:  index -5 is out of bounds for axis 0 with size 1\n",
      "k =  10097407.0 \n",
      "ErrorMessage:  index -2 is out of bounds for axis 0 with size 1\n",
      "k =  10097407.0 \n",
      "ErrorMessage:  index -3 is out of bounds for axis 0 with size 1\n",
      "k =  10097407.0 \n",
      "ErrorMessage:  index -4 is out of bounds for axis 0 with size 1\n",
      "k =  10097407.0 \n",
      "ErrorMessage:  index -5 is out of bounds for axis 0 with size 1\n",
      "k =  10097407.0 \n",
      "ErrorMessage:  index -2 is out of bounds for axis 0 with size 1\n",
      "k =  10097407.0 \n",
      "ErrorMessage:  index -3 is out of bounds for axis 0 with size 1\n",
      "k =  10097407.0 \n",
      "ErrorMessage:  index -4 is out of bounds for axis 0 with size 1\n",
      "k =  10097407.0 \n",
      "ErrorMessage:  index -5 is out of bounds for axis 0 with size 1\n",
      "k =  10097407.0 \n",
      "ErrorMessage:  index -2 is out of bounds for axis 0 with size 1\n",
      "k =  10097407.0 \n",
      "ErrorMessage:  index -3 is out of bounds for axis 0 with size 1\n",
      "k =  10097407.0 \n",
      "ErrorMessage:  index -4 is out of bounds for axis 0 with size 1\n",
      "k =  10097407.0 \n",
      "ErrorMessage:  index -5 is out of bounds for axis 0 with size 1\n",
      "k =  10097407.0 \n",
      "ErrorMessage:  index -2 is out of bounds for axis 0 with size 1\n",
      "k =  10097407.0 \n",
      "ErrorMessage:  index -3 is out of bounds for axis 0 with size 1\n",
      "k =  10097407.0 \n",
      "ErrorMessage:  index -4 is out of bounds for axis 0 with size 1\n",
      "k =  10097407.0 \n",
      "ErrorMessage:  index -5 is out of bounds for axis 0 with size 1\n",
      "k =  10097407.0 \n",
      "ErrorMessage:  index -2 is out of bounds for axis 0 with size 1\n",
      "k =  10097407.0 \n",
      "ErrorMessage:  index -3 is out of bounds for axis 0 with size 1\n",
      "k =  10097407.0 \n",
      "ErrorMessage:  index -4 is out of bounds for axis 0 with size 1\n",
      "k =  10097407.0 \n",
      "ErrorMessage:  index -5 is out of bounds for axis 0 with size 1\n",
      "k =  10097407.0 \n",
      "ErrorMessage:  index -2 is out of bounds for axis 0 with size 1\n",
      "k =  10097407.0 \n",
      "ErrorMessage:  index -3 is out of bounds for axis 0 with size 1\n",
      "k =  10097407.0 \n",
      "ErrorMessage:  index -4 is out of bounds for axis 0 with size 1\n",
      "k =  10097407.0 \n",
      "ErrorMessage:  index -5 is out of bounds for axis 0 with size 1\n",
      "k =  10097407.0 \n",
      "ErrorMessage:  index -2 is out of bounds for axis 0 with size 1\n",
      "k =  10097407.0 \n",
      "ErrorMessage:  index -3 is out of bounds for axis 0 with size 1\n",
      "k =  10097407.0 \n",
      "ErrorMessage:  index -4 is out of bounds for axis 0 with size 1\n",
      "k =  10097407.0 \n",
      "ErrorMessage:  index -5 is out of bounds for axis 0 with size 1\n"
     ]
    },
    {
     "name": "stderr",
     "output_type": "stream",
     "text": [
      "\r",
      " 52%|█████████████████████████████████████████▊                                      | 209/400 [02:54<02:33,  1.24it/s]"
     ]
    },
    {
     "name": "stdout",
     "output_type": "stream",
     "text": [
      "Shape of output:  (5040, 581)\n"
     ]
    },
    {
     "name": "stderr",
     "output_type": "stream",
     "text": [
      "\r",
      " 52%|██████████████████████████████████████████                                      | 210/400 [02:55<02:40,  1.19it/s]"
     ]
    },
    {
     "name": "stdout",
     "output_type": "stream",
     "text": [
      "Shape of output:  (5064, 581)\n"
     ]
    },
    {
     "name": "stderr",
     "output_type": "stream",
     "text": [
      "\r",
      " 53%|██████████████████████████████████████████▏                                     | 211/400 [02:55<02:38,  1.19it/s]"
     ]
    },
    {
     "name": "stdout",
     "output_type": "stream",
     "text": [
      "Shape of output:  (5088, 581)\n"
     ]
    },
    {
     "name": "stderr",
     "output_type": "stream",
     "text": [
      "\r",
      " 53%|██████████████████████████████████████████▍                                     | 212/400 [02:56<02:32,  1.23it/s]"
     ]
    },
    {
     "name": "stdout",
     "output_type": "stream",
     "text": [
      "Shape of output:  (5112, 581)\n",
      "k =  10404688.0 \n",
      "ErrorMessage:  index -5 is out of bounds for axis 0 with size 4\n",
      "k =  10404688.0 \n",
      "ErrorMessage:  index -5 is out of bounds for axis 0 with size 4\n",
      "k =  10404688.0 \n",
      "ErrorMessage:  index -5 is out of bounds for axis 0 with size 4\n",
      "k =  10404688.0 \n",
      "ErrorMessage:  index -5 is out of bounds for axis 0 with size 4\n",
      "k =  10404688.0 \n",
      "ErrorMessage:  index -5 is out of bounds for axis 0 with size 4\n",
      "k =  10404688.0 \n",
      "ErrorMessage:  index -5 is out of bounds for axis 0 with size 4\n",
      "k =  10404688.0 \n",
      "ErrorMessage:  index -5 is out of bounds for axis 0 with size 4\n",
      "k =  10404688.0 \n",
      "ErrorMessage:  index -5 is out of bounds for axis 0 with size 4\n",
      "k =  10404688.0 \n",
      "ErrorMessage:  index -5 is out of bounds for axis 0 with size 4\n",
      "k =  10404688.0 \n",
      "ErrorMessage:  index -5 is out of bounds for axis 0 with size 4\n",
      "k =  10404688.0 \n",
      "ErrorMessage:  index -5 is out of bounds for axis 0 with size 4\n",
      "k =  10404688.0 \n",
      "ErrorMessage:  index -5 is out of bounds for axis 0 with size 4\n",
      "k =  10404688.0 \n",
      "ErrorMessage:  index -5 is out of bounds for axis 0 with size 4\n",
      "k =  10404688.0 \n",
      "ErrorMessage:  index -5 is out of bounds for axis 0 with size 4\n",
      "k =  10404688.0 \n",
      "ErrorMessage:  index -5 is out of bounds for axis 0 with size 4\n",
      "k =  10404688.0 \n",
      "ErrorMessage:  index -5 is out of bounds for axis 0 with size 4\n",
      "k =  10404688.0 \n",
      "ErrorMessage:  index -5 is out of bounds for axis 0 with size 4\n",
      "k =  10404688.0 \n",
      "ErrorMessage:  index -5 is out of bounds for axis 0 with size 4\n",
      "k =  10404688.0 \n",
      "ErrorMessage:  index -5 is out of bounds for axis 0 with size 4\n",
      "k =  10404688.0 \n",
      "ErrorMessage:  index -5 is out of bounds for axis 0 with size 4\n",
      "k =  10404688.0 \n",
      "ErrorMessage:  index -5 is out of bounds for axis 0 with size 4\n",
      "k =  10404688.0 \n",
      "ErrorMessage:  index -5 is out of bounds for axis 0 with size 4\n",
      "k =  10404688.0 \n",
      "ErrorMessage:  index -5 is out of bounds for axis 0 with size 4\n",
      "k =  10404688.0 \n",
      "ErrorMessage:  index -5 is out of bounds for axis 0 with size 4\n"
     ]
    },
    {
     "name": "stderr",
     "output_type": "stream",
     "text": [
      "\r",
      " 53%|██████████████████████████████████████████▌                                     | 213/400 [02:57<02:31,  1.23it/s]"
     ]
    },
    {
     "name": "stdout",
     "output_type": "stream",
     "text": [
      "Shape of output:  (5136, 581)\n"
     ]
    },
    {
     "name": "stderr",
     "output_type": "stream",
     "text": [
      "\r",
      " 54%|██████████████████████████████████████████▊                                     | 214/400 [02:58<02:32,  1.22it/s]"
     ]
    },
    {
     "name": "stdout",
     "output_type": "stream",
     "text": [
      "Shape of output:  (5160, 581)\n"
     ]
    },
    {
     "name": "stderr",
     "output_type": "stream",
     "text": [
      "\r",
      " 54%|███████████████████████████████████████████                                     | 215/400 [02:59<02:29,  1.24it/s]"
     ]
    },
    {
     "name": "stdout",
     "output_type": "stream",
     "text": [
      "Shape of output:  (5184, 581)\n"
     ]
    },
    {
     "name": "stderr",
     "output_type": "stream",
     "text": [
      "\r",
      " 54%|███████████████████████████████████████████▏                                    | 216/400 [02:59<02:26,  1.26it/s]"
     ]
    },
    {
     "name": "stdout",
     "output_type": "stream",
     "text": [
      "Shape of output:  (5208, 581)\n"
     ]
    },
    {
     "name": "stderr",
     "output_type": "stream",
     "text": [
      "\r",
      " 54%|███████████████████████████████████████████▍                                    | 217/400 [03:00<02:26,  1.25it/s]"
     ]
    },
    {
     "name": "stdout",
     "output_type": "stream",
     "text": [
      "Shape of output:  (5232, 581)\n"
     ]
    },
    {
     "name": "stderr",
     "output_type": "stream",
     "text": [
      "\r",
      " 55%|███████████████████████████████████████████▌                                    | 218/400 [03:01<02:27,  1.24it/s]"
     ]
    },
    {
     "name": "stdout",
     "output_type": "stream",
     "text": [
      "Shape of output:  (5256, 581)\n"
     ]
    },
    {
     "name": "stderr",
     "output_type": "stream",
     "text": [
      "\r",
      " 55%|███████████████████████████████████████████▊                                    | 219/400 [03:02<02:24,  1.25it/s]"
     ]
    },
    {
     "name": "stdout",
     "output_type": "stream",
     "text": [
      "Shape of output:  (5280, 581)\n",
      "k =  10027302.0 \n",
      "ErrorMessage:  index -5 is out of bounds for axis 0 with size 4\n",
      "k =  10027302.0 \n",
      "ErrorMessage:  index -5 is out of bounds for axis 0 with size 4\n",
      "k =  10027302.0 \n",
      "ErrorMessage:  index -5 is out of bounds for axis 0 with size 4\n",
      "k =  10027302.0 \n",
      "ErrorMessage:  index -5 is out of bounds for axis 0 with size 4\n",
      "k =  10027302.0 \n",
      "ErrorMessage:  index -5 is out of bounds for axis 0 with size 4\n",
      "k =  10027302.0 \n",
      "ErrorMessage:  index -5 is out of bounds for axis 0 with size 4\n",
      "k =  10027302.0 \n",
      "ErrorMessage:  index -5 is out of bounds for axis 0 with size 4\n",
      "k =  10027302.0 \n",
      "ErrorMessage:  index -5 is out of bounds for axis 0 with size 4\n",
      "k =  10027302.0 \n",
      "ErrorMessage:  index -5 is out of bounds for axis 0 with size 4\n",
      "k =  10027302.0 \n",
      "ErrorMessage:  index -5 is out of bounds for axis 0 with size 4\n",
      "k =  10027302.0 \n",
      "ErrorMessage:  index -5 is out of bounds for axis 0 with size 4\n",
      "k =  10027302.0 \n",
      "ErrorMessage:  index -5 is out of bounds for axis 0 with size 4\n",
      "k =  10027302.0 \n",
      "ErrorMessage:  index -5 is out of bounds for axis 0 with size 4\n",
      "k =  10027302.0 \n",
      "ErrorMessage:  index -5 is out of bounds for axis 0 with size 4\n",
      "k =  10027302.0 \n",
      "ErrorMessage:  index -5 is out of bounds for axis 0 with size 4\n",
      "k =  10027302.0 \n",
      "ErrorMessage:  index -5 is out of bounds for axis 0 with size 4\n",
      "k =  10027302.0 \n",
      "ErrorMessage:  index -5 is out of bounds for axis 0 with size 4\n",
      "k =  10027302.0 \n",
      "ErrorMessage:  index -5 is out of bounds for axis 0 with size 4\n",
      "k =  10027302.0 \n",
      "ErrorMessage:  index -5 is out of bounds for axis 0 with size 4\n",
      "k =  10027302.0 \n",
      "ErrorMessage:  index -5 is out of bounds for axis 0 with size 4\n",
      "k =  10027302.0 \n",
      "ErrorMessage:  index -5 is out of bounds for axis 0 with size 4\n",
      "k =  10027302.0 \n",
      "ErrorMessage:  index -5 is out of bounds for axis 0 with size 4\n",
      "k =  10027302.0 \n",
      "ErrorMessage:  index -5 is out of bounds for axis 0 with size 4\n",
      "k =  10027302.0 \n",
      "ErrorMessage:  index -5 is out of bounds for axis 0 with size 4\n"
     ]
    },
    {
     "name": "stderr",
     "output_type": "stream",
     "text": [
      "\r",
      " 55%|████████████████████████████████████████████                                    | 220/400 [03:03<02:22,  1.26it/s]"
     ]
    },
    {
     "name": "stdout",
     "output_type": "stream",
     "text": [
      "Shape of output:  (5304, 581)\n"
     ]
    },
    {
     "name": "stderr",
     "output_type": "stream",
     "text": [
      "\r",
      " 55%|████████████████████████████████████████████▏                                   | 221/400 [03:03<02:21,  1.27it/s]"
     ]
    },
    {
     "name": "stdout",
     "output_type": "stream",
     "text": [
      "Shape of output:  (5328, 581)\n"
     ]
    },
    {
     "name": "stderr",
     "output_type": "stream",
     "text": [
      "\r",
      " 56%|████████████████████████████████████████████▍                                   | 222/400 [03:04<02:18,  1.28it/s]"
     ]
    },
    {
     "name": "stdout",
     "output_type": "stream",
     "text": [
      "Shape of output:  (5352, 581)\n"
     ]
    },
    {
     "name": "stderr",
     "output_type": "stream",
     "text": [
      "\r",
      " 56%|████████████████████████████████████████████▌                                   | 223/400 [03:05<02:16,  1.30it/s]"
     ]
    },
    {
     "name": "stdout",
     "output_type": "stream",
     "text": [
      "Shape of output:  (5376, 581)\n"
     ]
    },
    {
     "name": "stderr",
     "output_type": "stream",
     "text": [
      "\r",
      " 56%|████████████████████████████████████████████▊                                   | 224/400 [03:06<02:15,  1.30it/s]"
     ]
    },
    {
     "name": "stdout",
     "output_type": "stream",
     "text": [
      "Shape of output:  (5400, 581)\n"
     ]
    },
    {
     "name": "stderr",
     "output_type": "stream",
     "text": [
      "\r",
      " 56%|█████████████████████████████████████████████                                   | 225/400 [03:06<02:17,  1.28it/s]"
     ]
    },
    {
     "name": "stdout",
     "output_type": "stream",
     "text": [
      "Shape of output:  (5424, 581)\n"
     ]
    },
    {
     "name": "stderr",
     "output_type": "stream",
     "text": [
      "\r",
      " 56%|█████████████████████████████████████████████▏                                  | 226/400 [03:07<02:15,  1.29it/s]"
     ]
    },
    {
     "name": "stdout",
     "output_type": "stream",
     "text": [
      "Shape of output:  (5448, 581)\n"
     ]
    },
    {
     "name": "stderr",
     "output_type": "stream",
     "text": [
      "\r",
      " 57%|█████████████████████████████████████████████▍                                  | 227/400 [03:08<02:14,  1.29it/s]"
     ]
    },
    {
     "name": "stdout",
     "output_type": "stream",
     "text": [
      "Shape of output:  (5472, 581)\n"
     ]
    },
    {
     "name": "stderr",
     "output_type": "stream",
     "text": [
      "\r",
      " 57%|█████████████████████████████████████████████▌                                  | 228/400 [03:09<02:12,  1.30it/s]"
     ]
    },
    {
     "name": "stdout",
     "output_type": "stream",
     "text": [
      "Shape of output:  (5496, 581)\n"
     ]
    },
    {
     "name": "stderr",
     "output_type": "stream",
     "text": [
      "\r",
      " 57%|█████████████████████████████████████████████▊                                  | 229/400 [03:09<02:11,  1.30it/s]"
     ]
    },
    {
     "name": "stdout",
     "output_type": "stream",
     "text": [
      "Shape of output:  (5520, 581)\n"
     ]
    },
    {
     "name": "stderr",
     "output_type": "stream",
     "text": [
      "\r",
      " 57%|██████████████████████████████████████████████                                  | 230/400 [03:10<02:12,  1.29it/s]"
     ]
    },
    {
     "name": "stdout",
     "output_type": "stream",
     "text": [
      "Shape of output:  (5544, 581)\n"
     ]
    },
    {
     "name": "stderr",
     "output_type": "stream",
     "text": [
      "\r",
      " 58%|██████████████████████████████████████████████▏                                 | 231/400 [03:11<02:10,  1.29it/s]"
     ]
    },
    {
     "name": "stdout",
     "output_type": "stream",
     "text": [
      "Shape of output:  (5568, 581)\n"
     ]
    },
    {
     "name": "stderr",
     "output_type": "stream",
     "text": [
      "\r",
      " 58%|██████████████████████████████████████████████▍                                 | 232/400 [03:12<02:10,  1.29it/s]"
     ]
    },
    {
     "name": "stdout",
     "output_type": "stream",
     "text": [
      "Shape of output:  (5592, 581)\n"
     ]
    },
    {
     "name": "stderr",
     "output_type": "stream",
     "text": [
      "\r",
      " 58%|██████████████████████████████████████████████▌                                 | 233/400 [03:13<02:07,  1.31it/s]"
     ]
    },
    {
     "name": "stdout",
     "output_type": "stream",
     "text": [
      "Shape of output:  (5616, 581)\n"
     ]
    },
    {
     "name": "stderr",
     "output_type": "stream",
     "text": [
      "\r",
      " 58%|██████████████████████████████████████████████▊                                 | 234/400 [03:13<02:07,  1.31it/s]"
     ]
    },
    {
     "name": "stdout",
     "output_type": "stream",
     "text": [
      "Shape of output:  (5640, 581)\n"
     ]
    },
    {
     "name": "stderr",
     "output_type": "stream",
     "text": [
      "\r",
      " 59%|███████████████████████████████████████████████                                 | 235/400 [03:14<02:07,  1.29it/s]"
     ]
    },
    {
     "name": "stdout",
     "output_type": "stream",
     "text": [
      "Shape of output:  (5664, 581)\n",
      "k =  10298561.0 \n",
      "ErrorMessage:  index -2 is out of bounds for axis 0 with size 1\n",
      "k =  10298561.0 \n",
      "ErrorMessage:  index -3 is out of bounds for axis 0 with size 1\n",
      "k =  10298561.0 \n",
      "ErrorMessage:  index -4 is out of bounds for axis 0 with size 1\n",
      "k =  10298561.0 \n",
      "ErrorMessage:  index -5 is out of bounds for axis 0 with size 1\n",
      "k =  10298561.0 \n",
      "ErrorMessage:  index -2 is out of bounds for axis 0 with size 1\n",
      "k =  10298561.0 \n",
      "ErrorMessage:  index -3 is out of bounds for axis 0 with size 1\n",
      "k =  10298561.0 \n",
      "ErrorMessage:  index -4 is out of bounds for axis 0 with size 1\n",
      "k =  10298561.0 \n",
      "ErrorMessage:  index -5 is out of bounds for axis 0 with size 1\n",
      "k =  10298561.0 \n",
      "ErrorMessage:  index -2 is out of bounds for axis 0 with size 1\n",
      "k =  10298561.0 \n",
      "ErrorMessage:  index -3 is out of bounds for axis 0 with size 1\n",
      "k =  10298561.0 \n",
      "ErrorMessage:  index -4 is out of bounds for axis 0 with size 1\n",
      "k =  10298561.0 \n",
      "ErrorMessage:  index -5 is out of bounds for axis 0 with size 1\n",
      "k =  10298561.0 \n",
      "ErrorMessage:  index -2 is out of bounds for axis 0 with size 1\n",
      "k =  10298561.0 \n",
      "ErrorMessage:  index -3 is out of bounds for axis 0 with size 1\n",
      "k =  10298561.0 \n",
      "ErrorMessage:  index -4 is out of bounds for axis 0 with size 1\n",
      "k =  10298561.0 \n",
      "ErrorMessage:  index -5 is out of bounds for axis 0 with size 1\n",
      "k =  10298561.0 \n",
      "ErrorMessage:  index -2 is out of bounds for axis 0 with size 1\n",
      "k =  10298561.0 \n",
      "ErrorMessage:  index -3 is out of bounds for axis 0 with size 1\n",
      "k =  10298561.0 \n",
      "ErrorMessage:  index -4 is out of bounds for axis 0 with size 1\n",
      "k =  10298561.0 \n",
      "ErrorMessage:  index -5 is out of bounds for axis 0 with size 1\n",
      "k =  10298561.0 \n",
      "ErrorMessage:  index -2 is out of bounds for axis 0 with size 1\n",
      "k =  10298561.0 \n",
      "ErrorMessage:  index -3 is out of bounds for axis 0 with size 1\n",
      "k =  10298561.0 \n",
      "ErrorMessage:  index -4 is out of bounds for axis 0 with size 1\n",
      "k =  10298561.0 \n",
      "ErrorMessage:  index -5 is out of bounds for axis 0 with size 1\n",
      "k =  10298561.0 \n",
      "ErrorMessage:  index -2 is out of bounds for axis 0 with size 1\n",
      "k =  10298561.0 \n",
      "ErrorMessage:  index -3 is out of bounds for axis 0 with size 1\n",
      "k =  10298561.0 \n",
      "ErrorMessage:  index -4 is out of bounds for axis 0 with size 1\n",
      "k =  10298561.0 \n",
      "ErrorMessage:  index -5 is out of bounds for axis 0 with size 1\n",
      "k =  10298561.0 \n",
      "ErrorMessage:  index -2 is out of bounds for axis 0 with size 1\n",
      "k =  10298561.0 \n",
      "ErrorMessage:  index -3 is out of bounds for axis 0 with size 1\n",
      "k =  10298561.0 \n",
      "ErrorMessage:  index -4 is out of bounds for axis 0 with size 1\n",
      "k =  10298561.0 \n",
      "ErrorMessage:  index -5 is out of bounds for axis 0 with size 1\n",
      "k =  10298561.0 \n",
      "ErrorMessage:  index -2 is out of bounds for axis 0 with size 1\n",
      "k =  10298561.0 \n",
      "ErrorMessage:  index -3 is out of bounds for axis 0 with size 1\n",
      "k =  10298561.0 \n",
      "ErrorMessage:  index -4 is out of bounds for axis 0 with size 1\n",
      "k =  10298561.0 \n",
      "ErrorMessage:  index -5 is out of bounds for axis 0 with size 1\n",
      "k =  10298561.0 \n",
      "ErrorMessage:  index -2 is out of bounds for axis 0 with size 1\n",
      "k =  10298561.0 \n",
      "ErrorMessage:  index -3 is out of bounds for axis 0 with size 1\n",
      "k =  10298561.0 \n",
      "ErrorMessage:  index -4 is out of bounds for axis 0 with size 1\n",
      "k =  10298561.0 \n",
      "ErrorMessage:  index -5 is out of bounds for axis 0 with size 1\n",
      "k =  10298561.0 \n",
      "ErrorMessage:  index -2 is out of bounds for axis 0 with size 1\n",
      "k =  10298561.0 \n",
      "ErrorMessage:  index -3 is out of bounds for axis 0 with size 1\n",
      "k =  10298561.0 \n",
      "ErrorMessage:  index -4 is out of bounds for axis 0 with size 1\n",
      "k =  10298561.0 \n",
      "ErrorMessage:  index -5 is out of bounds for axis 0 with size 1\n",
      "k =  10298561.0 \n",
      "ErrorMessage:  index -2 is out of bounds for axis 0 with size 1\n",
      "k =  10298561.0 \n",
      "ErrorMessage:  index -3 is out of bounds for axis 0 with size 1\n",
      "k =  10298561.0 \n",
      "ErrorMessage:  index -4 is out of bounds for axis 0 with size 1\n",
      "k =  10298561.0 \n",
      "ErrorMessage:  index -5 is out of bounds for axis 0 with size 1\n",
      "k =  10298561.0 \n",
      "ErrorMessage:  index -2 is out of bounds for axis 0 with size 1\n",
      "k =  10298561.0 \n",
      "ErrorMessage:  index -3 is out of bounds for axis 0 with size 1\n",
      "k =  10298561.0 \n",
      "ErrorMessage:  index -4 is out of bounds for axis 0 with size 1\n",
      "k =  10298561.0 \n",
      "ErrorMessage:  index -5 is out of bounds for axis 0 with size 1\n",
      "k =  10298561.0 \n",
      "ErrorMessage:  index -2 is out of bounds for axis 0 with size 1\n",
      "k =  10298561.0 \n",
      "ErrorMessage:  index -3 is out of bounds for axis 0 with size 1\n",
      "k =  10298561.0 \n",
      "ErrorMessage:  index -4 is out of bounds for axis 0 with size 1\n",
      "k =  10298561.0 \n",
      "ErrorMessage:  index -5 is out of bounds for axis 0 with size 1\n",
      "k =  10298561.0 \n",
      "ErrorMessage:  index -2 is out of bounds for axis 0 with size 1\n",
      "k =  10298561.0 \n",
      "ErrorMessage:  index -3 is out of bounds for axis 0 with size 1\n",
      "k =  10298561.0 \n",
      "ErrorMessage:  index -4 is out of bounds for axis 0 with size 1\n",
      "k =  10298561.0 \n",
      "ErrorMessage:  index -5 is out of bounds for axis 0 with size 1\n",
      "k =  10298561.0 \n",
      "ErrorMessage:  index -2 is out of bounds for axis 0 with size 1\n",
      "k =  10298561.0 \n",
      "ErrorMessage:  index -3 is out of bounds for axis 0 with size 1\n",
      "k =  10298561.0 \n",
      "ErrorMessage:  index -4 is out of bounds for axis 0 with size 1\n",
      "k =  10298561.0 \n",
      "ErrorMessage:  index -5 is out of bounds for axis 0 with size 1\n",
      "k =  10298561.0 \n",
      "ErrorMessage:  index -2 is out of bounds for axis 0 with size 1\n",
      "k =  10298561.0 \n",
      "ErrorMessage:  index -3 is out of bounds for axis 0 with size 1\n",
      "k =  10298561.0 \n",
      "ErrorMessage:  index -4 is out of bounds for axis 0 with size 1\n",
      "k =  10298561.0 \n",
      "ErrorMessage:  index -5 is out of bounds for axis 0 with size 1\n",
      "k =  10298561.0 \n",
      "ErrorMessage:  index -2 is out of bounds for axis 0 with size 1\n",
      "k =  10298561.0 \n",
      "ErrorMessage:  index -3 is out of bounds for axis 0 with size 1\n",
      "k =  10298561.0 \n",
      "ErrorMessage:  index -4 is out of bounds for axis 0 with size 1\n",
      "k =  10298561.0 \n",
      "ErrorMessage:  index -5 is out of bounds for axis 0 with size 1\n",
      "k =  10298561.0 \n",
      "ErrorMessage:  index -2 is out of bounds for axis 0 with size 1\n",
      "k =  10298561.0 \n",
      "ErrorMessage:  index -3 is out of bounds for axis 0 with size 1\n",
      "k =  10298561.0 \n",
      "ErrorMessage:  index -4 is out of bounds for axis 0 with size 1\n",
      "k =  10298561.0 \n",
      "ErrorMessage:  index -5 is out of bounds for axis 0 with size 1\n",
      "k =  10298561.0 \n",
      "ErrorMessage:  index -2 is out of bounds for axis 0 with size 1\n",
      "k =  10298561.0 \n",
      "ErrorMessage:  index -3 is out of bounds for axis 0 with size 1\n",
      "k =  10298561.0 \n",
      "ErrorMessage:  index -4 is out of bounds for axis 0 with size 1\n",
      "k =  10298561.0 \n",
      "ErrorMessage:  index -5 is out of bounds for axis 0 with size 1\n",
      "k =  10298561.0 \n",
      "ErrorMessage:  index -2 is out of bounds for axis 0 with size 1\n",
      "k =  10298561.0 \n",
      "ErrorMessage:  index -3 is out of bounds for axis 0 with size 1\n",
      "k =  10298561.0 \n",
      "ErrorMessage:  index -4 is out of bounds for axis 0 with size 1\n",
      "k =  10298561.0 \n",
      "ErrorMessage:  index -5 is out of bounds for axis 0 with size 1\n",
      "k =  10298561.0 \n",
      "ErrorMessage:  index -2 is out of bounds for axis 0 with size 1\n",
      "k =  10298561.0 \n",
      "ErrorMessage:  index -3 is out of bounds for axis 0 with size 1\n",
      "k =  10298561.0 \n",
      "ErrorMessage:  index -4 is out of bounds for axis 0 with size 1\n",
      "k =  10298561.0 \n",
      "ErrorMessage:  index -5 is out of bounds for axis 0 with size 1\n",
      "k =  10298561.0 \n",
      "ErrorMessage:  index -2 is out of bounds for axis 0 with size 1\n",
      "k =  10298561.0 \n",
      "ErrorMessage:  index -3 is out of bounds for axis 0 with size 1\n",
      "k =  10298561.0 \n",
      "ErrorMessage:  index -4 is out of bounds for axis 0 with size 1\n",
      "k =  10298561.0 \n",
      "ErrorMessage:  index -5 is out of bounds for axis 0 with size 1\n",
      "k =  10298561.0 \n",
      "ErrorMessage:  index -2 is out of bounds for axis 0 with size 1\n",
      "k =  10298561.0 \n",
      "ErrorMessage:  index -3 is out of bounds for axis 0 with size 1\n",
      "k =  10298561.0 \n",
      "ErrorMessage:  index -4 is out of bounds for axis 0 with size 1\n",
      "k =  10298561.0 \n",
      "ErrorMessage:  index -5 is out of bounds for axis 0 with size 1\n"
     ]
    },
    {
     "name": "stderr",
     "output_type": "stream",
     "text": [
      "\r",
      " 59%|███████████████████████████████████████████████▏                                | 236/400 [03:15<02:06,  1.29it/s]"
     ]
    },
    {
     "name": "stdout",
     "output_type": "stream",
     "text": [
      "Shape of output:  (5688, 581)\n"
     ]
    },
    {
     "name": "stderr",
     "output_type": "stream",
     "text": [
      "\r",
      " 59%|███████████████████████████████████████████████▍                                | 237/400 [03:16<02:06,  1.29it/s]"
     ]
    },
    {
     "name": "stdout",
     "output_type": "stream",
     "text": [
      "Shape of output:  (5712, 581)\n",
      "k =  10217122.0 \n",
      "ErrorMessage:  index -5 is out of bounds for axis 0 with size 4\n",
      "k =  10217122.0 \n",
      "ErrorMessage:  index -5 is out of bounds for axis 0 with size 4\n",
      "k =  10217122.0 \n",
      "ErrorMessage:  index -5 is out of bounds for axis 0 with size 4\n",
      "k =  10217122.0 \n",
      "ErrorMessage:  index -5 is out of bounds for axis 0 with size 4\n",
      "k =  10217122.0 \n",
      "ErrorMessage:  index -5 is out of bounds for axis 0 with size 4\n",
      "k =  10217122.0 \n",
      "ErrorMessage:  index -5 is out of bounds for axis 0 with size 4\n",
      "k =  10217122.0 \n",
      "ErrorMessage:  index -5 is out of bounds for axis 0 with size 4\n",
      "k =  10217122.0 \n",
      "ErrorMessage:  index -5 is out of bounds for axis 0 with size 4\n",
      "k =  10217122.0 \n",
      "ErrorMessage:  index -5 is out of bounds for axis 0 with size 4\n",
      "k =  10217122.0 \n",
      "ErrorMessage:  index -5 is out of bounds for axis 0 with size 4\n",
      "k =  10217122.0 \n",
      "ErrorMessage:  index -5 is out of bounds for axis 0 with size 4\n",
      "k =  10217122.0 \n",
      "ErrorMessage:  index -5 is out of bounds for axis 0 with size 4\n",
      "k =  10217122.0 \n",
      "ErrorMessage:  index -5 is out of bounds for axis 0 with size 4\n",
      "k =  10217122.0 \n",
      "ErrorMessage:  index -5 is out of bounds for axis 0 with size 4\n",
      "k =  10217122.0 \n",
      "ErrorMessage:  index -5 is out of bounds for axis 0 with size 4\n",
      "k =  10217122.0 \n",
      "ErrorMessage:  index -5 is out of bounds for axis 0 with size 4\n",
      "k =  10217122.0 \n",
      "ErrorMessage:  index -5 is out of bounds for axis 0 with size 4\n",
      "k =  10217122.0 \n",
      "ErrorMessage:  index -5 is out of bounds for axis 0 with size 4\n",
      "k =  10217122.0 \n",
      "ErrorMessage:  index -5 is out of bounds for axis 0 with size 4\n",
      "k =  10217122.0 \n",
      "ErrorMessage:  index -5 is out of bounds for axis 0 with size 4\n",
      "k =  10217122.0 \n",
      "ErrorMessage:  index -5 is out of bounds for axis 0 with size 4\n",
      "k =  10217122.0 \n",
      "ErrorMessage:  index -5 is out of bounds for axis 0 with size 4\n",
      "k =  10217122.0 \n",
      "ErrorMessage:  index -5 is out of bounds for axis 0 with size 4\n",
      "k =  10217122.0 \n",
      "ErrorMessage:  index -5 is out of bounds for axis 0 with size 4\n"
     ]
    },
    {
     "name": "stderr",
     "output_type": "stream",
     "text": [
      "\r",
      " 60%|███████████████████████████████████████████████▌                                | 238/400 [03:16<02:05,  1.29it/s]"
     ]
    },
    {
     "name": "stdout",
     "output_type": "stream",
     "text": [
      "Shape of output:  (5736, 581)\n",
      "k =  10419439.0 \n",
      "ErrorMessage:  index -3 is out of bounds for axis 0 with size 2\n",
      "k =  10419439.0 \n",
      "ErrorMessage:  index -4 is out of bounds for axis 0 with size 2\n",
      "k =  10419439.0 \n",
      "ErrorMessage:  index -5 is out of bounds for axis 0 with size 2\n",
      "k =  10419439.0 \n",
      "ErrorMessage:  index -3 is out of bounds for axis 0 with size 2\n",
      "k =  10419439.0 \n",
      "ErrorMessage:  index -4 is out of bounds for axis 0 with size 2\n",
      "k =  10419439.0 \n",
      "ErrorMessage:  index -5 is out of bounds for axis 0 with size 2\n",
      "k =  10419439.0 \n",
      "ErrorMessage:  index -3 is out of bounds for axis 0 with size 2\n",
      "k =  10419439.0 \n",
      "ErrorMessage:  index -4 is out of bounds for axis 0 with size 2\n",
      "k =  10419439.0 \n",
      "ErrorMessage:  index -5 is out of bounds for axis 0 with size 2\n",
      "k =  10419439.0 \n",
      "ErrorMessage:  index -3 is out of bounds for axis 0 with size 2\n",
      "k =  10419439.0 \n",
      "ErrorMessage:  index -4 is out of bounds for axis 0 with size 2\n",
      "k =  10419439.0 \n",
      "ErrorMessage:  index -5 is out of bounds for axis 0 with size 2\n",
      "k =  10419439.0 \n",
      "ErrorMessage:  index -3 is out of bounds for axis 0 with size 2\n",
      "k =  10419439.0 \n",
      "ErrorMessage:  index -4 is out of bounds for axis 0 with size 2\n",
      "k =  10419439.0 \n",
      "ErrorMessage:  index -5 is out of bounds for axis 0 with size 2\n",
      "k =  10419439.0 \n",
      "ErrorMessage:  index -3 is out of bounds for axis 0 with size 2\n",
      "k =  10419439.0 \n",
      "ErrorMessage:  index -4 is out of bounds for axis 0 with size 2\n",
      "k =  10419439.0 \n",
      "ErrorMessage:  index -5 is out of bounds for axis 0 with size 2\n",
      "k =  10419439.0 \n",
      "ErrorMessage:  index -3 is out of bounds for axis 0 with size 2\n",
      "k =  10419439.0 \n",
      "ErrorMessage:  index -4 is out of bounds for axis 0 with size 2\n",
      "k =  10419439.0 \n",
      "ErrorMessage:  index -5 is out of bounds for axis 0 with size 2\n",
      "k =  10419439.0 \n",
      "ErrorMessage:  index -3 is out of bounds for axis 0 with size 2\n",
      "k =  10419439.0 \n",
      "ErrorMessage:  index -4 is out of bounds for axis 0 with size 2\n",
      "k =  10419439.0 \n",
      "ErrorMessage:  index -5 is out of bounds for axis 0 with size 2\n",
      "k =  10419439.0 \n",
      "ErrorMessage:  index -3 is out of bounds for axis 0 with size 2\n",
      "k =  10419439.0 \n",
      "ErrorMessage:  index -4 is out of bounds for axis 0 with size 2\n",
      "k =  10419439.0 \n",
      "ErrorMessage:  index -5 is out of bounds for axis 0 with size 2\n",
      "k =  10419439.0 \n",
      "ErrorMessage:  index -3 is out of bounds for axis 0 with size 2\n",
      "k =  10419439.0 \n",
      "ErrorMessage:  index -4 is out of bounds for axis 0 with size 2\n",
      "k =  10419439.0 \n",
      "ErrorMessage:  index -5 is out of bounds for axis 0 with size 2\n",
      "k =  10419439.0 \n",
      "ErrorMessage:  index -3 is out of bounds for axis 0 with size 2\n",
      "k =  10419439.0 \n",
      "ErrorMessage:  index -4 is out of bounds for axis 0 with size 2\n",
      "k =  10419439.0 \n",
      "ErrorMessage:  index -5 is out of bounds for axis 0 with size 2\n",
      "k =  10419439.0 \n",
      "ErrorMessage:  index -3 is out of bounds for axis 0 with size 2\n",
      "k =  10419439.0 \n",
      "ErrorMessage:  index -4 is out of bounds for axis 0 with size 2\n",
      "k =  10419439.0 \n",
      "ErrorMessage:  index -5 is out of bounds for axis 0 with size 2\n",
      "k =  10419439.0 \n",
      "ErrorMessage:  index -3 is out of bounds for axis 0 with size 2\n",
      "k =  10419439.0 \n",
      "ErrorMessage:  index -4 is out of bounds for axis 0 with size 2\n",
      "k =  10419439.0 \n",
      "ErrorMessage:  index -5 is out of bounds for axis 0 with size 2\n",
      "k =  10419439.0 \n",
      "ErrorMessage:  index -3 is out of bounds for axis 0 with size 2\n",
      "k =  10419439.0 \n",
      "ErrorMessage:  index -4 is out of bounds for axis 0 with size 2\n",
      "k =  10419439.0 \n",
      "ErrorMessage:  index -5 is out of bounds for axis 0 with size 2\n",
      "k =  10419439.0 \n",
      "ErrorMessage:  index -3 is out of bounds for axis 0 with size 2\n",
      "k =  10419439.0 \n",
      "ErrorMessage:  index -4 is out of bounds for axis 0 with size 2\n",
      "k =  10419439.0 \n",
      "ErrorMessage:  index -5 is out of bounds for axis 0 with size 2\n",
      "k =  10419439.0 \n",
      "ErrorMessage:  index -3 is out of bounds for axis 0 with size 2\n",
      "k =  10419439.0 \n",
      "ErrorMessage:  index -4 is out of bounds for axis 0 with size 2\n",
      "k =  10419439.0 \n",
      "ErrorMessage:  index -5 is out of bounds for axis 0 with size 2\n",
      "k =  10419439.0 \n",
      "ErrorMessage:  index -3 is out of bounds for axis 0 with size 2\n",
      "k =  10419439.0 \n",
      "ErrorMessage:  index -4 is out of bounds for axis 0 with size 2\n",
      "k =  10419439.0 \n",
      "ErrorMessage:  index -5 is out of bounds for axis 0 with size 2\n",
      "k =  10419439.0 \n",
      "ErrorMessage:  index -3 is out of bounds for axis 0 with size 2\n",
      "k =  10419439.0 \n",
      "ErrorMessage:  index -4 is out of bounds for axis 0 with size 2\n",
      "k =  10419439.0 \n",
      "ErrorMessage:  index -5 is out of bounds for axis 0 with size 2\n",
      "k =  10419439.0 \n",
      "ErrorMessage:  index -3 is out of bounds for axis 0 with size 2\n",
      "k =  10419439.0 \n",
      "ErrorMessage:  index -4 is out of bounds for axis 0 with size 2\n",
      "k =  10419439.0 \n",
      "ErrorMessage:  index -5 is out of bounds for axis 0 with size 2\n",
      "k =  10419439.0 \n",
      "ErrorMessage:  index -3 is out of bounds for axis 0 with size 2\n",
      "k =  10419439.0 \n",
      "ErrorMessage:  index -4 is out of bounds for axis 0 with size 2\n",
      "k =  10419439.0 \n",
      "ErrorMessage:  index -5 is out of bounds for axis 0 with size 2\n",
      "k =  10419439.0 \n",
      "ErrorMessage:  index -3 is out of bounds for axis 0 with size 2\n",
      "k =  10419439.0 \n",
      "ErrorMessage:  index -4 is out of bounds for axis 0 with size 2\n",
      "k =  10419439.0 \n",
      "ErrorMessage:  index -5 is out of bounds for axis 0 with size 2\n",
      "k =  10419439.0 \n",
      "ErrorMessage:  index -3 is out of bounds for axis 0 with size 2\n",
      "k =  10419439.0 \n",
      "ErrorMessage:  index -4 is out of bounds for axis 0 with size 2\n",
      "k =  10419439.0 \n",
      "ErrorMessage:  index -5 is out of bounds for axis 0 with size 2\n",
      "k =  10419439.0 \n",
      "ErrorMessage:  index -3 is out of bounds for axis 0 with size 2\n",
      "k =  10419439.0 \n",
      "ErrorMessage:  index -4 is out of bounds for axis 0 with size 2\n",
      "k =  10419439.0 \n",
      "ErrorMessage:  index -5 is out of bounds for axis 0 with size 2\n",
      "k =  10419439.0 \n",
      "ErrorMessage:  index -3 is out of bounds for axis 0 with size 2\n",
      "k =  10419439.0 \n",
      "ErrorMessage:  index -4 is out of bounds for axis 0 with size 2\n",
      "k =  10419439.0 \n",
      "ErrorMessage:  index -5 is out of bounds for axis 0 with size 2\n"
     ]
    },
    {
     "name": "stderr",
     "output_type": "stream",
     "text": [
      "\r",
      " 60%|███████████████████████████████████████████████▊                                | 239/400 [03:17<02:04,  1.30it/s]"
     ]
    },
    {
     "name": "stdout",
     "output_type": "stream",
     "text": [
      "Shape of output:  (5760, 581)\n"
     ]
    },
    {
     "name": "stderr",
     "output_type": "stream",
     "text": [
      "\r",
      " 60%|████████████████████████████████████████████████                                | 240/400 [03:18<02:03,  1.30it/s]"
     ]
    },
    {
     "name": "stdout",
     "output_type": "stream",
     "text": [
      "Shape of output:  (5784, 581)\n"
     ]
    },
    {
     "name": "stderr",
     "output_type": "stream",
     "text": [
      "\r",
      " 60%|████████████████████████████████████████████████▏                               | 241/400 [03:19<02:01,  1.31it/s]"
     ]
    },
    {
     "name": "stdout",
     "output_type": "stream",
     "text": [
      "Shape of output:  (5808, 581)\n"
     ]
    },
    {
     "name": "stderr",
     "output_type": "stream",
     "text": [
      "\r",
      " 60%|████████████████████████████████████████████████▍                               | 242/400 [03:20<02:01,  1.30it/s]"
     ]
    },
    {
     "name": "stdout",
     "output_type": "stream",
     "text": [
      "Shape of output:  (5832, 581)\n"
     ]
    },
    {
     "name": "stderr",
     "output_type": "stream",
     "text": [
      "\r",
      " 61%|████████████████████████████████████████████████▌                               | 243/400 [03:20<02:02,  1.28it/s]"
     ]
    },
    {
     "name": "stdout",
     "output_type": "stream",
     "text": [
      "Shape of output:  (5856, 581)\n"
     ]
    },
    {
     "name": "stderr",
     "output_type": "stream",
     "text": [
      "\r",
      " 61%|████████████████████████████████████████████████▊                               | 244/400 [03:21<02:00,  1.29it/s]"
     ]
    },
    {
     "name": "stdout",
     "output_type": "stream",
     "text": [
      "Shape of output:  (5880, 581)\n"
     ]
    },
    {
     "name": "stderr",
     "output_type": "stream",
     "text": [
      "\r",
      " 61%|█████████████████████████████████████████████████                               | 245/400 [03:22<02:00,  1.29it/s]"
     ]
    },
    {
     "name": "stdout",
     "output_type": "stream",
     "text": [
      "Shape of output:  (5904, 581)\n"
     ]
    },
    {
     "name": "stderr",
     "output_type": "stream",
     "text": [
      "\r",
      " 62%|█████████████████████████████████████████████████▏                              | 246/400 [03:23<01:59,  1.29it/s]"
     ]
    },
    {
     "name": "stdout",
     "output_type": "stream",
     "text": [
      "Shape of output:  (5928, 581)\n"
     ]
    },
    {
     "name": "stderr",
     "output_type": "stream",
     "text": [
      "\r",
      " 62%|█████████████████████████████████████████████████▍                              | 247/400 [03:23<01:58,  1.30it/s]"
     ]
    },
    {
     "name": "stdout",
     "output_type": "stream",
     "text": [
      "Shape of output:  (5952, 581)\n",
      "k =  10153652.0 \n",
      "ErrorMessage:  index -5 is out of bounds for axis 0 with size 4\n",
      "k =  10153652.0 \n",
      "ErrorMessage:  index -5 is out of bounds for axis 0 with size 4\n",
      "k =  10153652.0 \n",
      "ErrorMessage:  index -5 is out of bounds for axis 0 with size 4\n",
      "k =  10153652.0 \n",
      "ErrorMessage:  index -5 is out of bounds for axis 0 with size 4\n",
      "k =  10153652.0 \n",
      "ErrorMessage:  index -5 is out of bounds for axis 0 with size 4\n",
      "k =  10153652.0 \n",
      "ErrorMessage:  index -5 is out of bounds for axis 0 with size 4\n",
      "k =  10153652.0 \n",
      "ErrorMessage:  index -5 is out of bounds for axis 0 with size 4\n",
      "k =  10153652.0 \n",
      "ErrorMessage:  index -5 is out of bounds for axis 0 with size 4\n",
      "k =  10153652.0 \n",
      "ErrorMessage:  index -5 is out of bounds for axis 0 with size 4\n",
      "k =  10153652.0 \n",
      "ErrorMessage:  index -5 is out of bounds for axis 0 with size 4\n",
      "k =  10153652.0 \n",
      "ErrorMessage:  index -5 is out of bounds for axis 0 with size 4\n",
      "k =  10153652.0 \n",
      "ErrorMessage:  index -5 is out of bounds for axis 0 with size 4\n",
      "k =  10153652.0 \n",
      "ErrorMessage:  index -5 is out of bounds for axis 0 with size 4\n",
      "k =  10153652.0 \n",
      "ErrorMessage:  index -5 is out of bounds for axis 0 with size 4\n",
      "k =  10153652.0 \n",
      "ErrorMessage:  index -5 is out of bounds for axis 0 with size 4\n",
      "k =  10153652.0 \n",
      "ErrorMessage:  index -5 is out of bounds for axis 0 with size 4\n",
      "k =  10153652.0 \n",
      "ErrorMessage:  index -5 is out of bounds for axis 0 with size 4\n",
      "k =  10153652.0 \n",
      "ErrorMessage:  index -5 is out of bounds for axis 0 with size 4\n",
      "k =  10153652.0 \n",
      "ErrorMessage:  index -5 is out of bounds for axis 0 with size 4\n",
      "k =  10153652.0 \n",
      "ErrorMessage:  index -5 is out of bounds for axis 0 with size 4\n",
      "k =  10153652.0 \n",
      "ErrorMessage:  index -5 is out of bounds for axis 0 with size 4\n",
      "k =  10153652.0 \n",
      "ErrorMessage:  index -5 is out of bounds for axis 0 with size 4\n",
      "k =  10153652.0 \n",
      "ErrorMessage:  index -5 is out of bounds for axis 0 with size 4\n",
      "k =  10153652.0 \n",
      "ErrorMessage:  index -5 is out of bounds for axis 0 with size 4\n"
     ]
    },
    {
     "name": "stderr",
     "output_type": "stream",
     "text": [
      "\r",
      " 62%|█████████████████████████████████████████████████▌                              | 248/400 [03:24<01:56,  1.30it/s]"
     ]
    },
    {
     "name": "stdout",
     "output_type": "stream",
     "text": [
      "Shape of output:  (5976, 581)\n"
     ]
    },
    {
     "name": "stderr",
     "output_type": "stream",
     "text": [
      "\r",
      " 62%|█████████████████████████████████████████████████▊                              | 249/400 [03:25<01:56,  1.29it/s]"
     ]
    },
    {
     "name": "stdout",
     "output_type": "stream",
     "text": [
      "Shape of output:  (6000, 581)\n"
     ]
    },
    {
     "name": "stderr",
     "output_type": "stream",
     "text": [
      "\r",
      " 62%|██████████████████████████████████████████████████                              | 250/400 [03:26<01:57,  1.28it/s]"
     ]
    },
    {
     "name": "stdout",
     "output_type": "stream",
     "text": [
      "Shape of output:  (6024, 581)\n"
     ]
    },
    {
     "name": "stderr",
     "output_type": "stream",
     "text": [
      "\r",
      " 63%|██████████████████████████████████████████████████▏                             | 251/400 [03:27<01:55,  1.29it/s]"
     ]
    },
    {
     "name": "stdout",
     "output_type": "stream",
     "text": [
      "Shape of output:  (6048, 581)\n"
     ]
    },
    {
     "name": "stderr",
     "output_type": "stream",
     "text": [
      "\r",
      " 63%|██████████████████████████████████████████████████▍                             | 252/400 [03:27<01:55,  1.28it/s]"
     ]
    },
    {
     "name": "stdout",
     "output_type": "stream",
     "text": [
      "Shape of output:  (6072, 581)\n"
     ]
    },
    {
     "name": "stderr",
     "output_type": "stream",
     "text": [
      "\r",
      " 63%|██████████████████████████████████████████████████▌                             | 253/400 [03:28<01:54,  1.29it/s]"
     ]
    },
    {
     "name": "stdout",
     "output_type": "stream",
     "text": [
      "Shape of output:  (6096, 581)\n"
     ]
    },
    {
     "name": "stderr",
     "output_type": "stream",
     "text": [
      "\r",
      " 64%|██████████████████████████████████████████████████▊                             | 254/400 [03:29<01:52,  1.29it/s]"
     ]
    },
    {
     "name": "stdout",
     "output_type": "stream",
     "text": [
      "Shape of output:  (6120, 581)\n"
     ]
    },
    {
     "name": "stderr",
     "output_type": "stream",
     "text": [
      "\r",
      " 64%|███████████████████████████████████████████████████                             | 255/400 [03:30<01:53,  1.28it/s]"
     ]
    },
    {
     "name": "stdout",
     "output_type": "stream",
     "text": [
      "Shape of output:  (6144, 581)\n",
      "k =  10364101.0 \n",
      "ErrorMessage:  index -5 is out of bounds for axis 0 with size 4\n",
      "k =  10364101.0 \n",
      "ErrorMessage:  index -5 is out of bounds for axis 0 with size 4\n",
      "k =  10364101.0 \n",
      "ErrorMessage:  index -5 is out of bounds for axis 0 with size 4\n",
      "k =  10364101.0 \n",
      "ErrorMessage:  index -5 is out of bounds for axis 0 with size 4\n",
      "k =  10364101.0 \n",
      "ErrorMessage:  index -5 is out of bounds for axis 0 with size 4\n",
      "k =  10364101.0 \n",
      "ErrorMessage:  index -5 is out of bounds for axis 0 with size 4\n",
      "k =  10364101.0 \n",
      "ErrorMessage:  index -5 is out of bounds for axis 0 with size 4\n",
      "k =  10364101.0 \n",
      "ErrorMessage:  index -5 is out of bounds for axis 0 with size 4\n",
      "k =  10364101.0 \n",
      "ErrorMessage:  index -5 is out of bounds for axis 0 with size 4\n",
      "k =  10364101.0 \n",
      "ErrorMessage:  index -5 is out of bounds for axis 0 with size 4\n",
      "k =  10364101.0 \n",
      "ErrorMessage:  index -5 is out of bounds for axis 0 with size 4\n",
      "k =  10364101.0 \n",
      "ErrorMessage:  index -5 is out of bounds for axis 0 with size 4\n",
      "k =  10364101.0 \n",
      "ErrorMessage:  index -5 is out of bounds for axis 0 with size 4\n",
      "k =  10364101.0 \n",
      "ErrorMessage:  index -5 is out of bounds for axis 0 with size 4\n",
      "k =  10364101.0 \n",
      "ErrorMessage:  index -5 is out of bounds for axis 0 with size 4\n",
      "k =  10364101.0 \n",
      "ErrorMessage:  index -5 is out of bounds for axis 0 with size 4\n",
      "k =  10364101.0 \n",
      "ErrorMessage:  index -5 is out of bounds for axis 0 with size 4\n",
      "k =  10364101.0 \n",
      "ErrorMessage:  index -5 is out of bounds for axis 0 with size 4\n",
      "k =  10364101.0 \n",
      "ErrorMessage:  index -5 is out of bounds for axis 0 with size 4\n",
      "k =  10364101.0 \n",
      "ErrorMessage:  index -5 is out of bounds for axis 0 with size 4\n",
      "k =  10364101.0 \n",
      "ErrorMessage:  index -5 is out of bounds for axis 0 with size 4\n",
      "k =  10364101.0 \n",
      "ErrorMessage:  index -5 is out of bounds for axis 0 with size 4\n",
      "k =  10364101.0 \n",
      "ErrorMessage:  index -5 is out of bounds for axis 0 with size 4\n",
      "k =  10364101.0 \n",
      "ErrorMessage:  index -5 is out of bounds for axis 0 with size 4\n"
     ]
    },
    {
     "name": "stderr",
     "output_type": "stream",
     "text": [
      "\r",
      " 64%|███████████████████████████████████████████████████▏                            | 256/400 [03:30<01:52,  1.28it/s]"
     ]
    },
    {
     "name": "stdout",
     "output_type": "stream",
     "text": [
      "Shape of output:  (6168, 581)\n"
     ]
    },
    {
     "name": "stderr",
     "output_type": "stream",
     "text": [
      "\r",
      " 64%|███████████████████████████████████████████████████▍                            | 257/400 [03:31<01:53,  1.26it/s]"
     ]
    },
    {
     "name": "stdout",
     "output_type": "stream",
     "text": [
      "Shape of output:  (6192, 581)\n"
     ]
    },
    {
     "name": "stderr",
     "output_type": "stream",
     "text": [
      "\r",
      " 64%|███████████████████████████████████████████████████▌                            | 258/400 [03:32<01:53,  1.25it/s]"
     ]
    },
    {
     "name": "stdout",
     "output_type": "stream",
     "text": [
      "Shape of output:  (6216, 581)\n"
     ]
    },
    {
     "name": "stderr",
     "output_type": "stream",
     "text": [
      "\r",
      " 65%|███████████████████████████████████████████████████▊                            | 259/400 [03:33<01:52,  1.25it/s]"
     ]
    },
    {
     "name": "stdout",
     "output_type": "stream",
     "text": [
      "Shape of output:  (6240, 581)\n"
     ]
    },
    {
     "name": "stderr",
     "output_type": "stream",
     "text": [
      "\r",
      " 65%|████████████████████████████████████████████████████                            | 260/400 [03:34<01:52,  1.24it/s]"
     ]
    },
    {
     "name": "stdout",
     "output_type": "stream",
     "text": [
      "Shape of output:  (6264, 581)\n",
      "k =  10026206.0 \n",
      "ErrorMessage:  index -4 is out of bounds for axis 0 with size 3\n",
      "k =  10026206.0 \n",
      "ErrorMessage:  index -5 is out of bounds for axis 0 with size 3\n",
      "k =  10026206.0 \n",
      "ErrorMessage:  index -4 is out of bounds for axis 0 with size 3\n",
      "k =  10026206.0 \n",
      "ErrorMessage:  index -5 is out of bounds for axis 0 with size 3\n",
      "k =  10026206.0 \n",
      "ErrorMessage:  index -4 is out of bounds for axis 0 with size 3\n",
      "k =  10026206.0 \n",
      "ErrorMessage:  index -5 is out of bounds for axis 0 with size 3\n",
      "k =  10026206.0 \n",
      "ErrorMessage:  index -4 is out of bounds for axis 0 with size 3\n",
      "k =  10026206.0 \n",
      "ErrorMessage:  index -5 is out of bounds for axis 0 with size 3\n",
      "k =  10026206.0 \n",
      "ErrorMessage:  index -4 is out of bounds for axis 0 with size 3\n",
      "k =  10026206.0 \n",
      "ErrorMessage:  index -5 is out of bounds for axis 0 with size 3\n",
      "k =  10026206.0 \n",
      "ErrorMessage:  index -4 is out of bounds for axis 0 with size 3\n",
      "k =  10026206.0 \n",
      "ErrorMessage:  index -5 is out of bounds for axis 0 with size 3\n",
      "k =  10026206.0 \n",
      "ErrorMessage:  index -4 is out of bounds for axis 0 with size 3\n",
      "k =  10026206.0 \n",
      "ErrorMessage:  index -5 is out of bounds for axis 0 with size 3\n",
      "k =  10026206.0 \n",
      "ErrorMessage:  index -4 is out of bounds for axis 0 with size 3\n",
      "k =  10026206.0 \n",
      "ErrorMessage:  index -5 is out of bounds for axis 0 with size 3\n",
      "k =  10026206.0 \n",
      "ErrorMessage:  index -4 is out of bounds for axis 0 with size 3\n",
      "k =  10026206.0 \n",
      "ErrorMessage:  index -5 is out of bounds for axis 0 with size 3\n",
      "k =  10026206.0 \n",
      "ErrorMessage:  index -4 is out of bounds for axis 0 with size 3\n",
      "k =  10026206.0 \n",
      "ErrorMessage:  index -5 is out of bounds for axis 0 with size 3\n",
      "k =  10026206.0 \n",
      "ErrorMessage:  index -4 is out of bounds for axis 0 with size 3\n",
      "k =  10026206.0 \n",
      "ErrorMessage:  index -5 is out of bounds for axis 0 with size 3\n",
      "k =  10026206.0 \n",
      "ErrorMessage:  index -4 is out of bounds for axis 0 with size 3\n",
      "k =  10026206.0 \n",
      "ErrorMessage:  index -5 is out of bounds for axis 0 with size 3\n",
      "k =  10026206.0 \n",
      "ErrorMessage:  index -4 is out of bounds for axis 0 with size 3\n",
      "k =  10026206.0 \n",
      "ErrorMessage:  index -5 is out of bounds for axis 0 with size 3\n",
      "k =  10026206.0 \n",
      "ErrorMessage:  index -4 is out of bounds for axis 0 with size 3\n",
      "k =  10026206.0 \n",
      "ErrorMessage:  index -5 is out of bounds for axis 0 with size 3\n",
      "k =  10026206.0 \n",
      "ErrorMessage:  index -4 is out of bounds for axis 0 with size 3\n",
      "k =  10026206.0 \n",
      "ErrorMessage:  index -5 is out of bounds for axis 0 with size 3\n",
      "k =  10026206.0 \n",
      "ErrorMessage:  index -4 is out of bounds for axis 0 with size 3\n",
      "k =  10026206.0 \n",
      "ErrorMessage:  index -5 is out of bounds for axis 0 with size 3\n",
      "k =  10026206.0 \n",
      "ErrorMessage:  index -4 is out of bounds for axis 0 with size 3\n",
      "k =  10026206.0 \n",
      "ErrorMessage:  index -5 is out of bounds for axis 0 with size 3\n",
      "k =  10026206.0 \n",
      "ErrorMessage:  index -4 is out of bounds for axis 0 with size 3\n",
      "k =  10026206.0 \n",
      "ErrorMessage:  index -5 is out of bounds for axis 0 with size 3\n",
      "k =  10026206.0 \n",
      "ErrorMessage:  index -4 is out of bounds for axis 0 with size 3\n",
      "k =  10026206.0 \n",
      "ErrorMessage:  index -5 is out of bounds for axis 0 with size 3\n",
      "k =  10026206.0 \n",
      "ErrorMessage:  index -4 is out of bounds for axis 0 with size 3\n",
      "k =  10026206.0 \n",
      "ErrorMessage:  index -5 is out of bounds for axis 0 with size 3\n",
      "k =  10026206.0 \n",
      "ErrorMessage:  index -4 is out of bounds for axis 0 with size 3\n",
      "k =  10026206.0 \n",
      "ErrorMessage:  index -5 is out of bounds for axis 0 with size 3\n",
      "k =  10026206.0 \n",
      "ErrorMessage:  index -4 is out of bounds for axis 0 with size 3\n",
      "k =  10026206.0 \n",
      "ErrorMessage:  index -5 is out of bounds for axis 0 with size 3\n",
      "k =  10026206.0 \n",
      "ErrorMessage:  index -4 is out of bounds for axis 0 with size 3\n",
      "k =  10026206.0 \n",
      "ErrorMessage:  index -5 is out of bounds for axis 0 with size 3\n",
      "k =  10026206.0 \n",
      "ErrorMessage:  index -4 is out of bounds for axis 0 with size 3\n",
      "k =  10026206.0 \n",
      "ErrorMessage:  index -5 is out of bounds for axis 0 with size 3\n"
     ]
    },
    {
     "name": "stderr",
     "output_type": "stream",
     "text": [
      "\r",
      " 65%|████████████████████████████████████████████████████▏                           | 261/400 [03:34<01:52,  1.23it/s]"
     ]
    },
    {
     "name": "stdout",
     "output_type": "stream",
     "text": [
      "Shape of output:  (6288, 581)\n"
     ]
    },
    {
     "name": "stderr",
     "output_type": "stream",
     "text": [
      "\r",
      " 66%|████████████████████████████████████████████████████▍                           | 262/400 [03:35<01:53,  1.22it/s]"
     ]
    },
    {
     "name": "stdout",
     "output_type": "stream",
     "text": [
      "Shape of output:  (6312, 581)\n"
     ]
    },
    {
     "name": "stderr",
     "output_type": "stream",
     "text": [
      "\r",
      " 66%|████████████████████████████████████████████████████▌                           | 263/400 [03:36<01:51,  1.23it/s]"
     ]
    },
    {
     "name": "stdout",
     "output_type": "stream",
     "text": [
      "Shape of output:  (6336, 581)\n"
     ]
    },
    {
     "name": "stderr",
     "output_type": "stream",
     "text": [
      "\r",
      " 66%|████████████████████████████████████████████████████▊                           | 264/400 [03:37<01:48,  1.25it/s]"
     ]
    },
    {
     "name": "stdout",
     "output_type": "stream",
     "text": [
      "Shape of output:  (6360, 581)\n"
     ]
    },
    {
     "name": "stderr",
     "output_type": "stream",
     "text": [
      "\r",
      " 66%|█████████████████████████████████████████████████████                           | 265/400 [03:38<01:46,  1.27it/s]"
     ]
    },
    {
     "name": "stdout",
     "output_type": "stream",
     "text": [
      "Shape of output:  (6384, 581)\n"
     ]
    },
    {
     "name": "stderr",
     "output_type": "stream",
     "text": [
      "\r",
      " 66%|█████████████████████████████████████████████████████▏                          | 266/400 [03:38<01:46,  1.26it/s]"
     ]
    },
    {
     "name": "stdout",
     "output_type": "stream",
     "text": [
      "Shape of output:  (6408, 581)\n"
     ]
    },
    {
     "name": "stderr",
     "output_type": "stream",
     "text": [
      "\r",
      " 67%|█████████████████████████████████████████████████████▍                          | 267/400 [03:39<01:44,  1.28it/s]"
     ]
    },
    {
     "name": "stdout",
     "output_type": "stream",
     "text": [
      "Shape of output:  (6432, 581)\n"
     ]
    },
    {
     "name": "stderr",
     "output_type": "stream",
     "text": [
      "\r",
      " 67%|█████████████████████████████████████████████████████▌                          | 268/400 [03:40<01:47,  1.23it/s]"
     ]
    },
    {
     "name": "stdout",
     "output_type": "stream",
     "text": [
      "Shape of output:  (6456, 581)\n"
     ]
    },
    {
     "name": "stderr",
     "output_type": "stream",
     "text": [
      "\r",
      " 67%|█████████████████████████████████████████████████████▊                          | 269/400 [03:41<01:49,  1.20it/s]"
     ]
    },
    {
     "name": "stdout",
     "output_type": "stream",
     "text": [
      "Shape of output:  (6480, 581)\n"
     ]
    },
    {
     "name": "stderr",
     "output_type": "stream",
     "text": [
      "\r",
      " 68%|██████████████████████████████████████████████████████                          | 270/400 [03:42<01:47,  1.21it/s]"
     ]
    },
    {
     "name": "stdout",
     "output_type": "stream",
     "text": [
      "Shape of output:  (6504, 581)\n"
     ]
    },
    {
     "name": "stderr",
     "output_type": "stream",
     "text": [
      "\r",
      " 68%|██████████████████████████████████████████████████████▏                         | 271/400 [03:43<01:43,  1.24it/s]"
     ]
    },
    {
     "name": "stdout",
     "output_type": "stream",
     "text": [
      "Shape of output:  (6528, 581)\n"
     ]
    },
    {
     "name": "stderr",
     "output_type": "stream",
     "text": [
      "\r",
      " 68%|██████████████████████████████████████████████████████▍                         | 272/400 [03:43<01:43,  1.24it/s]"
     ]
    },
    {
     "name": "stdout",
     "output_type": "stream",
     "text": [
      "Shape of output:  (6552, 581)\n"
     ]
    },
    {
     "name": "stderr",
     "output_type": "stream",
     "text": [
      "\r",
      " 68%|██████████████████████████████████████████████████████▌                         | 273/400 [03:44<01:41,  1.25it/s]"
     ]
    },
    {
     "name": "stdout",
     "output_type": "stream",
     "text": [
      "Shape of output:  (6576, 581)\n"
     ]
    },
    {
     "name": "stderr",
     "output_type": "stream",
     "text": [
      "\r",
      " 68%|██████████████████████████████████████████████████████▊                         | 274/400 [03:45<01:40,  1.26it/s]"
     ]
    },
    {
     "name": "stdout",
     "output_type": "stream",
     "text": [
      "Shape of output:  (6600, 581)\n"
     ]
    },
    {
     "name": "stderr",
     "output_type": "stream",
     "text": [
      "\r",
      " 69%|███████████████████████████████████████████████████████                         | 275/400 [03:46<01:39,  1.25it/s]"
     ]
    },
    {
     "name": "stdout",
     "output_type": "stream",
     "text": [
      "Shape of output:  (6624, 581)\n"
     ]
    },
    {
     "name": "stderr",
     "output_type": "stream",
     "text": [
      "\r",
      " 69%|███████████████████████████████████████████████████████▏                        | 276/400 [03:47<01:38,  1.25it/s]"
     ]
    },
    {
     "name": "stdout",
     "output_type": "stream",
     "text": [
      "Shape of output:  (6648, 581)\n"
     ]
    },
    {
     "name": "stderr",
     "output_type": "stream",
     "text": [
      "\r",
      " 69%|███████████████████████████████████████████████████████▍                        | 277/400 [03:47<01:36,  1.27it/s]"
     ]
    },
    {
     "name": "stdout",
     "output_type": "stream",
     "text": [
      "Shape of output:  (6672, 581)\n"
     ]
    },
    {
     "name": "stderr",
     "output_type": "stream",
     "text": [
      "\r",
      " 70%|███████████████████████████████████████████████████████▌                        | 278/400 [03:48<01:35,  1.28it/s]"
     ]
    },
    {
     "name": "stdout",
     "output_type": "stream",
     "text": [
      "Shape of output:  (6696, 581)\n",
      "k =  10262437.0 \n",
      "ErrorMessage:  index -3 is out of bounds for axis 0 with size 2\n",
      "k =  10262437.0 \n",
      "ErrorMessage:  index -4 is out of bounds for axis 0 with size 2\n",
      "k =  10262437.0 \n",
      "ErrorMessage:  index -5 is out of bounds for axis 0 with size 2\n",
      "k =  10262437.0 \n",
      "ErrorMessage:  index -3 is out of bounds for axis 0 with size 2\n",
      "k =  10262437.0 \n",
      "ErrorMessage:  index -4 is out of bounds for axis 0 with size 2\n",
      "k =  10262437.0 \n",
      "ErrorMessage:  index -5 is out of bounds for axis 0 with size 2\n",
      "k =  10262437.0 \n",
      "ErrorMessage:  index -3 is out of bounds for axis 0 with size 2\n",
      "k =  10262437.0 \n",
      "ErrorMessage:  index -4 is out of bounds for axis 0 with size 2\n",
      "k =  10262437.0 \n",
      "ErrorMessage:  index -5 is out of bounds for axis 0 with size 2\n",
      "k =  10262437.0 \n",
      "ErrorMessage:  index -3 is out of bounds for axis 0 with size 2\n",
      "k =  10262437.0 \n",
      "ErrorMessage:  index -4 is out of bounds for axis 0 with size 2\n",
      "k =  10262437.0 \n",
      "ErrorMessage:  index -5 is out of bounds for axis 0 with size 2\n",
      "k =  10262437.0 \n",
      "ErrorMessage:  index -3 is out of bounds for axis 0 with size 2\n",
      "k =  10262437.0 \n",
      "ErrorMessage:  index -4 is out of bounds for axis 0 with size 2\n",
      "k =  10262437.0 \n",
      "ErrorMessage:  index -5 is out of bounds for axis 0 with size 2\n",
      "k =  10262437.0 \n",
      "ErrorMessage:  index -3 is out of bounds for axis 0 with size 2\n",
      "k =  10262437.0 \n",
      "ErrorMessage:  index -4 is out of bounds for axis 0 with size 2\n",
      "k =  10262437.0 \n",
      "ErrorMessage:  index -5 is out of bounds for axis 0 with size 2\n",
      "k =  10262437.0 \n",
      "ErrorMessage:  index -3 is out of bounds for axis 0 with size 2\n",
      "k =  10262437.0 \n",
      "ErrorMessage:  index -4 is out of bounds for axis 0 with size 2\n",
      "k =  10262437.0 \n",
      "ErrorMessage:  index -5 is out of bounds for axis 0 with size 2\n",
      "k =  10262437.0 \n",
      "ErrorMessage:  index -3 is out of bounds for axis 0 with size 2\n",
      "k =  10262437.0 \n",
      "ErrorMessage:  index -4 is out of bounds for axis 0 with size 2\n",
      "k =  10262437.0 \n",
      "ErrorMessage:  index -5 is out of bounds for axis 0 with size 2\n",
      "k =  10262437.0 \n",
      "ErrorMessage:  index -3 is out of bounds for axis 0 with size 2\n",
      "k =  10262437.0 \n",
      "ErrorMessage:  index -4 is out of bounds for axis 0 with size 2\n",
      "k =  10262437.0 \n",
      "ErrorMessage:  index -5 is out of bounds for axis 0 with size 2\n",
      "k =  10262437.0 \n",
      "ErrorMessage:  index -3 is out of bounds for axis 0 with size 2\n",
      "k =  10262437.0 \n",
      "ErrorMessage:  index -4 is out of bounds for axis 0 with size 2\n",
      "k =  10262437.0 \n",
      "ErrorMessage:  index -5 is out of bounds for axis 0 with size 2\n",
      "k =  10262437.0 \n",
      "ErrorMessage:  index -3 is out of bounds for axis 0 with size 2\n",
      "k =  10262437.0 \n",
      "ErrorMessage:  index -4 is out of bounds for axis 0 with size 2\n",
      "k =  10262437.0 \n",
      "ErrorMessage:  index -5 is out of bounds for axis 0 with size 2\n",
      "k =  10262437.0 \n",
      "ErrorMessage:  index -3 is out of bounds for axis 0 with size 2\n",
      "k =  10262437.0 \n",
      "ErrorMessage:  index -4 is out of bounds for axis 0 with size 2\n",
      "k =  10262437.0 \n",
      "ErrorMessage:  index -5 is out of bounds for axis 0 with size 2\n",
      "k =  10262437.0 \n",
      "ErrorMessage:  index -3 is out of bounds for axis 0 with size 2\n",
      "k =  10262437.0 \n",
      "ErrorMessage:  index -4 is out of bounds for axis 0 with size 2\n",
      "k =  10262437.0 \n",
      "ErrorMessage:  index -5 is out of bounds for axis 0 with size 2\n",
      "k =  10262437.0 \n",
      "ErrorMessage:  index -3 is out of bounds for axis 0 with size 2\n",
      "k =  10262437.0 \n",
      "ErrorMessage:  index -4 is out of bounds for axis 0 with size 2\n",
      "k =  10262437.0 \n",
      "ErrorMessage:  index -5 is out of bounds for axis 0 with size 2\n",
      "k =  10262437.0 \n",
      "ErrorMessage:  index -3 is out of bounds for axis 0 with size 2\n",
      "k =  10262437.0 \n",
      "ErrorMessage:  index -4 is out of bounds for axis 0 with size 2\n",
      "k =  10262437.0 \n",
      "ErrorMessage:  index -5 is out of bounds for axis 0 with size 2\n",
      "k =  10262437.0 \n",
      "ErrorMessage:  index -3 is out of bounds for axis 0 with size 2\n",
      "k =  10262437.0 \n",
      "ErrorMessage:  index -4 is out of bounds for axis 0 with size 2\n",
      "k =  10262437.0 \n",
      "ErrorMessage:  index -5 is out of bounds for axis 0 with size 2\n",
      "k =  10262437.0 \n",
      "ErrorMessage:  index -3 is out of bounds for axis 0 with size 2\n",
      "k =  10262437.0 \n",
      "ErrorMessage:  index -4 is out of bounds for axis 0 with size 2\n",
      "k =  10262437.0 \n",
      "ErrorMessage:  index -5 is out of bounds for axis 0 with size 2\n",
      "k =  10262437.0 \n",
      "ErrorMessage:  index -3 is out of bounds for axis 0 with size 2\n",
      "k =  10262437.0 \n",
      "ErrorMessage:  index -4 is out of bounds for axis 0 with size 2\n",
      "k =  10262437.0 \n",
      "ErrorMessage:  index -5 is out of bounds for axis 0 with size 2\n",
      "k =  10262437.0 \n",
      "ErrorMessage:  index -3 is out of bounds for axis 0 with size 2\n",
      "k =  10262437.0 \n",
      "ErrorMessage:  index -4 is out of bounds for axis 0 with size 2\n",
      "k =  10262437.0 \n",
      "ErrorMessage:  index -5 is out of bounds for axis 0 with size 2\n",
      "k =  10262437.0 \n",
      "ErrorMessage:  index -3 is out of bounds for axis 0 with size 2\n",
      "k =  10262437.0 \n",
      "ErrorMessage:  index -4 is out of bounds for axis 0 with size 2\n",
      "k =  10262437.0 \n",
      "ErrorMessage:  index -5 is out of bounds for axis 0 with size 2\n",
      "k =  10262437.0 \n",
      "ErrorMessage:  index -3 is out of bounds for axis 0 with size 2\n",
      "k =  10262437.0 \n",
      "ErrorMessage:  index -4 is out of bounds for axis 0 with size 2\n",
      "k =  10262437.0 \n",
      "ErrorMessage:  index -5 is out of bounds for axis 0 with size 2\n",
      "k =  10262437.0 \n",
      "ErrorMessage:  index -3 is out of bounds for axis 0 with size 2\n",
      "k =  10262437.0 \n",
      "ErrorMessage:  index -4 is out of bounds for axis 0 with size 2\n",
      "k =  10262437.0 \n",
      "ErrorMessage:  index -5 is out of bounds for axis 0 with size 2\n",
      "k =  10262437.0 \n",
      "ErrorMessage:  index -3 is out of bounds for axis 0 with size 2\n",
      "k =  10262437.0 \n",
      "ErrorMessage:  index -4 is out of bounds for axis 0 with size 2\n",
      "k =  10262437.0 \n",
      "ErrorMessage:  index -5 is out of bounds for axis 0 with size 2\n",
      "k =  10262437.0 \n",
      "ErrorMessage:  index -3 is out of bounds for axis 0 with size 2\n",
      "k =  10262437.0 \n",
      "ErrorMessage:  index -4 is out of bounds for axis 0 with size 2\n",
      "k =  10262437.0 \n",
      "ErrorMessage:  index -5 is out of bounds for axis 0 with size 2\n"
     ]
    },
    {
     "name": "stderr",
     "output_type": "stream",
     "text": [
      "\r",
      " 70%|███████████████████████████████████████████████████████▊                        | 279/400 [03:49<01:33,  1.29it/s]"
     ]
    },
    {
     "name": "stdout",
     "output_type": "stream",
     "text": [
      "Shape of output:  (6720, 581)\n",
      "k =  10102898.0 \n",
      "ErrorMessage:  index -3 is out of bounds for axis 0 with size 2\n",
      "k =  10102898.0 \n",
      "ErrorMessage:  index -4 is out of bounds for axis 0 with size 2\n",
      "k =  10102898.0 \n",
      "ErrorMessage:  index -5 is out of bounds for axis 0 with size 2\n",
      "k =  10102898.0 \n",
      "ErrorMessage:  index -3 is out of bounds for axis 0 with size 2\n",
      "k =  10102898.0 \n",
      "ErrorMessage:  index -4 is out of bounds for axis 0 with size 2\n",
      "k =  10102898.0 \n",
      "ErrorMessage:  index -5 is out of bounds for axis 0 with size 2\n",
      "k =  10102898.0 \n",
      "ErrorMessage:  index -3 is out of bounds for axis 0 with size 2\n",
      "k =  10102898.0 \n",
      "ErrorMessage:  index -4 is out of bounds for axis 0 with size 2\n",
      "k =  10102898.0 \n",
      "ErrorMessage:  index -5 is out of bounds for axis 0 with size 2\n",
      "k =  10102898.0 \n",
      "ErrorMessage:  index -3 is out of bounds for axis 0 with size 2\n",
      "k =  10102898.0 \n",
      "ErrorMessage:  index -4 is out of bounds for axis 0 with size 2\n",
      "k =  10102898.0 \n",
      "ErrorMessage:  index -5 is out of bounds for axis 0 with size 2\n",
      "k =  10102898.0 \n",
      "ErrorMessage:  index -3 is out of bounds for axis 0 with size 2\n",
      "k =  10102898.0 \n",
      "ErrorMessage:  index -4 is out of bounds for axis 0 with size 2\n",
      "k =  10102898.0 \n",
      "ErrorMessage:  index -5 is out of bounds for axis 0 with size 2\n",
      "k =  10102898.0 \n",
      "ErrorMessage:  index -3 is out of bounds for axis 0 with size 2\n",
      "k =  10102898.0 \n",
      "ErrorMessage:  index -4 is out of bounds for axis 0 with size 2\n",
      "k =  10102898.0 \n",
      "ErrorMessage:  index -5 is out of bounds for axis 0 with size 2\n",
      "k =  10102898.0 \n",
      "ErrorMessage:  index -3 is out of bounds for axis 0 with size 2\n",
      "k =  10102898.0 \n",
      "ErrorMessage:  index -4 is out of bounds for axis 0 with size 2\n",
      "k =  10102898.0 \n",
      "ErrorMessage:  index -5 is out of bounds for axis 0 with size 2\n",
      "k =  10102898.0 \n",
      "ErrorMessage:  index -3 is out of bounds for axis 0 with size 2\n",
      "k =  10102898.0 \n",
      "ErrorMessage:  index -4 is out of bounds for axis 0 with size 2\n",
      "k =  10102898.0 \n",
      "ErrorMessage:  index -5 is out of bounds for axis 0 with size 2\n",
      "k =  10102898.0 \n",
      "ErrorMessage:  index -3 is out of bounds for axis 0 with size 2\n",
      "k =  10102898.0 \n",
      "ErrorMessage:  index -4 is out of bounds for axis 0 with size 2\n",
      "k =  10102898.0 \n",
      "ErrorMessage:  index -5 is out of bounds for axis 0 with size 2\n",
      "k =  10102898.0 \n",
      "ErrorMessage:  index -3 is out of bounds for axis 0 with size 2\n",
      "k =  10102898.0 \n",
      "ErrorMessage:  index -4 is out of bounds for axis 0 with size 2\n",
      "k =  10102898.0 \n",
      "ErrorMessage:  index -5 is out of bounds for axis 0 with size 2\n",
      "k =  10102898.0 \n",
      "ErrorMessage:  index -3 is out of bounds for axis 0 with size 2\n",
      "k =  10102898.0 \n",
      "ErrorMessage:  index -4 is out of bounds for axis 0 with size 2\n",
      "k =  10102898.0 \n",
      "ErrorMessage:  index -5 is out of bounds for axis 0 with size 2\n",
      "k =  10102898.0 \n",
      "ErrorMessage:  index -3 is out of bounds for axis 0 with size 2\n",
      "k =  10102898.0 \n",
      "ErrorMessage:  index -4 is out of bounds for axis 0 with size 2\n",
      "k =  10102898.0 \n",
      "ErrorMessage:  index -5 is out of bounds for axis 0 with size 2\n",
      "k =  10102898.0 \n",
      "ErrorMessage:  index -3 is out of bounds for axis 0 with size 2\n",
      "k =  10102898.0 \n",
      "ErrorMessage:  index -4 is out of bounds for axis 0 with size 2\n",
      "k =  10102898.0 \n",
      "ErrorMessage:  index -5 is out of bounds for axis 0 with size 2\n",
      "k =  10102898.0 \n",
      "ErrorMessage:  index -3 is out of bounds for axis 0 with size 2\n",
      "k =  10102898.0 \n",
      "ErrorMessage:  index -4 is out of bounds for axis 0 with size 2\n",
      "k =  10102898.0 \n",
      "ErrorMessage:  index -5 is out of bounds for axis 0 with size 2\n",
      "k =  10102898.0 \n",
      "ErrorMessage:  index -3 is out of bounds for axis 0 with size 2\n",
      "k =  10102898.0 \n",
      "ErrorMessage:  index -4 is out of bounds for axis 0 with size 2\n",
      "k =  10102898.0 \n",
      "ErrorMessage:  index -5 is out of bounds for axis 0 with size 2\n",
      "k =  10102898.0 \n",
      "ErrorMessage:  index -3 is out of bounds for axis 0 with size 2\n",
      "k =  10102898.0 \n",
      "ErrorMessage:  index -4 is out of bounds for axis 0 with size 2\n",
      "k =  10102898.0 \n",
      "ErrorMessage:  index -5 is out of bounds for axis 0 with size 2\n",
      "k =  10102898.0 \n",
      "ErrorMessage:  index -3 is out of bounds for axis 0 with size 2\n",
      "k =  10102898.0 \n",
      "ErrorMessage:  index -4 is out of bounds for axis 0 with size 2\n",
      "k =  10102898.0 \n",
      "ErrorMessage:  index -5 is out of bounds for axis 0 with size 2\n",
      "k =  10102898.0 \n",
      "ErrorMessage:  index -3 is out of bounds for axis 0 with size 2\n",
      "k =  10102898.0 \n",
      "ErrorMessage:  index -4 is out of bounds for axis 0 with size 2\n",
      "k =  10102898.0 \n",
      "ErrorMessage:  index -5 is out of bounds for axis 0 with size 2\n",
      "k =  10102898.0 \n",
      "ErrorMessage:  index -3 is out of bounds for axis 0 with size 2\n",
      "k =  10102898.0 \n",
      "ErrorMessage:  index -4 is out of bounds for axis 0 with size 2\n",
      "k =  10102898.0 \n",
      "ErrorMessage:  index -5 is out of bounds for axis 0 with size 2\n",
      "k =  10102898.0 \n",
      "ErrorMessage:  index -3 is out of bounds for axis 0 with size 2\n",
      "k =  10102898.0 \n",
      "ErrorMessage:  index -4 is out of bounds for axis 0 with size 2\n",
      "k =  10102898.0 \n",
      "ErrorMessage:  index -5 is out of bounds for axis 0 with size 2\n",
      "k =  10102898.0 \n",
      "ErrorMessage:  index -3 is out of bounds for axis 0 with size 2\n",
      "k =  10102898.0 \n",
      "ErrorMessage:  index -4 is out of bounds for axis 0 with size 2\n",
      "k =  10102898.0 \n",
      "ErrorMessage:  index -5 is out of bounds for axis 0 with size 2\n",
      "k =  10102898.0 \n",
      "ErrorMessage:  index -3 is out of bounds for axis 0 with size 2\n",
      "k =  10102898.0 \n",
      "ErrorMessage:  index -4 is out of bounds for axis 0 with size 2\n",
      "k =  10102898.0 \n",
      "ErrorMessage:  index -5 is out of bounds for axis 0 with size 2\n",
      "k =  10102898.0 \n",
      "ErrorMessage:  index -3 is out of bounds for axis 0 with size 2\n",
      "k =  10102898.0 \n",
      "ErrorMessage:  index -4 is out of bounds for axis 0 with size 2\n",
      "k =  10102898.0 \n",
      "ErrorMessage:  index -5 is out of bounds for axis 0 with size 2\n",
      "k =  10102898.0 \n",
      "ErrorMessage:  index -3 is out of bounds for axis 0 with size 2\n",
      "k =  10102898.0 \n",
      "ErrorMessage:  index -4 is out of bounds for axis 0 with size 2\n",
      "k =  10102898.0 \n",
      "ErrorMessage:  index -5 is out of bounds for axis 0 with size 2\n"
     ]
    },
    {
     "name": "stderr",
     "output_type": "stream",
     "text": [
      "\r",
      " 70%|████████████████████████████████████████████████████████                        | 280/400 [03:50<01:32,  1.29it/s]"
     ]
    },
    {
     "name": "stdout",
     "output_type": "stream",
     "text": [
      "Shape of output:  (6744, 581)\n",
      "k =  10216462.0 \n",
      "ErrorMessage:  index -5 is out of bounds for axis 0 with size 4\n",
      "k =  10216462.0 \n",
      "ErrorMessage:  index -5 is out of bounds for axis 0 with size 4\n",
      "k =  10216462.0 \n",
      "ErrorMessage:  index -5 is out of bounds for axis 0 with size 4\n",
      "k =  10216462.0 \n",
      "ErrorMessage:  index -5 is out of bounds for axis 0 with size 4\n",
      "k =  10216462.0 \n",
      "ErrorMessage:  index -5 is out of bounds for axis 0 with size 4\n",
      "k =  10216462.0 \n",
      "ErrorMessage:  index -5 is out of bounds for axis 0 with size 4\n",
      "k =  10216462.0 \n",
      "ErrorMessage:  index -5 is out of bounds for axis 0 with size 4\n",
      "k =  10216462.0 \n",
      "ErrorMessage:  index -5 is out of bounds for axis 0 with size 4\n",
      "k =  10216462.0 \n",
      "ErrorMessage:  index -5 is out of bounds for axis 0 with size 4\n",
      "k =  10216462.0 \n",
      "ErrorMessage:  index -5 is out of bounds for axis 0 with size 4\n",
      "k =  10216462.0 \n",
      "ErrorMessage:  index -5 is out of bounds for axis 0 with size 4\n",
      "k =  10216462.0 \n",
      "ErrorMessage:  index -5 is out of bounds for axis 0 with size 4\n",
      "k =  10216462.0 \n",
      "ErrorMessage:  index -5 is out of bounds for axis 0 with size 4\n",
      "k =  10216462.0 \n",
      "ErrorMessage:  index -5 is out of bounds for axis 0 with size 4\n",
      "k =  10216462.0 \n",
      "ErrorMessage:  index -5 is out of bounds for axis 0 with size 4\n",
      "k =  10216462.0 \n",
      "ErrorMessage:  index -5 is out of bounds for axis 0 with size 4\n",
      "k =  10216462.0 \n",
      "ErrorMessage:  index -5 is out of bounds for axis 0 with size 4\n",
      "k =  10216462.0 \n",
      "ErrorMessage:  index -5 is out of bounds for axis 0 with size 4\n",
      "k =  10216462.0 \n",
      "ErrorMessage:  index -5 is out of bounds for axis 0 with size 4\n",
      "k =  10216462.0 \n",
      "ErrorMessage:  index -5 is out of bounds for axis 0 with size 4\n",
      "k =  10216462.0 \n",
      "ErrorMessage:  index -5 is out of bounds for axis 0 with size 4\n",
      "k =  10216462.0 \n",
      "ErrorMessage:  index -5 is out of bounds for axis 0 with size 4\n",
      "k =  10216462.0 \n",
      "ErrorMessage:  index -5 is out of bounds for axis 0 with size 4\n",
      "k =  10216462.0 \n",
      "ErrorMessage:  index -5 is out of bounds for axis 0 with size 4\n"
     ]
    },
    {
     "name": "stderr",
     "output_type": "stream",
     "text": [
      "\r",
      " 70%|████████████████████████████████████████████████████████▏                       | 281/400 [03:50<01:32,  1.29it/s]"
     ]
    },
    {
     "name": "stdout",
     "output_type": "stream",
     "text": [
      "Shape of output:  (6768, 581)\n"
     ]
    },
    {
     "name": "stderr",
     "output_type": "stream",
     "text": [
      "\r",
      " 70%|████████████████████████████████████████████████████████▍                       | 282/400 [03:51<01:32,  1.27it/s]"
     ]
    },
    {
     "name": "stdout",
     "output_type": "stream",
     "text": [
      "Shape of output:  (6792, 581)\n"
     ]
    },
    {
     "name": "stderr",
     "output_type": "stream",
     "text": [
      "\r",
      " 71%|████████████████████████████████████████████████████████▌                       | 283/400 [03:52<01:32,  1.26it/s]"
     ]
    },
    {
     "name": "stdout",
     "output_type": "stream",
     "text": [
      "Shape of output:  (6816, 581)\n"
     ]
    },
    {
     "name": "stderr",
     "output_type": "stream",
     "text": [
      "\r",
      " 71%|████████████████████████████████████████████████████████▊                       | 284/400 [03:53<01:34,  1.23it/s]"
     ]
    },
    {
     "name": "stdout",
     "output_type": "stream",
     "text": [
      "Shape of output:  (6840, 581)\n"
     ]
    },
    {
     "name": "stderr",
     "output_type": "stream",
     "text": [
      "\r",
      " 71%|█████████████████████████████████████████████████████████                       | 285/400 [03:54<01:37,  1.18it/s]"
     ]
    },
    {
     "name": "stdout",
     "output_type": "stream",
     "text": [
      "Shape of output:  (6864, 581)\n"
     ]
    },
    {
     "name": "stderr",
     "output_type": "stream",
     "text": [
      "\r",
      " 72%|█████████████████████████████████████████████████████████▏                      | 286/400 [03:55<01:34,  1.21it/s]"
     ]
    },
    {
     "name": "stdout",
     "output_type": "stream",
     "text": [
      "Shape of output:  (6888, 581)\n"
     ]
    },
    {
     "name": "stderr",
     "output_type": "stream",
     "text": [
      "\r",
      " 72%|█████████████████████████████████████████████████████████▍                      | 287/400 [03:55<01:32,  1.22it/s]"
     ]
    },
    {
     "name": "stdout",
     "output_type": "stream",
     "text": [
      "Shape of output:  (6912, 581)\n"
     ]
    },
    {
     "name": "stderr",
     "output_type": "stream",
     "text": [
      "\r",
      " 72%|█████████████████████████████████████████████████████████▌                      | 288/400 [03:56<01:31,  1.23it/s]"
     ]
    },
    {
     "name": "stdout",
     "output_type": "stream",
     "text": [
      "Shape of output:  (6936, 581)\n",
      "k =  10365758.0 \n",
      "ErrorMessage:  index -5 is out of bounds for axis 0 with size 4\n",
      "k =  10365758.0 \n",
      "ErrorMessage:  index -5 is out of bounds for axis 0 with size 4\n",
      "k =  10365758.0 \n",
      "ErrorMessage:  index -5 is out of bounds for axis 0 with size 4\n",
      "k =  10365758.0 \n",
      "ErrorMessage:  index -5 is out of bounds for axis 0 with size 4\n",
      "k =  10365758.0 \n",
      "ErrorMessage:  index -5 is out of bounds for axis 0 with size 4\n",
      "k =  10365758.0 \n",
      "ErrorMessage:  index -5 is out of bounds for axis 0 with size 4\n",
      "k =  10365758.0 \n",
      "ErrorMessage:  index -5 is out of bounds for axis 0 with size 4\n",
      "k =  10365758.0 \n",
      "ErrorMessage:  index -5 is out of bounds for axis 0 with size 4\n",
      "k =  10365758.0 \n",
      "ErrorMessage:  index -5 is out of bounds for axis 0 with size 4\n",
      "k =  10365758.0 \n",
      "ErrorMessage:  index -5 is out of bounds for axis 0 with size 4\n",
      "k =  10365758.0 \n",
      "ErrorMessage:  index -5 is out of bounds for axis 0 with size 4\n",
      "k =  10365758.0 \n",
      "ErrorMessage:  index -5 is out of bounds for axis 0 with size 4\n",
      "k =  10365758.0 \n",
      "ErrorMessage:  index -5 is out of bounds for axis 0 with size 4\n",
      "k =  10365758.0 \n",
      "ErrorMessage:  index -5 is out of bounds for axis 0 with size 4\n",
      "k =  10365758.0 \n",
      "ErrorMessage:  index -5 is out of bounds for axis 0 with size 4\n",
      "k =  10365758.0 \n",
      "ErrorMessage:  index -5 is out of bounds for axis 0 with size 4\n",
      "k =  10365758.0 \n",
      "ErrorMessage:  index -5 is out of bounds for axis 0 with size 4\n",
      "k =  10365758.0 \n",
      "ErrorMessage:  index -5 is out of bounds for axis 0 with size 4\n",
      "k =  10365758.0 \n",
      "ErrorMessage:  index -5 is out of bounds for axis 0 with size 4\n",
      "k =  10365758.0 \n",
      "ErrorMessage:  index -5 is out of bounds for axis 0 with size 4\n",
      "k =  10365758.0 \n",
      "ErrorMessage:  index -5 is out of bounds for axis 0 with size 4\n",
      "k =  10365758.0 \n",
      "ErrorMessage:  index -5 is out of bounds for axis 0 with size 4\n",
      "k =  10365758.0 \n",
      "ErrorMessage:  index -5 is out of bounds for axis 0 with size 4\n",
      "k =  10365758.0 \n",
      "ErrorMessage:  index -5 is out of bounds for axis 0 with size 4\n"
     ]
    },
    {
     "name": "stderr",
     "output_type": "stream",
     "text": [
      "\r",
      " 72%|█████████████████████████████████████████████████████████▊                      | 289/400 [03:57<01:28,  1.25it/s]"
     ]
    },
    {
     "name": "stdout",
     "output_type": "stream",
     "text": [
      "Shape of output:  (6960, 581)\n"
     ]
    },
    {
     "name": "stderr",
     "output_type": "stream",
     "text": [
      "\r",
      " 72%|██████████████████████████████████████████████████████████                      | 290/400 [03:58<01:27,  1.26it/s]"
     ]
    },
    {
     "name": "stdout",
     "output_type": "stream",
     "text": [
      "Shape of output:  (6984, 581)\n"
     ]
    },
    {
     "name": "stderr",
     "output_type": "stream",
     "text": [
      "\r",
      " 73%|██████████████████████████████████████████████████████████▏                     | 291/400 [03:59<01:27,  1.24it/s]"
     ]
    },
    {
     "name": "stdout",
     "output_type": "stream",
     "text": [
      "Shape of output:  (7008, 581)\n"
     ]
    },
    {
     "name": "stderr",
     "output_type": "stream",
     "text": [
      "\r",
      " 73%|██████████████████████████████████████████████████████████▍                     | 292/400 [03:59<01:27,  1.24it/s]"
     ]
    },
    {
     "name": "stdout",
     "output_type": "stream",
     "text": [
      "Shape of output:  (7032, 581)\n"
     ]
    },
    {
     "name": "stderr",
     "output_type": "stream",
     "text": [
      "\r",
      " 73%|██████████████████████████████████████████████████████████▌                     | 293/400 [04:00<01:27,  1.22it/s]"
     ]
    },
    {
     "name": "stdout",
     "output_type": "stream",
     "text": [
      "Shape of output:  (7056, 581)\n"
     ]
    },
    {
     "name": "stderr",
     "output_type": "stream",
     "text": [
      "\r",
      " 74%|██████████████████████████████████████████████████████████▊                     | 294/400 [04:01<01:27,  1.21it/s]"
     ]
    },
    {
     "name": "stdout",
     "output_type": "stream",
     "text": [
      "Shape of output:  (7080, 581)\n",
      "k =  10000533.0 \n",
      "ErrorMessage:  index -5 is out of bounds for axis 0 with size 4\n",
      "k =  10000533.0 \n",
      "ErrorMessage:  index -5 is out of bounds for axis 0 with size 4\n",
      "k =  10000533.0 \n",
      "ErrorMessage:  index -5 is out of bounds for axis 0 with size 4\n",
      "k =  10000533.0 \n",
      "ErrorMessage:  index -5 is out of bounds for axis 0 with size 4\n",
      "k =  10000533.0 \n",
      "ErrorMessage:  index -5 is out of bounds for axis 0 with size 4\n",
      "k =  10000533.0 \n",
      "ErrorMessage:  index -5 is out of bounds for axis 0 with size 4\n",
      "k =  10000533.0 \n",
      "ErrorMessage:  index -5 is out of bounds for axis 0 with size 4\n",
      "k =  10000533.0 \n",
      "ErrorMessage:  index -5 is out of bounds for axis 0 with size 4\n",
      "k =  10000533.0 \n",
      "ErrorMessage:  index -5 is out of bounds for axis 0 with size 4\n",
      "k =  10000533.0 \n",
      "ErrorMessage:  index -5 is out of bounds for axis 0 with size 4\n",
      "k =  10000533.0 \n",
      "ErrorMessage:  index -5 is out of bounds for axis 0 with size 4\n",
      "k =  10000533.0 \n",
      "ErrorMessage:  index -5 is out of bounds for axis 0 with size 4\n",
      "k =  10000533.0 \n",
      "ErrorMessage:  index -5 is out of bounds for axis 0 with size 4\n",
      "k =  10000533.0 \n",
      "ErrorMessage:  index -5 is out of bounds for axis 0 with size 4\n",
      "k =  10000533.0 \n",
      "ErrorMessage:  index -5 is out of bounds for axis 0 with size 4\n",
      "k =  10000533.0 \n",
      "ErrorMessage:  index -5 is out of bounds for axis 0 with size 4\n",
      "k =  10000533.0 \n",
      "ErrorMessage:  index -5 is out of bounds for axis 0 with size 4\n",
      "k =  10000533.0 \n",
      "ErrorMessage:  index -5 is out of bounds for axis 0 with size 4\n",
      "k =  10000533.0 \n",
      "ErrorMessage:  index -5 is out of bounds for axis 0 with size 4\n",
      "k =  10000533.0 \n",
      "ErrorMessage:  index -5 is out of bounds for axis 0 with size 4\n",
      "k =  10000533.0 \n",
      "ErrorMessage:  index -5 is out of bounds for axis 0 with size 4\n",
      "k =  10000533.0 \n",
      "ErrorMessage:  index -5 is out of bounds for axis 0 with size 4\n",
      "k =  10000533.0 \n",
      "ErrorMessage:  index -5 is out of bounds for axis 0 with size 4\n",
      "k =  10000533.0 \n",
      "ErrorMessage:  index -5 is out of bounds for axis 0 with size 4\n"
     ]
    },
    {
     "name": "stderr",
     "output_type": "stream",
     "text": [
      "\r",
      " 74%|███████████████████████████████████████████████████████████                     | 295/400 [04:02<01:26,  1.22it/s]"
     ]
    },
    {
     "name": "stdout",
     "output_type": "stream",
     "text": [
      "Shape of output:  (7104, 581)\n"
     ]
    },
    {
     "name": "stderr",
     "output_type": "stream",
     "text": [
      "\r",
      " 74%|███████████████████████████████████████████████████████████▏                    | 296/400 [04:03<01:25,  1.21it/s]"
     ]
    },
    {
     "name": "stdout",
     "output_type": "stream",
     "text": [
      "Shape of output:  (7128, 581)\n"
     ]
    },
    {
     "name": "stderr",
     "output_type": "stream",
     "text": [
      "\r",
      " 74%|███████████████████████████████████████████████████████████▍                    | 297/400 [04:04<01:24,  1.22it/s]"
     ]
    },
    {
     "name": "stdout",
     "output_type": "stream",
     "text": [
      "Shape of output:  (7152, 581)\n"
     ]
    },
    {
     "name": "stderr",
     "output_type": "stream",
     "text": [
      "\r",
      " 74%|███████████████████████████████████████████████████████████▌                    | 298/400 [04:04<01:22,  1.24it/s]"
     ]
    },
    {
     "name": "stdout",
     "output_type": "stream",
     "text": [
      "Shape of output:  (7176, 581)\n"
     ]
    },
    {
     "name": "stderr",
     "output_type": "stream",
     "text": [
      "\r",
      " 75%|███████████████████████████████████████████████████████████▊                    | 299/400 [04:05<01:20,  1.25it/s]"
     ]
    },
    {
     "name": "stdout",
     "output_type": "stream",
     "text": [
      "Shape of output:  (7200, 581)\n"
     ]
    },
    {
     "name": "stderr",
     "output_type": "stream",
     "text": [
      "\r",
      " 75%|████████████████████████████████████████████████████████████                    | 300/400 [04:06<01:20,  1.24it/s]"
     ]
    },
    {
     "name": "stdout",
     "output_type": "stream",
     "text": [
      "Shape of output:  (7224, 581)\n"
     ]
    },
    {
     "name": "stderr",
     "output_type": "stream",
     "text": [
      "\r",
      " 75%|████████████████████████████████████████████████████████████▏                   | 301/400 [04:07<01:19,  1.25it/s]"
     ]
    },
    {
     "name": "stdout",
     "output_type": "stream",
     "text": [
      "Shape of output:  (7248, 581)\n"
     ]
    },
    {
     "name": "stderr",
     "output_type": "stream",
     "text": [
      "\r",
      " 76%|████████████████████████████████████████████████████████████▍                   | 302/400 [04:07<01:18,  1.25it/s]"
     ]
    },
    {
     "name": "stdout",
     "output_type": "stream",
     "text": [
      "Shape of output:  (7272, 581)\n"
     ]
    },
    {
     "name": "stderr",
     "output_type": "stream",
     "text": [
      "\r",
      " 76%|████████████████████████████████████████████████████████████▌                   | 303/400 [04:08<01:17,  1.26it/s]"
     ]
    },
    {
     "name": "stdout",
     "output_type": "stream",
     "text": [
      "Shape of output:  (7296, 581)\n",
      "k =  10325672.0 \n",
      "ErrorMessage:  index -5 is out of bounds for axis 0 with size 4\n",
      "k =  10325672.0 \n",
      "ErrorMessage:  index -5 is out of bounds for axis 0 with size 4\n",
      "k =  10325672.0 \n",
      "ErrorMessage:  index -5 is out of bounds for axis 0 with size 4\n",
      "k =  10325672.0 \n",
      "ErrorMessage:  index -5 is out of bounds for axis 0 with size 4\n",
      "k =  10325672.0 \n",
      "ErrorMessage:  index -5 is out of bounds for axis 0 with size 4\n",
      "k =  10325672.0 \n",
      "ErrorMessage:  index -5 is out of bounds for axis 0 with size 4\n",
      "k =  10325672.0 \n",
      "ErrorMessage:  index -5 is out of bounds for axis 0 with size 4\n",
      "k =  10325672.0 \n",
      "ErrorMessage:  index -5 is out of bounds for axis 0 with size 4\n",
      "k =  10325672.0 \n",
      "ErrorMessage:  index -5 is out of bounds for axis 0 with size 4\n",
      "k =  10325672.0 \n",
      "ErrorMessage:  index -5 is out of bounds for axis 0 with size 4\n",
      "k =  10325672.0 \n",
      "ErrorMessage:  index -5 is out of bounds for axis 0 with size 4\n",
      "k =  10325672.0 \n",
      "ErrorMessage:  index -5 is out of bounds for axis 0 with size 4\n",
      "k =  10325672.0 \n",
      "ErrorMessage:  index -5 is out of bounds for axis 0 with size 4\n",
      "k =  10325672.0 \n",
      "ErrorMessage:  index -5 is out of bounds for axis 0 with size 4\n",
      "k =  10325672.0 \n",
      "ErrorMessage:  index -5 is out of bounds for axis 0 with size 4\n",
      "k =  10325672.0 \n",
      "ErrorMessage:  index -5 is out of bounds for axis 0 with size 4\n",
      "k =  10325672.0 \n",
      "ErrorMessage:  index -5 is out of bounds for axis 0 with size 4\n",
      "k =  10325672.0 \n",
      "ErrorMessage:  index -5 is out of bounds for axis 0 with size 4\n",
      "k =  10325672.0 \n",
      "ErrorMessage:  index -5 is out of bounds for axis 0 with size 4\n",
      "k =  10325672.0 \n",
      "ErrorMessage:  index -5 is out of bounds for axis 0 with size 4\n",
      "k =  10325672.0 \n",
      "ErrorMessage:  index -5 is out of bounds for axis 0 with size 4\n",
      "k =  10325672.0 \n",
      "ErrorMessage:  index -5 is out of bounds for axis 0 with size 4\n",
      "k =  10325672.0 \n",
      "ErrorMessage:  index -5 is out of bounds for axis 0 with size 4\n",
      "k =  10325672.0 \n",
      "ErrorMessage:  index -5 is out of bounds for axis 0 with size 4\n"
     ]
    },
    {
     "name": "stderr",
     "output_type": "stream",
     "text": [
      "\r",
      " 76%|████████████████████████████████████████████████████████████▊                   | 304/400 [04:09<01:15,  1.27it/s]"
     ]
    },
    {
     "name": "stdout",
     "output_type": "stream",
     "text": [
      "Shape of output:  (7320, 581)\n"
     ]
    },
    {
     "name": "stderr",
     "output_type": "stream",
     "text": [
      "\r",
      " 76%|█████████████████████████████████████████████████████████████                   | 305/400 [04:10<01:14,  1.27it/s]"
     ]
    },
    {
     "name": "stdout",
     "output_type": "stream",
     "text": [
      "Shape of output:  (7344, 581)\n",
      "k =  10007927.0 \n",
      "ErrorMessage:  index -4 is out of bounds for axis 0 with size 3\n",
      "k =  10007927.0 \n",
      "ErrorMessage:  index -5 is out of bounds for axis 0 with size 3\n",
      "k =  10007927.0 \n",
      "ErrorMessage:  index -4 is out of bounds for axis 0 with size 3\n",
      "k =  10007927.0 \n",
      "ErrorMessage:  index -5 is out of bounds for axis 0 with size 3\n",
      "k =  10007927.0 \n",
      "ErrorMessage:  index -4 is out of bounds for axis 0 with size 3\n",
      "k =  10007927.0 \n",
      "ErrorMessage:  index -5 is out of bounds for axis 0 with size 3\n",
      "k =  10007927.0 \n",
      "ErrorMessage:  index -4 is out of bounds for axis 0 with size 3\n",
      "k =  10007927.0 \n",
      "ErrorMessage:  index -5 is out of bounds for axis 0 with size 3\n",
      "k =  10007927.0 \n",
      "ErrorMessage:  index -4 is out of bounds for axis 0 with size 3\n",
      "k =  10007927.0 \n",
      "ErrorMessage:  index -5 is out of bounds for axis 0 with size 3\n",
      "k =  10007927.0 \n",
      "ErrorMessage:  index -4 is out of bounds for axis 0 with size 3\n",
      "k =  10007927.0 \n",
      "ErrorMessage:  index -5 is out of bounds for axis 0 with size 3\n",
      "k =  10007927.0 \n",
      "ErrorMessage:  index -4 is out of bounds for axis 0 with size 3\n",
      "k =  10007927.0 \n",
      "ErrorMessage:  index -5 is out of bounds for axis 0 with size 3\n",
      "k =  10007927.0 \n",
      "ErrorMessage:  index -4 is out of bounds for axis 0 with size 3\n",
      "k =  10007927.0 \n",
      "ErrorMessage:  index -5 is out of bounds for axis 0 with size 3\n",
      "k =  10007927.0 \n",
      "ErrorMessage:  index -4 is out of bounds for axis 0 with size 3\n",
      "k =  10007927.0 \n",
      "ErrorMessage:  index -5 is out of bounds for axis 0 with size 3\n",
      "k =  10007927.0 \n",
      "ErrorMessage:  index -4 is out of bounds for axis 0 with size 3\n",
      "k =  10007927.0 \n",
      "ErrorMessage:  index -5 is out of bounds for axis 0 with size 3\n",
      "k =  10007927.0 \n",
      "ErrorMessage:  index -4 is out of bounds for axis 0 with size 3\n",
      "k =  10007927.0 \n",
      "ErrorMessage:  index -5 is out of bounds for axis 0 with size 3\n",
      "k =  10007927.0 \n",
      "ErrorMessage:  index -4 is out of bounds for axis 0 with size 3\n",
      "k =  10007927.0 \n",
      "ErrorMessage:  index -5 is out of bounds for axis 0 with size 3\n",
      "k =  10007927.0 \n",
      "ErrorMessage:  index -4 is out of bounds for axis 0 with size 3\n",
      "k =  10007927.0 \n",
      "ErrorMessage:  index -5 is out of bounds for axis 0 with size 3\n",
      "k =  10007927.0 \n",
      "ErrorMessage:  index -4 is out of bounds for axis 0 with size 3\n",
      "k =  10007927.0 \n",
      "ErrorMessage:  index -5 is out of bounds for axis 0 with size 3\n",
      "k =  10007927.0 \n",
      "ErrorMessage:  index -4 is out of bounds for axis 0 with size 3\n",
      "k =  10007927.0 \n",
      "ErrorMessage:  index -5 is out of bounds for axis 0 with size 3\n",
      "k =  10007927.0 \n",
      "ErrorMessage:  index -4 is out of bounds for axis 0 with size 3\n",
      "k =  10007927.0 \n",
      "ErrorMessage:  index -5 is out of bounds for axis 0 with size 3\n",
      "k =  10007927.0 \n",
      "ErrorMessage:  index -4 is out of bounds for axis 0 with size 3\n",
      "k =  10007927.0 \n",
      "ErrorMessage:  index -5 is out of bounds for axis 0 with size 3\n",
      "k =  10007927.0 \n",
      "ErrorMessage:  index -4 is out of bounds for axis 0 with size 3\n",
      "k =  10007927.0 \n",
      "ErrorMessage:  index -5 is out of bounds for axis 0 with size 3\n",
      "k =  10007927.0 \n",
      "ErrorMessage:  index -4 is out of bounds for axis 0 with size 3\n",
      "k =  10007927.0 \n",
      "ErrorMessage:  index -5 is out of bounds for axis 0 with size 3\n",
      "k =  10007927.0 \n",
      "ErrorMessage:  index -4 is out of bounds for axis 0 with size 3\n",
      "k =  10007927.0 \n",
      "ErrorMessage:  index -5 is out of bounds for axis 0 with size 3\n",
      "k =  10007927.0 \n",
      "ErrorMessage:  index -4 is out of bounds for axis 0 with size 3\n",
      "k =  10007927.0 \n",
      "ErrorMessage:  index -5 is out of bounds for axis 0 with size 3\n",
      "k =  10007927.0 \n",
      "ErrorMessage:  index -4 is out of bounds for axis 0 with size 3\n",
      "k =  10007927.0 \n",
      "ErrorMessage:  index -5 is out of bounds for axis 0 with size 3\n",
      "k =  10007927.0 \n",
      "ErrorMessage:  index -4 is out of bounds for axis 0 with size 3\n",
      "k =  10007927.0 \n",
      "ErrorMessage:  index -5 is out of bounds for axis 0 with size 3\n",
      "k =  10007927.0 \n",
      "ErrorMessage:  index -4 is out of bounds for axis 0 with size 3\n",
      "k =  10007927.0 \n",
      "ErrorMessage:  index -5 is out of bounds for axis 0 with size 3\n"
     ]
    },
    {
     "name": "stderr",
     "output_type": "stream",
     "text": [
      "\r",
      " 76%|█████████████████████████████████████████████████████████████▏                  | 306/400 [04:11<01:13,  1.27it/s]"
     ]
    },
    {
     "name": "stdout",
     "output_type": "stream",
     "text": [
      "Shape of output:  (7368, 581)\n"
     ]
    },
    {
     "name": "stderr",
     "output_type": "stream",
     "text": [
      "\r",
      " 77%|█████████████████████████████████████████████████████████████▍                  | 307/400 [04:11<01:12,  1.28it/s]"
     ]
    },
    {
     "name": "stdout",
     "output_type": "stream",
     "text": [
      "Shape of output:  (7392, 581)\n"
     ]
    },
    {
     "name": "stderr",
     "output_type": "stream",
     "text": [
      "\r",
      " 77%|█████████████████████████████████████████████████████████████▌                  | 308/400 [04:12<01:11,  1.28it/s]"
     ]
    },
    {
     "name": "stdout",
     "output_type": "stream",
     "text": [
      "Shape of output:  (7416, 581)\n"
     ]
    },
    {
     "name": "stderr",
     "output_type": "stream",
     "text": [
      "\r",
      " 77%|█████████████████████████████████████████████████████████████▊                  | 309/400 [04:13<01:12,  1.25it/s]"
     ]
    },
    {
     "name": "stdout",
     "output_type": "stream",
     "text": [
      "Shape of output:  (7440, 581)\n"
     ]
    },
    {
     "name": "stderr",
     "output_type": "stream",
     "text": [
      "\r",
      " 78%|██████████████████████████████████████████████████████████████                  | 310/400 [04:14<01:14,  1.21it/s]"
     ]
    },
    {
     "name": "stdout",
     "output_type": "stream",
     "text": [
      "Shape of output:  (7464, 581)\n"
     ]
    },
    {
     "name": "stderr",
     "output_type": "stream",
     "text": [
      "\r",
      " 78%|██████████████████████████████████████████████████████████████▏                 | 311/400 [04:15<01:15,  1.18it/s]"
     ]
    },
    {
     "name": "stdout",
     "output_type": "stream",
     "text": [
      "Shape of output:  (7488, 581)\n"
     ]
    },
    {
     "name": "stderr",
     "output_type": "stream",
     "text": [
      "\r",
      " 78%|██████████████████████████████████████████████████████████████▍                 | 312/400 [04:16<01:15,  1.17it/s]"
     ]
    },
    {
     "name": "stdout",
     "output_type": "stream",
     "text": [
      "Shape of output:  (7512, 581)\n"
     ]
    },
    {
     "name": "stderr",
     "output_type": "stream",
     "text": [
      "\r",
      " 78%|██████████████████████████████████████████████████████████████▌                 | 313/400 [04:17<01:13,  1.18it/s]"
     ]
    },
    {
     "name": "stdout",
     "output_type": "stream",
     "text": [
      "Shape of output:  (7536, 581)\n",
      "k =  10037947.0 \n",
      "ErrorMessage:  index -3 is out of bounds for axis 0 with size 2\n",
      "k =  10037947.0 \n",
      "ErrorMessage:  index -4 is out of bounds for axis 0 with size 2\n",
      "k =  10037947.0 \n",
      "ErrorMessage:  index -5 is out of bounds for axis 0 with size 2\n",
      "k =  10037947.0 \n",
      "ErrorMessage:  index -3 is out of bounds for axis 0 with size 2\n",
      "k =  10037947.0 \n",
      "ErrorMessage:  index -4 is out of bounds for axis 0 with size 2\n",
      "k =  10037947.0 \n",
      "ErrorMessage:  index -5 is out of bounds for axis 0 with size 2\n",
      "k =  10037947.0 \n",
      "ErrorMessage:  index -3 is out of bounds for axis 0 with size 2\n",
      "k =  10037947.0 \n",
      "ErrorMessage:  index -4 is out of bounds for axis 0 with size 2\n",
      "k =  10037947.0 \n",
      "ErrorMessage:  index -5 is out of bounds for axis 0 with size 2\n",
      "k =  10037947.0 \n",
      "ErrorMessage:  index -3 is out of bounds for axis 0 with size 2\n",
      "k =  10037947.0 \n",
      "ErrorMessage:  index -4 is out of bounds for axis 0 with size 2\n",
      "k =  10037947.0 \n",
      "ErrorMessage:  index -5 is out of bounds for axis 0 with size 2\n",
      "k =  10037947.0 \n",
      "ErrorMessage:  index -3 is out of bounds for axis 0 with size 2\n",
      "k =  10037947.0 \n",
      "ErrorMessage:  index -4 is out of bounds for axis 0 with size 2\n",
      "k =  10037947.0 \n",
      "ErrorMessage:  index -5 is out of bounds for axis 0 with size 2\n",
      "k =  10037947.0 \n",
      "ErrorMessage:  index -3 is out of bounds for axis 0 with size 2\n",
      "k =  10037947.0 \n",
      "ErrorMessage:  index -4 is out of bounds for axis 0 with size 2\n",
      "k =  10037947.0 \n",
      "ErrorMessage:  index -5 is out of bounds for axis 0 with size 2\n",
      "k =  10037947.0 \n",
      "ErrorMessage:  index -3 is out of bounds for axis 0 with size 2\n",
      "k =  10037947.0 \n",
      "ErrorMessage:  index -4 is out of bounds for axis 0 with size 2\n",
      "k =  10037947.0 \n",
      "ErrorMessage:  index -5 is out of bounds for axis 0 with size 2\n",
      "k =  10037947.0 \n",
      "ErrorMessage:  index -3 is out of bounds for axis 0 with size 2\n",
      "k =  10037947.0 \n",
      "ErrorMessage:  index -4 is out of bounds for axis 0 with size 2\n",
      "k =  10037947.0 \n",
      "ErrorMessage:  index -5 is out of bounds for axis 0 with size 2\n",
      "k =  10037947.0 \n",
      "ErrorMessage:  index -3 is out of bounds for axis 0 with size 2\n",
      "k =  10037947.0 \n",
      "ErrorMessage:  index -4 is out of bounds for axis 0 with size 2\n",
      "k =  10037947.0 \n",
      "ErrorMessage:  index -5 is out of bounds for axis 0 with size 2\n",
      "k =  10037947.0 \n",
      "ErrorMessage:  index -3 is out of bounds for axis 0 with size 2\n",
      "k =  10037947.0 \n",
      "ErrorMessage:  index -4 is out of bounds for axis 0 with size 2\n",
      "k =  10037947.0 \n",
      "ErrorMessage:  index -5 is out of bounds for axis 0 with size 2\n",
      "k =  10037947.0 \n",
      "ErrorMessage:  index -3 is out of bounds for axis 0 with size 2\n",
      "k =  10037947.0 \n",
      "ErrorMessage:  index -4 is out of bounds for axis 0 with size 2\n",
      "k =  10037947.0 \n",
      "ErrorMessage:  index -5 is out of bounds for axis 0 with size 2\n",
      "k =  10037947.0 \n",
      "ErrorMessage:  index -3 is out of bounds for axis 0 with size 2\n",
      "k =  10037947.0 \n",
      "ErrorMessage:  index -4 is out of bounds for axis 0 with size 2\n",
      "k =  10037947.0 \n",
      "ErrorMessage:  index -5 is out of bounds for axis 0 with size 2\n",
      "k =  10037947.0 \n",
      "ErrorMessage:  index -3 is out of bounds for axis 0 with size 2\n",
      "k =  10037947.0 \n",
      "ErrorMessage:  index -4 is out of bounds for axis 0 with size 2\n",
      "k =  10037947.0 \n",
      "ErrorMessage:  index -5 is out of bounds for axis 0 with size 2\n",
      "k =  10037947.0 \n",
      "ErrorMessage:  index -3 is out of bounds for axis 0 with size 2\n",
      "k =  10037947.0 \n",
      "ErrorMessage:  index -4 is out of bounds for axis 0 with size 2\n",
      "k =  10037947.0 \n",
      "ErrorMessage:  index -5 is out of bounds for axis 0 with size 2\n",
      "k =  10037947.0 \n",
      "ErrorMessage:  index -3 is out of bounds for axis 0 with size 2\n",
      "k =  10037947.0 \n",
      "ErrorMessage:  index -4 is out of bounds for axis 0 with size 2\n",
      "k =  10037947.0 \n",
      "ErrorMessage:  index -5 is out of bounds for axis 0 with size 2\n",
      "k =  10037947.0 \n",
      "ErrorMessage:  index -3 is out of bounds for axis 0 with size 2\n",
      "k =  10037947.0 \n",
      "ErrorMessage:  index -4 is out of bounds for axis 0 with size 2\n",
      "k =  10037947.0 \n",
      "ErrorMessage:  index -5 is out of bounds for axis 0 with size 2\n",
      "k =  10037947.0 \n",
      "ErrorMessage:  index -3 is out of bounds for axis 0 with size 2\n",
      "k =  10037947.0 \n",
      "ErrorMessage:  index -4 is out of bounds for axis 0 with size 2\n",
      "k =  10037947.0 \n",
      "ErrorMessage:  index -5 is out of bounds for axis 0 with size 2\n",
      "k =  10037947.0 \n",
      "ErrorMessage:  index -3 is out of bounds for axis 0 with size 2\n",
      "k =  10037947.0 \n",
      "ErrorMessage:  index -4 is out of bounds for axis 0 with size 2\n",
      "k =  10037947.0 \n",
      "ErrorMessage:  index -5 is out of bounds for axis 0 with size 2\n",
      "k =  10037947.0 \n",
      "ErrorMessage:  index -3 is out of bounds for axis 0 with size 2\n",
      "k =  10037947.0 \n",
      "ErrorMessage:  index -4 is out of bounds for axis 0 with size 2\n",
      "k =  10037947.0 \n",
      "ErrorMessage:  index -5 is out of bounds for axis 0 with size 2\n",
      "k =  10037947.0 \n",
      "ErrorMessage:  index -3 is out of bounds for axis 0 with size 2\n",
      "k =  10037947.0 \n",
      "ErrorMessage:  index -4 is out of bounds for axis 0 with size 2\n",
      "k =  10037947.0 \n",
      "ErrorMessage:  index -5 is out of bounds for axis 0 with size 2\n",
      "k =  10037947.0 \n",
      "ErrorMessage:  index -3 is out of bounds for axis 0 with size 2\n",
      "k =  10037947.0 \n",
      "ErrorMessage:  index -4 is out of bounds for axis 0 with size 2\n",
      "k =  10037947.0 \n",
      "ErrorMessage:  index -5 is out of bounds for axis 0 with size 2\n",
      "k =  10037947.0 \n",
      "ErrorMessage:  index -3 is out of bounds for axis 0 with size 2\n",
      "k =  10037947.0 \n",
      "ErrorMessage:  index -4 is out of bounds for axis 0 with size 2\n",
      "k =  10037947.0 \n",
      "ErrorMessage:  index -5 is out of bounds for axis 0 with size 2\n",
      "k =  10037947.0 \n",
      "ErrorMessage:  index -3 is out of bounds for axis 0 with size 2\n",
      "k =  10037947.0 \n",
      "ErrorMessage:  index -4 is out of bounds for axis 0 with size 2\n",
      "k =  10037947.0 \n",
      "ErrorMessage:  index -5 is out of bounds for axis 0 with size 2\n",
      "k =  10037947.0 \n",
      "ErrorMessage:  index -3 is out of bounds for axis 0 with size 2\n",
      "k =  10037947.0 \n",
      "ErrorMessage:  index -4 is out of bounds for axis 0 with size 2\n",
      "k =  10037947.0 \n",
      "ErrorMessage:  index -5 is out of bounds for axis 0 with size 2\n"
     ]
    },
    {
     "name": "stderr",
     "output_type": "stream",
     "text": [
      "\r",
      " 78%|██████████████████████████████████████████████████████████████▊                 | 314/400 [04:17<01:11,  1.20it/s]"
     ]
    },
    {
     "name": "stdout",
     "output_type": "stream",
     "text": [
      "Shape of output:  (7560, 581)\n"
     ]
    },
    {
     "name": "stderr",
     "output_type": "stream",
     "text": [
      "\r",
      " 79%|███████████████████████████████████████████████████████████████                 | 315/400 [04:18<01:10,  1.21it/s]"
     ]
    },
    {
     "name": "stdout",
     "output_type": "stream",
     "text": [
      "Shape of output:  (7584, 581)\n"
     ]
    },
    {
     "name": "stderr",
     "output_type": "stream",
     "text": [
      "\r",
      " 79%|███████████████████████████████████████████████████████████████▏                | 316/400 [04:19<01:08,  1.22it/s]"
     ]
    },
    {
     "name": "stdout",
     "output_type": "stream",
     "text": [
      "Shape of output:  (7608, 581)\n",
      "k =  10124005.0 \n",
      "ErrorMessage:  index -5 is out of bounds for axis 0 with size 4\n",
      "k =  10124005.0 \n",
      "ErrorMessage:  index -5 is out of bounds for axis 0 with size 4\n",
      "k =  10124005.0 \n",
      "ErrorMessage:  index -5 is out of bounds for axis 0 with size 4\n",
      "k =  10124005.0 \n",
      "ErrorMessage:  index -5 is out of bounds for axis 0 with size 4\n",
      "k =  10124005.0 \n",
      "ErrorMessage:  index -5 is out of bounds for axis 0 with size 4\n",
      "k =  10124005.0 \n",
      "ErrorMessage:  index -5 is out of bounds for axis 0 with size 4\n",
      "k =  10124005.0 \n",
      "ErrorMessage:  index -5 is out of bounds for axis 0 with size 4\n",
      "k =  10124005.0 \n",
      "ErrorMessage:  index -5 is out of bounds for axis 0 with size 4\n",
      "k =  10124005.0 \n",
      "ErrorMessage:  index -5 is out of bounds for axis 0 with size 4\n",
      "k =  10124005.0 \n",
      "ErrorMessage:  index -5 is out of bounds for axis 0 with size 4\n",
      "k =  10124005.0 \n",
      "ErrorMessage:  index -5 is out of bounds for axis 0 with size 4\n",
      "k =  10124005.0 \n",
      "ErrorMessage:  index -5 is out of bounds for axis 0 with size 4\n",
      "k =  10124005.0 \n",
      "ErrorMessage:  index -5 is out of bounds for axis 0 with size 4\n",
      "k =  10124005.0 \n",
      "ErrorMessage:  index -5 is out of bounds for axis 0 with size 4\n",
      "k =  10124005.0 \n",
      "ErrorMessage:  index -5 is out of bounds for axis 0 with size 4\n",
      "k =  10124005.0 \n",
      "ErrorMessage:  index -5 is out of bounds for axis 0 with size 4\n",
      "k =  10124005.0 \n",
      "ErrorMessage:  index -5 is out of bounds for axis 0 with size 4\n",
      "k =  10124005.0 \n",
      "ErrorMessage:  index -5 is out of bounds for axis 0 with size 4\n",
      "k =  10124005.0 \n",
      "ErrorMessage:  index -5 is out of bounds for axis 0 with size 4\n",
      "k =  10124005.0 \n",
      "ErrorMessage:  index -5 is out of bounds for axis 0 with size 4\n",
      "k =  10124005.0 \n",
      "ErrorMessage:  index -5 is out of bounds for axis 0 with size 4\n",
      "k =  10124005.0 \n",
      "ErrorMessage:  index -5 is out of bounds for axis 0 with size 4\n",
      "k =  10124005.0 \n",
      "ErrorMessage:  index -5 is out of bounds for axis 0 with size 4\n",
      "k =  10124005.0 \n",
      "ErrorMessage:  index -5 is out of bounds for axis 0 with size 4\n"
     ]
    },
    {
     "name": "stderr",
     "output_type": "stream",
     "text": [
      "\r",
      " 79%|███████████████████████████████████████████████████████████████▍                | 317/400 [04:20<01:06,  1.24it/s]"
     ]
    },
    {
     "name": "stdout",
     "output_type": "stream",
     "text": [
      "Shape of output:  (7632, 581)\n"
     ]
    },
    {
     "name": "stderr",
     "output_type": "stream",
     "text": [
      "\r",
      " 80%|███████████████████████████████████████████████████████████████▌                | 318/400 [04:20<01:05,  1.25it/s]"
     ]
    },
    {
     "name": "stdout",
     "output_type": "stream",
     "text": [
      "Shape of output:  (7656, 581)\n"
     ]
    },
    {
     "name": "stderr",
     "output_type": "stream",
     "text": [
      "\r",
      " 80%|███████████████████████████████████████████████████████████████▊                | 319/400 [04:21<01:05,  1.23it/s]"
     ]
    },
    {
     "name": "stdout",
     "output_type": "stream",
     "text": [
      "Shape of output:  (7680, 581)\n"
     ]
    },
    {
     "name": "stderr",
     "output_type": "stream",
     "text": [
      "\r",
      " 80%|████████████████████████████████████████████████████████████████                | 320/400 [04:22<01:06,  1.20it/s]"
     ]
    },
    {
     "name": "stdout",
     "output_type": "stream",
     "text": [
      "Shape of output:  (7704, 581)\n"
     ]
    },
    {
     "name": "stderr",
     "output_type": "stream",
     "text": [
      "\r",
      " 80%|████████████████████████████████████████████████████████████████▏               | 321/400 [04:23<01:06,  1.19it/s]"
     ]
    },
    {
     "name": "stdout",
     "output_type": "stream",
     "text": [
      "Shape of output:  (7728, 581)\n"
     ]
    },
    {
     "name": "stderr",
     "output_type": "stream",
     "text": [
      "\r",
      " 80%|████████████████████████████████████████████████████████████████▍               | 322/400 [04:24<01:06,  1.17it/s]"
     ]
    },
    {
     "name": "stdout",
     "output_type": "stream",
     "text": [
      "Shape of output:  (7752, 581)\n"
     ]
    },
    {
     "name": "stderr",
     "output_type": "stream",
     "text": [
      "\r",
      " 81%|████████████████████████████████████████████████████████████████▌               | 323/400 [04:25<01:04,  1.19it/s]"
     ]
    },
    {
     "name": "stdout",
     "output_type": "stream",
     "text": [
      "Shape of output:  (7776, 581)\n"
     ]
    },
    {
     "name": "stderr",
     "output_type": "stream",
     "text": [
      "\r",
      " 81%|████████████████████████████████████████████████████████████████▊               | 324/400 [04:26<01:04,  1.17it/s]"
     ]
    },
    {
     "name": "stdout",
     "output_type": "stream",
     "text": [
      "Shape of output:  (7800, 581)\n"
     ]
    },
    {
     "name": "stderr",
     "output_type": "stream",
     "text": [
      "\r",
      " 81%|█████████████████████████████████████████████████████████████████               | 325/400 [04:26<01:03,  1.19it/s]"
     ]
    },
    {
     "name": "stdout",
     "output_type": "stream",
     "text": [
      "Shape of output:  (7824, 581)\n"
     ]
    },
    {
     "name": "stderr",
     "output_type": "stream",
     "text": [
      "\r",
      " 82%|█████████████████████████████████████████████████████████████████▏              | 326/400 [04:27<01:04,  1.14it/s]"
     ]
    },
    {
     "name": "stdout",
     "output_type": "stream",
     "text": [
      "Shape of output:  (7848, 581)\n"
     ]
    },
    {
     "name": "stderr",
     "output_type": "stream",
     "text": [
      "\r",
      " 82%|█████████████████████████████████████████████████████████████████▍              | 327/400 [04:28<01:03,  1.15it/s]"
     ]
    },
    {
     "name": "stdout",
     "output_type": "stream",
     "text": [
      "Shape of output:  (7872, 581)\n"
     ]
    },
    {
     "name": "stderr",
     "output_type": "stream",
     "text": [
      "\r",
      " 82%|█████████████████████████████████████████████████████████████████▌              | 328/400 [04:29<01:06,  1.09it/s]"
     ]
    },
    {
     "name": "stdout",
     "output_type": "stream",
     "text": [
      "Shape of output:  (7896, 581)\n"
     ]
    },
    {
     "name": "stderr",
     "output_type": "stream",
     "text": [
      "\r",
      " 82%|█████████████████████████████████████████████████████████████████▊              | 329/400 [04:30<01:06,  1.07it/s]"
     ]
    },
    {
     "name": "stdout",
     "output_type": "stream",
     "text": [
      "Shape of output:  (7920, 581)\n"
     ]
    },
    {
     "name": "stderr",
     "output_type": "stream",
     "text": [
      "\r",
      " 82%|██████████████████████████████████████████████████████████████████              | 330/400 [04:32<01:14,  1.06s/it]"
     ]
    },
    {
     "name": "stdout",
     "output_type": "stream",
     "text": [
      "Shape of output:  (7944, 581)\n"
     ]
    },
    {
     "name": "stderr",
     "output_type": "stream",
     "text": [
      "\r",
      " 83%|██████████████████████████████████████████████████████████████████▏             | 331/400 [04:33<01:11,  1.04s/it]"
     ]
    },
    {
     "name": "stdout",
     "output_type": "stream",
     "text": [
      "Shape of output:  (7968, 581)\n"
     ]
    },
    {
     "name": "stderr",
     "output_type": "stream",
     "text": [
      "\r",
      " 83%|██████████████████████████████████████████████████████████████████▍             | 332/400 [04:33<01:06,  1.02it/s]"
     ]
    },
    {
     "name": "stdout",
     "output_type": "stream",
     "text": [
      "Shape of output:  (7992, 581)\n"
     ]
    },
    {
     "name": "stderr",
     "output_type": "stream",
     "text": [
      "\r",
      " 83%|██████████████████████████████████████████████████████████████████▌             | 333/400 [04:34<01:05,  1.02it/s]"
     ]
    },
    {
     "name": "stdout",
     "output_type": "stream",
     "text": [
      "Shape of output:  (8016, 581)\n"
     ]
    },
    {
     "name": "stderr",
     "output_type": "stream",
     "text": [
      "\r",
      " 84%|██████████████████████████████████████████████████████████████████▊             | 334/400 [04:36<01:08,  1.04s/it]"
     ]
    },
    {
     "name": "stdout",
     "output_type": "stream",
     "text": [
      "Shape of output:  (8040, 581)\n"
     ]
    },
    {
     "name": "stderr",
     "output_type": "stream",
     "text": [
      "\r",
      " 84%|███████████████████████████████████████████████████████████████████             | 335/400 [04:36<01:03,  1.02it/s]"
     ]
    },
    {
     "name": "stdout",
     "output_type": "stream",
     "text": [
      "Shape of output:  (8064, 581)\n"
     ]
    },
    {
     "name": "stderr",
     "output_type": "stream",
     "text": [
      "\r",
      " 84%|███████████████████████████████████████████████████████████████████▏            | 336/400 [04:37<01:02,  1.03it/s]"
     ]
    },
    {
     "name": "stdout",
     "output_type": "stream",
     "text": [
      "Shape of output:  (8088, 581)\n"
     ]
    },
    {
     "name": "stderr",
     "output_type": "stream",
     "text": [
      "\r",
      " 84%|███████████████████████████████████████████████████████████████████▍            | 337/400 [04:38<01:02,  1.01it/s]"
     ]
    },
    {
     "name": "stdout",
     "output_type": "stream",
     "text": [
      "Shape of output:  (8112, 581)\n"
     ]
    },
    {
     "name": "stderr",
     "output_type": "stream",
     "text": [
      "\r",
      " 84%|███████████████████████████████████████████████████████████████████▌            | 338/400 [04:39<01:01,  1.00it/s]"
     ]
    },
    {
     "name": "stdout",
     "output_type": "stream",
     "text": [
      "Shape of output:  (8136, 581)\n"
     ]
    },
    {
     "name": "stderr",
     "output_type": "stream",
     "text": [
      "\r",
      " 85%|███████████████████████████████████████████████████████████████████▊            | 339/400 [04:40<00:59,  1.02it/s]"
     ]
    },
    {
     "name": "stdout",
     "output_type": "stream",
     "text": [
      "Shape of output:  (8160, 581)\n"
     ]
    },
    {
     "name": "stderr",
     "output_type": "stream",
     "text": [
      "\r",
      " 85%|████████████████████████████████████████████████████████████████████            | 340/400 [04:41<01:00,  1.02s/it]"
     ]
    },
    {
     "name": "stdout",
     "output_type": "stream",
     "text": [
      "Shape of output:  (8184, 581)\n"
     ]
    },
    {
     "name": "stderr",
     "output_type": "stream",
     "text": [
      "\r",
      " 85%|████████████████████████████████████████████████████████████████████▏           | 341/400 [04:43<01:00,  1.02s/it]"
     ]
    },
    {
     "name": "stdout",
     "output_type": "stream",
     "text": [
      "Shape of output:  (8208, 581)\n"
     ]
    },
    {
     "name": "stderr",
     "output_type": "stream",
     "text": [
      "\r",
      " 86%|████████████████████████████████████████████████████████████████████▍           | 342/400 [04:44<01:02,  1.07s/it]"
     ]
    },
    {
     "name": "stdout",
     "output_type": "stream",
     "text": [
      "Shape of output:  (8232, 581)\n"
     ]
    },
    {
     "name": "stderr",
     "output_type": "stream",
     "text": [
      "\r",
      " 86%|████████████████████████████████████████████████████████████████████▌           | 343/400 [04:45<01:03,  1.12s/it]"
     ]
    },
    {
     "name": "stdout",
     "output_type": "stream",
     "text": [
      "Shape of output:  (8256, 581)\n"
     ]
    },
    {
     "name": "stderr",
     "output_type": "stream",
     "text": [
      "\r",
      " 86%|████████████████████████████████████████████████████████████████████▊           | 344/400 [04:46<01:08,  1.22s/it]"
     ]
    },
    {
     "name": "stdout",
     "output_type": "stream",
     "text": [
      "Shape of output:  (8280, 581)\n"
     ]
    },
    {
     "name": "stderr",
     "output_type": "stream",
     "text": [
      "\r",
      " 86%|█████████████████████████████████████████████████████████████████████           | 345/400 [04:48<01:08,  1.24s/it]"
     ]
    },
    {
     "name": "stdout",
     "output_type": "stream",
     "text": [
      "Shape of output:  (8304, 581)\n"
     ]
    },
    {
     "name": "stderr",
     "output_type": "stream",
     "text": [
      "\r",
      " 86%|█████████████████████████████████████████████████████████████████████▏          | 346/400 [04:49<01:09,  1.28s/it]"
     ]
    },
    {
     "name": "stdout",
     "output_type": "stream",
     "text": [
      "Shape of output:  (8328, 581)\n"
     ]
    },
    {
     "name": "stderr",
     "output_type": "stream",
     "text": [
      "\r",
      " 87%|█████████████████████████████████████████████████████████████████████▍          | 347/400 [04:50<01:05,  1.24s/it]"
     ]
    },
    {
     "name": "stdout",
     "output_type": "stream",
     "text": [
      "Shape of output:  (8352, 581)\n"
     ]
    },
    {
     "name": "stderr",
     "output_type": "stream",
     "text": [
      "\r",
      " 87%|█████████████████████████████████████████████████████████████████████▌          | 348/400 [04:51<01:02,  1.19s/it]"
     ]
    },
    {
     "name": "stdout",
     "output_type": "stream",
     "text": [
      "Shape of output:  (8376, 581)\n"
     ]
    },
    {
     "name": "stderr",
     "output_type": "stream",
     "text": [
      "\r",
      " 87%|█████████████████████████████████████████████████████████████████████▊          | 349/400 [04:52<00:58,  1.15s/it]"
     ]
    },
    {
     "name": "stdout",
     "output_type": "stream",
     "text": [
      "Shape of output:  (8400, 581)\n"
     ]
    },
    {
     "name": "stderr",
     "output_type": "stream",
     "text": [
      "\r",
      " 88%|██████████████████████████████████████████████████████████████████████          | 350/400 [04:53<00:56,  1.14s/it]"
     ]
    },
    {
     "name": "stdout",
     "output_type": "stream",
     "text": [
      "Shape of output:  (8424, 581)\n"
     ]
    },
    {
     "name": "stderr",
     "output_type": "stream",
     "text": [
      "\r",
      " 88%|██████████████████████████████████████████████████████████████████████▏         | 351/400 [04:55<00:55,  1.13s/it]"
     ]
    },
    {
     "name": "stdout",
     "output_type": "stream",
     "text": [
      "Shape of output:  (8448, 581)\n"
     ]
    },
    {
     "name": "stderr",
     "output_type": "stream",
     "text": [
      "\r",
      " 88%|██████████████████████████████████████████████████████████████████████▍         | 352/400 [04:56<00:53,  1.11s/it]"
     ]
    },
    {
     "name": "stdout",
     "output_type": "stream",
     "text": [
      "Shape of output:  (8472, 581)\n"
     ]
    },
    {
     "name": "stderr",
     "output_type": "stream",
     "text": [
      "\r",
      " 88%|██████████████████████████████████████████████████████████████████████▌         | 353/400 [04:57<00:52,  1.12s/it]"
     ]
    },
    {
     "name": "stdout",
     "output_type": "stream",
     "text": [
      "Shape of output:  (8496, 581)\n"
     ]
    },
    {
     "name": "stderr",
     "output_type": "stream",
     "text": [
      "\r",
      " 88%|██████████████████████████████████████████████████████████████████████▊         | 354/400 [04:58<00:51,  1.11s/it]"
     ]
    },
    {
     "name": "stdout",
     "output_type": "stream",
     "text": [
      "Shape of output:  (8520, 581)\n"
     ]
    },
    {
     "name": "stderr",
     "output_type": "stream",
     "text": [
      "\r",
      " 89%|███████████████████████████████████████████████████████████████████████         | 355/400 [04:59<00:49,  1.09s/it]"
     ]
    },
    {
     "name": "stdout",
     "output_type": "stream",
     "text": [
      "Shape of output:  (8544, 581)\n"
     ]
    },
    {
     "name": "stderr",
     "output_type": "stream",
     "text": [
      "\r",
      " 89%|███████████████████████████████████████████████████████████████████████▏        | 356/400 [05:00<00:47,  1.09s/it]"
     ]
    },
    {
     "name": "stdout",
     "output_type": "stream",
     "text": [
      "Shape of output:  (8568, 581)\n"
     ]
    },
    {
     "name": "stderr",
     "output_type": "stream",
     "text": [
      "\r",
      " 89%|███████████████████████████████████████████████████████████████████████▍        | 357/400 [05:01<00:45,  1.07s/it]"
     ]
    },
    {
     "name": "stdout",
     "output_type": "stream",
     "text": [
      "Shape of output:  (8592, 581)\n"
     ]
    },
    {
     "name": "stderr",
     "output_type": "stream",
     "text": [
      "\r",
      " 90%|███████████████████████████████████████████████████████████████████████▌        | 358/400 [05:02<00:44,  1.05s/it]"
     ]
    },
    {
     "name": "stdout",
     "output_type": "stream",
     "text": [
      "Shape of output:  (8616, 581)\n"
     ]
    },
    {
     "name": "stderr",
     "output_type": "stream",
     "text": [
      "\r",
      " 90%|███████████████████████████████████████████████████████████████████████▊        | 359/400 [05:03<00:43,  1.05s/it]"
     ]
    },
    {
     "name": "stdout",
     "output_type": "stream",
     "text": [
      "Shape of output:  (8640, 581)\n"
     ]
    },
    {
     "name": "stderr",
     "output_type": "stream",
     "text": [
      "\r",
      " 90%|████████████████████████████████████████████████████████████████████████        | 360/400 [05:04<00:42,  1.07s/it]"
     ]
    },
    {
     "name": "stdout",
     "output_type": "stream",
     "text": [
      "Shape of output:  (8664, 581)\n"
     ]
    },
    {
     "name": "stderr",
     "output_type": "stream",
     "text": [
      "\r",
      " 90%|████████████████████████████████████████████████████████████████████████▏       | 361/400 [05:05<00:41,  1.06s/it]"
     ]
    },
    {
     "name": "stdout",
     "output_type": "stream",
     "text": [
      "Shape of output:  (8688, 581)\n"
     ]
    },
    {
     "name": "stderr",
     "output_type": "stream",
     "text": [
      "\r",
      " 90%|████████████████████████████████████████████████████████████████████████▍       | 362/400 [05:06<00:40,  1.07s/it]"
     ]
    },
    {
     "name": "stdout",
     "output_type": "stream",
     "text": [
      "Shape of output:  (8712, 581)\n"
     ]
    },
    {
     "name": "stderr",
     "output_type": "stream",
     "text": [
      "\r",
      " 91%|████████████████████████████████████████████████████████████████████████▌       | 363/400 [05:07<00:39,  1.08s/it]"
     ]
    },
    {
     "name": "stdout",
     "output_type": "stream",
     "text": [
      "Shape of output:  (8736, 581)\n"
     ]
    },
    {
     "name": "stderr",
     "output_type": "stream",
     "text": [
      "\r",
      " 91%|████████████████████████████████████████████████████████████████████████▊       | 364/400 [05:08<00:38,  1.06s/it]"
     ]
    },
    {
     "name": "stdout",
     "output_type": "stream",
     "text": [
      "Shape of output:  (8760, 581)\n"
     ]
    },
    {
     "name": "stderr",
     "output_type": "stream",
     "text": [
      "\r",
      " 91%|█████████████████████████████████████████████████████████████████████████       | 365/400 [05:09<00:36,  1.04s/it]"
     ]
    },
    {
     "name": "stdout",
     "output_type": "stream",
     "text": [
      "Shape of output:  (8784, 581)\n"
     ]
    },
    {
     "name": "stderr",
     "output_type": "stream",
     "text": [
      "\r",
      " 92%|█████████████████████████████████████████████████████████████████████████▏      | 366/400 [05:10<00:33,  1.02it/s]"
     ]
    },
    {
     "name": "stdout",
     "output_type": "stream",
     "text": [
      "Shape of output:  (8808, 581)\n"
     ]
    },
    {
     "name": "stderr",
     "output_type": "stream",
     "text": [
      "\r",
      " 92%|█████████████████████████████████████████████████████████████████████████▍      | 367/400 [05:11<00:30,  1.09it/s]"
     ]
    },
    {
     "name": "stdout",
     "output_type": "stream",
     "text": [
      "Shape of output:  (8832, 581)\n"
     ]
    },
    {
     "name": "stderr",
     "output_type": "stream",
     "text": [
      "\r",
      " 92%|█████████████████████████████████████████████████████████████████████████▌      | 368/400 [05:12<00:28,  1.13it/s]"
     ]
    },
    {
     "name": "stdout",
     "output_type": "stream",
     "text": [
      "Shape of output:  (8856, 581)\n",
      "k =  10172786.0 \n",
      "ErrorMessage:  index -5 is out of bounds for axis 0 with size 4\n",
      "k =  10172786.0 \n",
      "ErrorMessage:  index -5 is out of bounds for axis 0 with size 4\n",
      "k =  10172786.0 \n",
      "ErrorMessage:  index -5 is out of bounds for axis 0 with size 4\n",
      "k =  10172786.0 \n",
      "ErrorMessage:  index -5 is out of bounds for axis 0 with size 4\n",
      "k =  10172786.0 \n",
      "ErrorMessage:  index -5 is out of bounds for axis 0 with size 4\n",
      "k =  10172786.0 \n",
      "ErrorMessage:  index -5 is out of bounds for axis 0 with size 4\n",
      "k =  10172786.0 \n",
      "ErrorMessage:  index -5 is out of bounds for axis 0 with size 4\n",
      "k =  10172786.0 \n",
      "ErrorMessage:  index -5 is out of bounds for axis 0 with size 4\n",
      "k =  10172786.0 \n",
      "ErrorMessage:  index -5 is out of bounds for axis 0 with size 4\n",
      "k =  10172786.0 \n",
      "ErrorMessage:  index -5 is out of bounds for axis 0 with size 4\n",
      "k =  10172786.0 \n",
      "ErrorMessage:  index -5 is out of bounds for axis 0 with size 4\n",
      "k =  10172786.0 \n",
      "ErrorMessage:  index -5 is out of bounds for axis 0 with size 4\n",
      "k =  10172786.0 \n",
      "ErrorMessage:  index -5 is out of bounds for axis 0 with size 4\n",
      "k =  10172786.0 \n",
      "ErrorMessage:  index -5 is out of bounds for axis 0 with size 4\n",
      "k =  10172786.0 \n",
      "ErrorMessage:  index -5 is out of bounds for axis 0 with size 4\n",
      "k =  10172786.0 \n",
      "ErrorMessage:  index -5 is out of bounds for axis 0 with size 4\n",
      "k =  10172786.0 \n",
      "ErrorMessage:  index -5 is out of bounds for axis 0 with size 4\n",
      "k =  10172786.0 \n",
      "ErrorMessage:  index -5 is out of bounds for axis 0 with size 4\n",
      "k =  10172786.0 \n",
      "ErrorMessage:  index -5 is out of bounds for axis 0 with size 4\n",
      "k =  10172786.0 \n",
      "ErrorMessage:  index -5 is out of bounds for axis 0 with size 4\n",
      "k =  10172786.0 \n",
      "ErrorMessage:  index -5 is out of bounds for axis 0 with size 4\n",
      "k =  10172786.0 \n",
      "ErrorMessage:  index -5 is out of bounds for axis 0 with size 4\n",
      "k =  10172786.0 \n",
      "ErrorMessage:  index -5 is out of bounds for axis 0 with size 4\n",
      "k =  10172786.0 \n",
      "ErrorMessage:  index -5 is out of bounds for axis 0 with size 4\n"
     ]
    },
    {
     "name": "stderr",
     "output_type": "stream",
     "text": [
      "\r",
      " 92%|█████████████████████████████████████████████████████████████████████████▊      | 369/400 [05:13<00:27,  1.12it/s]"
     ]
    },
    {
     "name": "stdout",
     "output_type": "stream",
     "text": [
      "Shape of output:  (8880, 581)\n"
     ]
    },
    {
     "name": "stderr",
     "output_type": "stream",
     "text": [
      "\r",
      " 92%|██████████████████████████████████████████████████████████████████████████      | 370/400 [05:14<00:26,  1.14it/s]"
     ]
    },
    {
     "name": "stdout",
     "output_type": "stream",
     "text": [
      "Shape of output:  (8904, 581)\n"
     ]
    },
    {
     "name": "stderr",
     "output_type": "stream",
     "text": [
      "\r",
      " 93%|██████████████████████████████████████████████████████████████████████████▏     | 371/400 [05:14<00:25,  1.15it/s]"
     ]
    },
    {
     "name": "stdout",
     "output_type": "stream",
     "text": [
      "Shape of output:  (8928, 581)\n"
     ]
    },
    {
     "name": "stderr",
     "output_type": "stream",
     "text": [
      "\r",
      " 93%|██████████████████████████████████████████████████████████████████████████▍     | 372/400 [05:15<00:24,  1.15it/s]"
     ]
    },
    {
     "name": "stdout",
     "output_type": "stream",
     "text": [
      "Shape of output:  (8952, 581)\n"
     ]
    },
    {
     "name": "stderr",
     "output_type": "stream",
     "text": [
      "\r",
      " 93%|██████████████████████████████████████████████████████████████████████████▌     | 373/400 [05:16<00:23,  1.14it/s]"
     ]
    },
    {
     "name": "stdout",
     "output_type": "stream",
     "text": [
      "Shape of output:  (8976, 581)\n",
      "k =  10277217.0 \n",
      "ErrorMessage:  index -4 is out of bounds for axis 0 with size 3\n",
      "k =  10277217.0 \n",
      "ErrorMessage:  index -5 is out of bounds for axis 0 with size 3\n",
      "k =  10277217.0 \n",
      "ErrorMessage:  index -4 is out of bounds for axis 0 with size 3\n",
      "k =  10277217.0 \n",
      "ErrorMessage:  index -5 is out of bounds for axis 0 with size 3\n",
      "k =  10277217.0 \n",
      "ErrorMessage:  index -4 is out of bounds for axis 0 with size 3\n",
      "k =  10277217.0 \n",
      "ErrorMessage:  index -5 is out of bounds for axis 0 with size 3\n",
      "k =  10277217.0 \n",
      "ErrorMessage:  index -4 is out of bounds for axis 0 with size 3\n",
      "k =  10277217.0 \n",
      "ErrorMessage:  index -5 is out of bounds for axis 0 with size 3\n",
      "k =  10277217.0 \n",
      "ErrorMessage:  index -4 is out of bounds for axis 0 with size 3\n",
      "k =  10277217.0 \n",
      "ErrorMessage:  index -5 is out of bounds for axis 0 with size 3\n",
      "k =  10277217.0 \n",
      "ErrorMessage:  index -4 is out of bounds for axis 0 with size 3\n",
      "k =  10277217.0 \n",
      "ErrorMessage:  index -5 is out of bounds for axis 0 with size 3\n",
      "k =  10277217.0 \n",
      "ErrorMessage:  index -4 is out of bounds for axis 0 with size 3\n",
      "k =  10277217.0 \n",
      "ErrorMessage:  index -5 is out of bounds for axis 0 with size 3\n",
      "k =  10277217.0 \n",
      "ErrorMessage:  index -4 is out of bounds for axis 0 with size 3\n",
      "k =  10277217.0 \n",
      "ErrorMessage:  index -5 is out of bounds for axis 0 with size 3\n",
      "k =  10277217.0 \n",
      "ErrorMessage:  index -4 is out of bounds for axis 0 with size 3\n",
      "k =  10277217.0 \n",
      "ErrorMessage:  index -5 is out of bounds for axis 0 with size 3\n",
      "k =  10277217.0 \n",
      "ErrorMessage:  index -4 is out of bounds for axis 0 with size 3\n",
      "k =  10277217.0 \n",
      "ErrorMessage:  index -5 is out of bounds for axis 0 with size 3\n",
      "k =  10277217.0 \n",
      "ErrorMessage:  index -4 is out of bounds for axis 0 with size 3\n",
      "k =  10277217.0 \n",
      "ErrorMessage:  index -5 is out of bounds for axis 0 with size 3\n",
      "k =  10277217.0 \n",
      "ErrorMessage:  index -4 is out of bounds for axis 0 with size 3\n",
      "k =  10277217.0 \n",
      "ErrorMessage:  index -5 is out of bounds for axis 0 with size 3\n",
      "k =  10277217.0 \n",
      "ErrorMessage:  index -4 is out of bounds for axis 0 with size 3\n",
      "k =  10277217.0 \n",
      "ErrorMessage:  index -5 is out of bounds for axis 0 with size 3\n",
      "k =  10277217.0 \n",
      "ErrorMessage:  index -4 is out of bounds for axis 0 with size 3\n",
      "k =  10277217.0 \n",
      "ErrorMessage:  index -5 is out of bounds for axis 0 with size 3\n",
      "k =  10277217.0 \n",
      "ErrorMessage:  index -4 is out of bounds for axis 0 with size 3\n",
      "k =  10277217.0 \n",
      "ErrorMessage:  index -5 is out of bounds for axis 0 with size 3\n",
      "k =  10277217.0 \n",
      "ErrorMessage:  index -4 is out of bounds for axis 0 with size 3\n",
      "k =  10277217.0 \n",
      "ErrorMessage:  index -5 is out of bounds for axis 0 with size 3\n",
      "k =  10277217.0 \n",
      "ErrorMessage:  index -4 is out of bounds for axis 0 with size 3\n",
      "k =  10277217.0 \n",
      "ErrorMessage:  index -5 is out of bounds for axis 0 with size 3\n",
      "k =  10277217.0 \n",
      "ErrorMessage:  index -4 is out of bounds for axis 0 with size 3\n",
      "k =  10277217.0 \n",
      "ErrorMessage:  index -5 is out of bounds for axis 0 with size 3\n",
      "k =  10277217.0 \n",
      "ErrorMessage:  index -4 is out of bounds for axis 0 with size 3\n",
      "k =  10277217.0 \n",
      "ErrorMessage:  index -5 is out of bounds for axis 0 with size 3\n",
      "k =  10277217.0 \n",
      "ErrorMessage:  index -4 is out of bounds for axis 0 with size 3\n",
      "k =  10277217.0 \n",
      "ErrorMessage:  index -5 is out of bounds for axis 0 with size 3\n",
      "k =  10277217.0 \n",
      "ErrorMessage:  index -4 is out of bounds for axis 0 with size 3\n",
      "k =  10277217.0 \n",
      "ErrorMessage:  index -5 is out of bounds for axis 0 with size 3\n",
      "k =  10277217.0 \n",
      "ErrorMessage:  index -4 is out of bounds for axis 0 with size 3\n",
      "k =  10277217.0 \n",
      "ErrorMessage:  index -5 is out of bounds for axis 0 with size 3\n",
      "k =  10277217.0 \n",
      "ErrorMessage:  index -4 is out of bounds for axis 0 with size 3\n",
      "k =  10277217.0 \n",
      "ErrorMessage:  index -5 is out of bounds for axis 0 with size 3\n",
      "k =  10277217.0 \n",
      "ErrorMessage:  index -4 is out of bounds for axis 0 with size 3\n",
      "k =  10277217.0 \n",
      "ErrorMessage:  index -5 is out of bounds for axis 0 with size 3\n"
     ]
    },
    {
     "name": "stderr",
     "output_type": "stream",
     "text": [
      "\r",
      " 94%|██████████████████████████████████████████████████████████████████████████▊     | 374/400 [05:17<00:22,  1.16it/s]"
     ]
    },
    {
     "name": "stdout",
     "output_type": "stream",
     "text": [
      "Shape of output:  (9000, 581)\n",
      "k =  10394823.0 \n",
      "ErrorMessage:  index -2 is out of bounds for axis 0 with size 1\n",
      "k =  10394823.0 \n",
      "ErrorMessage:  index -3 is out of bounds for axis 0 with size 1\n",
      "k =  10394823.0 \n",
      "ErrorMessage:  index -4 is out of bounds for axis 0 with size 1\n",
      "k =  10394823.0 \n",
      "ErrorMessage:  index -5 is out of bounds for axis 0 with size 1\n",
      "k =  10394823.0 \n",
      "ErrorMessage:  index -2 is out of bounds for axis 0 with size 1\n",
      "k =  10394823.0 \n",
      "ErrorMessage:  index -3 is out of bounds for axis 0 with size 1\n",
      "k =  10394823.0 \n",
      "ErrorMessage:  index -4 is out of bounds for axis 0 with size 1\n",
      "k =  10394823.0 \n",
      "ErrorMessage:  index -5 is out of bounds for axis 0 with size 1\n",
      "k =  10394823.0 \n",
      "ErrorMessage:  index -2 is out of bounds for axis 0 with size 1\n",
      "k =  10394823.0 \n",
      "ErrorMessage:  index -3 is out of bounds for axis 0 with size 1\n",
      "k =  10394823.0 \n",
      "ErrorMessage:  index -4 is out of bounds for axis 0 with size 1\n",
      "k =  10394823.0 \n",
      "ErrorMessage:  index -5 is out of bounds for axis 0 with size 1\n",
      "k =  10394823.0 \n",
      "ErrorMessage:  index -2 is out of bounds for axis 0 with size 1\n",
      "k =  10394823.0 \n",
      "ErrorMessage:  index -3 is out of bounds for axis 0 with size 1\n",
      "k =  10394823.0 \n",
      "ErrorMessage:  index -4 is out of bounds for axis 0 with size 1\n",
      "k =  10394823.0 \n",
      "ErrorMessage:  index -5 is out of bounds for axis 0 with size 1\n",
      "k =  10394823.0 \n",
      "ErrorMessage:  index -2 is out of bounds for axis 0 with size 1\n",
      "k =  10394823.0 \n",
      "ErrorMessage:  index -3 is out of bounds for axis 0 with size 1\n",
      "k =  10394823.0 \n",
      "ErrorMessage:  index -4 is out of bounds for axis 0 with size 1\n",
      "k =  10394823.0 \n",
      "ErrorMessage:  index -5 is out of bounds for axis 0 with size 1\n",
      "k =  10394823.0 \n",
      "ErrorMessage:  index -2 is out of bounds for axis 0 with size 1\n",
      "k =  10394823.0 \n",
      "ErrorMessage:  index -3 is out of bounds for axis 0 with size 1\n",
      "k =  10394823.0 \n",
      "ErrorMessage:  index -4 is out of bounds for axis 0 with size 1\n",
      "k =  10394823.0 \n",
      "ErrorMessage:  index -5 is out of bounds for axis 0 with size 1\n",
      "k =  10394823.0 \n",
      "ErrorMessage:  index -2 is out of bounds for axis 0 with size 1\n",
      "k =  10394823.0 \n",
      "ErrorMessage:  index -3 is out of bounds for axis 0 with size 1\n",
      "k =  10394823.0 \n",
      "ErrorMessage:  index -4 is out of bounds for axis 0 with size 1\n",
      "k =  10394823.0 \n",
      "ErrorMessage:  index -5 is out of bounds for axis 0 with size 1\n",
      "k =  10394823.0 \n",
      "ErrorMessage:  index -2 is out of bounds for axis 0 with size 1\n",
      "k =  10394823.0 \n",
      "ErrorMessage:  index -3 is out of bounds for axis 0 with size 1\n",
      "k =  10394823.0 \n",
      "ErrorMessage:  index -4 is out of bounds for axis 0 with size 1\n",
      "k =  10394823.0 \n",
      "ErrorMessage:  index -5 is out of bounds for axis 0 with size 1\n",
      "k =  10394823.0 \n",
      "ErrorMessage:  index -2 is out of bounds for axis 0 with size 1\n",
      "k =  10394823.0 \n",
      "ErrorMessage:  index -3 is out of bounds for axis 0 with size 1\n",
      "k =  10394823.0 \n",
      "ErrorMessage:  index -4 is out of bounds for axis 0 with size 1\n",
      "k =  10394823.0 \n",
      "ErrorMessage:  index -5 is out of bounds for axis 0 with size 1\n",
      "k =  10394823.0 \n",
      "ErrorMessage:  index -2 is out of bounds for axis 0 with size 1\n",
      "k =  10394823.0 \n",
      "ErrorMessage:  index -3 is out of bounds for axis 0 with size 1\n",
      "k =  10394823.0 \n",
      "ErrorMessage:  index -4 is out of bounds for axis 0 with size 1\n",
      "k =  10394823.0 \n",
      "ErrorMessage:  index -5 is out of bounds for axis 0 with size 1\n",
      "k =  10394823.0 \n",
      "ErrorMessage:  index -2 is out of bounds for axis 0 with size 1\n",
      "k =  10394823.0 \n",
      "ErrorMessage:  index -3 is out of bounds for axis 0 with size 1\n",
      "k =  10394823.0 \n",
      "ErrorMessage:  index -4 is out of bounds for axis 0 with size 1\n",
      "k =  10394823.0 \n",
      "ErrorMessage:  index -5 is out of bounds for axis 0 with size 1\n",
      "k =  10394823.0 \n",
      "ErrorMessage:  index -2 is out of bounds for axis 0 with size 1\n",
      "k =  10394823.0 \n",
      "ErrorMessage:  index -3 is out of bounds for axis 0 with size 1\n",
      "k =  10394823.0 \n",
      "ErrorMessage:  index -4 is out of bounds for axis 0 with size 1\n",
      "k =  10394823.0 \n",
      "ErrorMessage:  index -5 is out of bounds for axis 0 with size 1\n",
      "k =  10394823.0 \n",
      "ErrorMessage:  index -2 is out of bounds for axis 0 with size 1\n",
      "k =  10394823.0 \n",
      "ErrorMessage:  index -3 is out of bounds for axis 0 with size 1\n",
      "k =  10394823.0 \n",
      "ErrorMessage:  index -4 is out of bounds for axis 0 with size 1\n",
      "k =  10394823.0 \n",
      "ErrorMessage:  index -5 is out of bounds for axis 0 with size 1\n",
      "k =  10394823.0 \n",
      "ErrorMessage:  index -2 is out of bounds for axis 0 with size 1\n",
      "k =  10394823.0 \n",
      "ErrorMessage:  index -3 is out of bounds for axis 0 with size 1\n",
      "k =  10394823.0 \n",
      "ErrorMessage:  index -4 is out of bounds for axis 0 with size 1\n",
      "k =  10394823.0 \n",
      "ErrorMessage:  index -5 is out of bounds for axis 0 with size 1\n",
      "k =  10394823.0 \n",
      "ErrorMessage:  index -2 is out of bounds for axis 0 with size 1\n",
      "k =  10394823.0 \n",
      "ErrorMessage:  index -3 is out of bounds for axis 0 with size 1\n",
      "k =  10394823.0 \n",
      "ErrorMessage:  index -4 is out of bounds for axis 0 with size 1\n",
      "k =  10394823.0 \n",
      "ErrorMessage:  index -5 is out of bounds for axis 0 with size 1\n",
      "k =  10394823.0 \n",
      "ErrorMessage:  index -2 is out of bounds for axis 0 with size 1\n",
      "k =  10394823.0 \n",
      "ErrorMessage:  index -3 is out of bounds for axis 0 with size 1\n",
      "k =  10394823.0 \n",
      "ErrorMessage:  index -4 is out of bounds for axis 0 with size 1\n",
      "k =  10394823.0 \n",
      "ErrorMessage:  index -5 is out of bounds for axis 0 with size 1\n",
      "k =  10394823.0 \n",
      "ErrorMessage:  index -2 is out of bounds for axis 0 with size 1\n",
      "k =  10394823.0 \n",
      "ErrorMessage:  index -3 is out of bounds for axis 0 with size 1\n",
      "k =  10394823.0 \n",
      "ErrorMessage:  index -4 is out of bounds for axis 0 with size 1\n",
      "k =  10394823.0 \n",
      "ErrorMessage:  index -5 is out of bounds for axis 0 with size 1\n",
      "k =  10394823.0 \n",
      "ErrorMessage:  index -2 is out of bounds for axis 0 with size 1\n",
      "k =  10394823.0 \n",
      "ErrorMessage:  index -3 is out of bounds for axis 0 with size 1\n",
      "k =  10394823.0 \n",
      "ErrorMessage:  index -4 is out of bounds for axis 0 with size 1\n",
      "k =  10394823.0 \n",
      "ErrorMessage:  index -5 is out of bounds for axis 0 with size 1\n",
      "k =  10394823.0 \n",
      "ErrorMessage:  index -2 is out of bounds for axis 0 with size 1\n",
      "k =  10394823.0 \n",
      "ErrorMessage:  index -3 is out of bounds for axis 0 with size 1\n",
      "k =  10394823.0 \n",
      "ErrorMessage:  index -4 is out of bounds for axis 0 with size 1\n",
      "k =  10394823.0 \n",
      "ErrorMessage:  index -5 is out of bounds for axis 0 with size 1\n",
      "k =  10394823.0 \n",
      "ErrorMessage:  index -2 is out of bounds for axis 0 with size 1\n",
      "k =  10394823.0 \n",
      "ErrorMessage:  index -3 is out of bounds for axis 0 with size 1\n",
      "k =  10394823.0 \n",
      "ErrorMessage:  index -4 is out of bounds for axis 0 with size 1\n",
      "k =  10394823.0 \n",
      "ErrorMessage:  index -5 is out of bounds for axis 0 with size 1\n",
      "k =  10394823.0 \n",
      "ErrorMessage:  index -2 is out of bounds for axis 0 with size 1\n",
      "k =  10394823.0 \n",
      "ErrorMessage:  index -3 is out of bounds for axis 0 with size 1\n",
      "k =  10394823.0 \n",
      "ErrorMessage:  index -4 is out of bounds for axis 0 with size 1\n",
      "k =  10394823.0 \n",
      "ErrorMessage:  index -5 is out of bounds for axis 0 with size 1\n",
      "k =  10394823.0 \n",
      "ErrorMessage:  index -2 is out of bounds for axis 0 with size 1\n",
      "k =  10394823.0 \n",
      "ErrorMessage:  index -3 is out of bounds for axis 0 with size 1\n",
      "k =  10394823.0 \n",
      "ErrorMessage:  index -4 is out of bounds for axis 0 with size 1\n",
      "k =  10394823.0 \n",
      "ErrorMessage:  index -5 is out of bounds for axis 0 with size 1\n",
      "k =  10394823.0 \n",
      "ErrorMessage:  index -2 is out of bounds for axis 0 with size 1\n",
      "k =  10394823.0 \n",
      "ErrorMessage:  index -3 is out of bounds for axis 0 with size 1\n",
      "k =  10394823.0 \n",
      "ErrorMessage:  index -4 is out of bounds for axis 0 with size 1\n",
      "k =  10394823.0 \n",
      "ErrorMessage:  index -5 is out of bounds for axis 0 with size 1\n",
      "k =  10394823.0 \n",
      "ErrorMessage:  index -2 is out of bounds for axis 0 with size 1\n",
      "k =  10394823.0 \n",
      "ErrorMessage:  index -3 is out of bounds for axis 0 with size 1\n",
      "k =  10394823.0 \n",
      "ErrorMessage:  index -4 is out of bounds for axis 0 with size 1\n",
      "k =  10394823.0 \n",
      "ErrorMessage:  index -5 is out of bounds for axis 0 with size 1\n"
     ]
    },
    {
     "name": "stderr",
     "output_type": "stream",
     "text": [
      "\r",
      " 94%|███████████████████████████████████████████████████████████████████████████     | 375/400 [05:18<00:21,  1.16it/s]"
     ]
    },
    {
     "name": "stdout",
     "output_type": "stream",
     "text": [
      "Shape of output:  (9024, 581)\n"
     ]
    },
    {
     "name": "stderr",
     "output_type": "stream",
     "text": [
      "\r",
      " 94%|███████████████████████████████████████████████████████████████████████████▏    | 376/400 [05:19<00:20,  1.16it/s]"
     ]
    },
    {
     "name": "stdout",
     "output_type": "stream",
     "text": [
      "Shape of output:  (9048, 593)\n"
     ]
    },
    {
     "name": "stderr",
     "output_type": "stream",
     "text": [
      "\r",
      " 94%|███████████████████████████████████████████████████████████████████████████▍    | 377/400 [05:20<00:19,  1.17it/s]"
     ]
    },
    {
     "name": "stdout",
     "output_type": "stream",
     "text": [
      "Shape of output:  (9072, 593)\n"
     ]
    },
    {
     "name": "stderr",
     "output_type": "stream",
     "text": [
      "\r",
      " 94%|███████████████████████████████████████████████████████████████████████████▌    | 378/400 [05:21<00:19,  1.15it/s]"
     ]
    },
    {
     "name": "stdout",
     "output_type": "stream",
     "text": [
      "Shape of output:  (9096, 593)\n"
     ]
    },
    {
     "name": "stderr",
     "output_type": "stream",
     "text": [
      "\r",
      " 95%|███████████████████████████████████████████████████████████████████████████▊    | 379/400 [05:21<00:18,  1.13it/s]"
     ]
    },
    {
     "name": "stdout",
     "output_type": "stream",
     "text": [
      "Shape of output:  (9120, 593)\n"
     ]
    },
    {
     "name": "stderr",
     "output_type": "stream",
     "text": [
      "\r",
      " 95%|████████████████████████████████████████████████████████████████████████████    | 380/400 [05:22<00:17,  1.14it/s]"
     ]
    },
    {
     "name": "stdout",
     "output_type": "stream",
     "text": [
      "Shape of output:  (9144, 593)\n"
     ]
    },
    {
     "name": "stderr",
     "output_type": "stream",
     "text": [
      "\r",
      " 95%|████████████████████████████████████████████████████████████████████████████▏   | 381/400 [05:23<00:16,  1.15it/s]"
     ]
    },
    {
     "name": "stdout",
     "output_type": "stream",
     "text": [
      "Shape of output:  (9168, 593)\n"
     ]
    },
    {
     "name": "stderr",
     "output_type": "stream",
     "text": [
      "\r",
      " 96%|████████████████████████████████████████████████████████████████████████████▍   | 382/400 [05:24<00:15,  1.18it/s]"
     ]
    },
    {
     "name": "stdout",
     "output_type": "stream",
     "text": [
      "Shape of output:  (9192, 593)\n"
     ]
    },
    {
     "name": "stderr",
     "output_type": "stream",
     "text": [
      "\r",
      " 96%|████████████████████████████████████████████████████████████████████████████▌   | 383/400 [05:25<00:14,  1.19it/s]"
     ]
    },
    {
     "name": "stdout",
     "output_type": "stream",
     "text": [
      "Shape of output:  (9216, 593)\n"
     ]
    },
    {
     "name": "stderr",
     "output_type": "stream",
     "text": [
      "\r",
      " 96%|████████████████████████████████████████████████████████████████████████████▊   | 384/400 [05:26<00:13,  1.18it/s]"
     ]
    },
    {
     "name": "stdout",
     "output_type": "stream",
     "text": [
      "Shape of output:  (9240, 593)\n",
      "k =  10068915.0 \n",
      "ErrorMessage:  index -3 is out of bounds for axis 0 with size 2\n",
      "k =  10068915.0 \n",
      "ErrorMessage:  index -4 is out of bounds for axis 0 with size 2\n",
      "k =  10068915.0 \n",
      "ErrorMessage:  index -5 is out of bounds for axis 0 with size 2\n",
      "k =  10068915.0 \n",
      "ErrorMessage:  index -3 is out of bounds for axis 0 with size 2\n",
      "k =  10068915.0 \n",
      "ErrorMessage:  index -4 is out of bounds for axis 0 with size 2\n",
      "k =  10068915.0 \n",
      "ErrorMessage:  index -5 is out of bounds for axis 0 with size 2\n",
      "k =  10068915.0 \n",
      "ErrorMessage:  index -3 is out of bounds for axis 0 with size 2\n",
      "k =  10068915.0 \n",
      "ErrorMessage:  index -4 is out of bounds for axis 0 with size 2\n",
      "k =  10068915.0 \n",
      "ErrorMessage:  index -5 is out of bounds for axis 0 with size 2\n",
      "k =  10068915.0 \n",
      "ErrorMessage:  index -3 is out of bounds for axis 0 with size 2\n",
      "k =  10068915.0 \n",
      "ErrorMessage:  index -4 is out of bounds for axis 0 with size 2\n",
      "k =  10068915.0 \n",
      "ErrorMessage:  index -5 is out of bounds for axis 0 with size 2\n",
      "k =  10068915.0 \n",
      "ErrorMessage:  index -3 is out of bounds for axis 0 with size 2\n",
      "k =  10068915.0 \n",
      "ErrorMessage:  index -4 is out of bounds for axis 0 with size 2\n",
      "k =  10068915.0 \n",
      "ErrorMessage:  index -5 is out of bounds for axis 0 with size 2\n",
      "k =  10068915.0 \n",
      "ErrorMessage:  index -3 is out of bounds for axis 0 with size 2\n",
      "k =  10068915.0 \n",
      "ErrorMessage:  index -4 is out of bounds for axis 0 with size 2\n",
      "k =  10068915.0 \n",
      "ErrorMessage:  index -5 is out of bounds for axis 0 with size 2\n",
      "k =  10068915.0 \n",
      "ErrorMessage:  index -3 is out of bounds for axis 0 with size 2\n",
      "k =  10068915.0 \n",
      "ErrorMessage:  index -4 is out of bounds for axis 0 with size 2\n",
      "k =  10068915.0 \n",
      "ErrorMessage:  index -5 is out of bounds for axis 0 with size 2\n",
      "k =  10068915.0 \n",
      "ErrorMessage:  index -3 is out of bounds for axis 0 with size 2\n",
      "k =  10068915.0 \n",
      "ErrorMessage:  index -4 is out of bounds for axis 0 with size 2\n",
      "k =  10068915.0 \n",
      "ErrorMessage:  index -5 is out of bounds for axis 0 with size 2\n",
      "k =  10068915.0 \n",
      "ErrorMessage:  index -3 is out of bounds for axis 0 with size 2\n",
      "k =  10068915.0 \n",
      "ErrorMessage:  index -4 is out of bounds for axis 0 with size 2\n",
      "k =  10068915.0 \n",
      "ErrorMessage:  index -5 is out of bounds for axis 0 with size 2\n",
      "k =  10068915.0 \n",
      "ErrorMessage:  index -3 is out of bounds for axis 0 with size 2\n",
      "k =  10068915.0 \n",
      "ErrorMessage:  index -4 is out of bounds for axis 0 with size 2\n",
      "k =  10068915.0 \n",
      "ErrorMessage:  index -5 is out of bounds for axis 0 with size 2\n",
      "k =  10068915.0 \n",
      "ErrorMessage:  index -3 is out of bounds for axis 0 with size 2\n",
      "k =  10068915.0 \n",
      "ErrorMessage:  index -4 is out of bounds for axis 0 with size 2\n",
      "k =  10068915.0 \n",
      "ErrorMessage:  index -5 is out of bounds for axis 0 with size 2\n",
      "k =  10068915.0 \n",
      "ErrorMessage:  index -3 is out of bounds for axis 0 with size 2\n",
      "k =  10068915.0 \n",
      "ErrorMessage:  index -4 is out of bounds for axis 0 with size 2\n",
      "k =  10068915.0 \n",
      "ErrorMessage:  index -5 is out of bounds for axis 0 with size 2\n",
      "k =  10068915.0 \n",
      "ErrorMessage:  index -3 is out of bounds for axis 0 with size 2\n",
      "k =  10068915.0 \n",
      "ErrorMessage:  index -4 is out of bounds for axis 0 with size 2\n",
      "k =  10068915.0 \n",
      "ErrorMessage:  index -5 is out of bounds for axis 0 with size 2\n",
      "k =  10068915.0 \n",
      "ErrorMessage:  index -3 is out of bounds for axis 0 with size 2\n",
      "k =  10068915.0 \n",
      "ErrorMessage:  index -4 is out of bounds for axis 0 with size 2\n",
      "k =  10068915.0 \n",
      "ErrorMessage:  index -5 is out of bounds for axis 0 with size 2\n",
      "k =  10068915.0 \n",
      "ErrorMessage:  index -3 is out of bounds for axis 0 with size 2\n",
      "k =  10068915.0 \n",
      "ErrorMessage:  index -4 is out of bounds for axis 0 with size 2\n",
      "k =  10068915.0 \n",
      "ErrorMessage:  index -5 is out of bounds for axis 0 with size 2\n",
      "k =  10068915.0 \n",
      "ErrorMessage:  index -3 is out of bounds for axis 0 with size 2\n",
      "k =  10068915.0 \n",
      "ErrorMessage:  index -4 is out of bounds for axis 0 with size 2\n",
      "k =  10068915.0 \n",
      "ErrorMessage:  index -5 is out of bounds for axis 0 with size 2\n",
      "k =  10068915.0 \n",
      "ErrorMessage:  index -3 is out of bounds for axis 0 with size 2\n",
      "k =  10068915.0 \n",
      "ErrorMessage:  index -4 is out of bounds for axis 0 with size 2\n",
      "k =  10068915.0 \n",
      "ErrorMessage:  index -5 is out of bounds for axis 0 with size 2\n",
      "k =  10068915.0 \n",
      "ErrorMessage:  index -3 is out of bounds for axis 0 with size 2\n",
      "k =  10068915.0 \n",
      "ErrorMessage:  index -4 is out of bounds for axis 0 with size 2\n",
      "k =  10068915.0 \n",
      "ErrorMessage:  index -5 is out of bounds for axis 0 with size 2\n",
      "k =  10068915.0 \n",
      "ErrorMessage:  index -3 is out of bounds for axis 0 with size 2\n",
      "k =  10068915.0 \n",
      "ErrorMessage:  index -4 is out of bounds for axis 0 with size 2\n",
      "k =  10068915.0 \n",
      "ErrorMessage:  index -5 is out of bounds for axis 0 with size 2\n",
      "k =  10068915.0 \n",
      "ErrorMessage:  index -3 is out of bounds for axis 0 with size 2\n",
      "k =  10068915.0 \n",
      "ErrorMessage:  index -4 is out of bounds for axis 0 with size 2\n",
      "k =  10068915.0 \n",
      "ErrorMessage:  index -5 is out of bounds for axis 0 with size 2\n",
      "k =  10068915.0 \n",
      "ErrorMessage:  index -3 is out of bounds for axis 0 with size 2\n",
      "k =  10068915.0 \n",
      "ErrorMessage:  index -4 is out of bounds for axis 0 with size 2\n",
      "k =  10068915.0 \n",
      "ErrorMessage:  index -5 is out of bounds for axis 0 with size 2\n",
      "k =  10068915.0 \n",
      "ErrorMessage:  index -3 is out of bounds for axis 0 with size 2\n",
      "k =  10068915.0 \n",
      "ErrorMessage:  index -4 is out of bounds for axis 0 with size 2\n",
      "k =  10068915.0 \n",
      "ErrorMessage:  index -5 is out of bounds for axis 0 with size 2\n",
      "k =  10068915.0 \n",
      "ErrorMessage:  index -3 is out of bounds for axis 0 with size 2\n",
      "k =  10068915.0 \n",
      "ErrorMessage:  index -4 is out of bounds for axis 0 with size 2\n",
      "k =  10068915.0 \n",
      "ErrorMessage:  index -5 is out of bounds for axis 0 with size 2\n",
      "k =  10068915.0 \n",
      "ErrorMessage:  index -3 is out of bounds for axis 0 with size 2\n",
      "k =  10068915.0 \n",
      "ErrorMessage:  index -4 is out of bounds for axis 0 with size 2\n",
      "k =  10068915.0 \n",
      "ErrorMessage:  index -5 is out of bounds for axis 0 with size 2\n"
     ]
    },
    {
     "name": "stderr",
     "output_type": "stream",
     "text": [
      "\r",
      " 96%|█████████████████████████████████████████████████████████████████████████████   | 385/400 [05:26<00:12,  1.18it/s]"
     ]
    },
    {
     "name": "stdout",
     "output_type": "stream",
     "text": [
      "Shape of output:  (9264, 593)\n"
     ]
    },
    {
     "name": "stderr",
     "output_type": "stream",
     "text": [
      "\r",
      " 96%|█████████████████████████████████████████████████████████████████████████████▏  | 386/400 [05:27<00:12,  1.16it/s]"
     ]
    },
    {
     "name": "stdout",
     "output_type": "stream",
     "text": [
      "Shape of output:  (9288, 593)\n"
     ]
    },
    {
     "name": "stderr",
     "output_type": "stream",
     "text": [
      "\r",
      " 97%|█████████████████████████████████████████████████████████████████████████████▍  | 387/400 [05:28<00:11,  1.17it/s]"
     ]
    },
    {
     "name": "stdout",
     "output_type": "stream",
     "text": [
      "Shape of output:  (9312, 593)\n",
      "k =  10440099.0 \n",
      "ErrorMessage:  index -4 is out of bounds for axis 0 with size 3\n",
      "k =  10440099.0 \n",
      "ErrorMessage:  index -5 is out of bounds for axis 0 with size 3\n",
      "k =  10440099.0 \n",
      "ErrorMessage:  index -4 is out of bounds for axis 0 with size 3\n",
      "k =  10440099.0 \n",
      "ErrorMessage:  index -5 is out of bounds for axis 0 with size 3\n",
      "k =  10440099.0 \n",
      "ErrorMessage:  index -4 is out of bounds for axis 0 with size 3\n",
      "k =  10440099.0 \n",
      "ErrorMessage:  index -5 is out of bounds for axis 0 with size 3\n",
      "k =  10440099.0 \n",
      "ErrorMessage:  index -4 is out of bounds for axis 0 with size 3\n",
      "k =  10440099.0 \n",
      "ErrorMessage:  index -5 is out of bounds for axis 0 with size 3\n",
      "k =  10440099.0 \n",
      "ErrorMessage:  index -4 is out of bounds for axis 0 with size 3\n",
      "k =  10440099.0 \n",
      "ErrorMessage:  index -5 is out of bounds for axis 0 with size 3\n",
      "k =  10440099.0 \n",
      "ErrorMessage:  index -4 is out of bounds for axis 0 with size 3\n",
      "k =  10440099.0 \n",
      "ErrorMessage:  index -5 is out of bounds for axis 0 with size 3\n",
      "k =  10440099.0 \n",
      "ErrorMessage:  index -4 is out of bounds for axis 0 with size 3\n",
      "k =  10440099.0 \n",
      "ErrorMessage:  index -5 is out of bounds for axis 0 with size 3\n",
      "k =  10440099.0 \n",
      "ErrorMessage:  index -4 is out of bounds for axis 0 with size 3\n",
      "k =  10440099.0 \n",
      "ErrorMessage:  index -5 is out of bounds for axis 0 with size 3\n",
      "k =  10440099.0 \n",
      "ErrorMessage:  index -4 is out of bounds for axis 0 with size 3\n",
      "k =  10440099.0 \n",
      "ErrorMessage:  index -5 is out of bounds for axis 0 with size 3\n",
      "k =  10440099.0 \n",
      "ErrorMessage:  index -4 is out of bounds for axis 0 with size 3\n",
      "k =  10440099.0 \n",
      "ErrorMessage:  index -5 is out of bounds for axis 0 with size 3\n",
      "k =  10440099.0 \n",
      "ErrorMessage:  index -4 is out of bounds for axis 0 with size 3\n",
      "k =  10440099.0 \n",
      "ErrorMessage:  index -5 is out of bounds for axis 0 with size 3\n",
      "k =  10440099.0 \n",
      "ErrorMessage:  index -4 is out of bounds for axis 0 with size 3\n",
      "k =  10440099.0 \n",
      "ErrorMessage:  index -5 is out of bounds for axis 0 with size 3\n",
      "k =  10440099.0 \n",
      "ErrorMessage:  index -4 is out of bounds for axis 0 with size 3\n",
      "k =  10440099.0 \n",
      "ErrorMessage:  index -5 is out of bounds for axis 0 with size 3\n",
      "k =  10440099.0 \n",
      "ErrorMessage:  index -4 is out of bounds for axis 0 with size 3\n",
      "k =  10440099.0 \n",
      "ErrorMessage:  index -5 is out of bounds for axis 0 with size 3\n",
      "k =  10440099.0 \n",
      "ErrorMessage:  index -4 is out of bounds for axis 0 with size 3\n",
      "k =  10440099.0 \n",
      "ErrorMessage:  index -5 is out of bounds for axis 0 with size 3\n",
      "k =  10440099.0 \n",
      "ErrorMessage:  index -4 is out of bounds for axis 0 with size 3\n",
      "k =  10440099.0 \n",
      "ErrorMessage:  index -5 is out of bounds for axis 0 with size 3\n",
      "k =  10440099.0 \n",
      "ErrorMessage:  index -4 is out of bounds for axis 0 with size 3\n",
      "k =  10440099.0 \n",
      "ErrorMessage:  index -5 is out of bounds for axis 0 with size 3\n",
      "k =  10440099.0 \n",
      "ErrorMessage:  index -4 is out of bounds for axis 0 with size 3\n",
      "k =  10440099.0 \n",
      "ErrorMessage:  index -5 is out of bounds for axis 0 with size 3\n",
      "k =  10440099.0 \n",
      "ErrorMessage:  index -4 is out of bounds for axis 0 with size 3\n",
      "k =  10440099.0 \n",
      "ErrorMessage:  index -5 is out of bounds for axis 0 with size 3\n",
      "k =  10440099.0 \n",
      "ErrorMessage:  index -4 is out of bounds for axis 0 with size 3\n",
      "k =  10440099.0 \n",
      "ErrorMessage:  index -5 is out of bounds for axis 0 with size 3\n",
      "k =  10440099.0 \n",
      "ErrorMessage:  index -4 is out of bounds for axis 0 with size 3\n",
      "k =  10440099.0 \n",
      "ErrorMessage:  index -5 is out of bounds for axis 0 with size 3\n",
      "k =  10440099.0 \n",
      "ErrorMessage:  index -4 is out of bounds for axis 0 with size 3\n",
      "k =  10440099.0 \n",
      "ErrorMessage:  index -5 is out of bounds for axis 0 with size 3\n",
      "k =  10440099.0 \n",
      "ErrorMessage:  index -4 is out of bounds for axis 0 with size 3\n",
      "k =  10440099.0 \n",
      "ErrorMessage:  index -5 is out of bounds for axis 0 with size 3\n",
      "k =  10440099.0 \n",
      "ErrorMessage:  index -4 is out of bounds for axis 0 with size 3\n",
      "k =  10440099.0 \n",
      "ErrorMessage:  index -5 is out of bounds for axis 0 with size 3\n"
     ]
    },
    {
     "name": "stderr",
     "output_type": "stream",
     "text": [
      "\r",
      " 97%|█████████████████████████████████████████████████████████████████████████████▌  | 388/400 [05:29<00:10,  1.19it/s]"
     ]
    },
    {
     "name": "stdout",
     "output_type": "stream",
     "text": [
      "Shape of output:  (9336, 593)\n"
     ]
    },
    {
     "name": "stderr",
     "output_type": "stream",
     "text": [
      "\r",
      " 97%|█████████████████████████████████████████████████████████████████████████████▊  | 389/400 [05:30<00:09,  1.18it/s]"
     ]
    },
    {
     "name": "stdout",
     "output_type": "stream",
     "text": [
      "Shape of output:  (9360, 593)\n"
     ]
    },
    {
     "name": "stderr",
     "output_type": "stream",
     "text": [
      "\r",
      " 98%|██████████████████████████████████████████████████████████████████████████████  | 390/400 [05:31<00:08,  1.18it/s]"
     ]
    },
    {
     "name": "stdout",
     "output_type": "stream",
     "text": [
      "Shape of output:  (9384, 593)\n"
     ]
    },
    {
     "name": "stderr",
     "output_type": "stream",
     "text": [
      "\r",
      " 98%|██████████████████████████████████████████████████████████████████████████████▏ | 391/400 [05:32<00:07,  1.16it/s]"
     ]
    },
    {
     "name": "stdout",
     "output_type": "stream",
     "text": [
      "Shape of output:  (9408, 593)\n"
     ]
    },
    {
     "name": "stderr",
     "output_type": "stream",
     "text": [
      "\r",
      " 98%|██████████████████████████████████████████████████████████████████████████████▍ | 392/400 [05:32<00:06,  1.17it/s]"
     ]
    },
    {
     "name": "stdout",
     "output_type": "stream",
     "text": [
      "Shape of output:  (9432, 593)\n"
     ]
    },
    {
     "name": "stderr",
     "output_type": "stream",
     "text": [
      "\r",
      " 98%|██████████████████████████████████████████████████████████████████████████████▌ | 393/400 [05:33<00:05,  1.18it/s]"
     ]
    },
    {
     "name": "stdout",
     "output_type": "stream",
     "text": [
      "Shape of output:  (9456, 593)\n"
     ]
    },
    {
     "name": "stderr",
     "output_type": "stream",
     "text": [
      "\r",
      " 98%|██████████████████████████████████████████████████████████████████████████████▊ | 394/400 [05:34<00:05,  1.16it/s]"
     ]
    },
    {
     "name": "stdout",
     "output_type": "stream",
     "text": [
      "Shape of output:  (9480, 593)\n"
     ]
    },
    {
     "name": "stderr",
     "output_type": "stream",
     "text": [
      "\r",
      " 99%|███████████████████████████████████████████████████████████████████████████████ | 395/400 [05:35<00:04,  1.16it/s]"
     ]
    },
    {
     "name": "stdout",
     "output_type": "stream",
     "text": [
      "Shape of output:  (9504, 593)\n"
     ]
    },
    {
     "name": "stderr",
     "output_type": "stream",
     "text": [
      "\r",
      " 99%|███████████████████████████████████████████████████████████████████████████████▏| 396/400 [05:36<00:03,  1.14it/s]"
     ]
    },
    {
     "name": "stdout",
     "output_type": "stream",
     "text": [
      "Shape of output:  (9528, 593)\n"
     ]
    },
    {
     "name": "stderr",
     "output_type": "stream",
     "text": [
      "\r",
      " 99%|███████████████████████████████████████████████████████████████████████████████▍| 397/400 [05:37<00:02,  1.11it/s]"
     ]
    },
    {
     "name": "stdout",
     "output_type": "stream",
     "text": [
      "Shape of output:  (9552, 593)\n"
     ]
    },
    {
     "name": "stderr",
     "output_type": "stream",
     "text": [
      "\r",
      "100%|███████████████████████████████████████████████████████████████████████████████▌| 398/400 [05:38<00:01,  1.11it/s]"
     ]
    },
    {
     "name": "stdout",
     "output_type": "stream",
     "text": [
      "Shape of output:  (9576, 593)\n"
     ]
    },
    {
     "name": "stderr",
     "output_type": "stream",
     "text": [
      "\r",
      "100%|███████████████████████████████████████████████████████████████████████████████▊| 399/400 [05:39<00:00,  1.13it/s]"
     ]
    },
    {
     "name": "stdout",
     "output_type": "stream",
     "text": [
      "Shape of output:  (9600, 593)\n"
     ]
    },
    {
     "name": "stderr",
     "output_type": "stream",
     "text": [
      "100%|████████████████████████████████████████████████████████████████████████████████| 400/400 [05:40<00:00,  1.18it/s]"
     ]
    },
    {
     "name": "stdout",
     "output_type": "stream",
     "text": [
      "Shape of output:  (9624, 593)\n"
     ]
    },
    {
     "name": "stderr",
     "output_type": "stream",
     "text": [
      "\n"
     ]
    }
   ],
   "source": [
    "dt_sample_df = pd.DataFrame(index=np.arange(1.0, 25.0, 1).tolist())\n",
    "for k in tqdm(chid_list[381601:382001]):\n",
    "#     if k == 10026418.0:\n",
    "#         break;\n",
    "    test_df = df[df['chid'] == k]\n",
    "    pivot_df_T = dt_sample_df.join(test_df.pivot(index='dt', columns='shop_tag', values='txn_amt').fillna(0)).T\n",
    "    dt_df = pd.DataFrame(index=pivot_df_T.index)\n",
    "    column_list = pivot_df_T.columns.tolist()\n",
    "    dt_df = pivot_df_T.apply(lambda row: row.rank(method='max') + 50 - pivot_df_T.shape[0]).apply(lambda row: row.replace(row.min(), 1))\n",
    "\n",
    "    shop_tag_rank = dt_df.T\n",
    "    shop_tag_rank.columns = [\"shop_tag_\" + i + \"_rank\" for i in shop_tag_rank.columns.tolist()]\n",
    "    \n",
    "    temp_output = shop_tag_rank\n",
    "    for j in np.r_[1:12]:\n",
    "        temp_shop_tag_rank = shop_tag_rank.shift(periods =j)\n",
    "        temp_shop_tag_rank.columns = [str(i) + \"_t-\" + str(j) for i in shop_tag_rank.columns.tolist()]\n",
    "\n",
    "        temp_output = pd.concat([temp_output, temp_shop_tag_rank], axis=1)\n",
    "    \n",
    "    top5_shop_tag = pd.DataFrame()\n",
    "    for i in range(len(column_list)):\n",
    "        sort_index = np.argsort(pivot_df_T[column_list[i]].values.tolist())\n",
    "        for j in np.r_[1:6]:\n",
    "            try:\n",
    "                if pivot_df_T.loc[:, column_list[i]][sort_index[-j]] == 0:\n",
    "                    top5_shop_tag.loc[column_list[i], 'top'+ str(j)] = pivot_df_T.index[sort_index[-j+1]]\n",
    "                elif np.isnan(pivot_df_T.loc[:, column_list[i]][sort_index[-j]]):\n",
    "                    top5_shop_tag.loc[column_list[i], 'top'+ str(j)] = 0\n",
    "                else:\n",
    "                    top5_shop_tag.loc[column_list[i], 'top'+ str(j)] = pivot_df_T.index[sort_index[-j]]\n",
    "            except BaseException as e:\n",
    "                print('k = ', k, '\\nErrorMessage: ',e)\n",
    "    top5_shop_tag.index = temp_output.index\n",
    "    temp_output = pd.concat([temp_output, top5_shop_tag], axis=1)\n",
    "    \n",
    "    temp_output['chid'] = k\n",
    "    for i in ['masts', 'educd', 'trdtp', 'naty', 'poscd', 'cuorg', 'slam', 'gender_code', 'age', 'primary_card']:\n",
    "        temp_output[i] = df[df['chid'] == k].loc[:,i].values[0]\n",
    "    temp_output = temp_output.reset_index().rename(columns={'index': 'dt'})\n",
    "    output = pd.concat([output, temp_output])\n",
    "    print('Shape of output: ', output.shape)"
   ]
  },
  {
   "cell_type": "code",
   "execution_count": 15,
   "metadata": {},
   "outputs": [],
   "source": [
    "output['top1'] = output['top1'].astype(str, errors = 'raise')\n",
    "output['top2'] = output['top2'].astype(str, errors = 'raise')\n",
    "output['top3'] = output['top3'].astype(str, errors = 'raise')\n",
    "output['top4'] = output['top4'].astype(str, errors = 'raise')\n",
    "output['top5'] = output['top5'].astype(str, errors = 'raise')"
   ]
  },
  {
   "cell_type": "code",
   "execution_count": 16,
   "metadata": {},
   "outputs": [],
   "source": [
    "output.reset_index().to_feather('../data/rank_data_381600_382000.feather')"
   ]
  },
  {
   "cell_type": "markdown",
   "metadata": {},
   "source": [
    "### Summary"
   ]
  },
  {
   "cell_type": "code",
   "execution_count": null,
   "metadata": {},
   "outputs": [],
   "source": [
    "for z in range(1000, 6000, 1000):\n",
    "    k = chid_list[z]\n",
    "    dt_sample_df = pd.DataFrame(index=np.arange(1.0, 25.0, 1).tolist())\n",
    "    test_df = df[df['chid'] == k]\n",
    "    pivot_df_T = dt_sample_df.join(test_df.pivot(index='dt', columns='shop_tag', values='txn_amt').fillna(0)).T\n",
    "    dt_df = pd.DataFrame(index=pivot_df_T.index)\n",
    "    column_list = pivot_df_T.columns.tolist()\n",
    "    dt_df = pivot_df_T.apply(lambda row: row.rank(method='max') + 50 - pivot_df_T.shape[0]).apply(lambda row: row.replace(row.min(), 1))\n",
    "\n",
    "    shop_tag_rank = dt_df.T\n",
    "    shop_tag_rank.columns = [\"shop_tag_\" + i + \"_rank\" for i in shop_tag_rank.columns.tolist()]\n",
    "\n",
    "    output = shop_tag_rank\n",
    "    for j in np.r_[1:12]:\n",
    "        temp_shop_tag_rank = shop_tag_rank.shift(periods =j)\n",
    "        temp_shop_tag_rank.columns = [str(i) + \"_t-\" + str(j) for i in shop_tag_rank.columns.tolist()]\n",
    "\n",
    "        output = pd.concat([output, temp_shop_tag_rank], axis=1)\n",
    "\n",
    "    top5_shop_tag = pd.DataFrame()\n",
    "    for i in range(len(column_list)):\n",
    "        sort_index = np.argsort(pivot_df_T[column_list[i]].values.tolist())\n",
    "        for j in np.r_[1:6]:\n",
    "            try:\n",
    "                if pivot_df_T.loc[:, column_list[i]][sort_index[-j]] == 0:\n",
    "                    top5_shop_tag.loc[column_list[i], 'top'+ str(j)] = pivot_df_T.index[sort_index[-j+1]]\n",
    "                elif np.isnan(pivot_df_T.loc[:, column_list[i]][sort_index[-j]]):\n",
    "                    top5_shop_tag.loc[column_list[i], 'top'+ str(j)] = 0\n",
    "                else:\n",
    "                    top5_shop_tag.loc[column_list[i], 'top'+ str(j)] = pivot_df_T.index[sort_index[-j]]\n",
    "            except BaseException as e:\n",
    "                print('k = ', k, '\\nErrorMessage: ',e)\n",
    "\n",
    "    top5_shop_tag.index = output.index\n",
    "    output = pd.concat([output, top5_shop_tag], axis=1)\n",
    "\n",
    "    output['chid'] = k\n",
    "    for i in ['masts', 'educd', 'trdtp', 'naty', 'poscd', 'cuorg', 'slam', 'gender_code', 'age', 'primary_card']:\n",
    "        output[i] = df[df['chid'] == k].loc[:,i].values[0]\n",
    "    output = output.reset_index().rename(columns={'index': 'dt'})\n",
    "    \n",
    "    dt_sample_df = pd.DataFrame(index=np.arange(1.0, 25.0, 1).tolist())\n",
    "    \n",
    "    for k in tqdm(chid_list[z: z+1001]):\n",
    "#         if k == chid_list[z + 1001]:\n",
    "#             break;\n",
    "        test_df = df[df['chid'] == k]\n",
    "        pivot_df_T = dt_sample_df.join(test_df.pivot(index='dt', columns='shop_tag', values='txn_amt').fillna(0)).T\n",
    "        dt_df = pd.DataFrame(index=pivot_df_T.index)\n",
    "        column_list = pivot_df_T.columns.tolist()\n",
    "        dt_df = pivot_df_T.apply(lambda row: row.rank(method='max') + 50 - pivot_df_T.shape[0]).apply(lambda row: row.replace(row.min(), 1))\n",
    "\n",
    "        shop_tag_rank = dt_df.T\n",
    "        shop_tag_rank.columns = [\"shop_tag_\" + i + \"_rank\" for i in shop_tag_rank.columns.tolist()]\n",
    "\n",
    "        temp_output = shop_tag_rank\n",
    "        for j in np.r_[1:12]:\n",
    "            temp_shop_tag_rank = shop_tag_rank.shift(periods =j)\n",
    "            temp_shop_tag_rank.columns = [str(i) + \"_t-\" + str(j) for i in shop_tag_rank.columns.tolist()]\n",
    "\n",
    "            temp_output = pd.concat([temp_output, temp_shop_tag_rank], axis=1)\n",
    "\n",
    "        top5_shop_tag = pd.DataFrame()\n",
    "        for i in range(len(column_list)):\n",
    "            sort_index = np.argsort(pivot_df_T[column_list[i]].values.tolist())\n",
    "            for j in np.r_[1:6]:\n",
    "                try:\n",
    "                    if pivot_df_T.loc[:, column_list[i]][sort_index[-j]] == 0:\n",
    "                        top5_shop_tag.loc[column_list[i], 'top'+ str(j)] = pivot_df_T.index[sort_index[-j+1]]\n",
    "                    elif np.isnan(pivot_df_T.loc[:, column_list[i]][sort_index[-j]]):\n",
    "                        top5_shop_tag.loc[column_list[i], 'top'+ str(j)] = 0\n",
    "                    else:\n",
    "                        top5_shop_tag.loc[column_list[i], 'top'+ str(j)] = pivot_df_T.index[sort_index[-j]]\n",
    "                except BaseException as e:\n",
    "                    print('k = ', k, '\\nErrorMessage: ',e)\n",
    "        top5_shop_tag.index = temp_output.index\n",
    "        temp_output = pd.concat([temp_output, top5_shop_tag], axis=1)\n",
    "\n",
    "        temp_output['chid'] = k\n",
    "        for i in ['masts', 'educd', 'trdtp', 'naty', 'poscd', 'cuorg', 'slam', 'gender_code', 'age', 'primary_card']:\n",
    "            temp_output[i] = df[df['chid'] == k].loc[:,i].values[0]\n",
    "        temp_output = temp_output.reset_index().rename(columns={'index': 'dt'})\n",
    "        output = pd.concat([output, temp_output])\n",
    "        print('Shape of output: ', output.shape)\n",
    "        \n",
    "    output['top1'] = output['top1'].astype(str, errors = 'raise')\n",
    "    output['top2'] = output['top2'].astype(str, errors = 'raise')\n",
    "    output['top3'] = output['top3'].astype(str, errors = 'raise')\n",
    "    output['top4'] = output['top4'].astype(str, errors = 'raise')\n",
    "    output['top5'] = output['top5'].astype(str, errors = 'raise')\n",
    "    \n",
    "    output.reset_index().to_feather('../data/rank_data_{}_{}.feather'.format(z ,z+1000))"
   ]
  },
  {
   "cell_type": "code",
   "execution_count": null,
   "metadata": {},
   "outputs": [],
   "source": []
  }
 ],
 "metadata": {
  "colab": {
   "authorship_tag": "ABX9TyOeq63wnzHip4FgkYDCh34t",
   "collapsed_sections": [],
   "name": "EDA.ipynb",
   "provenance": []
  },
  "kernelspec": {
   "display_name": "Python 3",
   "language": "python",
   "name": "python3"
  },
  "language_info": {
   "codemirror_mode": {
    "name": "ipython",
    "version": 3
   },
   "file_extension": ".py",
   "mimetype": "text/x-python",
   "name": "python",
   "nbconvert_exporter": "python",
   "pygments_lexer": "ipython3",
   "version": "3.8.8"
  }
 },
 "nbformat": 4,
 "nbformat_minor": 1
}
