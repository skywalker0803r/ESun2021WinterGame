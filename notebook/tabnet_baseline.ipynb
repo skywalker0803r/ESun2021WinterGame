{
 "cells": [
  {
   "cell_type": "code",
   "execution_count": 15,
   "metadata": {},
   "outputs": [
    {
     "name": "stderr",
     "output_type": "stream",
     "text": [
      "Global seed set to 42\n"
     ]
    }
   ],
   "source": [
    "from pytorch_tabnet.tab_model import TabNetClassifier\n",
    "from pytorch_lightning import seed_everything\n",
    "import torch\n",
    "from sklearn.preprocessing import LabelEncoder\n",
    "from sklearn.metrics import accuracy_score\n",
    "from sklearn.model_selection import train_test_split\n",
    "import pandas as pd\n",
    "import numpy as np\n",
    "import random\n",
    "import os\n",
    "from pathlib import Path\n",
    "import shutil\n",
    "import gzip\n",
    "import requests\n",
    "from matplotlib import pyplot as plt\n",
    "from sklearn.model_selection import KFold\n",
    "%matplotlib inline\n",
    "\n",
    "# set seed \n",
    "def set_seed(seed = int):\n",
    "    '''Sets the seed of the entire notebook so results are the same every time we run.\n",
    "    This is for REPRODUCIBILITY.'''\n",
    "    np.random.seed(seed)\n",
    "    random_state = np.random.RandomState(seed)\n",
    "    random.seed(seed)\n",
    "    torch.manual_seed(seed)\n",
    "    torch.cuda.manual_seed(seed)\n",
    "    torch.backends.cudnn.deterministic = True\n",
    "    torch.backends.cudnn.benchmark = False\n",
    "    os.environ['PYTHONHASHSEED'] = str(seed)\n",
    "    seed_everything(seed)\n",
    "    return random_state\n",
    "seed_number = 42\n",
    "seed = set_seed(seed_number)"
   ]
  },
  {
   "cell_type": "markdown",
   "metadata": {},
   "source": [
    "# load data"
   ]
  },
  {
   "cell_type": "code",
   "execution_count": 16,
   "metadata": {},
   "outputs": [
    {
     "data": {
      "text/html": [
       "<div>\n",
       "<style scoped>\n",
       "    .dataframe tbody tr th:only-of-type {\n",
       "        vertical-align: middle;\n",
       "    }\n",
       "\n",
       "    .dataframe tbody tr th {\n",
       "        vertical-align: top;\n",
       "    }\n",
       "\n",
       "    .dataframe thead th {\n",
       "        text-align: right;\n",
       "    }\n",
       "</style>\n",
       "<table border=\"1\" class=\"dataframe\">\n",
       "  <thead>\n",
       "    <tr style=\"text-align: right;\">\n",
       "      <th></th>\n",
       "      <th>chid_shop_tag_37_norm_count</th>\n",
       "      <th>chid_shop_tag_other_norm_count</th>\n",
       "      <th>chid_shop_tag_45_norm_count</th>\n",
       "      <th>chid_shop_tag_48_norm_count</th>\n",
       "      <th>card_4_txn_cnt</th>\n",
       "      <th>overseas_online_cnt</th>\n",
       "      <th>chid_shop_tag_36_norm_count</th>\n",
       "      <th>chid_shop_tag_2_norm_count</th>\n",
       "      <th>chid_shop_tag_15_norm_count</th>\n",
       "      <th>chid_shop_tag_12_norm_count</th>\n",
       "      <th>...</th>\n",
       "      <th>chid_shop_tag_9_norm_count</th>\n",
       "      <th>chid_shop_tag_17_norm_count</th>\n",
       "      <th>chid_shop_tag_41_norm_count</th>\n",
       "      <th>chid_shop_tag_20_norm_count</th>\n",
       "      <th>chid_shop_tag_8_norm_count</th>\n",
       "      <th>chid_shop_tag_32_norm_count</th>\n",
       "      <th>chid_shop_tag_40_norm_count</th>\n",
       "      <th>chid_shop_tag_3_norm_count</th>\n",
       "      <th>index</th>\n",
       "      <th>shop_tag</th>\n",
       "    </tr>\n",
       "  </thead>\n",
       "  <tbody>\n",
       "    <tr>\n",
       "      <th>0</th>\n",
       "      <td>0.085714</td>\n",
       "      <td>0.057143</td>\n",
       "      <td>0.0</td>\n",
       "      <td>0.028571</td>\n",
       "      <td>0.0</td>\n",
       "      <td>0.0</td>\n",
       "      <td>0.000000</td>\n",
       "      <td>0.085714</td>\n",
       "      <td>0.057143</td>\n",
       "      <td>0.028571</td>\n",
       "      <td>...</td>\n",
       "      <td>0.0</td>\n",
       "      <td>0.0</td>\n",
       "      <td>0.0</td>\n",
       "      <td>0.0</td>\n",
       "      <td>0.0</td>\n",
       "      <td>0.057143</td>\n",
       "      <td>0.000000</td>\n",
       "      <td>0.000000</td>\n",
       "      <td>6582978</td>\n",
       "      <td>2</td>\n",
       "    </tr>\n",
       "    <tr>\n",
       "      <th>1</th>\n",
       "      <td>0.142857</td>\n",
       "      <td>0.000000</td>\n",
       "      <td>0.0</td>\n",
       "      <td>0.142857</td>\n",
       "      <td>0.0</td>\n",
       "      <td>0.0</td>\n",
       "      <td>0.000000</td>\n",
       "      <td>0.142857</td>\n",
       "      <td>0.428571</td>\n",
       "      <td>0.000000</td>\n",
       "      <td>...</td>\n",
       "      <td>0.0</td>\n",
       "      <td>0.0</td>\n",
       "      <td>0.0</td>\n",
       "      <td>0.0</td>\n",
       "      <td>0.0</td>\n",
       "      <td>0.000000</td>\n",
       "      <td>0.000000</td>\n",
       "      <td>0.000000</td>\n",
       "      <td>20740238</td>\n",
       "      <td>37</td>\n",
       "    </tr>\n",
       "    <tr>\n",
       "      <th>2</th>\n",
       "      <td>0.000000</td>\n",
       "      <td>0.000000</td>\n",
       "      <td>0.0</td>\n",
       "      <td>0.000000</td>\n",
       "      <td>0.0</td>\n",
       "      <td>0.0</td>\n",
       "      <td>0.000000</td>\n",
       "      <td>0.000000</td>\n",
       "      <td>0.000000</td>\n",
       "      <td>0.000000</td>\n",
       "      <td>...</td>\n",
       "      <td>0.0</td>\n",
       "      <td>0.0</td>\n",
       "      <td>0.0</td>\n",
       "      <td>0.0</td>\n",
       "      <td>0.0</td>\n",
       "      <td>1.000000</td>\n",
       "      <td>0.000000</td>\n",
       "      <td>0.000000</td>\n",
       "      <td>23388815</td>\n",
       "      <td>32</td>\n",
       "    </tr>\n",
       "    <tr>\n",
       "      <th>3</th>\n",
       "      <td>0.000000</td>\n",
       "      <td>0.000000</td>\n",
       "      <td>0.0</td>\n",
       "      <td>0.000000</td>\n",
       "      <td>0.0</td>\n",
       "      <td>0.0</td>\n",
       "      <td>0.222222</td>\n",
       "      <td>0.000000</td>\n",
       "      <td>0.222222</td>\n",
       "      <td>0.111111</td>\n",
       "      <td>...</td>\n",
       "      <td>0.0</td>\n",
       "      <td>0.0</td>\n",
       "      <td>0.0</td>\n",
       "      <td>0.0</td>\n",
       "      <td>0.0</td>\n",
       "      <td>0.000000</td>\n",
       "      <td>0.000000</td>\n",
       "      <td>0.000000</td>\n",
       "      <td>22042470</td>\n",
       "      <td>36</td>\n",
       "    </tr>\n",
       "    <tr>\n",
       "      <th>4</th>\n",
       "      <td>0.000000</td>\n",
       "      <td>0.086957</td>\n",
       "      <td>0.0</td>\n",
       "      <td>0.000000</td>\n",
       "      <td>0.0</td>\n",
       "      <td>5.0</td>\n",
       "      <td>0.130435</td>\n",
       "      <td>0.043478</td>\n",
       "      <td>0.130435</td>\n",
       "      <td>0.130435</td>\n",
       "      <td>...</td>\n",
       "      <td>0.0</td>\n",
       "      <td>0.0</td>\n",
       "      <td>0.0</td>\n",
       "      <td>0.0</td>\n",
       "      <td>0.0</td>\n",
       "      <td>0.000000</td>\n",
       "      <td>0.043478</td>\n",
       "      <td>0.086957</td>\n",
       "      <td>30085386</td>\n",
       "      <td>13</td>\n",
       "    </tr>\n",
       "  </tbody>\n",
       "</table>\n",
       "<p>5 rows × 43 columns</p>\n",
       "</div>"
      ],
      "text/plain": [
       "   chid_shop_tag_37_norm_count  chid_shop_tag_other_norm_count  \\\n",
       "0                     0.085714                        0.057143   \n",
       "1                     0.142857                        0.000000   \n",
       "2                     0.000000                        0.000000   \n",
       "3                     0.000000                        0.000000   \n",
       "4                     0.000000                        0.086957   \n",
       "\n",
       "   chid_shop_tag_45_norm_count  chid_shop_tag_48_norm_count  card_4_txn_cnt  \\\n",
       "0                          0.0                     0.028571             0.0   \n",
       "1                          0.0                     0.142857             0.0   \n",
       "2                          0.0                     0.000000             0.0   \n",
       "3                          0.0                     0.000000             0.0   \n",
       "4                          0.0                     0.000000             0.0   \n",
       "\n",
       "   overseas_online_cnt  chid_shop_tag_36_norm_count  \\\n",
       "0                  0.0                     0.000000   \n",
       "1                  0.0                     0.000000   \n",
       "2                  0.0                     0.000000   \n",
       "3                  0.0                     0.222222   \n",
       "4                  5.0                     0.130435   \n",
       "\n",
       "   chid_shop_tag_2_norm_count  chid_shop_tag_15_norm_count  \\\n",
       "0                    0.085714                     0.057143   \n",
       "1                    0.142857                     0.428571   \n",
       "2                    0.000000                     0.000000   \n",
       "3                    0.000000                     0.222222   \n",
       "4                    0.043478                     0.130435   \n",
       "\n",
       "   chid_shop_tag_12_norm_count  ...  chid_shop_tag_9_norm_count  \\\n",
       "0                     0.028571  ...                         0.0   \n",
       "1                     0.000000  ...                         0.0   \n",
       "2                     0.000000  ...                         0.0   \n",
       "3                     0.111111  ...                         0.0   \n",
       "4                     0.130435  ...                         0.0   \n",
       "\n",
       "   chid_shop_tag_17_norm_count  chid_shop_tag_41_norm_count  \\\n",
       "0                          0.0                          0.0   \n",
       "1                          0.0                          0.0   \n",
       "2                          0.0                          0.0   \n",
       "3                          0.0                          0.0   \n",
       "4                          0.0                          0.0   \n",
       "\n",
       "   chid_shop_tag_20_norm_count  chid_shop_tag_8_norm_count  \\\n",
       "0                          0.0                         0.0   \n",
       "1                          0.0                         0.0   \n",
       "2                          0.0                         0.0   \n",
       "3                          0.0                         0.0   \n",
       "4                          0.0                         0.0   \n",
       "\n",
       "   chid_shop_tag_32_norm_count  chid_shop_tag_40_norm_count  \\\n",
       "0                     0.057143                     0.000000   \n",
       "1                     0.000000                     0.000000   \n",
       "2                     1.000000                     0.000000   \n",
       "3                     0.000000                     0.000000   \n",
       "4                     0.000000                     0.043478   \n",
       "\n",
       "   chid_shop_tag_3_norm_count     index  shop_tag  \n",
       "0                    0.000000   6582978         2  \n",
       "1                    0.000000  20740238        37  \n",
       "2                    0.000000  23388815        32  \n",
       "3                    0.000000  22042470        36  \n",
       "4                    0.086957  30085386        13  \n",
       "\n",
       "[5 rows x 43 columns]"
      ]
     },
     "execution_count": 16,
     "metadata": {},
     "output_type": "execute_result"
    }
   ],
   "source": [
    "train = pd.read_feather('../data/train_preprocessed.feather').sample(99999).reset_index(drop=True)\n",
    "test = pd.read_feather('../data/test_preprocessed.feather')\n",
    "train.head()"
   ]
  },
  {
   "cell_type": "code",
   "execution_count": 17,
   "metadata": {},
   "outputs": [
    {
     "data": {
      "text/html": [
       "<div>\n",
       "<style scoped>\n",
       "    .dataframe tbody tr th:only-of-type {\n",
       "        vertical-align: middle;\n",
       "    }\n",
       "\n",
       "    .dataframe tbody tr th {\n",
       "        vertical-align: top;\n",
       "    }\n",
       "\n",
       "    .dataframe thead th {\n",
       "        text-align: right;\n",
       "    }\n",
       "</style>\n",
       "<table border=\"1\" class=\"dataframe\">\n",
       "  <thead>\n",
       "    <tr style=\"text-align: right;\">\n",
       "      <th></th>\n",
       "      <th>chid_shop_tag_37_norm_count</th>\n",
       "      <th>chid_shop_tag_other_norm_count</th>\n",
       "      <th>chid_shop_tag_45_norm_count</th>\n",
       "      <th>chid_shop_tag_48_norm_count</th>\n",
       "      <th>card_4_txn_cnt</th>\n",
       "      <th>overseas_online_cnt</th>\n",
       "      <th>chid_shop_tag_36_norm_count</th>\n",
       "      <th>chid_shop_tag_2_norm_count</th>\n",
       "      <th>chid_shop_tag_15_norm_count</th>\n",
       "      <th>chid_shop_tag_12_norm_count</th>\n",
       "      <th>...</th>\n",
       "      <th>chid_shop_tag_33_norm_count</th>\n",
       "      <th>chid_shop_tag_9_norm_count</th>\n",
       "      <th>chid_shop_tag_17_norm_count</th>\n",
       "      <th>chid_shop_tag_41_norm_count</th>\n",
       "      <th>chid_shop_tag_20_norm_count</th>\n",
       "      <th>chid_shop_tag_8_norm_count</th>\n",
       "      <th>chid_shop_tag_32_norm_count</th>\n",
       "      <th>chid_shop_tag_40_norm_count</th>\n",
       "      <th>chid_shop_tag_3_norm_count</th>\n",
       "      <th>index</th>\n",
       "    </tr>\n",
       "  </thead>\n",
       "  <tbody>\n",
       "    <tr>\n",
       "      <th>0</th>\n",
       "      <td>0.2500</td>\n",
       "      <td>0.25</td>\n",
       "      <td>0.2500</td>\n",
       "      <td>0.0000</td>\n",
       "      <td>3.0</td>\n",
       "      <td>0.0</td>\n",
       "      <td>0.00</td>\n",
       "      <td>0.2500</td>\n",
       "      <td>0.0000</td>\n",
       "      <td>0.0</td>\n",
       "      <td>...</td>\n",
       "      <td>0.0</td>\n",
       "      <td>0.0</td>\n",
       "      <td>0.0000</td>\n",
       "      <td>0.00</td>\n",
       "      <td>0.0</td>\n",
       "      <td>0.0</td>\n",
       "      <td>0.0</td>\n",
       "      <td>0.0</td>\n",
       "      <td>0.0</td>\n",
       "      <td>0</td>\n",
       "    </tr>\n",
       "    <tr>\n",
       "      <th>1</th>\n",
       "      <td>0.1000</td>\n",
       "      <td>0.10</td>\n",
       "      <td>0.1000</td>\n",
       "      <td>0.1000</td>\n",
       "      <td>0.0</td>\n",
       "      <td>0.0</td>\n",
       "      <td>0.05</td>\n",
       "      <td>0.0000</td>\n",
       "      <td>0.1000</td>\n",
       "      <td>0.0</td>\n",
       "      <td>...</td>\n",
       "      <td>0.0</td>\n",
       "      <td>0.0</td>\n",
       "      <td>0.0500</td>\n",
       "      <td>0.05</td>\n",
       "      <td>0.0</td>\n",
       "      <td>0.0</td>\n",
       "      <td>0.0</td>\n",
       "      <td>0.0</td>\n",
       "      <td>0.0</td>\n",
       "      <td>1</td>\n",
       "    </tr>\n",
       "    <tr>\n",
       "      <th>2</th>\n",
       "      <td>0.2000</td>\n",
       "      <td>0.20</td>\n",
       "      <td>0.0000</td>\n",
       "      <td>0.2000</td>\n",
       "      <td>0.0</td>\n",
       "      <td>0.0</td>\n",
       "      <td>0.20</td>\n",
       "      <td>0.0000</td>\n",
       "      <td>0.0000</td>\n",
       "      <td>0.0</td>\n",
       "      <td>...</td>\n",
       "      <td>0.0</td>\n",
       "      <td>0.0</td>\n",
       "      <td>0.0000</td>\n",
       "      <td>0.00</td>\n",
       "      <td>0.0</td>\n",
       "      <td>0.0</td>\n",
       "      <td>0.0</td>\n",
       "      <td>0.0</td>\n",
       "      <td>0.0</td>\n",
       "      <td>2</td>\n",
       "    </tr>\n",
       "    <tr>\n",
       "      <th>3</th>\n",
       "      <td>0.0625</td>\n",
       "      <td>0.00</td>\n",
       "      <td>0.1875</td>\n",
       "      <td>0.0625</td>\n",
       "      <td>0.0</td>\n",
       "      <td>0.0</td>\n",
       "      <td>0.00</td>\n",
       "      <td>0.0625</td>\n",
       "      <td>0.0625</td>\n",
       "      <td>0.0</td>\n",
       "      <td>...</td>\n",
       "      <td>0.0</td>\n",
       "      <td>0.0</td>\n",
       "      <td>0.0625</td>\n",
       "      <td>0.00</td>\n",
       "      <td>0.0</td>\n",
       "      <td>0.0</td>\n",
       "      <td>0.0</td>\n",
       "      <td>0.0</td>\n",
       "      <td>0.0</td>\n",
       "      <td>3</td>\n",
       "    </tr>\n",
       "    <tr>\n",
       "      <th>4</th>\n",
       "      <td>0.2500</td>\n",
       "      <td>0.00</td>\n",
       "      <td>0.0000</td>\n",
       "      <td>0.0000</td>\n",
       "      <td>1.0</td>\n",
       "      <td>0.0</td>\n",
       "      <td>0.00</td>\n",
       "      <td>0.5000</td>\n",
       "      <td>0.0000</td>\n",
       "      <td>0.0</td>\n",
       "      <td>...</td>\n",
       "      <td>0.0</td>\n",
       "      <td>0.0</td>\n",
       "      <td>0.0000</td>\n",
       "      <td>0.00</td>\n",
       "      <td>0.0</td>\n",
       "      <td>0.0</td>\n",
       "      <td>0.0</td>\n",
       "      <td>0.0</td>\n",
       "      <td>0.0</td>\n",
       "      <td>4</td>\n",
       "    </tr>\n",
       "  </tbody>\n",
       "</table>\n",
       "<p>5 rows × 42 columns</p>\n",
       "</div>"
      ],
      "text/plain": [
       "   chid_shop_tag_37_norm_count  chid_shop_tag_other_norm_count  \\\n",
       "0                       0.2500                            0.25   \n",
       "1                       0.1000                            0.10   \n",
       "2                       0.2000                            0.20   \n",
       "3                       0.0625                            0.00   \n",
       "4                       0.2500                            0.00   \n",
       "\n",
       "   chid_shop_tag_45_norm_count  chid_shop_tag_48_norm_count  card_4_txn_cnt  \\\n",
       "0                       0.2500                       0.0000             3.0   \n",
       "1                       0.1000                       0.1000             0.0   \n",
       "2                       0.0000                       0.2000             0.0   \n",
       "3                       0.1875                       0.0625             0.0   \n",
       "4                       0.0000                       0.0000             1.0   \n",
       "\n",
       "   overseas_online_cnt  chid_shop_tag_36_norm_count  \\\n",
       "0                  0.0                         0.00   \n",
       "1                  0.0                         0.05   \n",
       "2                  0.0                         0.20   \n",
       "3                  0.0                         0.00   \n",
       "4                  0.0                         0.00   \n",
       "\n",
       "   chid_shop_tag_2_norm_count  chid_shop_tag_15_norm_count  \\\n",
       "0                      0.2500                       0.0000   \n",
       "1                      0.0000                       0.1000   \n",
       "2                      0.0000                       0.0000   \n",
       "3                      0.0625                       0.0625   \n",
       "4                      0.5000                       0.0000   \n",
       "\n",
       "   chid_shop_tag_12_norm_count  ...  chid_shop_tag_33_norm_count  \\\n",
       "0                          0.0  ...                          0.0   \n",
       "1                          0.0  ...                          0.0   \n",
       "2                          0.0  ...                          0.0   \n",
       "3                          0.0  ...                          0.0   \n",
       "4                          0.0  ...                          0.0   \n",
       "\n",
       "   chid_shop_tag_9_norm_count  chid_shop_tag_17_norm_count  \\\n",
       "0                         0.0                       0.0000   \n",
       "1                         0.0                       0.0500   \n",
       "2                         0.0                       0.0000   \n",
       "3                         0.0                       0.0625   \n",
       "4                         0.0                       0.0000   \n",
       "\n",
       "   chid_shop_tag_41_norm_count  chid_shop_tag_20_norm_count  \\\n",
       "0                         0.00                          0.0   \n",
       "1                         0.05                          0.0   \n",
       "2                         0.00                          0.0   \n",
       "3                         0.00                          0.0   \n",
       "4                         0.00                          0.0   \n",
       "\n",
       "   chid_shop_tag_8_norm_count  chid_shop_tag_32_norm_count  \\\n",
       "0                         0.0                          0.0   \n",
       "1                         0.0                          0.0   \n",
       "2                         0.0                          0.0   \n",
       "3                         0.0                          0.0   \n",
       "4                         0.0                          0.0   \n",
       "\n",
       "   chid_shop_tag_40_norm_count  chid_shop_tag_3_norm_count  index  \n",
       "0                          0.0                         0.0      0  \n",
       "1                          0.0                         0.0      1  \n",
       "2                          0.0                         0.0      2  \n",
       "3                          0.0                         0.0      3  \n",
       "4                          0.0                         0.0      4  \n",
       "\n",
       "[5 rows x 42 columns]"
      ]
     },
     "execution_count": 17,
     "metadata": {},
     "output_type": "execute_result"
    }
   ],
   "source": [
    "test.head()"
   ]
  },
  {
   "cell_type": "markdown",
   "metadata": {},
   "source": [
    "# Define categorical features for categorical embeddings"
   ]
  },
  {
   "cell_type": "code",
   "execution_count": 18,
   "metadata": {},
   "outputs": [
    {
     "data": {
      "text/plain": [
       "[]"
      ]
     },
     "execution_count": 18,
     "metadata": {},
     "output_type": "execute_result"
    }
   ],
   "source": [
    "unused_feat = ['index','shop_tag']\n",
    "target = 'shop_tag'\n",
    "categorical_columns = ['masts','educd','trdtp','naty','poscd','cuorg','gender_code','age','primary_card']\n",
    "features = [ col for col in train.columns if col not in unused_feat+[target]] \n",
    "cat_idxs = [ i for i, f in enumerate(features) if f in categorical_columns]\n",
    "cat_dims = [ categorical_dims[f] for i, f in enumerate(features) if f in categorical_columns]\n",
    "cat_idxs"
   ]
  },
  {
   "cell_type": "markdown",
   "metadata": {},
   "source": [
    "# Network parameters"
   ]
  },
  {
   "cell_type": "code",
   "execution_count": 19,
   "metadata": {},
   "outputs": [
    {
     "name": "stdout",
     "output_type": "stream",
     "text": [
      "Device used : cuda\n"
     ]
    }
   ],
   "source": [
    "exec(requests.get('https://raw.githubusercontent.com/facebookresearch/madgrad/main/madgrad/madgrad.py').text)\n",
    "clf = TabNetClassifier(\n",
    "    cat_idxs = cat_idxs,\n",
    "    cat_dims = cat_dims,\n",
    "    cat_emb_dim = 1,\n",
    "    optimizer_fn=MADGRAD,\n",
    "    optimizer_params=dict(lr=2e-2))"
   ]
  },
  {
   "cell_type": "markdown",
   "metadata": {},
   "source": [
    "# train val test split"
   ]
  },
  {
   "cell_type": "code",
   "execution_count": 20,
   "metadata": {},
   "outputs": [
    {
     "name": "stderr",
     "output_type": "stream",
     "text": [
      "C:\\Users\\ricky\\anaconda3\\lib\\site-packages\\sklearn\\model_selection\\_split.py:293: FutureWarning: Setting a random_state has no effect since shuffle is False. This will raise an error in 0.24. You should leave random_state to its default (None), or set shuffle=True.\n",
      "  warnings.warn(\n"
     ]
    }
   ],
   "source": [
    "num_Fold = 0\n",
    "Folds = {}\n",
    "kf = KFold(n_splits = 5 ,random_state=seed)\n",
    "for i,train_val_index in enumerate(kf.split(train.index)):\n",
    "  Folds[i] = train_val_index\n",
    "train_index ,val_index = Folds[num_Fold]\n",
    "val = train.loc[val_index,features+[target]]\n",
    "train = train.loc[train_index,features+[target]]\n",
    "\n",
    "X_train = train[features].values\n",
    "y_train = train[target].values\n",
    "\n",
    "X_valid = val[features].values\n",
    "y_valid = val[target].values\n",
    "\n",
    "X_test = test[features].values"
   ]
  },
  {
   "cell_type": "markdown",
   "metadata": {},
   "source": [
    "# Train"
   ]
  },
  {
   "cell_type": "code",
   "execution_count": 21,
   "metadata": {},
   "outputs": [
    {
     "name": "stdout",
     "output_type": "stream",
     "text": [
      "epoch 0  | loss: 3.60844 | train_accuracy: 0.18093 | valid_accuracy: 0.1832  |  0:00:06s\n",
      "epoch 1  | loss: 2.73538 | train_accuracy: 0.26922 | valid_accuracy: 0.27065 |  0:00:13s\n",
      "epoch 2  | loss: 2.55553 | train_accuracy: 0.30509 | valid_accuracy: 0.31    |  0:00:20s\n",
      "epoch 3  | loss: 2.45049 | train_accuracy: 0.34518 | valid_accuracy: 0.34535 |  0:00:26s\n",
      "epoch 4  | loss: 2.35591 | train_accuracy: 0.37003 | valid_accuracy: 0.3694  |  0:00:33s\n",
      "epoch 5  | loss: 2.28698 | train_accuracy: 0.3746  | valid_accuracy: 0.3787  |  0:00:39s\n",
      "epoch 6  | loss: 2.23417 | train_accuracy: 0.38987 | valid_accuracy: 0.3865  |  0:00:45s\n",
      "epoch 7  | loss: 2.18925 | train_accuracy: 0.3956  | valid_accuracy: 0.39315 |  0:00:51s\n",
      "epoch 8  | loss: 2.14931 | train_accuracy: 0.40074 | valid_accuracy: 0.3969  |  0:00:57s\n",
      "epoch 9  | loss: 2.11817 | train_accuracy: 0.41254 | valid_accuracy: 0.41275 |  0:01:03s\n",
      "Stop training because you reached max_epochs = 10 with best_epoch = 9 and best_valid_accuracy = 0.41275\n",
      "Best weights from best epoch are automatically used!\n"
     ]
    }
   ],
   "source": [
    "clf.fit(\n",
    "    X_train=X_train, y_train=y_train,\n",
    "    eval_set=[(X_train, y_train), (X_valid, y_valid)],\n",
    "    eval_name=['train', 'valid'],\n",
    "    max_epochs=10,\n",
    ")"
   ]
  },
  {
   "cell_type": "code",
   "execution_count": 22,
   "metadata": {},
   "outputs": [
    {
     "data": {
      "text/plain": [
       "[<matplotlib.lines.Line2D at 0x262a907f760>]"
      ]
     },
     "execution_count": 22,
     "metadata": {},
     "output_type": "execute_result"
    },
    {
     "data": {
      "image/png": "[encoded data removed]",
      "text/plain": [
       "<Figure size 432x288 with 1 Axes>"
      ]
     },
     "metadata": {
      "needs_background": "light"
     },
     "output_type": "display_data"
    }
   ],
   "source": [
    "# plot losses\n",
    "plt.plot(clf.history['loss'])"
   ]
  },
  {
   "cell_type": "code",
   "execution_count": 23,
   "metadata": {},
   "outputs": [
    {
     "data": {
      "text/plain": [
       "[<matplotlib.lines.Line2D at 0x262a9362c10>]"
      ]
     },
     "execution_count": 23,
     "metadata": {},
     "output_type": "execute_result"
    },
    {
     "data": {
      "image/png": "[encoded data removed]",
      "text/plain": [
       "<Figure size 432x288 with 1 Axes>"
      ]
     },
     "metadata": {
      "needs_background": "light"
     },
     "output_type": "display_data"
    }
   ],
   "source": [
    "# plot accuracy\n",
    "plt.plot(clf.history['train_accuracy'])\n",
    "plt.plot(clf.history['valid_accuracy'])"
   ]
  },
  {
   "cell_type": "markdown",
   "metadata": {},
   "source": [
    "# Predictions"
   ]
  },
  {
   "cell_type": "code",
   "execution_count": 24,
   "metadata": {},
   "outputs": [
    {
     "name": "stdout",
     "output_type": "stream",
     "text": [
      "BEST VALID SCORE FOR : 0.41275\n",
      "FINAL VALID SCORE FOR : 0.41275\n"
     ]
    }
   ],
   "source": [
    "preds_mapper = { idx : class_name for idx, class_name in enumerate(clf.classes_)}\n",
    "preds = clf.predict_proba(X_valid)\n",
    "y_pred = np.vectorize(preds_mapper.get)(np.argmax(preds, axis=1))\n",
    "valid_acc = accuracy_score(y_pred=y_pred, y_true=y_valid)\n",
    "print(f\"BEST VALID SCORE FOR : {clf.best_cost}\")\n",
    "print(f\"FINAL VALID SCORE FOR : {valid_acc}\")"
   ]
  },
  {
   "cell_type": "markdown",
   "metadata": {},
   "source": [
    "# Save oof train and oof test"
   ]
  },
  {
   "cell_type": "code",
   "execution_count": 25,
   "metadata": {},
   "outputs": [
    {
     "data": {
      "text/plain": [
       "(20000, 48)"
      ]
     },
     "execution_count": 25,
     "metadata": {},
     "output_type": "execute_result"
    }
   ],
   "source": [
    "oof_train = clf.predict_proba(X_valid)\n",
    "oof_train.shape"
   ]
  },
  {
   "cell_type": "code",
   "execution_count": 26,
   "metadata": {},
   "outputs": [
    {
     "data": {
      "text/plain": [
       "(500000, 48)"
      ]
     },
     "execution_count": 26,
     "metadata": {},
     "output_type": "execute_result"
    }
   ],
   "source": [
    "oof_test = clf.predict_proba(X_test)\n",
    "oof_test.shape"
   ]
  },
  {
   "cell_type": "code",
   "execution_count": 27,
   "metadata": {},
   "outputs": [
    {
     "name": "stdout",
     "output_type": "stream",
     "text": [
      "0\n",
      "42\n"
     ]
    }
   ],
   "source": [
    "print(num_Fold)\n",
    "print(seed_number)"
   ]
  },
  {
   "cell_type": "code",
   "execution_count": 28,
   "metadata": {},
   "outputs": [
    {
     "name": "stdout",
     "output_type": "stream",
     "text": [
      "DONE!\n"
     ]
    }
   ],
   "source": [
    "oof_train = pd.DataFrame(oof_train,columns=[ str(i) for i in range(oof_train.shape[1])])\n",
    "oof_test = pd.DataFrame(oof_test,columns=[ str(i) for i in range(oof_test.shape[1])])\n",
    "oof_train.to_feather(f'../data/submit/oof_train_fold_{num_Fold}_seed_{seed_number}')\n",
    "oof_test.to_feather(f'../data/submit/oof_test_fold_{num_Fold}_seed_{seed_number}')\n",
    "print('DONE!')"
   ]
  },
  {
   "cell_type": "markdown",
   "metadata": {},
   "source": []
  }
 ],
 "metadata": {
  "interpreter": {
   "hash": "2ccee5cc862501c1aad1cf19888c2a2eca4026b72d187db43d5e889cbdc6ee97"
  },
  "kernelspec": {
   "display_name": "Python 3.8.5 64-bit ('base': conda)",
   "name": "python3"
  },
  "language_info": {
   "codemirror_mode": {
    "name": "ipython",
    "version": 3
   },
   "file_extension": ".py",
   "mimetype": "text/x-python",
   "name": "python",
   "nbconvert_exporter": "python",
   "pygments_lexer": "ipython3",
   "version": "3.8.5"
  }
 },
 "nbformat": 4,
 "nbformat_minor": 2
}
