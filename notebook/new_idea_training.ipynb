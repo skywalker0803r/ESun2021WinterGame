{
 "cells": [
  {
   "cell_type": "code",
   "execution_count": 167,
   "metadata": {},
   "outputs": [
    {
     "name": "stderr",
     "output_type": "stream",
     "text": [
      "Global seed set to 42\n"
     ]
    }
   ],
   "source": [
    "from pytorch_tabnet.tab_model import TabNetClassifier\n",
    "from pytorch_lightning import seed_everything\n",
    "import torch\n",
    "from sklearn.preprocessing import LabelEncoder\n",
    "from sklearn.metrics import accuracy_score\n",
    "from sklearn.model_selection import train_test_split\n",
    "import pandas as pd\n",
    "import numpy as np\n",
    "import random\n",
    "import os\n",
    "from pathlib import Path\n",
    "import shutil\n",
    "import gzip\n",
    "import requests\n",
    "from matplotlib import pyplot as plt\n",
    "from sklearn.model_selection import KFold\n",
    "%matplotlib inline\n",
    "\n",
    "# set seed \n",
    "def set_seed(seed = int):\n",
    "    '''Sets the seed of the entire notebook so results are the same every time we run.\n",
    "    This is for REPRODUCIBILITY.'''\n",
    "    np.random.seed(seed)\n",
    "    random_state = np.random.RandomState(seed)\n",
    "    random.seed(seed)\n",
    "    torch.manual_seed(seed)\n",
    "    torch.cuda.manual_seed(seed)\n",
    "    torch.backends.cudnn.deterministic = True\n",
    "    torch.backends.cudnn.benchmark = False\n",
    "    os.environ['PYTHONHASHSEED'] = str(seed)\n",
    "    seed_everything(seed)\n",
    "    return random_state\n",
    "seed_number = 42\n",
    "seed = set_seed(seed_number)"
   ]
  },
  {
   "cell_type": "markdown",
   "metadata": {},
   "source": [
    "# load data"
   ]
  },
  {
   "cell_type": "code",
   "execution_count": 168,
   "metadata": {},
   "outputs": [],
   "source": [
    "X_train = pd.read_feather('../data/X_train.feather')\n",
    "y_train = pd.read_feather('../data/y_train.feather')\n",
    "X_test = pd.read_feather('../data/X_test.feather')\n",
    "y_test = pd.read_feather('../data/y_test.feather')"
   ]
  },
  {
   "cell_type": "code",
   "execution_count": 169,
   "metadata": {},
   "outputs": [
    {
     "data": {
      "text/plain": [
       "Index(['shop_tag_2', 'shop_tag_6', 'shop_tag_10', 'shop_tag_12', 'shop_tag_13',\n",
       "       'shop_tag_15', 'shop_tag_18', 'shop_tag_19', 'shop_tag_21',\n",
       "       'shop_tag_22', 'shop_tag_25', 'shop_tag_26', 'shop_tag_36',\n",
       "       'shop_tag_37', 'shop_tag_39', 'shop_tag_48', 'chid', 'slam', 'age'],\n",
       "      dtype='object')"
      ]
     },
     "execution_count": 169,
     "metadata": {},
     "output_type": "execute_result"
    }
   ],
   "source": [
    "X_train.columns"
   ]
  },
  {
   "cell_type": "code",
   "execution_count": 170,
   "metadata": {},
   "outputs": [
    {
     "data": {
      "text/plain": [
       "Index(['chid', 'top1', 'top2', 'top3'], dtype='object')"
      ]
     },
     "execution_count": 170,
     "metadata": {},
     "output_type": "execute_result"
    }
   ],
   "source": [
    "y_train.columns"
   ]
  },
  {
   "cell_type": "code",
   "execution_count": 171,
   "metadata": {},
   "outputs": [
    {
     "data": {
      "text/plain": [
       "({'age',\n",
       "  'shop_tag_10',\n",
       "  'shop_tag_12',\n",
       "  'shop_tag_13',\n",
       "  'shop_tag_15',\n",
       "  'shop_tag_18',\n",
       "  'shop_tag_19',\n",
       "  'shop_tag_2',\n",
       "  'shop_tag_21',\n",
       "  'shop_tag_22',\n",
       "  'shop_tag_25',\n",
       "  'shop_tag_26',\n",
       "  'shop_tag_36',\n",
       "  'shop_tag_37',\n",
       "  'shop_tag_39',\n",
       "  'shop_tag_48',\n",
       "  'shop_tag_6',\n",
       "  'slam'},\n",
       " {'top1'})"
      ]
     },
     "execution_count": 171,
     "metadata": {},
     "output_type": "execute_result"
    }
   ],
   "source": [
    "x_col = set(X_train.columns) - set(['chid'])\n",
    "y_col = set(y_train.columns) - set(['chid','top2','top3'])\n",
    "x_col,y_col"
   ]
  },
  {
   "cell_type": "code",
   "execution_count": 172,
   "metadata": {},
   "outputs": [
    {
     "data": {
      "text/html": [
       "<div>\n",
       "<style scoped>\n",
       "    .dataframe tbody tr th:only-of-type {\n",
       "        vertical-align: middle;\n",
       "    }\n",
       "\n",
       "    .dataframe tbody tr th {\n",
       "        vertical-align: top;\n",
       "    }\n",
       "\n",
       "    .dataframe thead th {\n",
       "        text-align: right;\n",
       "    }\n",
       "</style>\n",
       "<table border=\"1\" class=\"dataframe\">\n",
       "  <thead>\n",
       "    <tr style=\"text-align: right;\">\n",
       "      <th></th>\n",
       "      <th>age</th>\n",
       "      <th>slam</th>\n",
       "    </tr>\n",
       "  </thead>\n",
       "  <tbody>\n",
       "    <tr>\n",
       "      <th>count</th>\n",
       "      <td>415325.000000</td>\n",
       "      <td>4.011290e+05</td>\n",
       "    </tr>\n",
       "    <tr>\n",
       "      <th>mean</th>\n",
       "      <td>3.790013</td>\n",
       "      <td>1.533464e+105</td>\n",
       "    </tr>\n",
       "    <tr>\n",
       "      <th>std</th>\n",
       "      <td>1.262141</td>\n",
       "      <td>9.712157e+107</td>\n",
       "    </tr>\n",
       "    <tr>\n",
       "      <th>min</th>\n",
       "      <td>1.000000</td>\n",
       "      <td>8.019907e+03</td>\n",
       "    </tr>\n",
       "    <tr>\n",
       "      <th>25%</th>\n",
       "      <td>3.000000</td>\n",
       "      <td>5.970151e+04</td>\n",
       "    </tr>\n",
       "    <tr>\n",
       "      <th>50%</th>\n",
       "      <td>4.000000</td>\n",
       "      <td>7.687548e+04</td>\n",
       "    </tr>\n",
       "    <tr>\n",
       "      <th>75%</th>\n",
       "      <td>5.000000</td>\n",
       "      <td>1.014060e+05</td>\n",
       "    </tr>\n",
       "    <tr>\n",
       "      <th>max</th>\n",
       "      <td>9.000000</td>\n",
       "      <td>6.151170e+110</td>\n",
       "    </tr>\n",
       "  </tbody>\n",
       "</table>\n",
       "</div>"
      ],
      "text/plain": [
       "                 age           slam\n",
       "count  415325.000000   4.011290e+05\n",
       "mean        3.790013  1.533464e+105\n",
       "std         1.262141  9.712157e+107\n",
       "min         1.000000   8.019907e+03\n",
       "25%         3.000000   5.970151e+04\n",
       "50%         4.000000   7.687548e+04\n",
       "75%         5.000000   1.014060e+05\n",
       "max         9.000000  6.151170e+110"
      ]
     },
     "execution_count": 172,
     "metadata": {},
     "output_type": "execute_result"
    }
   ],
   "source": [
    "X_train[['age','slam']].describe()"
   ]
  },
  {
   "cell_type": "code",
   "execution_count": 173,
   "metadata": {},
   "outputs": [],
   "source": [
    "# fill na value\n",
    "X_train['age'] = X_train['age'].fillna(4.000000) \n",
    "X_test['age'] = X_test['age'].fillna(4.000000)\n",
    "X_train['slam'] = X_train['slam'].fillna(7.687548e+04)\n",
    "X_test['slam'] = X_test['slam'].fillna(7.687548e+04)"
   ]
  },
  {
   "cell_type": "code",
   "execution_count": 174,
   "metadata": {},
   "outputs": [
    {
     "name": "stdout",
     "output_type": "stream",
     "text": [
      "0\n",
      "0\n",
      "0\n",
      "0\n"
     ]
    }
   ],
   "source": [
    "for i in [X_train,X_test,y_train,y_test]:\n",
    "    print(i.isnull().sum().sum())"
   ]
  },
  {
   "cell_type": "markdown",
   "metadata": {},
   "source": [
    "# Define categorical features for categorical embeddings"
   ]
  },
  {
   "cell_type": "code",
   "execution_count": 175,
   "metadata": {},
   "outputs": [],
   "source": [
    "#unused_feat = ['index','shop_tag']\n",
    "#target = 'shop_tag'\n",
    "#categorical_columns = ['masts','educd','trdtp','naty','poscd','cuorg','gender_code','age','primary_card']\n",
    "#features = [ col for col in train.columns if col not in unused_feat+[target]] \n",
    "#cat_idxs = [ i for i, f in enumerate(features) if f in categorical_columns]\n",
    "#cat_dims = [ categorical_dims[f] for i, f in enumerate(features) if f in categorical_columns]\n",
    "#cat_idxs"
   ]
  },
  {
   "cell_type": "markdown",
   "metadata": {},
   "source": [
    "# Network parameters"
   ]
  },
  {
   "cell_type": "code",
   "execution_count": 176,
   "metadata": {},
   "outputs": [
    {
     "name": "stdout",
     "output_type": "stream",
     "text": [
      "Device used : cpu\n"
     ]
    }
   ],
   "source": [
    "exec(requests.get('https://raw.githubusercontent.com/facebookresearch/madgrad/main/madgrad/madgrad.py').text)\n",
    "clf = TabNetClassifier(optimizer_fn=MADGRAD,optimizer_params=dict(lr=2e-2),device_name='cpu')"
   ]
  },
  {
   "cell_type": "markdown",
   "metadata": {},
   "source": [
    "# Train"
   ]
  },
  {
   "cell_type": "code",
   "execution_count": 177,
   "metadata": {},
   "outputs": [],
   "source": [
    "n = 1000\n",
    "X_train = X_train[x_col].values[:n]\n",
    "X_test = X_test[x_col].values[:n]\n",
    "y_train = y_train[list(y_col)[0]].values[:n]\n",
    "y_test = y_test[list(y_col)[0]].values[:n]"
   ]
  },
  {
   "cell_type": "code",
   "execution_count": 178,
   "metadata": {},
   "outputs": [
    {
     "name": "stdout",
     "output_type": "stream",
     "text": [
      "epoch 0  | loss: 2.14045 | train_accuracy: 0.147   | valid_accuracy: 0.136   |  0:00:00s\n",
      "epoch 1  | loss: 2.05241 | train_accuracy: 0.121   | valid_accuracy: 0.123   |  0:00:00s\n",
      "epoch 2  | loss: 1.92879 | train_accuracy: 0.124   | valid_accuracy: 0.146   |  0:00:00s\n",
      "epoch 3  | loss: 1.79246 | train_accuracy: 0.145   | valid_accuracy: 0.178   |  0:00:00s\n",
      "epoch 4  | loss: 1.72468 | train_accuracy: 0.182   | valid_accuracy: 0.209   |  0:00:00s\n",
      "epoch 5  | loss: 1.70607 | train_accuracy: 0.281   | valid_accuracy: 0.286   |  0:00:00s\n",
      "epoch 6  | loss: 1.45543 | train_accuracy: 0.356   | valid_accuracy: 0.349   |  0:00:00s\n",
      "epoch 7  | loss: 1.39819 | train_accuracy: 0.405   | valid_accuracy: 0.404   |  0:00:00s\n",
      "epoch 8  | loss: 1.22515 | train_accuracy: 0.484   | valid_accuracy: 0.505   |  0:00:01s\n",
      "epoch 9  | loss: 1.12737 | train_accuracy: 0.566   | valid_accuracy: 0.589   |  0:00:01s\n",
      "epoch 10 | loss: 1.01068 | train_accuracy: 0.637   | valid_accuracy: 0.651   |  0:00:01s\n",
      "epoch 11 | loss: 0.85303 | train_accuracy: 0.712   | valid_accuracy: 0.715   |  0:00:01s\n",
      "epoch 12 | loss: 0.72548 | train_accuracy: 0.777   | valid_accuracy: 0.77    |  0:00:01s\n",
      "epoch 13 | loss: 0.63369 | train_accuracy: 0.833   | valid_accuracy: 0.829   |  0:00:01s\n",
      "epoch 14 | loss: 0.55376 | train_accuracy: 0.863   | valid_accuracy: 0.869   |  0:00:01s\n",
      "epoch 15 | loss: 0.44097 | train_accuracy: 0.893   | valid_accuracy: 0.91    |  0:00:01s\n",
      "epoch 16 | loss: 0.38573 | train_accuracy: 0.929   | valid_accuracy: 0.931   |  0:00:02s\n",
      "epoch 17 | loss: 0.33102 | train_accuracy: 0.939   | valid_accuracy: 0.942   |  0:00:02s\n",
      "epoch 18 | loss: 0.28993 | train_accuracy: 0.949   | valid_accuracy: 0.95    |  0:00:02s\n",
      "epoch 19 | loss: 0.27378 | train_accuracy: 0.954   | valid_accuracy: 0.954   |  0:00:02s\n",
      "epoch 20 | loss: 0.23508 | train_accuracy: 0.954   | valid_accuracy: 0.952   |  0:00:02s\n",
      "epoch 21 | loss: 0.25778 | train_accuracy: 0.954   | valid_accuracy: 0.952   |  0:00:02s\n",
      "epoch 22 | loss: 0.24092 | train_accuracy: 0.954   | valid_accuracy: 0.953   |  0:00:02s\n",
      "epoch 23 | loss: 0.2384  | train_accuracy: 0.954   | valid_accuracy: 0.953   |  0:00:02s\n",
      "epoch 24 | loss: 0.23755 | train_accuracy: 0.954   | valid_accuracy: 0.954   |  0:00:03s\n",
      "epoch 25 | loss: 0.25375 | train_accuracy: 0.953   | valid_accuracy: 0.954   |  0:00:03s\n",
      "epoch 26 | loss: 0.24077 | train_accuracy: 0.954   | valid_accuracy: 0.954   |  0:00:03s\n",
      "epoch 27 | loss: 0.24145 | train_accuracy: 0.954   | valid_accuracy: 0.954   |  0:00:03s\n",
      "epoch 28 | loss: 0.22869 | train_accuracy: 0.954   | valid_accuracy: 0.954   |  0:00:03s\n",
      "epoch 29 | loss: 0.23546 | train_accuracy: 0.954   | valid_accuracy: 0.954   |  0:00:03s\n",
      "\n",
      "Early stopping occurred at epoch 29 with best_epoch = 19 and best_valid_accuracy = 0.954\n",
      "Best weights from best epoch are automatically used!\n"
     ]
    }
   ],
   "source": [
    "clf.fit(\n",
    "    X_train=X_train, y_train=y_train,\n",
    "    eval_set=[(X_train, y_train), (X_test, y_test)],\n",
    "    eval_name=['train', 'valid'],\n",
    "    max_epochs=250)"
   ]
  },
  {
   "cell_type": "code",
   "execution_count": 179,
   "metadata": {},
   "outputs": [
    {
     "data": {
      "text/plain": [
       "[<matplotlib.lines.Line2D at 0x11e3a7ff700>]"
      ]
     },
     "execution_count": 179,
     "metadata": {},
     "output_type": "execute_result"
    },
    {
     "data": {
      "image/png": "[encoded data removed]",
      "text/plain": [
       "<Figure size 432x288 with 1 Axes>"
      ]
     },
     "metadata": {
      "needs_background": "light"
     },
     "output_type": "display_data"
    }
   ],
   "source": [
    "# plot accuracy\n",
    "plt.plot(clf.history['train_accuracy'])\n",
    "plt.plot(clf.history['valid_accuracy'])"
   ]
  },
  {
   "cell_type": "markdown",
   "metadata": {},
   "source": [
    "# Predictions"
   ]
  },
  {
   "cell_type": "code",
   "execution_count": 180,
   "metadata": {},
   "outputs": [
    {
     "name": "stdout",
     "output_type": "stream",
     "text": [
      "BEST VALID SCORE FOR : 0.954\n",
      "FINAL VALID SCORE FOR : 0.954\n"
     ]
    }
   ],
   "source": [
    "X_valid = X_test\n",
    "y_valid = y_test\n",
    "preds_mapper = { idx : class_name for idx, class_name in enumerate(clf.classes_)}\n",
    "preds = clf.predict_proba(X_valid)\n",
    "y_pred = np.vectorize(preds_mapper.get)(np.argmax(preds, axis=1))\n",
    "valid_acc = accuracy_score(y_pred=y_pred, y_true=y_valid)\n",
    "print(f\"BEST VALID SCORE FOR : {clf.best_cost}\")\n",
    "print(f\"FINAL VALID SCORE FOR : {valid_acc}\")"
   ]
  },
  {
   "cell_type": "markdown",
   "metadata": {},
   "source": []
  }
 ],
 "metadata": {
  "interpreter": {
   "hash": "2ccee5cc862501c1aad1cf19888c2a2eca4026b72d187db43d5e889cbdc6ee97"
  },
  "kernelspec": {
   "display_name": "Python 3.8.5 64-bit ('base': conda)",
   "name": "python3"
  },
  "language_info": {
   "codemirror_mode": {
    "name": "ipython",
    "version": 3
   },
   "file_extension": ".py",
   "mimetype": "text/x-python",
   "name": "python",
   "nbconvert_exporter": "python",
   "pygments_lexer": "ipython3",
   "version": "3.8.5"
  }
 },
 "nbformat": 4,
 "nbformat_minor": 2
}
