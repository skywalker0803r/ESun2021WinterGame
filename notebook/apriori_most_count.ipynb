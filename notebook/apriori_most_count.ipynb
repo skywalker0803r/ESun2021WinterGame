{
 "cells": [
  {
   "cell_type": "code",
   "execution_count": 1,
   "metadata": {},
   "outputs": [
    {
     "data": {
      "text/html": [
       "<div>\n",
       "<style scoped>\n",
       "    .dataframe tbody tr th:only-of-type {\n",
       "        vertical-align: middle;\n",
       "    }\n",
       "\n",
       "    .dataframe tbody tr th {\n",
       "        vertical-align: top;\n",
       "    }\n",
       "\n",
       "    .dataframe thead th {\n",
       "        text-align: right;\n",
       "    }\n",
       "</style>\n",
       "<table border=\"1\" class=\"dataframe\">\n",
       "  <thead>\n",
       "    <tr style=\"text-align: right;\">\n",
       "      <th></th>\n",
       "      <th>chid</th>\n",
       "      <th>top1</th>\n",
       "      <th>top2</th>\n",
       "      <th>top3</th>\n",
       "    </tr>\n",
       "  </thead>\n",
       "  <tbody>\n",
       "    <tr>\n",
       "      <th>0</th>\n",
       "      <td>10128239</td>\n",
       "      <td>18</td>\n",
       "      <td>10</td>\n",
       "      <td>6</td>\n",
       "    </tr>\n",
       "    <tr>\n",
       "      <th>1</th>\n",
       "      <td>10077943</td>\n",
       "      <td>48</td>\n",
       "      <td>22</td>\n",
       "      <td>6</td>\n",
       "    </tr>\n",
       "    <tr>\n",
       "      <th>2</th>\n",
       "      <td>10277876</td>\n",
       "      <td>22</td>\n",
       "      <td>10</td>\n",
       "      <td>39</td>\n",
       "    </tr>\n",
       "    <tr>\n",
       "      <th>3</th>\n",
       "      <td>10364842</td>\n",
       "      <td>37</td>\n",
       "      <td>19</td>\n",
       "      <td>13</td>\n",
       "    </tr>\n",
       "    <tr>\n",
       "      <th>4</th>\n",
       "      <td>10392717</td>\n",
       "      <td>2</td>\n",
       "      <td>36</td>\n",
       "      <td>26</td>\n",
       "    </tr>\n",
       "  </tbody>\n",
       "</table>\n",
       "</div>"
      ],
      "text/plain": [
       "       chid  top1  top2  top3\n",
       "0  10128239    18    10     6\n",
       "1  10077943    48    22     6\n",
       "2  10277876    22    10    39\n",
       "3  10364842    37    19    13\n",
       "4  10392717     2    36    26"
      ]
     },
     "execution_count": 1,
     "metadata": {},
     "output_type": "execute_result"
    }
   ],
   "source": [
    "import pandas as pd\n",
    "import numpy as np\n",
    "from tqdm import tqdm\n",
    "import gc\n",
    "gc.collect()\n",
    "\n",
    "官方指認欄位 = [2,6,10,12,13,15,18,19,21,22,25,26,36,37,39,48]\n",
    "官方指認欄位 = [str(i) for i in 官方指認欄位]\n",
    "\n",
    "df = pd.read_feather('../data/2021玉山人工智慧公開挑戰賽冬季賽訓練資料集.feather')\n",
    "test_data = pd.read_feather('../data/需預測的顧客名單及提交檔案範例.feather')\n",
    "test_data.head()"
   ]
  },
  {
   "cell_type": "markdown",
   "metadata": {},
   "source": [
    "# 根據apriori關聯分析演算法建立對應表,shop_tag映射到其他shop_tag的映射"
   ]
  },
  {
   "cell_type": "code",
   "execution_count": 7,
   "metadata": {},
   "outputs": [
    {
     "name": "stderr",
     "output_type": "stream",
     "text": [
      "100%|██████████| 300/300 [00:07<00:00, 41.56it/s]\n"
     ]
    },
    {
     "name": "stdout",
     "output_type": "stream",
     "text": [
      "Rule: 10 -> 13\n",
      "Support: 0.30666666666666664\n",
      "Confidence: 0.4070796460176991\n",
      "Lift: 1.2991903596309544\n",
      "=====================================\n",
      "Rule: 10 -> 3\n",
      "Support: 0.2\n",
      "Confidence: 0.26548672566371684\n",
      "Lift: 1.2067578439259856\n",
      "=====================================\n",
      "Rule: 10 -> 31\n",
      "Support: 0.43\n",
      "Confidence: 0.5707964601769911\n",
      "Lift: 1.205908014458432\n",
      "=====================================\n",
      "Rule: 10 -> 38\n",
      "Support: 0.17666666666666667\n",
      "Confidence: 0.2345132743362832\n",
      "Lift: 1.3028515240904621\n",
      "=====================================\n",
      "Rule: 10 -> 44\n",
      "Support: 0.13666666666666666\n",
      "Confidence: 0.976190476190476\n",
      "Lift: 1.29582806573957\n",
      "=====================================\n"
     ]
    }
   ],
   "source": [
    "from apyori import apriori\n",
    "n = 300\n",
    "data = []\n",
    "for chid in tqdm(df.sample(n)['chid'].values):\n",
    "    data.append(df.loc[df.chid==chid,'shop_tag'].value_counts().index.tolist())\n",
    "association_rules = apriori(data, min_support=0.10, min_confidence=0.2, min_lift=1.2,max_length=2) \n",
    "association_results = list(association_rules)\n",
    "for item in association_results[:5]:\n",
    "   pair = item[0] \n",
    "   items = [x for x in pair]\n",
    "   print(\"Rule: \" + items[0] + \" -> \" + items[1])\n",
    "   print(\"Support: \" + str(item[1]))\n",
    "   print(\"Confidence: \" + str(item[2][0][2]))\n",
    "   print(\"Lift: \" + str(item[2][0][3]))\n",
    "   print(\"=====================================\")"
   ]
  },
  {
   "cell_type": "code",
   "execution_count": 8,
   "metadata": {},
   "outputs": [
    {
     "data": {
      "text/plain": [
       "{'2': [],\n",
       " '6': ['13'],\n",
       " '10': ['13'],\n",
       " '12': ['13', '26'],\n",
       " '13': [],\n",
       " '15': [],\n",
       " '18': ['13', '21', '25', '39'],\n",
       " '19': [],\n",
       " '21': ['13', '39', '6'],\n",
       " '22': ['13', '18', '25'],\n",
       " '25': ['13'],\n",
       " '26': ['25', '6'],\n",
       " '36': ['13'],\n",
       " '37': [],\n",
       " '39': ['6'],\n",
       " '48': ['13']}"
      ]
     },
     "execution_count": 8,
     "metadata": {},
     "output_type": "execute_result"
    }
   ],
   "source": [
    "mapping = {}\n",
    "for key in 官方指認欄位:\n",
    "   mapping[key] = []\n",
    "for item in association_results:\n",
    "   pair = item[0] \n",
    "   items = [x for x in pair]\n",
    "   source = items[0]\n",
    "   target = items[1]\n",
    "   if (source in 官方指認欄位) and (target in 官方指認欄位):\n",
    "       mapping[source].append(target)\n",
    "mapping"
   ]
  },
  {
   "cell_type": "code",
   "execution_count": 4,
   "metadata": {},
   "outputs": [
    {
     "data": {
      "text/plain": [
       "['../data/shop_tag_mapping.pkl']"
      ]
     },
     "execution_count": 4,
     "metadata": {},
     "output_type": "execute_result"
    }
   ],
   "source": [
    "import joblib\n",
    "joblib.dump(mapping,'../data/shop_tag_mapping.pkl')"
   ]
  },
  {
   "cell_type": "code",
   "execution_count": 5,
   "metadata": {},
   "outputs": [
    {
     "data": {
      "text/plain": [
       "{'2': [],\n",
       " '6': [],\n",
       " '10': ['13'],\n",
       " '12': ['13', '39'],\n",
       " '13': [],\n",
       " '15': [],\n",
       " '18': ['13', '39'],\n",
       " '19': [],\n",
       " '21': ['13', '6'],\n",
       " '22': ['13', '18', '21', '25'],\n",
       " '25': ['13'],\n",
       " '26': [],\n",
       " '36': ['13'],\n",
       " '37': [],\n",
       " '39': ['13', '6'],\n",
       " '48': []}"
      ]
     },
     "execution_count": 5,
     "metadata": {},
     "output_type": "execute_result"
    }
   ],
   "source": [
    "mapping = joblib.load('../data/shop_tag_mapping.pkl')\n",
    "mapping"
   ]
  },
  {
   "cell_type": "code",
   "execution_count": 6,
   "metadata": {},
   "outputs": [
    {
     "name": "stderr",
     "output_type": "stream",
     "text": [
      "100%|██████████| 420/420 [00:12<00:00, 34.49it/s]\n"
     ]
    },
    {
     "data": {
      "text/html": [
       "<div>\n",
       "<style scoped>\n",
       "    .dataframe tbody tr th:only-of-type {\n",
       "        vertical-align: middle;\n",
       "    }\n",
       "\n",
       "    .dataframe tbody tr th {\n",
       "        vertical-align: top;\n",
       "    }\n",
       "\n",
       "    .dataframe thead th {\n",
       "        text-align: right;\n",
       "    }\n",
       "</style>\n",
       "<table border=\"1\" class=\"dataframe\">\n",
       "  <thead>\n",
       "    <tr style=\"text-align: right;\">\n",
       "      <th></th>\n",
       "      <th>chid</th>\n",
       "      <th>top1</th>\n",
       "      <th>top2</th>\n",
       "      <th>top3</th>\n",
       "    </tr>\n",
       "  </thead>\n",
       "  <tbody>\n",
       "    <tr>\n",
       "      <th>0</th>\n",
       "      <td>10128239</td>\n",
       "      <td>37</td>\n",
       "      <td>25</td>\n",
       "      <td>22</td>\n",
       "    </tr>\n",
       "    <tr>\n",
       "      <th>1</th>\n",
       "      <td>10077943</td>\n",
       "      <td>36</td>\n",
       "      <td>13</td>\n",
       "      <td>15</td>\n",
       "    </tr>\n",
       "    <tr>\n",
       "      <th>2</th>\n",
       "      <td>10277876</td>\n",
       "      <td>15</td>\n",
       "      <td>36</td>\n",
       "      <td>10</td>\n",
       "    </tr>\n",
       "    <tr>\n",
       "      <th>3</th>\n",
       "      <td>10364842</td>\n",
       "      <td>37</td>\n",
       "      <td>36</td>\n",
       "      <td>10</td>\n",
       "    </tr>\n",
       "    <tr>\n",
       "      <th>4</th>\n",
       "      <td>10392717</td>\n",
       "      <td>48</td>\n",
       "      <td>15</td>\n",
       "      <td>12</td>\n",
       "    </tr>\n",
       "  </tbody>\n",
       "</table>\n",
       "</div>"
      ],
      "text/plain": [
       "       chid top1 top2 top3\n",
       "0  10128239   37   25   22\n",
       "1  10077943   36   13   15\n",
       "2  10277876   15   36   10\n",
       "3  10364842   37   36   10\n",
       "4  10392717   48   15   12"
      ]
     },
     "execution_count": 6,
     "metadata": {},
     "output_type": "execute_result"
    }
   ],
   "source": [
    "n = 420\n",
    "predicts = []\n",
    "for chid in tqdm(test_data['chid'].values[:n]):\n",
    "    a = df.loc[df['chid']==chid,'shop_tag'].value_counts().to_frame() # 根據chid對shop_tag做value_counts()\n",
    "    a['在指認欄位'] = False\n",
    "    if len(list(set(a.index)&set(官方指認欄位))) != 0: # 判斷這個chid出現過的shop_tag跟官方指認欄位是否有交集\n",
    "        a.loc[list(set(a.index)&set(官方指認欄位)),'在指認欄位'] = True\n",
    "    answer = a[a['在指認欄位']==True].index.tolist()[:3] # 取value_counts()前三大的當作答案\n",
    "    if len(answer) == 3:# 如果成功取出前三大的predicts直接指派answer\n",
    "        predicts.append(answer)\n",
    "    else: # 如果沒有找到三個的話\n",
    "        for _ in range(3-len(answer)):\n",
    "            if len(answer) == 0: # 如果找到0個 則隨機指派\n",
    "                answer.append(np.random.choice(官方指認欄位))\n",
    "            else: # 否則建立候選清單\n",
    "                tag_list = mapping[np.random.choice(answer)]\n",
    "                if len(tag_list) > 0: # 如果候選清單大於0\n",
    "                    answer.append(np.random.choice(tag_list)) # 從候選清單挑\n",
    "                else: # 否則從官方指認欄位挑\n",
    "                    answer.append(np.random.choice(官方指認欄位))\n",
    "        predicts.append(answer)\n",
    "submission = test_data.copy()\n",
    "submission.iloc[:n,-3:] = np.array(predicts)\n",
    "submission.head()"
   ]
  },
  {
   "cell_type": "code",
   "execution_count": null,
   "metadata": {},
   "outputs": [],
   "source": []
  }
 ],
 "metadata": {
  "interpreter": {
   "hash": "2ccee5cc862501c1aad1cf19888c2a2eca4026b72d187db43d5e889cbdc6ee97"
  },
  "kernelspec": {
   "display_name": "Python 3.8.5 64-bit ('base': conda)",
   "name": "python3"
  },
  "language_info": {
   "codemirror_mode": {
    "name": "ipython",
    "version": 3
   },
   "file_extension": ".py",
   "mimetype": "text/x-python",
   "name": "python",
   "nbconvert_exporter": "python",
   "pygments_lexer": "ipython3",
   "version": "3.8.5"
  },
  "orig_nbformat": 4
 },
 "nbformat": 4,
 "nbformat_minor": 2
}
