{
 "cells": [
  {
   "cell_type": "code",
   "execution_count": 1,
   "metadata": {},
   "outputs": [
    {
     "data": {
      "text/html": [
       "<div>\n",
       "<style scoped>\n",
       "    .dataframe tbody tr th:only-of-type {\n",
       "        vertical-align: middle;\n",
       "    }\n",
       "\n",
       "    .dataframe tbody tr th {\n",
       "        vertical-align: top;\n",
       "    }\n",
       "\n",
       "    .dataframe thead th {\n",
       "        text-align: right;\n",
       "    }\n",
       "</style>\n",
       "<table border=\"1\" class=\"dataframe\">\n",
       "  <thead>\n",
       "    <tr style=\"text-align: right;\">\n",
       "      <th></th>\n",
       "      <th>chid</th>\n",
       "      <th>top1</th>\n",
       "      <th>top2</th>\n",
       "      <th>top3</th>\n",
       "    </tr>\n",
       "  </thead>\n",
       "  <tbody>\n",
       "    <tr>\n",
       "      <th>0</th>\n",
       "      <td>10128239</td>\n",
       "      <td>18</td>\n",
       "      <td>10</td>\n",
       "      <td>6</td>\n",
       "    </tr>\n",
       "    <tr>\n",
       "      <th>1</th>\n",
       "      <td>10077943</td>\n",
       "      <td>48</td>\n",
       "      <td>22</td>\n",
       "      <td>6</td>\n",
       "    </tr>\n",
       "    <tr>\n",
       "      <th>2</th>\n",
       "      <td>10277876</td>\n",
       "      <td>22</td>\n",
       "      <td>10</td>\n",
       "      <td>39</td>\n",
       "    </tr>\n",
       "    <tr>\n",
       "      <th>3</th>\n",
       "      <td>10364842</td>\n",
       "      <td>37</td>\n",
       "      <td>19</td>\n",
       "      <td>13</td>\n",
       "    </tr>\n",
       "    <tr>\n",
       "      <th>4</th>\n",
       "      <td>10392717</td>\n",
       "      <td>2</td>\n",
       "      <td>36</td>\n",
       "      <td>26</td>\n",
       "    </tr>\n",
       "  </tbody>\n",
       "</table>\n",
       "</div>"
      ],
      "text/plain": [
       "       chid  top1  top2  top3\n",
       "0  10128239    18    10     6\n",
       "1  10077943    48    22     6\n",
       "2  10277876    22    10    39\n",
       "3  10364842    37    19    13\n",
       "4  10392717     2    36    26"
      ]
     },
     "execution_count": 1,
     "metadata": {},
     "output_type": "execute_result"
    }
   ],
   "source": [
    "import pandas as pd\n",
    "import numpy as np\n",
    "from tqdm import tqdm\n",
    "import gc\n",
    "gc.collect()\n",
    "\n",
    "官方指認欄位 = [2,6,10,12,13,15,18,19,21,22,25,26,36,37,39,48]\n",
    "官方指認欄位 = [str(i) for i in 官方指認欄位]\n",
    "\n",
    "df = pd.read_feather('../data/2021玉山人工智慧公開挑戰賽冬季賽訓練資料集.feather')\n",
    "test_data = pd.read_feather('../data/需預測的顧客名單及提交檔案範例.feather')\n",
    "test_data.head()"
   ]
  },
  {
   "cell_type": "markdown",
   "metadata": {},
   "source": [
    "# 根據apriori關聯分析演算法建立對應表,shop_tag映射到其他shop_tag的映射"
   ]
  },
  {
   "cell_type": "code",
   "execution_count": 4,
   "metadata": {},
   "outputs": [
    {
     "name": "stderr",
     "output_type": "stream",
     "text": [
      "100%|██████████| 5290/5290 [02:10<00:00, 40.66it/s]"
     ]
    },
    {
     "name": "stdout",
     "output_type": "stream",
     "text": [
      "Rule: 10 -> 11\n",
      "Support: 0.36843100189035916\n",
      "Confidence: 0.4974476773864216\n",
      "Lift: 1.1089330861248083\n",
      "=====================================\n",
      "Rule: 10 -> 12\n",
      "Support: 0.49206049149338377\n",
      "Confidence: 0.6643695763144462\n",
      "Lift: 1.1359130765040142\n",
      "=====================================\n",
      "Rule: 10 -> 13\n",
      "Support: 0.3270321361058601\n",
      "Confidence: 0.44155181214905564\n",
      "Lift: 1.2625995060910835\n",
      "=====================================\n",
      "Rule: 14 -> 10\n",
      "Support: 0.11871455576559546\n",
      "Confidence: 0.16028586013272078\n",
      "Lift: 1.1200953766209947\n",
      "=====================================\n",
      "Rule: 10 -> 16\n",
      "Support: 0.26767485822306236\n",
      "Confidence: 0.3614088820826952\n",
      "Lift: 1.1012978031206553\n",
      "=====================================\n"
     ]
    },
    {
     "name": "stderr",
     "output_type": "stream",
     "text": [
      "\n"
     ]
    }
   ],
   "source": [
    "from apyori import apriori\n",
    "n = 5290\n",
    "min_support = 0.1\n",
    "min_confidence = 0.1\n",
    "min_lift = 1.1\n",
    "max_length = 2\n",
    "data = []\n",
    "for chid in tqdm(df.sample(n)['chid'].values):\n",
    "    data.append(df.loc[df.chid==chid,'shop_tag'].value_counts().index.tolist())\n",
    "association_rules = apriori(data, min_support=min_support, min_confidence=min_confidence, min_lift=min_lift,max_length=max_length) \n",
    "association_results = list(association_rules)\n",
    "for item in association_results[:5]:\n",
    "   pair = item[0] \n",
    "   items = [x for x in pair]\n",
    "   print(\"Rule: \" + items[0] + \" -> \" + items[1])\n",
    "   print(\"Support: \" + str(item[1]))\n",
    "   print(\"Confidence: \" + str(item[2][0][2]))\n",
    "   print(\"Lift: \" + str(item[2][0][3]))\n",
    "   print(\"=====================================\")"
   ]
  },
  {
   "cell_type": "code",
   "execution_count": 5,
   "metadata": {},
   "outputs": [
    {
     "data": {
      "text/plain": [
       "{'2': ['13', '22', '25', '39', '6'],\n",
       " '6': ['13', '19', '22', '25', '48'],\n",
       " '10': ['12', '13'],\n",
       " '12': ['13', '19', '22', '25', '26', '6'],\n",
       " '13': ['22', '48'],\n",
       " '15': [],\n",
       " '18': ['10', '12', '13', '19', '21', '22', '25', '26', '36', '39', '48', '6'],\n",
       " '19': ['13', '22'],\n",
       " '21': ['10', '12', '13', '19', '2', '22', '25', '26', '39', '48', '6'],\n",
       " '22': [],\n",
       " '25': ['13', '19', '22'],\n",
       " '26': ['13', '19', '22', '25', '48', '6'],\n",
       " '36': ['12', '13', '21', '22', '25', '48'],\n",
       " '37': [],\n",
       " '39': ['12', '13', '19', '22', '25', '26', '48', '6'],\n",
       " '48': []}"
      ]
     },
     "execution_count": 5,
     "metadata": {},
     "output_type": "execute_result"
    }
   ],
   "source": [
    "mapping = {}\n",
    "for key in 官方指認欄位:\n",
    "   mapping[key] = []\n",
    "for item in association_results:\n",
    "   pair = item[0] \n",
    "   items = [x for x in pair]\n",
    "   source = items[0]\n",
    "   target = items[1]\n",
    "   if (source in 官方指認欄位) and (target in 官方指認欄位):\n",
    "       mapping[source].append(target)\n",
    "mapping"
   ]
  },
  {
   "cell_type": "code",
   "execution_count": 6,
   "metadata": {},
   "outputs": [
    {
     "data": {
      "text/plain": [
       "['../data/shop_tag_mapping.pkl']"
      ]
     },
     "execution_count": 6,
     "metadata": {},
     "output_type": "execute_result"
    }
   ],
   "source": [
    "import joblib\n",
    "joblib.dump(mapping,'../data/shop_tag_mapping.pkl')"
   ]
  },
  {
   "cell_type": "code",
   "execution_count": 7,
   "metadata": {},
   "outputs": [
    {
     "data": {
      "text/plain": [
       "{'2': ['13', '22', '25', '39', '6'],\n",
       " '6': ['13', '19', '22', '25', '48'],\n",
       " '10': ['12', '13'],\n",
       " '12': ['13', '19', '22', '25', '26', '6'],\n",
       " '13': ['22', '48'],\n",
       " '15': [],\n",
       " '18': ['10', '12', '13', '19', '21', '22', '25', '26', '36', '39', '48', '6'],\n",
       " '19': ['13', '22'],\n",
       " '21': ['10', '12', '13', '19', '2', '22', '25', '26', '39', '48', '6'],\n",
       " '22': [],\n",
       " '25': ['13', '19', '22'],\n",
       " '26': ['13', '19', '22', '25', '48', '6'],\n",
       " '36': ['12', '13', '21', '22', '25', '48'],\n",
       " '37': [],\n",
       " '39': ['12', '13', '19', '22', '25', '26', '48', '6'],\n",
       " '48': []}"
      ]
     },
     "execution_count": 7,
     "metadata": {},
     "output_type": "execute_result"
    }
   ],
   "source": [
    "mapping = joblib.load('../data/shop_tag_mapping.pkl')\n",
    "mapping"
   ]
  },
  {
   "cell_type": "code",
   "execution_count": 9,
   "metadata": {},
   "outputs": [
    {
     "name": "stderr",
     "output_type": "stream",
     "text": [
      "100%|██████████| 100/100 [00:10<00:00,  9.83it/s]\n"
     ]
    },
    {
     "data": {
      "text/html": [
       "<div>\n",
       "<style scoped>\n",
       "    .dataframe tbody tr th:only-of-type {\n",
       "        vertical-align: middle;\n",
       "    }\n",
       "\n",
       "    .dataframe tbody tr th {\n",
       "        vertical-align: top;\n",
       "    }\n",
       "\n",
       "    .dataframe thead th {\n",
       "        text-align: right;\n",
       "    }\n",
       "</style>\n",
       "<table border=\"1\" class=\"dataframe\">\n",
       "  <thead>\n",
       "    <tr style=\"text-align: right;\">\n",
       "      <th></th>\n",
       "      <th>chid</th>\n",
       "      <th>top1</th>\n",
       "      <th>top2</th>\n",
       "      <th>top3</th>\n",
       "    </tr>\n",
       "  </thead>\n",
       "  <tbody>\n",
       "    <tr>\n",
       "      <th>0</th>\n",
       "      <td>10128239</td>\n",
       "      <td>37</td>\n",
       "      <td>25</td>\n",
       "      <td>18</td>\n",
       "    </tr>\n",
       "    <tr>\n",
       "      <th>1</th>\n",
       "      <td>10077943</td>\n",
       "      <td>15</td>\n",
       "      <td>36</td>\n",
       "      <td>48</td>\n",
       "    </tr>\n",
       "    <tr>\n",
       "      <th>2</th>\n",
       "      <td>10277876</td>\n",
       "      <td>10</td>\n",
       "      <td>15</td>\n",
       "      <td>13</td>\n",
       "    </tr>\n",
       "    <tr>\n",
       "      <th>3</th>\n",
       "      <td>10364842</td>\n",
       "      <td>10</td>\n",
       "      <td>15</td>\n",
       "      <td>48</td>\n",
       "    </tr>\n",
       "    <tr>\n",
       "      <th>4</th>\n",
       "      <td>10392717</td>\n",
       "      <td>48</td>\n",
       "      <td>15</td>\n",
       "      <td>2</td>\n",
       "    </tr>\n",
       "  </tbody>\n",
       "</table>\n",
       "</div>"
      ],
      "text/plain": [
       "       chid top1 top2 top3\n",
       "0  10128239   37   25   18\n",
       "1  10077943   15   36   48\n",
       "2  10277876   10   15   13\n",
       "3  10364842   10   15   48\n",
       "4  10392717   48   15    2"
      ]
     },
     "execution_count": 9,
     "metadata": {},
     "output_type": "execute_result"
    }
   ],
   "source": [
    "n = 100\n",
    "start_dt = 24-6 # 取最近半年的數據\n",
    "predicts = []\n",
    "for chid in tqdm(test_data['chid'].values[:n]):\n",
    "    a = df.loc[(df['chid']==chid)&(df['dt']>=start_dt),'shop_tag'].value_counts().to_frame() # 根據chid對shop_tag做value_counts()\n",
    "    a['在指認欄位'] = False # 預設False\n",
    "    if len(list(set(a.index)&set(官方指認欄位))) != 0: # 判斷這個chid出現過的shop_tag跟官方指認欄位是否有交集\n",
    "        a.loc[list(set(a.index)&set(官方指認欄位)),'在指認欄位'] = True # 如果有交集則是True\n",
    "    answer = a[a['在指認欄位']==True].index.tolist()[:3] # 取value_counts()前三大的當作答案\n",
    "    if len(answer) == 3:# 如果成功取出前三大的predicts直接指派answer\n",
    "        predicts.append(answer)\n",
    "    else: # 如果沒有找到三個的話\n",
    "        for _ in range(3-len(answer)):\n",
    "            if len(answer) == 0: # 如果找到0個 則隨機指派\n",
    "                answer.append(np.random.choice(官方指認欄位))\n",
    "            else: # 否則建立候選清單(根據已經有的answer隨機挑一筆代入映射表取得tag_list)\n",
    "                tag_list = mapping[np.random.choice(answer)]\n",
    "                if len(tag_list) > 0: # 如果候選清單(tag_list)大於0\n",
    "                    answer.append(np.random.choice(tag_list)) # 從候選清單挑一個候選shop_tag加入answer\n",
    "                else: # 否則從官方指認欄位隨機挑一個shop_tag 加入answer\n",
    "                    answer.append(np.random.choice(官方指認欄位))\n",
    "        predicts.append(answer)\n",
    "submission = test_data.copy()\n",
    "submission.iloc[:n,-3:] = np.array(predicts)\n",
    "submission.head()"
   ]
  },
  {
   "cell_type": "code",
   "execution_count": null,
   "metadata": {},
   "outputs": [],
   "source": []
  }
 ],
 "metadata": {
  "interpreter": {
   "hash": "2ccee5cc862501c1aad1cf19888c2a2eca4026b72d187db43d5e889cbdc6ee97"
  },
  "kernelspec": {
   "display_name": "Python 3.8.5 64-bit ('base': conda)",
   "name": "python3"
  },
  "language_info": {
   "codemirror_mode": {
    "name": "ipython",
    "version": 3
   },
   "file_extension": ".py",
   "mimetype": "text/x-python",
   "name": "python",
   "nbconvert_exporter": "python",
   "pygments_lexer": "ipython3",
   "version": "3.8.5"
  },
  "orig_nbformat": 4
 },
 "nbformat": 4,
 "nbformat_minor": 2
}
