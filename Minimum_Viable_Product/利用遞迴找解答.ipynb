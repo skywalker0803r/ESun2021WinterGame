{
 "cells": [
  {
   "cell_type": "code",
   "execution_count": 19,
   "metadata": {},
   "outputs": [],
   "source": [
    "from tqdm import tqdm\n",
    "import pandas as pd\n",
    "import random\n",
    "import os\n",
    "import numpy as np\n",
    "import joblib\n",
    "import logging\n",
    "import coloredlogs\n",
    "import time\n",
    "import gc\n",
    "import sys\n",
    "import argparse\n",
    "import itertools\n",
    "from collections import Counter"
   ]
  },
  {
   "cell_type": "code",
   "execution_count": 20,
   "metadata": {},
   "outputs": [],
   "source": [
    "# 載入資料和模型\n",
    "start_dt = 12\n",
    "官方指認欄位 = ['2','6','10','12','13','15','18','19','21','22','25','26','36','37','39','48']\n",
    "nbrs = joblib.load('../model/nbrs.pkl')\n",
    "X_pca = joblib.load('../model/X_pca_for_knn.pkl')\n",
    "df_groupby_chid_preprocessed = pd.read_feather('../data/df_groupby_chid_preprocessed.feather')\n",
    "df = pd.read_feather('../data/2021玉山人工智慧公開挑戰賽冬季賽訓練資料集.feather')\n",
    "df = df.loc[df.dt >= start_dt] # 取近期資料(太久的資料可能參考價值不高)\n",
    "test_data = pd.read_feather('../data/需預測的顧客名單及提交檔案範例.feather')"
   ]
  },
  {
   "cell_type": "code",
   "execution_count": 21,
   "metadata": {},
   "outputs": [],
   "source": [
    "# 一些函數都放在這裡\n",
    "def chid2answer(chid,method='median'):\n",
    "    if method in ['sum','mean','median']:\n",
    "        a = df.loc[df.chid==chid,['shop_tag','txn_amt']].groupby('shop_tag').agg(method).sort_values(by='txn_amt',ascending=False)\n",
    "    elif method in 'value_counts':\n",
    "        a = df.loc[df.chid==chid,'shop_tag'].value_counts().to_frame()\n",
    "    else:\n",
    "        raise 'error'\n",
    "    a['在指認欄位'] = False\n",
    "    a.loc[list(set(a.index)&set(官方指認欄位)),'在指認欄位'] = True #有交集的部份做個記號\n",
    "    answer = a[a['在指認欄位']==True].head(3)\n",
    "    if len(answer) != 0:\n",
    "        return answer.index.tolist()\n",
    "    else:\n",
    "        return []"
   ]
  },
  {
   "cell_type": "code",
   "execution_count": 22,
   "metadata": {},
   "outputs": [],
   "source": [
    "def predict_function(chid):\n",
    "    answer = chid2answer(chid) # 根據這個chid找答案但是不一定可以找到3個\n",
    "    if len(answer) == 3:\n",
    "        return answer\n",
    "    else: # 若找不到三個\n",
    "        idx = df_groupby_chid_preprocessed.loc[df_groupby_chid_preprocessed.chid==chid].index[0] #根據chid取得idx \n",
    "        distances, indices = nbrs.kneighbors(X_pca[[idx]]) # 根據idx取得PCA特徵\n",
    "        chid_list = df_groupby_chid_preprocessed.loc[indices[0][-(nbrs.n_neighbors-1):]]['chid'].values.tolist() # 根據PCA特徵找到鄰居\n",
    "        for nb_chid in chid_list: #對K個鄰居做遍歷\n",
    "            nb_answer = chid2answer(nb_chid) # 鄰居的答案\n",
    "            answer.extend(list(filter(lambda a: a not in answer, nb_answer))) #用鄰居答案對answer做擴充\n",
    "            if len(answer) >= 3: # 如果補齊三個 return\n",
    "                return answer[:3]\n",
    "        remain = 3-len(answer) # 否則算還缺多少\n",
    "        for _ in range(remain):\n",
    "            answer.append(np.random.choice(list(set(官方指認欄位)-set(answer))))# 從官方指認欄位隨便補\n",
    "        return answer"
   ]
  },
  {
   "cell_type": "code",
   "execution_count": 23,
   "metadata": {},
   "outputs": [
    {
     "name": "stderr",
     "output_type": "stream",
     "text": [
      "100%|██████████| 100/100 [00:02<00:00, 35.17it/s]"
     ]
    },
    {
     "name": "stdout",
     "output_type": "stream",
     "text": [
      "Wall time: 2.89 s\n"
     ]
    },
    {
     "name": "stderr",
     "output_type": "stream",
     "text": [
      "\n"
     ]
    },
    {
     "data": {
      "text/plain": [
       "[['2', '21', '15'],\n",
       " ['2', '12', '6'],\n",
       " ['36', '18', '26'],\n",
       " ['19', '15', '21'],\n",
       " ['25', '48', '15'],\n",
       " ['10', '18', '13'],\n",
       " ['15', '48', '19'],\n",
       " ['37', '15', '21'],\n",
       " ['48', '13', '2'],\n",
       " ['10', '2', '19'],\n",
       " ['48', '19', '6'],\n",
       " ['48', '19', '39'],\n",
       " ['19', '37', '39'],\n",
       " ['2', '37', '13'],\n",
       " ['18', '37', '10'],\n",
       " ['37', '10', '25'],\n",
       " ['10', '19', '36'],\n",
       " ['21', '37', '2'],\n",
       " ['10', '6', '48'],\n",
       " ['2', '15', '19'],\n",
       " ['19', '15', '39'],\n",
       " ['10', '19', '6'],\n",
       " ['39', '10', '2'],\n",
       " ['39', '10', '21'],\n",
       " ['21', '2', '18'],\n",
       " ['26', '6', '10'],\n",
       " ['2', '37', '15'],\n",
       " ['13', '10', '12'],\n",
       " ['19', '39', '2'],\n",
       " ['19', '48', '2'],\n",
       " ['19', '39', '6'],\n",
       " ['26', '19', '36'],\n",
       " ['15', '6', '2'],\n",
       " ['19', '15', '21'],\n",
       " ['12', '10', '2'],\n",
       " ['39', '2', '21'],\n",
       " ['15', '21', '19'],\n",
       " ['21', '10', '48'],\n",
       " ['39', '19', '15'],\n",
       " ['2', '18', '6'],\n",
       " ['48', '39', '10'],\n",
       " ['18', '26', '36'],\n",
       " ['37', '26', '18'],\n",
       " ['26', '12', '2'],\n",
       " ['10', '19', '36'],\n",
       " ['37', '19', '2'],\n",
       " ['25', '19', '12'],\n",
       " ['26', '12', '10'],\n",
       " ['2', '39', '10'],\n",
       " ['18', '2', '19'],\n",
       " ['2', '37', '19'],\n",
       " ['2', '19', '18'],\n",
       " ['37', '6', '26'],\n",
       " ['26', '10', '39'],\n",
       " ['21', '19', '2'],\n",
       " ['39', '15', '6'],\n",
       " ['10', '19', '2'],\n",
       " ['37', '18', '15'],\n",
       " ['26', '21', '2'],\n",
       " ['21', '2', '15'],\n",
       " ['37', '21', '2'],\n",
       " ['39', '48', '2'],\n",
       " ['10', '2', '15'],\n",
       " ['2', '36', '37'],\n",
       " ['2', '15', '37'],\n",
       " ['48', '37', '15'],\n",
       " ['21', '39', '10'],\n",
       " ['19', '10', '37'],\n",
       " ['15', '2', '19'],\n",
       " ['10', '37', '2'],\n",
       " ['2', '39', '15'],\n",
       " ['2', '39', '22'],\n",
       " ['37', '6', '12'],\n",
       " ['10', '48', '19'],\n",
       " ['48', '26', '39'],\n",
       " ['12', '26', '19'],\n",
       " ['2', '19', '6'],\n",
       " ['36', '10', '48'],\n",
       " ['2', '25', '48'],\n",
       " ['18', '37', '39'],\n",
       " ['10', '15', '13'],\n",
       " ['12', '2', '39'],\n",
       " ['36', '19', '6'],\n",
       " ['2', '39', '15'],\n",
       " ['15', '10', '48'],\n",
       " ['12', '37', '2'],\n",
       " ['22', '10', '36'],\n",
       " ['37', '2', '36'],\n",
       " ['18', '15', '2'],\n",
       " ['10', '13', '2'],\n",
       " ['2', '37', '21'],\n",
       " ['19', '10', '12'],\n",
       " ['2', '39', '22'],\n",
       " ['37', '19', '6'],\n",
       " ['2', '6', '37'],\n",
       " ['10', '2', '37'],\n",
       " ['36', '12', '48'],\n",
       " ['12', '15', '36'],\n",
       " ['19', '2', '10'],\n",
       " ['12', '19', '10']]"
      ]
     },
     "execution_count": 23,
     "metadata": {},
     "output_type": "execute_result"
    }
   ],
   "source": [
    "%%time\n",
    "answer_list = []\n",
    "for _ in tqdm(range(100)):\n",
    "    chid = np.random.choice(df['chid'].values)\n",
    "    answer_list.append(predict_function(chid))\n",
    "answer_list"
   ]
  },
  {
   "cell_type": "code",
   "execution_count": 24,
   "metadata": {},
   "outputs": [
    {
     "data": {
      "text/plain": [
       "3.0"
      ]
     },
     "execution_count": 24,
     "metadata": {},
     "output_type": "execute_result"
    }
   ],
   "source": [
    "np.sum([ len(np.unique(i)) for i in answer_list])/len(answer_list)"
   ]
  },
  {
   "cell_type": "code",
   "execution_count": null,
   "metadata": {},
   "outputs": [],
   "source": []
  }
 ],
 "metadata": {
  "interpreter": {
   "hash": "2ccee5cc862501c1aad1cf19888c2a2eca4026b72d187db43d5e889cbdc6ee97"
  },
  "kernelspec": {
   "display_name": "Python 3.8.5 64-bit ('base': conda)",
   "language": "python",
   "name": "python3"
  },
  "language_info": {
   "codemirror_mode": {
    "name": "ipython",
    "version": 3
   },
   "file_extension": ".py",
   "mimetype": "text/x-python",
   "name": "python",
   "nbconvert_exporter": "python",
   "pygments_lexer": "ipython3",
   "version": "3.8.5"
  },
  "orig_nbformat": 4
 },
 "nbformat": 4,
 "nbformat_minor": 2
}
