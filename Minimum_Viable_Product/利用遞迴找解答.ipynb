{
 "cells": [
  {
   "cell_type": "code",
   "execution_count": 1,
   "metadata": {},
   "outputs": [],
   "source": [
    "from tqdm import tqdm\n",
    "import pandas as pd\n",
    "import random\n",
    "import os\n",
    "import numpy as np\n",
    "import joblib\n",
    "import logging\n",
    "import coloredlogs\n",
    "import time\n",
    "import gc\n",
    "import sys\n",
    "import argparse\n",
    "import itertools\n",
    "from collections import Counter"
   ]
  },
  {
   "cell_type": "code",
   "execution_count": 2,
   "metadata": {},
   "outputs": [],
   "source": [
    "# 載入資料和模型\n",
    "start_dt = 12\n",
    "官方指認欄位 = ['2','6','10','12','13','15','18','19','21','22','25','26','36','37','39','48']\n",
    "nbrs = joblib.load('../model/nbrs.pkl')\n",
    "X_pca = joblib.load('../model/X_pca_for_knn.pkl')\n",
    "df_groupby_chid_preprocessed = pd.read_feather('../data/df_groupby_chid_preprocessed.feather')\n",
    "df = pd.read_feather('../data/2021玉山人工智慧公開挑戰賽冬季賽訓練資料集.feather')\n",
    "df = df.loc[df.dt >= start_dt] # 取近期資料(太久的資料可能參考價值不高)\n",
    "test_data = pd.read_feather('../data/需預測的顧客名單及提交檔案範例.feather')"
   ]
  },
  {
   "cell_type": "code",
   "execution_count": 7,
   "metadata": {},
   "outputs": [],
   "source": [
    "# 一些函數都放在這裡\n",
    "def chid2answer(chid,method='median'):\n",
    "    if method in ['sum','mean','median']:\n",
    "        a = df.loc[df.chid==chid,['shop_tag','txn_amt']].groupby('shop_tag').agg(method).sort_values(by='txn_amt',ascending=False)\n",
    "    elif method in 'value_counts':\n",
    "        a = df.loc[df.chid==chid,'shop_tag'].value_counts().to_frame()\n",
    "    else:\n",
    "        raise 'error'\n",
    "    a['在指認欄位'] = False\n",
    "    a.loc[list(set(a.index)&set(官方指認欄位)),'在指認欄位'] = True #有交集的部份做個記號\n",
    "    answer = a[a['在指認欄位']==True].head(3)\n",
    "    if len(answer) != 0:\n",
    "        return answer.index.tolist()\n",
    "    else:\n",
    "        return []"
   ]
  },
  {
   "cell_type": "code",
   "execution_count": 8,
   "metadata": {},
   "outputs": [],
   "source": [
    "def predict_function(chid): # 預測函數\n",
    "    answer = chid2answer(chid) # 根據這個chid做預測\n",
    "    if len(answer) == 3: # 如果成功找到三個直接return\n",
    "        assert type(answer) == type([]) #記得確認是list型別\n",
    "        assert len(np.unique(answer)) == 3 #確認三個shop_tag不重複\n",
    "        return answer\n",
    "    else:\n",
    "        print(chid,answer)\n",
    "        remain = 3-len(answer) # 否則計算離三個答案還缺多少\n",
    "        idx = df_groupby_chid_preprocessed.loc[df_groupby_chid_preprocessed.chid==chid].index[0] # 根據chid找到該筆樣本的\"idx\"\n",
    "        distances, indices = nbrs.kneighbors(X_pca[[idx]]) # 根據該樣本的\"idx\"找到該筆樣本的\"PCA特徵\"進而取得\"鄰居的indices\"(其中距離近的indices自動排前面)\n",
    "        chid_list = df_groupby_chid_preprocessed.loc[indices[0][-(nbrs.n_neighbors-1):]]['chid'].values.tolist() # 根據\"鄰居的indices\"取得\"chid_list(鄰居們)\"\n",
    "        \n",
    "        # 從鄰居的shop_tag有根據的猜\n",
    "        for nb_chid in tqdm(chid_list):\n",
    "            nb_answer = chid2answer(nb_chid) #鄰居的答案\n",
    "            can_add_answer = list(filter(lambda a: a not in answer, nb_answer)) # 可以加入的答案\n",
    "            answer.extend(can_add_answer) # 加入答案\n",
    "            if len(answer) >= 3: # 如果超過三個直接return\n",
    "                answer = answer[:3]\n",
    "                assert type(answer) == type([]) #記得確認是list型別\n",
    "                assert len(np.unique(answer)) == 3 #確認三個shop_tag不重複\n",
    "                print(chid,answer)\n",
    "                return answer\n",
    "        \n",
    "        # 如果上面迴圈跑完都還沒補滿三個則隨機猜\n",
    "        remain = 3-len(answer)\n",
    "        for _ in range(remain):\n",
    "            answer_list = 官方指認欄位 # 既然answer_list等於0估解將官方指認欄位當作answer_list\n",
    "            shop_tag = np.random.choice(list(set(answer_list)-set(answer))) # 隨機選但是answer裡面已經有的就不要選,官方規定的\n",
    "            answer.append(shop_tag) # 加入shop_tag至answer\n",
    "            answer_list = list(filter(lambda a: a not in answer, answer_list)) # 記得把answer有的shop_tag從answer_list做刪除\n",
    "        assert type(answer) == type([]) #確認是list型別\n",
    "        assert len(np.unique(answer)) == 3 #確認三個shop_tag不重複\n",
    "        print(chid,answer)\n",
    "        return answer # 返回答案(類型list)"
   ]
  },
  {
   "cell_type": "code",
   "execution_count": 9,
   "metadata": {},
   "outputs": [
    {
     "name": "stderr",
     "output_type": "stream",
     "text": [
      " 27%|██▋       | 27/100 [00:00<00:01, 50.11it/s]"
     ]
    },
    {
     "name": "stdout",
     "output_type": "stream",
     "text": [
      "10384312.0 ['37']\n"
     ]
    },
    {
     "name": "stderr",
     "output_type": "stream",
     "text": [
      "100%|██████████| 4/4 [00:00<00:00, 41.35it/s]\n",
      " 32%|███▏      | 32/100 [00:00<00:02, 27.97it/s]"
     ]
    },
    {
     "name": "stdout",
     "output_type": "stream",
     "text": [
      "10384312.0 ['37', '36', '21']\n",
      "10417034.0 ['2']\n"
     ]
    },
    {
     "name": "stderr",
     "output_type": "stream",
     "text": [
      "  0%|          | 0/4 [00:00<?, ?it/s]\n",
      " 42%|████▏     | 42/100 [00:01<00:02, 26.24it/s]"
     ]
    },
    {
     "name": "stdout",
     "output_type": "stream",
     "text": [
      "10417034.0 ['2', '25', '15']\n",
      "10377741.0 ['37', '48']\n"
     ]
    },
    {
     "name": "stderr",
     "output_type": "stream",
     "text": [
      "  0%|          | 0/4 [00:00<?, ?it/s]\n",
      " 54%|█████▍    | 54/100 [00:01<00:01, 27.03it/s]"
     ]
    },
    {
     "name": "stdout",
     "output_type": "stream",
     "text": [
      "10377741.0 ['37', '48', '36']\n",
      "10082528.0 []\n"
     ]
    },
    {
     "name": "stderr",
     "output_type": "stream",
     "text": [
      "  0%|          | 0/4 [00:00<?, ?it/s]\n",
      " 63%|██████▎   | 63/100 [00:02<00:01, 25.83it/s]"
     ]
    },
    {
     "name": "stdout",
     "output_type": "stream",
     "text": [
      "10082528.0 ['10', '6', '2']\n"
     ]
    },
    {
     "name": "stderr",
     "output_type": "stream",
     "text": [
      "  0%|          | 0/4 [00:00<?, ?it/s]\n",
      " 80%|████████  | 80/100 [00:02<00:00, 28.57it/s]"
     ]
    },
    {
     "name": "stdout",
     "output_type": "stream",
     "text": [
      "10378989.0 ['6', '19']\n",
      "10378989.0 ['6', '19', '2']\n"
     ]
    },
    {
     "name": "stderr",
     "output_type": "stream",
     "text": [
      "100%|██████████| 100/100 [00:03<00:00, 33.28it/s]\n"
     ]
    }
   ],
   "source": [
    "for _ in tqdm(range(100)):\n",
    "    chid = np.random.choice(df['chid'].values)\n",
    "    predict_function(chid)"
   ]
  },
  {
   "cell_type": "code",
   "execution_count": null,
   "metadata": {},
   "outputs": [],
   "source": []
  }
 ],
 "metadata": {
  "interpreter": {
   "hash": "2ccee5cc862501c1aad1cf19888c2a2eca4026b72d187db43d5e889cbdc6ee97"
  },
  "kernelspec": {
   "display_name": "Python 3.8.5 64-bit ('base': conda)",
   "language": "python",
   "name": "python3"
  },
  "language_info": {
   "codemirror_mode": {
    "name": "ipython",
    "version": 3
   },
   "file_extension": ".py",
   "mimetype": "text/x-python",
   "name": "python",
   "nbconvert_exporter": "python",
   "pygments_lexer": "ipython3",
   "version": "3.8.5"
  },
  "orig_nbformat": 4
 },
 "nbformat": 4,
 "nbformat_minor": 2
}
